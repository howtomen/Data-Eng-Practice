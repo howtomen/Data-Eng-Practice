{
 "cells": [
  {
   "cell_type": "markdown",
   "id": "db9dd6c6-029a-4410-bf89-798c3acc3e37",
   "metadata": {},
   "source": [
    "# Overview of itertools:\n",
    "Let us go through one of the important library to manipulate collections called as itertools.\n",
    "* Functions such as `filter` and `map` are part of core Python libraries.\n",
    "* `reduce` is part of `functools`.\n",
    "* It is not possible to use these functions to perform advanced operations such as grouped aggregations, joins etc.\n",
    "* Python have several higher level libraries which provide required functionality to perform advanced aggregations such as grouped aggregations, joins etc. `itertools` is one of the popular library to manipulate collections."
   ]
  },
  {
   "cell_type": "code",
   "execution_count": 2,
   "id": "04eaeefa-2f5b-4812-9725-453d83f3d892",
   "metadata": {},
   "outputs": [],
   "source": [
    "import itertools"
   ]
  },
  {
   "cell_type": "code",
   "execution_count": 3,
   "id": "f19aa9c3-e235-4e8f-b591-b87bc046087e",
   "metadata": {},
   "outputs": [
    {
     "data": {
      "text/plain": [
       "\u001b[0;31mType:\u001b[0m        module\n",
       "\u001b[0;31mString form:\u001b[0m <module 'itertools' (built-in)>\n",
       "\u001b[0;31mDocstring:\u001b[0m  \n",
       "Functional tools for creating and using iterators.\n",
       "\n",
       "Infinite iterators:\n",
       "count(start=0, step=1) --> start, start+step, start+2*step, ...\n",
       "cycle(p) --> p0, p1, ... plast, p0, p1, ...\n",
       "repeat(elem [,n]) --> elem, elem, elem, ... endlessly or up to n times\n",
       "\n",
       "Iterators terminating on the shortest input sequence:\n",
       "accumulate(p[, func]) --> p0, p0+p1, p0+p1+p2\n",
       "chain(p, q, ...) --> p0, p1, ... plast, q0, q1, ... \n",
       "chain.from_iterable([p, q, ...]) --> p0, p1, ... plast, q0, q1, ... \n",
       "compress(data, selectors) --> (d[0] if s[0]), (d[1] if s[1]), ...\n",
       "dropwhile(pred, seq) --> seq[n], seq[n+1], starting when pred fails\n",
       "groupby(iterable[, keyfunc]) --> sub-iterators grouped by value of keyfunc(v)\n",
       "filterfalse(pred, seq) --> elements of seq where pred(elem) is False\n",
       "islice(seq, [start,] stop [, step]) --> elements from\n",
       "       seq[start:stop:step]\n",
       "starmap(fun, seq) --> fun(*seq[0]), fun(*seq[1]), ...\n",
       "tee(it, n=2) --> (it1, it2 , ... itn) splits one iterator into n\n",
       "takewhile(pred, seq) --> seq[0], seq[1], until pred fails\n",
       "zip_longest(p, q, ...) --> (p[0], q[0]), (p[1], q[1]), ... \n",
       "\n",
       "Combinatoric generators:\n",
       "product(p, q, ... [repeat=1]) --> cartesian product\n",
       "permutations(p[, r])\n",
       "combinations(p, r)\n",
       "combinations_with_replacement(p, r)\n"
      ]
     },
     "metadata": {},
     "output_type": "display_data"
    }
   ],
   "source": [
    "itertools?"
   ]
  },
  {
   "cell_type": "markdown",
   "id": "97ac909c-2266-4098-9ec8-edfadb68ace5",
   "metadata": {},
   "source": [
    "# Task 1:\n",
    "Get cumulative sales from list of transactions."
   ]
  },
  {
   "cell_type": "code",
   "execution_count": 4,
   "id": "7e6174a5-cebb-42c5-9a68-c1ca5061b8bf",
   "metadata": {},
   "outputs": [],
   "source": [
    "ns = [1, 2, 3, 4]"
   ]
  },
  {
   "cell_type": "code",
   "execution_count": 5,
   "id": "1a67cac9-c7b8-4c2a-8646-92b2c88240ec",
   "metadata": {},
   "outputs": [],
   "source": [
    "import itertools as iter"
   ]
  },
  {
   "cell_type": "code",
   "execution_count": 6,
   "id": "621058fe-9905-419c-a8b3-9a8641aef854",
   "metadata": {},
   "outputs": [
    {
     "data": {
      "text/plain": [
       "\u001b[0;31mInit signature:\u001b[0m \u001b[0miter\u001b[0m\u001b[0;34m.\u001b[0m\u001b[0maccumulate\u001b[0m\u001b[0;34m(\u001b[0m\u001b[0mself\u001b[0m\u001b[0;34m,\u001b[0m \u001b[0;34m/\u001b[0m\u001b[0;34m,\u001b[0m \u001b[0;34m*\u001b[0m\u001b[0margs\u001b[0m\u001b[0;34m,\u001b[0m \u001b[0;34m**\u001b[0m\u001b[0mkwargs\u001b[0m\u001b[0;34m)\u001b[0m\u001b[0;34m\u001b[0m\u001b[0;34m\u001b[0m\u001b[0m\n",
       "\u001b[0;31mDocstring:\u001b[0m     \n",
       "accumulate(iterable[, func]) --> accumulate object\n",
       "\n",
       "Return series of accumulated sums (or other binary function results).\n",
       "\u001b[0;31mType:\u001b[0m           type\n",
       "\u001b[0;31mSubclasses:\u001b[0m     \n"
      ]
     },
     "metadata": {},
     "output_type": "display_data"
    }
   ],
   "source": [
    "iter.accumulate?"
   ]
  },
  {
   "cell_type": "code",
   "execution_count": 7,
   "id": "8825b2ae-8bbc-4b66-9074-8b38a60063da",
   "metadata": {},
   "outputs": [
    {
     "data": {
      "text/plain": [
       "[1, 3, 6, 10]"
      ]
     },
     "execution_count": 7,
     "metadata": {},
     "output_type": "execute_result"
    }
   ],
   "source": [
    "list(iter.accumulate(ns))[:10]"
   ]
  },
  {
   "cell_type": "code",
   "execution_count": 8,
   "id": "f0cb6872-0f86-490b-bc87-0c21c666892e",
   "metadata": {},
   "outputs": [
    {
     "data": {
      "text/plain": [
       "[1, 2, 6, 24]"
      ]
     },
     "execution_count": 8,
     "metadata": {},
     "output_type": "execute_result"
    }
   ],
   "source": [
    "import operator as o\n",
    "list(iter.accumulate(ns, o.mul))[:10]"
   ]
  },
  {
   "cell_type": "code",
   "execution_count": 9,
   "id": "d3dd232b-7694-41e6-b603-f167d694842c",
   "metadata": {},
   "outputs": [
    {
     "data": {
      "text/plain": [
       "\u001b[0;31mInit signature:\u001b[0m \u001b[0miter\u001b[0m\u001b[0;34m.\u001b[0m\u001b[0mchain\u001b[0m\u001b[0;34m(\u001b[0m\u001b[0mself\u001b[0m\u001b[0;34m,\u001b[0m \u001b[0;34m/\u001b[0m\u001b[0;34m,\u001b[0m \u001b[0;34m*\u001b[0m\u001b[0margs\u001b[0m\u001b[0;34m,\u001b[0m \u001b[0;34m**\u001b[0m\u001b[0mkwargs\u001b[0m\u001b[0;34m)\u001b[0m\u001b[0;34m\u001b[0m\u001b[0;34m\u001b[0m\u001b[0m\n",
       "\u001b[0;31mDocstring:\u001b[0m     \n",
       "chain(*iterables) --> chain object\n",
       "\n",
       "Return a chain object whose .__next__() method returns elements from the\n",
       "first iterable until it is exhausted, then elements from the next\n",
       "iterable, until all of the iterables are exhausted.\n",
       "\u001b[0;31mType:\u001b[0m           type\n",
       "\u001b[0;31mSubclasses:\u001b[0m     \n"
      ]
     },
     "metadata": {},
     "output_type": "display_data"
    }
   ],
   "source": [
    "iter.chain?"
   ]
  },
  {
   "cell_type": "code",
   "execution_count": 10,
   "id": "617d2c88-dc16-4145-bcd0-c3fa48e150fe",
   "metadata": {},
   "outputs": [
    {
     "data": {
      "text/plain": [
       "[1, 2, 3, 4, 4, 5, 6]"
      ]
     },
     "execution_count": 10,
     "metadata": {},
     "output_type": "execute_result"
    }
   ],
   "source": [
    "l1 = [1, 2, 3, 4]\n",
    "l2 = [4, 5, 6]\n",
    "\n",
    "list(iter.chain(l1, l2))"
   ]
  },
  {
   "cell_type": "code",
   "execution_count": 11,
   "id": "91ae7721-3446-4cae-a8ea-bde0700752b6",
   "metadata": {},
   "outputs": [
    {
     "name": "stdout",
     "output_type": "stream",
     "text": [
      "Help on class starmap in module itertools:\n",
      "\n",
      "class starmap(builtins.object)\n",
      " |  starmap(function, sequence) --> starmap object\n",
      " |  \n",
      " |  Return an iterator whose values are returned from the function evaluated\n",
      " |  with an argument tuple taken from the given sequence.\n",
      " |  \n",
      " |  Methods defined here:\n",
      " |  \n",
      " |  __getattribute__(self, name, /)\n",
      " |      Return getattr(self, name).\n",
      " |  \n",
      " |  __iter__(self, /)\n",
      " |      Implement iter(self).\n",
      " |  \n",
      " |  __new__(*args, **kwargs) from builtins.type\n",
      " |      Create and return a new object.  See help(type) for accurate signature.\n",
      " |  \n",
      " |  __next__(self, /)\n",
      " |      Implement next(self).\n",
      " |  \n",
      " |  __reduce__(...)\n",
      " |      Return state information for pickling.\n",
      "\n"
     ]
    }
   ],
   "source": [
    "help(iter.starmap)"
   ]
  },
  {
   "cell_type": "markdown",
   "id": "6d7e1ed2-08f3-4890-8c38-7d0882eaca2d",
   "metadata": {},
   "source": [
    "# Task - Compute Commission Amount:\n",
    "Create a collection with sales and commission percentage. Using that collection compute total commission amount. If the commission percent is None or not present, treat it as 0.\n",
    "* Each element in the collection should be a tuple.\n",
    "* First element is the sales amount and second element is commission percentage.\n",
    "* Commission for each sale can be computed by multiplying commission percentage with sales (make sure to divide commission percentage by 100).\n",
    "* Some of the records does not have commission percentage, in that case commission amount for that sale shall be 0"
   ]
  },
  {
   "cell_type": "code",
   "execution_count": 12,
   "id": "083e6c59-fda4-40fc-901d-96c5f39906d9",
   "metadata": {},
   "outputs": [],
   "source": [
    "transactions = [(376.0, 8),\n",
    "(548.23, 14),\n",
    "(107.93, 8),\n",
    "(838.22, 14),\n",
    "(846.85, 21),\n",
    "(234.84, None),\n",
    "(850.2, 21),\n",
    "(992.2, 21),\n",
    "(267.01, None),\n",
    "(958.91, 21),\n",
    "(412.59, None),\n",
    "(283.14, None),\n",
    "(350.01, 14),\n",
    "(226.95, None),\n",
    "(132.7, 14)]"
   ]
  },
  {
   "cell_type": "code",
   "execution_count": 16,
   "id": "1fe84fd8-2fbc-4772-aea5-5cad1e893da5",
   "metadata": {},
   "outputs": [
    {
     "data": {
      "text/plain": [
       "<itertools.starmap at 0x7fa1518925c0>"
      ]
     },
     "execution_count": 16,
     "metadata": {},
     "output_type": "execute_result"
    }
   ],
   "source": [
    "iter.starmap(lambda rec: rec[0] * (rec[1]/100) if rec[1] else 0, transactions)"
   ]
  },
  {
   "cell_type": "code",
   "execution_count": 19,
   "id": "7c6ce4be-7b6e-472b-909a-94365c62bb97",
   "metadata": {},
   "outputs": [],
   "source": [
    "a = iter.starmap(lambda sale_amount, comm_pct: round(sale_amount * (comm_pct/100), 2) if comm_pct else 0, transactions)\n"
   ]
  },
  {
   "cell_type": "code",
   "execution_count": 20,
   "id": "18a66c31-fa71-4be4-b220-d10f9631bdb9",
   "metadata": {},
   "outputs": [
    {
     "name": "stdout",
     "output_type": "stream",
     "text": [
      "30.08\n",
      "76.75\n",
      "8.63\n",
      "117.35\n",
      "177.84\n",
      "0\n",
      "178.54\n",
      "208.36\n",
      "0\n",
      "201.37\n",
      "0\n",
      "0\n",
      "49.0\n",
      "0\n",
      "18.58\n"
     ]
    }
   ],
   "source": [
    "for i in a: print(i)"
   ]
  },
  {
   "cell_type": "markdown",
   "id": "5e329544-fe48-421b-9a19-b57f5c863f74",
   "metadata": {},
   "source": [
    "# Using groupby:\n",
    "Let us understand how we can use `itertools.groupby` to take care of aggregations by key.\n",
    "* `itertools.groupby` can be used to get the data grouped by a key.\n",
    "* It can be used to take care of use cases similar to following by using aggregate functions after grouping by key.\n",
    "    * Get count by order status.\n",
    "    * Get revenue for each order.\n",
    "    * Get order count by month.\n",
    "* We need to ensure data is pre-sorted by the key, so that all the values associated with each key are grouped together."
   ]
  },
  {
   "cell_type": "code",
   "execution_count": 22,
   "id": "1df6e533-b33c-4621-81c6-b80d4d3cf119",
   "metadata": {},
   "outputs": [],
   "source": [
    "import itertools as iter"
   ]
  },
  {
   "cell_type": "code",
   "execution_count": 23,
   "id": "ae2bbb07-31ce-4d9e-97ea-f788d34df127",
   "metadata": {},
   "outputs": [
    {
     "data": {
      "text/plain": [
       "\u001b[0;31mInit signature:\u001b[0m \u001b[0miter\u001b[0m\u001b[0;34m.\u001b[0m\u001b[0mgroupby\u001b[0m\u001b[0;34m(\u001b[0m\u001b[0mself\u001b[0m\u001b[0;34m,\u001b[0m \u001b[0;34m/\u001b[0m\u001b[0;34m,\u001b[0m \u001b[0;34m*\u001b[0m\u001b[0margs\u001b[0m\u001b[0;34m,\u001b[0m \u001b[0;34m**\u001b[0m\u001b[0mkwargs\u001b[0m\u001b[0;34m)\u001b[0m\u001b[0;34m\u001b[0m\u001b[0;34m\u001b[0m\u001b[0m\n",
       "\u001b[0;31mDocstring:\u001b[0m     \n",
       "groupby(iterable, key=None) -> make an iterator that returns consecutive\n",
       "keys and groups from the iterable.  If the key function is not specified or\n",
       "is None, the element itself is used for grouping.\n",
       "\u001b[0;31mType:\u001b[0m           type\n",
       "\u001b[0;31mSubclasses:\u001b[0m     \n"
      ]
     },
     "metadata": {},
     "output_type": "display_data"
    }
   ],
   "source": [
    "iter.groupby?"
   ]
  },
  {
   "cell_type": "code",
   "execution_count": 24,
   "id": "5903303a-6fab-48c7-95b4-ffe70a07315b",
   "metadata": {},
   "outputs": [],
   "source": [
    "l = [1, 1, 3, 2, 1, 3, 2]"
   ]
  },
  {
   "cell_type": "code",
   "execution_count": 26,
   "id": "63bc0448-8618-40a0-9d41-67d5db10cdf6",
   "metadata": {},
   "outputs": [],
   "source": [
    "l_grouped = iter.groupby(l)"
   ]
  },
  {
   "cell_type": "code",
   "execution_count": 27,
   "id": "f2f46a77-7bc4-41bd-b469-7d3d6b2fc674",
   "metadata": {},
   "outputs": [
    {
     "data": {
      "text/plain": [
       "[(1, <itertools._grouper at 0x7fa150ec60f0>),\n",
       " (3, <itertools._grouper at 0x7fa150ec6828>),\n",
       " (2, <itertools._grouper at 0x7fa151406208>),\n",
       " (1, <itertools._grouper at 0x7fa151406358>),\n",
       " (3, <itertools._grouper at 0x7fa151406320>),\n",
       " (2, <itertools._grouper at 0x7fa151406400>)]"
      ]
     },
     "execution_count": 27,
     "metadata": {},
     "output_type": "execute_result"
    }
   ],
   "source": [
    "list(l_grouped)"
   ]
  },
  {
   "cell_type": "code",
   "execution_count": 28,
   "id": "6a2fe0d5-3ec6-49b3-8528-e4063ef56e82",
   "metadata": {},
   "outputs": [],
   "source": [
    "l_sorted = sorted(l)"
   ]
  },
  {
   "cell_type": "code",
   "execution_count": 29,
   "id": "b01306f8-3676-416e-8173-ae9b96b023fb",
   "metadata": {},
   "outputs": [],
   "source": [
    "ls_grouped = iter.groupby(l_sorted)"
   ]
  },
  {
   "cell_type": "code",
   "execution_count": 30,
   "id": "0c20221d-a123-46cc-aca4-c889ad3ae55c",
   "metadata": {},
   "outputs": [
    {
     "data": {
      "text/plain": [
       "[(1, 3), (2, 2), (3, 2)]"
      ]
     },
     "execution_count": 30,
     "metadata": {},
     "output_type": "execute_result"
    }
   ],
   "source": [
    "list(iter.starmap(lambda key, values: (key, len(list(values))), ls_grouped))\n"
   ]
  },
  {
   "cell_type": "code",
   "execution_count": 31,
   "id": "1df1aeeb-ab8e-42f2-917a-e8c4f5297f92",
   "metadata": {},
   "outputs": [],
   "source": [
    "%run Data_Set_items.ipynb"
   ]
  },
  {
   "cell_type": "markdown",
   "id": "0ac9e03c-3d13-4fbd-88eb-a881208a25f5",
   "metadata": {},
   "source": [
    "# Task 1 - Order Count by Status:\n",
    "Get count by order status using orders data set."
   ]
  },
  {
   "cell_type": "code",
   "execution_count": 32,
   "id": "162d0a90-e763-46dd-9809-4a68066d822e",
   "metadata": {},
   "outputs": [
    {
     "data": {
      "text/plain": [
       "['1,2013-07-25 00:00:00.0,11599,CLOSED',\n",
       " '2,2013-07-25 00:00:00.0,256,PENDING_PAYMENT',\n",
       " '3,2013-07-25 00:00:00.0,12111,COMPLETE']"
      ]
     },
     "execution_count": 32,
     "metadata": {},
     "output_type": "execute_result"
    }
   ],
   "source": [
    "orders[:3]\n"
   ]
  },
  {
   "cell_type": "code",
   "execution_count": 33,
   "id": "309a85f7-71ca-482e-8679-962185f38089",
   "metadata": {},
   "outputs": [],
   "source": [
    "orders_sorted = sorted(orders, key=lambda k: k.split(',')[3])"
   ]
  },
  {
   "cell_type": "code",
   "execution_count": 34,
   "id": "3075c8c3-7931-420f-9ae5-c4222fecc238",
   "metadata": {},
   "outputs": [
    {
     "data": {
      "text/plain": [
       "['50,2013-07-25 00:00:00.0,5225,CANCELED',\n",
       " '112,2013-07-26 00:00:00.0,5375,CANCELED',\n",
       " '527,2013-07-28 00:00:00.0,5426,CANCELED']"
      ]
     },
     "execution_count": 34,
     "metadata": {},
     "output_type": "execute_result"
    }
   ],
   "source": [
    "orders_sorted[:3]"
   ]
  },
  {
   "cell_type": "code",
   "execution_count": 35,
   "id": "ccdf02be-0f01-49b2-b46c-23e261e4e009",
   "metadata": {},
   "outputs": [],
   "source": [
    "orders_grouped = iter.groupby(orders_sorted, lambda order: order.split(',')[3])"
   ]
  },
  {
   "cell_type": "code",
   "execution_count": 36,
   "id": "e0c18077-3bbe-45a9-bd70-fe5fd975f71d",
   "metadata": {},
   "outputs": [
    {
     "data": {
      "text/plain": [
       "[('CANCELED', <itertools._grouper at 0x7fa151892358>),\n",
       " ('CLOSED', <itertools._grouper at 0x7fa151892438>),\n",
       " ('COMPLETE', <itertools._grouper at 0x7fa150b81eb8>)]"
      ]
     },
     "execution_count": 36,
     "metadata": {},
     "output_type": "execute_result"
    }
   ],
   "source": [
    "list(orders_grouped)[:3]"
   ]
  },
  {
   "cell_type": "code",
   "execution_count": 37,
   "id": "b6c5e886-9ec2-4cac-8763-116210ff6222",
   "metadata": {},
   "outputs": [],
   "source": [
    "orders_sorted = sorted(orders, key=lambda k: k.split(',')[3])\n",
    "orders_grouped = iter.groupby(orders_sorted, lambda order: order.split(',')[3])\n",
    "order_count_by_status = iter.starmap(lambda key, values: (key, len(list(values))), orders_grouped)"
   ]
  },
  {
   "cell_type": "code",
   "execution_count": 38,
   "id": "25355b17-af81-420d-9f3b-20b8af12ce05",
   "metadata": {},
   "outputs": [
    {
     "data": {
      "text/plain": [
       "[('CANCELED', 1428),\n",
       " ('CLOSED', 7556),\n",
       " ('COMPLETE', 22899),\n",
       " ('ON_HOLD', 3798),\n",
       " ('PAYMENT_REVIEW', 729),\n",
       " ('PENDING', 7610),\n",
       " ('PENDING_PAYMENT', 15030),\n",
       " ('PROCESSING', 8275),\n",
       " ('SUSPECTED_FRAUD', 1558)]"
      ]
     },
     "execution_count": 38,
     "metadata": {},
     "output_type": "execute_result"
    }
   ],
   "source": [
    "list(order_count_by_status)"
   ]
  },
  {
   "cell_type": "markdown",
   "id": "087a4177-c49a-41ff-a4e6-4c00942cb5fb",
   "metadata": {},
   "source": [
    "# Task 2 - Revenue per Order:\n",
    "Get revenue per order using order_items data set."
   ]
  },
  {
   "cell_type": "code",
   "execution_count": 39,
   "id": "ffe72330-6df0-4465-8564-c6ef3c04f92b",
   "metadata": {},
   "outputs": [
    {
     "data": {
      "text/plain": [
       "['1,1,957,1,299.98,299.98',\n",
       " '2,2,1073,1,199.99,199.99',\n",
       " '3,2,502,5,250.0,50.0',\n",
       " '4,2,403,1,129.99,129.99']"
      ]
     },
     "execution_count": 39,
     "metadata": {},
     "output_type": "execute_result"
    }
   ],
   "source": [
    "order_items[:4]"
   ]
  },
  {
   "cell_type": "code",
   "execution_count": 40,
   "id": "3178fde8-cd0a-4905-9fa5-6574d0aeb36e",
   "metadata": {},
   "outputs": [],
   "source": [
    "order_subtotals = map(lambda oi: (int(oi.split(',')[1]), float(oi.split(',')[4])), order_items)"
   ]
  },
  {
   "cell_type": "code",
   "execution_count": 41,
   "id": "945d7f43-3e14-4de1-859c-5cea1f1a898f",
   "metadata": {},
   "outputs": [
    {
     "data": {
      "text/plain": [
       "[(1, 299.98), (2, 199.99), (2, 250.0)]"
      ]
     },
     "execution_count": 41,
     "metadata": {},
     "output_type": "execute_result"
    }
   ],
   "source": [
    "list(order_subtotals)[:3]"
   ]
  },
  {
   "cell_type": "code",
   "execution_count": 42,
   "id": "f3dc9a7d-99c5-4524-89fb-5efdd64395e2",
   "metadata": {},
   "outputs": [],
   "source": [
    "order_subtotals = map(lambda oi: (int(oi.split(',')[1]), float(oi.split(',')[4])), order_items)\n",
    "order_subtotals_sorted = sorted(order_subtotals)"
   ]
  },
  {
   "cell_type": "code",
   "execution_count": 43,
   "id": "ff015726-5abf-4fe3-8bc2-5ea64b3d2b51",
   "metadata": {},
   "outputs": [],
   "source": [
    "order_subtotals_grouped = iter.groupby(order_subtotals_sorted, lambda rec: rec[0])"
   ]
  },
  {
   "cell_type": "code",
   "execution_count": 44,
   "id": "895b528d-5070-40fd-ae85-79f8b53fcf57",
   "metadata": {},
   "outputs": [
    {
     "data": {
      "text/plain": [
       "[(1, <itertools._grouper at 0x7fa151406f28>),\n",
       " (2, <itertools._grouper at 0x7fa15140b1d0>),\n",
       " (4, <itertools._grouper at 0x7fa15140b208>)]"
      ]
     },
     "execution_count": 44,
     "metadata": {},
     "output_type": "execute_result"
    }
   ],
   "source": [
    "list(order_subtotals_grouped)[:3]"
   ]
  },
  {
   "cell_type": "code",
   "execution_count": 45,
   "id": "341f6eb6-a1a3-4ab0-ba85-6115469d34e2",
   "metadata": {},
   "outputs": [],
   "source": [
    "order_subtotals = map(lambda oi: (int(oi.split(',')[1]), float(oi.split(',')[4])), order_items)\n",
    "order_subtotals_sorted = sorted(order_subtotals)\n",
    "\n",
    "order_subtotals_grouped = iter.groupby(order_subtotals_sorted, lambda rec: rec[0])\n",
    "\n",
    "item = list(order_subtotals_grouped)[0]"
   ]
  },
  {
   "cell_type": "code",
   "execution_count": 46,
   "id": "55575be4-f939-46e0-b7e7-cd1af09b57e7",
   "metadata": {},
   "outputs": [
    {
     "name": "stdout",
     "output_type": "stream",
     "text": [
      "<itertools._grouper object at 0x7fa143a011d0>\n"
     ]
    }
   ],
   "source": [
    "print(item[1]) # Contains similar to this [(2, 199.99), (2, 250.0), (2, 129.99)]"
   ]
  },
  {
   "cell_type": "code",
   "execution_count": 47,
   "id": "d982e0fe-5ba8-4fc6-abf2-c0a2427574bf",
   "metadata": {},
   "outputs": [],
   "source": [
    "order_subtotals = map(lambda oi: (int(oi.split(',')[1]), float(oi.split(',')[4])), order_items)\n",
    "order_subtotals_sorted = sorted(order_subtotals)\n",
    "\n",
    "order_subtotals_grouped = iter.groupby(order_subtotals_sorted, lambda rec: rec[0])\n",
    "\n",
    "order_revenue = iter.starmap(\n",
    "    lambda key, values: (key, round(sum(list(map(lambda rec: rec[1], values))), 2)), \n",
    "    order_subtotals_grouped\n",
    ")"
   ]
  },
  {
   "cell_type": "code",
   "execution_count": 48,
   "id": "5512d3e9-7da5-4c48-be9c-c673719ec996",
   "metadata": {},
   "outputs": [
    {
     "data": {
      "text/plain": [
       "[(1, 299.98), (2, 579.98), (4, 699.85)]"
      ]
     },
     "execution_count": 48,
     "metadata": {},
     "output_type": "execute_result"
    }
   ],
   "source": [
    "list(order_revenue)[:3]"
   ]
  },
  {
   "cell_type": "code",
   "execution_count": 50,
   "id": "7d03aa5c-8f55-4ac2-a5c3-98dc9684052b",
   "metadata": {},
   "outputs": [],
   "source": [
    "order_items_sorted = sorted(order_items, key=lambda oi: int(oi.split(',')[1]))\n",
    "\n",
    "order_items_grouped = iter.groupby(order_items_sorted, lambda oi: int(oi.split(',')[1]))"
   ]
  },
  {
   "cell_type": "code",
   "execution_count": 51,
   "id": "0456f78c-7b1f-42e0-b092-c65aa4578892",
   "metadata": {},
   "outputs": [
    {
     "data": {
      "text/plain": [
       "['2,2,1073,1,199.99,199.99', '3,2,502,5,250.0,50.0', '4,2,403,1,129.99,129.99']"
      ]
     },
     "execution_count": 51,
     "metadata": {},
     "output_type": "execute_result"
    }
   ],
   "source": [
    "order_items[1:4]"
   ]
  },
  {
   "cell_type": "code",
   "execution_count": 52,
   "id": "026092e2-af25-4a16-b81e-abe9fe91de16",
   "metadata": {},
   "outputs": [],
   "source": [
    "values = order_items[1:4]"
   ]
  },
  {
   "cell_type": "code",
   "execution_count": 53,
   "id": "fdf77939-ed0e-471c-b6f1-2239bc71e06d",
   "metadata": {},
   "outputs": [
    {
     "data": {
      "text/plain": [
       "[199.99, 250.0, 129.99]"
      ]
     },
     "execution_count": 53,
     "metadata": {},
     "output_type": "execute_result"
    }
   ],
   "source": [
    "list(map(lambda rec: float(rec.split(',')[4]), values))\n"
   ]
  },
  {
   "cell_type": "code",
   "execution_count": 54,
   "id": "7720bce4-5381-4612-9e89-70c64c547097",
   "metadata": {},
   "outputs": [],
   "source": [
    "order_revenue = iter.starmap(\n",
    "    lambda key, values: (key, round(sum(list(map(lambda rec: float(rec.split(',')[4]), values))), 2)), \n",
    "    order_items_grouped\n",
    ")"
   ]
  },
  {
   "cell_type": "code",
   "execution_count": 55,
   "id": "bea6167f-404d-4027-9ef1-3f43a5a9710d",
   "metadata": {},
   "outputs": [
    {
     "data": {
      "text/plain": [
       "[(1, 299.98), (2, 579.98), (4, 699.85)]"
      ]
     },
     "execution_count": 55,
     "metadata": {},
     "output_type": "execute_result"
    }
   ],
   "source": [
    "list(order_revenue)[:3]"
   ]
  },
  {
   "cell_type": "code",
   "execution_count": null,
   "id": "c0a70ba8-1ea1-4301-bac1-88558507fdd5",
   "metadata": {},
   "outputs": [],
   "source": []
  }
 ],
 "metadata": {
  "kernelspec": {
   "display_name": "Python 3",
   "language": "python",
   "name": "python3"
  },
  "language_info": {
   "codemirror_mode": {
    "name": "ipython",
    "version": 3
   },
   "file_extension": ".py",
   "mimetype": "text/x-python",
   "name": "python",
   "nbconvert_exporter": "python",
   "pygments_lexer": "ipython3",
   "version": "3.6.9"
  }
 },
 "nbformat": 4,
 "nbformat_minor": 5
}
