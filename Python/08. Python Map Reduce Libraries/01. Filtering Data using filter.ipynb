{
 "cells": [
  {
   "cell_type": "code",
   "execution_count": 1,
   "id": "7206f0f8-260b-4dbc-93aa-bc84aa8bd484",
   "metadata": {},
   "outputs": [],
   "source": [
    "%run Data_Set_items.ipynb"
   ]
  },
  {
   "cell_type": "code",
   "execution_count": 3,
   "id": "41093258-2988-4828-82f1-70fa6b6b9332",
   "metadata": {},
   "outputs": [
    {
     "data": {
      "text/plain": [
       "['1,2013-07-25 00:00:00.0,11599,CLOSED',\n",
       " '2,2013-07-25 00:00:00.0,256,PENDING_PAYMENT',\n",
       " '3,2013-07-25 00:00:00.0,12111,COMPLETE',\n",
       " '4,2013-07-25 00:00:00.0,8827,CLOSED',\n",
       " '5,2013-07-25 00:00:00.0,11318,COMPLETE',\n",
       " '6,2013-07-25 00:00:00.0,7130,COMPLETE',\n",
       " '7,2013-07-25 00:00:00.0,4530,COMPLETE',\n",
       " '8,2013-07-25 00:00:00.0,2911,PROCESSING',\n",
       " '9,2013-07-25 00:00:00.0,5657,PENDING_PAYMENT',\n",
       " '10,2013-07-25 00:00:00.0,5648,PENDING_PAYMENT']"
      ]
     },
     "execution_count": 3,
     "metadata": {},
     "output_type": "execute_result"
    }
   ],
   "source": [
    "orders[:10]"
   ]
  },
  {
   "cell_type": "code",
   "execution_count": 4,
   "id": "89d44ceb-9b26-4623-acda-ef8b321a51b5",
   "metadata": {},
   "outputs": [],
   "source": [
    "customer_orders = filter(\n",
    "    lambda order: int(order.split(',')[2]) == 12431,\n",
    "    orders\n",
    ")"
   ]
  },
  {
   "cell_type": "code",
   "execution_count": 5,
   "id": "325282f8-a062-4c47-a887-f5352764b862",
   "metadata": {},
   "outputs": [
    {
     "data": {
      "text/plain": [
       "['3774,2013-08-16 00:00:00.0,12431,CANCELED',\n",
       " '3870,2013-08-17 00:00:00.0,12431,PENDING_PAYMENT',\n",
       " '4032,2013-08-17 00:00:00.0,12431,ON_HOLD',\n",
       " '22812,2013-12-12 00:00:00.0,12431,PENDING',\n",
       " '22927,2013-12-13 00:00:00.0,12431,CLOSED',\n",
       " '25614,2013-12-30 00:00:00.0,12431,CLOSED',\n",
       " '27585,2014-01-12 00:00:00.0,12431,PROCESSING',\n",
       " '28244,2014-01-15 00:00:00.0,12431,PENDING_PAYMENT',\n",
       " '29109,2014-01-21 00:00:00.0,12431,ON_HOLD',\n",
       " '29232,2014-01-21 00:00:00.0,12431,ON_HOLD',\n",
       " '45894,2014-05-06 00:00:00.0,12431,CLOSED',\n",
       " '46217,2014-05-07 00:00:00.0,12431,CLOSED',\n",
       " '49678,2014-05-31 00:00:00.0,12431,PENDING',\n",
       " '51865,2014-06-15 00:00:00.0,12431,PROCESSING',\n",
       " '63146,2014-02-13 00:00:00.0,12431,PENDING_PAYMENT',\n",
       " '67110,2014-07-14 00:00:00.0,12431,PENDING']"
      ]
     },
     "execution_count": 5,
     "metadata": {},
     "output_type": "execute_result"
    }
   ],
   "source": [
    "list(customer_orders)"
   ]
  },
  {
   "cell_type": "code",
   "execution_count": 6,
   "id": "6b8a5fc0-4959-4c58-846b-993eadf713f8",
   "metadata": {},
   "outputs": [
    {
     "data": {
      "text/plain": [
       "filter"
      ]
     },
     "execution_count": 6,
     "metadata": {},
     "output_type": "execute_result"
    }
   ],
   "source": [
    "type(customer_orders)"
   ]
  },
  {
   "cell_type": "markdown",
   "id": "ffb3cff4-5068-4441-812e-9622016a909e",
   "metadata": {},
   "source": [
    "* Get orders placed by customer id 12431 in the month of 2014 January"
   ]
  },
  {
   "cell_type": "code",
   "execution_count": 8,
   "id": "282cc808-976b-4bd3-89f6-8cd877bd6b88",
   "metadata": {},
   "outputs": [],
   "source": [
    "customer_orders_for_month = filter(\n",
    "    lambda order: int(order.split(',')[2]) == 12431\n",
    "        and order.split(',')[1].startswith('2014-01'),\n",
    "    orders\n",
    ")"
   ]
  },
  {
   "cell_type": "markdown",
   "id": "36875fb9-0492-40c0-ab8b-ad81d06c19fd",
   "metadata": {},
   "source": [
    "* Get orders placed by customer id 12431 in processing or pending_payment for the month of 2014 January"
   ]
  },
  {
   "cell_type": "code",
   "execution_count": 9,
   "id": "873e5c32-8ef1-47eb-a02a-4615702a4e48",
   "metadata": {},
   "outputs": [],
   "source": [
    "customer_orders_for_month = filter(\n",
    " lambda order: int(order.split(',')[2]) == 12431\n",
    "    and order.split(',')[1].startswith('2014-01')\n",
    "    and order.split(',')[3] in ('PENDING_PAYMENT', 'PROCESSING'),\n",
    "  orders\n",
    ")"
   ]
  },
  {
   "cell_type": "code",
   "execution_count": 10,
   "id": "6e700deb-5bb5-4462-a9ae-16cdfc794717",
   "metadata": {},
   "outputs": [
    {
     "data": {
      "text/plain": [
       "['27585,2014-01-12 00:00:00.0,12431,PROCESSING',\n",
       " '28244,2014-01-15 00:00:00.0,12431,PENDING_PAYMENT']"
      ]
     },
     "execution_count": 10,
     "metadata": {},
     "output_type": "execute_result"
    }
   ],
   "source": [
    "list(customer_orders_for_month)"
   ]
  },
  {
   "cell_type": "code",
   "execution_count": 11,
   "id": "c3b1e3dd-114b-464e-ae51-4b0ac7be5c14",
   "metadata": {},
   "outputs": [],
   "source": [
    "def check_order(order_details, customer_id, order_month, order_statuses):\n",
    "    if int(order_details[2]) == customer_id and \\\n",
    "        order_details[1].startswith(order_month) and \\\n",
    "        order_details[3] in order_statuses:\n",
    "        return True"
   ]
  },
  {
   "cell_type": "code",
   "execution_count": 12,
   "id": "a820182a-d6e9-4b12-a154-28530eafda1e",
   "metadata": {},
   "outputs": [],
   "source": [
    "customer_orders_for_month = filter(\n",
    "    lambda order: check_order(order.split(','), 12431, '2014-01', ('PENDING_PAYMENT', 'PROCESSING')),\n",
    "    orders\n",
    ")"
   ]
  },
  {
   "cell_type": "code",
   "execution_count": 13,
   "id": "2cbd028c-1db3-4c19-bd2e-39d6c3eadd47",
   "metadata": {},
   "outputs": [
    {
     "data": {
      "text/plain": [
       "['27585,2014-01-12 00:00:00.0,12431,PROCESSING',\n",
       " '28244,2014-01-15 00:00:00.0,12431,PENDING_PAYMENT']"
      ]
     },
     "execution_count": 13,
     "metadata": {},
     "output_type": "execute_result"
    }
   ],
   "source": [
    "list(customer_orders_for_month)"
   ]
  },
  {
   "cell_type": "code",
   "execution_count": null,
   "id": "433d5be8-f12a-484a-92e8-ec17e7a396cd",
   "metadata": {},
   "outputs": [],
   "source": []
  }
 ],
 "metadata": {
  "kernelspec": {
   "display_name": "Python 3",
   "language": "python",
   "name": "python3"
  },
  "language_info": {
   "codemirror_mode": {
    "name": "ipython",
    "version": 3
   },
   "file_extension": ".py",
   "mimetype": "text/x-python",
   "name": "python",
   "nbconvert_exporter": "python",
   "pygments_lexer": "ipython3",
   "version": "3.6.9"
  }
 },
 "nbformat": 4,
 "nbformat_minor": 5
}
