{
 "cells": [
  {
   "cell_type": "code",
   "execution_count": null,
   "id": "c4720b00-5c2e-4bc5-b06d-6146c87ecf00",
   "metadata": {},
   "outputs": [],
   "source": [
    "orders_path = \"/home/ilovemyh2o/retail_db/orders/part-00000\"\n",
    "orders = open(orders_path). \\\n",
    "    read(). \\\n",
    "    splitlines()"
   ]
  },
  {
   "cell_type": "code",
   "execution_count": null,
   "id": "5d83c7e0-a943-4e5d-a42f-3f13c623b697",
   "metadata": {},
   "outputs": [],
   "source": [
    "order_items_path = \"/home/ilovemyh2o/retail_db/order_items/part-00000\"\n",
    "order_items = open(order_items_path). \\\n",
    "    read(). \\\n",
    "    splitlines()"
   ]
  }
 ],
 "metadata": {
  "kernelspec": {
   "display_name": "Python 3",
   "language": "python",
   "name": "python3"
  },
  "language_info": {
   "codemirror_mode": {
    "name": "ipython",
    "version": 3
   },
   "file_extension": ".py",
   "mimetype": "text/x-python",
   "name": "python",
   "nbconvert_exporter": "python",
   "pygments_lexer": "ipython3",
   "version": "3.6.9"
  }
 },
 "nbformat": 4,
 "nbformat_minor": 5
}
