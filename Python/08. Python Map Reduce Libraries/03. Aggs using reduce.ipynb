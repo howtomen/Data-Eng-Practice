{
 "cells": [
  {
   "cell_type": "code",
   "execution_count": 1,
   "id": "660b24aa-3010-4efa-9683-1a29e19a7212",
   "metadata": {},
   "outputs": [],
   "source": [
    "%run Data_Set_items.ipynb"
   ]
  },
  {
   "cell_type": "code",
   "execution_count": 5,
   "id": "52e3378b-40c8-4b39-9fc8-8aed10d80f6a",
   "metadata": {},
   "outputs": [],
   "source": [
    "orders_filtered = filter(\n",
    "    lambda order: int(order.split(',')[1][:7].replace('-', '')) == 201307,\n",
    "    orders\n",
    ")"
   ]
  },
  {
   "cell_type": "code",
   "execution_count": 4,
   "id": "9a6ab5ed-035c-49b5-aace-d5820b2df605",
   "metadata": {},
   "outputs": [
    {
     "data": {
      "text/plain": [
       "['1,2013-07-25 00:00:00.0,11599,CLOSED',\n",
       " '2,2013-07-25 00:00:00.0,256,PENDING_PAYMENT',\n",
       " '3,2013-07-25 00:00:00.0,12111,COMPLETE',\n",
       " '4,2013-07-25 00:00:00.0,8827,CLOSED',\n",
       " '5,2013-07-25 00:00:00.0,11318,COMPLETE',\n",
       " '6,2013-07-25 00:00:00.0,7130,COMPLETE',\n",
       " '7,2013-07-25 00:00:00.0,4530,COMPLETE',\n",
       " '8,2013-07-25 00:00:00.0,2911,PROCESSING',\n",
       " '9,2013-07-25 00:00:00.0,5657,PENDING_PAYMENT',\n",
       " '10,2013-07-25 00:00:00.0,5648,PENDING_PAYMENT']"
      ]
     },
     "execution_count": 4,
     "metadata": {},
     "output_type": "execute_result"
    }
   ],
   "source": [
    "list(orders_filtered)[:10]"
   ]
  },
  {
   "cell_type": "code",
   "execution_count": 6,
   "id": "1744bedf-e5cf-417b-9b88-e58173c12972",
   "metadata": {},
   "outputs": [],
   "source": [
    "orders_mapped = map(\n",
    "    lambda order: 1,\n",
    "    orders\n",
    ")"
   ]
  },
  {
   "cell_type": "code",
   "execution_count": 7,
   "id": "04bf6bb7-0fd3-4893-b3e0-7eddc497768d",
   "metadata": {},
   "outputs": [
    {
     "data": {
      "text/plain": [
       "\u001b[0;31mDocstring:\u001b[0m\n",
       "reduce(function, sequence[, initial]) -> value\n",
       "\n",
       "Apply a function of two arguments cumulatively to the items of a sequence,\n",
       "from left to right, so as to reduce the sequence to a single value.\n",
       "For example, reduce(lambda x, y: x+y, [1, 2, 3, 4, 5]) calculates\n",
       "((((1+2)+3)+4)+5).  If initial is present, it is placed before the items\n",
       "of the sequence in the calculation, and serves as a default when the\n",
       "sequence is empty.\n",
       "\u001b[0;31mType:\u001b[0m      builtin_function_or_method\n"
      ]
     },
     "metadata": {},
     "output_type": "display_data"
    }
   ],
   "source": [
    "from functools import reduce\n",
    "reduce?"
   ]
  },
  {
   "cell_type": "code",
   "execution_count": 8,
   "id": "c7e951e0-35ac-4856-b877-ba14cf8d5bfd",
   "metadata": {},
   "outputs": [
    {
     "data": {
      "text/plain": [
       "68883"
      ]
     },
     "execution_count": 8,
     "metadata": {},
     "output_type": "execute_result"
    }
   ],
   "source": [
    "reduce(\n",
    "    lambda tot, ele: tot + ele,\n",
    "    orders_mapped\n",
    ")"
   ]
  },
  {
   "cell_type": "markdown",
   "id": "5aa76520-6c6b-48c2-9800-ee7b7adc1056",
   "metadata": {},
   "source": [
    "# Task 2:\n",
    "Use order items data set and compute total revenue generated for a given product_id.\n",
    "* Filter for given product_id.\n",
    "* Extract order_item_subtotal for each item.\n",
    "* Aggregate to get the revenue for a given product id."
   ]
  },
  {
   "cell_type": "code",
   "execution_count": 9,
   "id": "e6755abd-08fc-4e8e-afde-15da07cf7b10",
   "metadata": {},
   "outputs": [],
   "source": [
    "items_for_product = filter(\n",
    "    lambda order_item: int(order_item.split(',')[2]) == 502,\n",
    "    order_items\n",
    ")"
   ]
  },
  {
   "cell_type": "code",
   "execution_count": 10,
   "id": "21c52b9d-6067-4c8c-99d7-ed3dc1221de7",
   "metadata": {},
   "outputs": [
    {
     "data": {
      "text/plain": [
       "['3,2,502,5,250.0,50.0',\n",
       " '7,4,502,3,150.0,50.0',\n",
       " '20,8,502,1,50.0,50.0',\n",
       " '38,12,502,5,250.0,50.0',\n",
       " '42,14,502,1,50.0,50.0',\n",
       " '43,15,502,1,50.0,50.0',\n",
       " '60,20,502,5,250.0,50.0',\n",
       " '67,21,502,2,100.0,50.0',\n",
       " '70,24,502,1,50.0,50.0',\n",
       " '71,24,502,5,250.0,50.0']"
      ]
     },
     "execution_count": 10,
     "metadata": {},
     "output_type": "execute_result"
    }
   ],
   "source": [
    "list(items_for_product)[:10]"
   ]
  },
  {
   "cell_type": "code",
   "execution_count": 11,
   "id": "a5fc463f-d768-4578-9e59-93e831e68e08",
   "metadata": {},
   "outputs": [],
   "source": [
    "items_for_product = filter(\n",
    "    lambda order_item: int(order_item.split(',')[2]) == 502,\n",
    "    order_items\n",
    ")\n",
    "item_subtotals = map(\n",
    "    lambda order_item: float(order_item.split(',')[4]),\n",
    "    items_for_product\n",
    ")"
   ]
  },
  {
   "cell_type": "code",
   "execution_count": 12,
   "id": "158f89f3-7f44-4e4f-8acf-6567ea02380f",
   "metadata": {},
   "outputs": [
    {
     "data": {
      "text/plain": [
       "['3,2,502,5,250.0,50.0',\n",
       " '7,4,502,3,150.0,50.0',\n",
       " '20,8,502,1,50.0,50.0',\n",
       " '38,12,502,5,250.0,50.0',\n",
       " '42,14,502,1,50.0,50.0',\n",
       " '43,15,502,1,50.0,50.0',\n",
       " '60,20,502,5,250.0,50.0',\n",
       " '67,21,502,2,100.0,50.0',\n",
       " '70,24,502,1,50.0,50.0',\n",
       " '71,24,502,5,250.0,50.0']"
      ]
     },
     "execution_count": 12,
     "metadata": {},
     "output_type": "execute_result"
    }
   ],
   "source": [
    "list(items_for_product)[:10]"
   ]
  },
  {
   "cell_type": "code",
   "execution_count": 13,
   "id": "aa293ed8-b0a8-452e-9c81-6dac1e78101e",
   "metadata": {},
   "outputs": [],
   "source": [
    "items_for_product = filter(\n",
    "    lambda order_item: int(order_item.split(',')[2]) == 502,\n",
    "    order_items\n",
    ")\n",
    "item_subtotals = map(\n",
    "    lambda order_item: float(order_item.split(',')[4]),\n",
    "    items_for_product\n",
    ")"
   ]
  },
  {
   "cell_type": "code",
   "execution_count": 14,
   "id": "f8d3bb62-da40-429e-bfaa-f57e45b860fe",
   "metadata": {},
   "outputs": [
    {
     "data": {
      "text/plain": [
       "[250.0, 150.0, 50.0, 250.0, 50.0, 50.0, 250.0, 100.0, 50.0, 250.0]"
      ]
     },
     "execution_count": 14,
     "metadata": {},
     "output_type": "execute_result"
    }
   ],
   "source": [
    "list(item_subtotals)[:10]"
   ]
  },
  {
   "cell_type": "code",
   "execution_count": 15,
   "id": "9945c28e-e04a-4cb9-8ecb-543ce9d4e985",
   "metadata": {},
   "outputs": [
    {
     "data": {
      "text/plain": [
       "3147800.0"
      ]
     },
     "execution_count": 15,
     "metadata": {},
     "output_type": "execute_result"
    }
   ],
   "source": [
    "items_for_product = filter(\n",
    "    lambda order_item: int(order_item.split(',')[2]) == 502,\n",
    "    order_items\n",
    ")\n",
    "item_subtotals = map(\n",
    "    lambda order_item: float(order_item.split(',')[4]),\n",
    "    items_for_product\n",
    ")\n",
    "reduce(\n",
    "    lambda total_revenue, item_revenue: total_revenue + item_revenue,\n",
    "    item_subtotals\n",
    ")"
   ]
  },
  {
   "cell_type": "markdown",
   "id": "7b1af307-0ad4-4888-b7d5-042ecbc202cd",
   "metadata": {},
   "source": [
    "## Note:\n",
    "We can also aggregate using functions such as add, min, max etc to get the aggregated results."
   ]
  },
  {
   "cell_type": "code",
   "execution_count": 17,
   "id": "4ceb1cfb-a6be-4d1b-ad16-e9158b425220",
   "metadata": {},
   "outputs": [
    {
     "data": {
      "text/plain": [
       "3147800.0"
      ]
     },
     "execution_count": 17,
     "metadata": {},
     "output_type": "execute_result"
    }
   ],
   "source": [
    "from operator import add\n",
    "items_for_product = filter(\n",
    "    lambda order_item: int(order_item.split(',')[2]) == 502,\n",
    "    order_items\n",
    ")\n",
    "item_subtotals = map(\n",
    "    lambda order_item: float(order_item.split(',')[4]),\n",
    "    items_for_product\n",
    ")\n",
    "reduce(\n",
    "    add,\n",
    "    item_subtotals\n",
    ") "
   ]
  },
  {
   "cell_type": "code",
   "execution_count": 18,
   "id": "e008530f-af58-45b1-84d7-cd5623ae3e03",
   "metadata": {},
   "outputs": [
    {
     "data": {
      "text/plain": [
       "50.0"
      ]
     },
     "execution_count": 18,
     "metadata": {},
     "output_type": "execute_result"
    }
   ],
   "source": [
    "items_for_product = filter(\n",
    "    lambda order_item: int(order_item.split(',')[2]) == 502,\n",
    "    order_items\n",
    ")\n",
    "item_subtotals = map(\n",
    "    lambda order_item: float(order_item.split(',')[4]),\n",
    "    items_for_product\n",
    ")\n",
    "reduce(\n",
    "    min,\n",
    "    item_subtotals\n",
    ")"
   ]
  },
  {
   "cell_type": "markdown",
   "id": "2c3b754e-b6b7-406f-9218-4f8321f69949",
   "metadata": {},
   "source": [
    "# Task 3:\n",
    "Use order items data set and get total number of items sold as well as total revenue generated for a given product_id."
   ]
  },
  {
   "cell_type": "code",
   "execution_count": 22,
   "id": "bdb48af3-fc4c-42b6-89e6-cc698ebe2e9c",
   "metadata": {},
   "outputs": [],
   "source": [
    "items_for_product = filter(\n",
    "    lambda order_item: int(order_item.split(',')[2]) == 502,\n",
    "    order_items\n",
    ")"
   ]
  },
  {
   "cell_type": "code",
   "execution_count": 23,
   "id": "aa912ef5-5eea-4275-ae42-094fd1c77839",
   "metadata": {},
   "outputs": [
    {
     "data": {
      "text/plain": [
       "['3,2,502,5,250.0,50.0',\n",
       " '7,4,502,3,150.0,50.0',\n",
       " '20,8,502,1,50.0,50.0',\n",
       " '38,12,502,5,250.0,50.0',\n",
       " '42,14,502,1,50.0,50.0',\n",
       " '43,15,502,1,50.0,50.0',\n",
       " '60,20,502,5,250.0,50.0',\n",
       " '67,21,502,2,100.0,50.0',\n",
       " '70,24,502,1,50.0,50.0',\n",
       " '71,24,502,5,250.0,50.0']"
      ]
     },
     "execution_count": 23,
     "metadata": {},
     "output_type": "execute_result"
    }
   ],
   "source": [
    "list(items_for_product)[:10]"
   ]
  },
  {
   "cell_type": "code",
   "execution_count": 24,
   "id": "072ee84e-9b92-49ec-8074-78a781772143",
   "metadata": {},
   "outputs": [],
   "source": [
    "items_for_product = filter(\n",
    "    lambda order_item: int(order_item.split(',')[2]) == 502,\n",
    "    order_items\n",
    ")\n",
    "item_details = map(\n",
    "    lambda order_item: (int(order_item.split(',')[3]), float(order_item.split(',')[4])),\n",
    "    items_for_product\n",
    ")"
   ]
  },
  {
   "cell_type": "code",
   "execution_count": 25,
   "id": "116b5e82-a7e4-4536-afe1-85d9fad0b9e2",
   "metadata": {},
   "outputs": [
    {
     "data": {
      "text/plain": [
       "[(5, 250.0),\n",
       " (3, 150.0),\n",
       " (1, 50.0),\n",
       " (5, 250.0),\n",
       " (1, 50.0),\n",
       " (1, 50.0),\n",
       " (5, 250.0),\n",
       " (2, 100.0),\n",
       " (1, 50.0),\n",
       " (5, 250.0)]"
      ]
     },
     "execution_count": 25,
     "metadata": {},
     "output_type": "execute_result"
    }
   ],
   "source": [
    "list(item_details)[:10]"
   ]
  },
  {
   "cell_type": "code",
   "execution_count": 28,
   "id": "b13277e6-0f2b-481a-87da-9f1bb92bb7bb",
   "metadata": {},
   "outputs": [
    {
     "data": {
      "text/plain": [
       "(62956, 3147800.0)"
      ]
     },
     "execution_count": 28,
     "metadata": {},
     "output_type": "execute_result"
    }
   ],
   "source": [
    "items_for_product = filter(\n",
    "    lambda order_item: int(order_item.split(',')[2]) == 502,\n",
    "    order_items\n",
    ")\n",
    "item_details = map(\n",
    "    lambda order_item: (int(order_item.split(',')[3]), float(order_item.split(',')[4])),\n",
    "    items_for_product\n",
    ")\n",
    "reduce(\n",
    "    lambda tot, ele: (tot[0] + ele[0], tot[1] + ele[1]),\n",
    "    item_details\n",
    ")"
   ]
  },
  {
   "cell_type": "code",
   "execution_count": 29,
   "id": "3e9a170e-4ba1-4821-b6fc-078e0787a913",
   "metadata": {},
   "outputs": [
    {
     "data": {
      "text/plain": [
       "(62956, 3147800.0)"
      ]
     },
     "execution_count": 29,
     "metadata": {},
     "output_type": "execute_result"
    }
   ],
   "source": [
    "items_for_product = filter(\n",
    "    lambda order_item: int(order_item.split(',')[2]) == 502,\n",
    "    order_items\n",
    ")\n",
    "item_details = map(\n",
    "    lambda order_item: (int(order_item.split(',')[3]), float(order_item.split(',')[4])),\n",
    "    items_for_product\n",
    ")\n",
    "reduce(\n",
    "    lambda tot, ele: (tot[0] + ele[0], tot[1] + ele[1]),\n",
    "    item_details\n",
    ")"
   ]
  },
  {
   "cell_type": "markdown",
   "id": "374273f0-c03f-4767-add2-b7e53205cb6a",
   "metadata": {},
   "source": [
    "# Task 4:\n",
    "Create a collection with sales and commission percentage. Using that collection compute total commission amount. If the commission percent is None or not present, treat it as 0.\n",
    "* Each element in the collection should be a tuple.\n",
    "* First element is the sales amount and second element is commission percentage.\n",
    "* Commission for each sale can be computed by multiplying commission percentage with sales (make sure to divide commission percentage by 100).\n",
    "* Some of the records does not have commission percentage, in that case commission amount for that sale shall be 0"
   ]
  },
  {
   "cell_type": "code",
   "execution_count": 30,
   "id": "e059c341-c05a-414d-bc19-91d6aa970f43",
   "metadata": {},
   "outputs": [],
   "source": [
    "transactions = [(376.0, 8),\n",
    "(548.23, 14),\n",
    "(107.93, 8),\n",
    "(838.22, 14),\n",
    "(846.85, 21),\n",
    "(234.84,),\n",
    "(850.2, 21),\n",
    "(992.2, 21),\n",
    "(267.01,),\n",
    "(958.91, 21),\n",
    "(412.59,),\n",
    "(283.14,),\n",
    "(350.01, 14),\n",
    "(226.95,),\n",
    "(132.7, 14)]"
   ]
  },
  {
   "cell_type": "code",
   "execution_count": 31,
   "id": "76f222bd-aaa4-47c2-91ec-aa9fc290ed85",
   "metadata": {},
   "outputs": [
    {
     "data": {
      "text/plain": [
       "[(376.0, 8), (548.23, 14), (107.93, 8), (838.22, 14), (846.85, 21), (234.84,)]"
      ]
     },
     "execution_count": 31,
     "metadata": {},
     "output_type": "execute_result"
    }
   ],
   "source": [
    "transactions[:6]"
   ]
  },
  {
   "cell_type": "code",
   "execution_count": 32,
   "id": "b7c2d88c-1904-4ab7-8852-257f907b6e3e",
   "metadata": {},
   "outputs": [],
   "source": [
    "transactions_fixed = map(\n",
    "    lambda sale: sale[0] * (sale[1] / 100 if len(sale) == 2 else 0),\n",
    "    transactions\n",
    ")"
   ]
  },
  {
   "cell_type": "code",
   "execution_count": 33,
   "id": "31b52e2c-445e-4502-bfde-36d6e928681a",
   "metadata": {},
   "outputs": [
    {
     "data": {
      "text/plain": [
       "[30.080000000000002,\n",
       " 76.75220000000002,\n",
       " 8.634400000000001,\n",
       " 117.35080000000002,\n",
       " 177.8385,\n",
       " 0.0,\n",
       " 178.542,\n",
       " 208.362,\n",
       " 0.0,\n",
       " 201.37109999999998,\n",
       " 0.0,\n",
       " 0.0,\n",
       " 49.001400000000004,\n",
       " 0.0,\n",
       " 18.578]"
      ]
     },
     "execution_count": 33,
     "metadata": {},
     "output_type": "execute_result"
    }
   ],
   "source": [
    "list(transactions_fixed)"
   ]
  },
  {
   "cell_type": "code",
   "execution_count": 34,
   "id": "d9d683dc-932d-40f9-a0f2-72fb2c60f19b",
   "metadata": {},
   "outputs": [
    {
     "data": {
      "text/plain": [
       "1066.5"
      ]
     },
     "execution_count": 34,
     "metadata": {},
     "output_type": "execute_result"
    }
   ],
   "source": [
    "transactions_fixed = map(\n",
    "    lambda sale: sale[0] * (sale[1] / 100 if len(sale) == 2 else 0),\n",
    "    transactions\n",
    ")\n",
    "reduce(\n",
    "    lambda tot, ele: round(tot + ele, 2),\n",
    "    transactions_fixed\n",
    ")"
   ]
  },
  {
   "cell_type": "code",
   "execution_count": 35,
   "id": "913ddea8-97e2-4943-bbf2-2d6bcc01be10",
   "metadata": {},
   "outputs": [
    {
     "data": {
      "text/plain": [
       "1066.51"
      ]
     },
     "execution_count": 35,
     "metadata": {},
     "output_type": "execute_result"
    }
   ],
   "source": [
    "round(\n",
    "    reduce(\n",
    "        add,\n",
    "        map(\n",
    "            lambda sale: sale[0] * (sale[1] / 100 if len(sale) == 2 else 0),\n",
    "            transactions\n",
    "        )\n",
    "    ), 2\n",
    ")"
   ]
  },
  {
   "cell_type": "code",
   "execution_count": null,
   "id": "d6e97d74-a415-4fa6-9e9d-1d5955031320",
   "metadata": {},
   "outputs": [],
   "source": []
  }
 ],
 "metadata": {
  "kernelspec": {
   "display_name": "Python 3",
   "language": "python",
   "name": "python3"
  },
  "language_info": {
   "codemirror_mode": {
    "name": "ipython",
    "version": 3
   },
   "file_extension": ".py",
   "mimetype": "text/x-python",
   "name": "python",
   "nbconvert_exporter": "python",
   "pygments_lexer": "ipython3",
   "version": "3.6.9"
  }
 },
 "nbformat": 4,
 "nbformat_minor": 5
}
