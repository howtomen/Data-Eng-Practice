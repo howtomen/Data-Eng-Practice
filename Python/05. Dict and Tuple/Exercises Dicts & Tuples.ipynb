{
 "cells": [
  {
   "cell_type": "markdown",
   "id": "15c92c71-5908-47e2-bd12-49ad507a338e",
   "metadata": {},
   "source": [
    "# Exercises - Dicts and Tuples\n",
    "Let us go through some exercises related to dict and tuple.\n",
    "\n",
    "# Exercise 1 - Access all the values\n",
    "Get the values from the below dict in the form of a list."
   ]
  },
  {
   "cell_type": "code",
   "execution_count": 3,
   "id": "d256671f-8906-4620-917c-4a24bdf341f1",
   "metadata": {},
   "outputs": [
    {
     "data": {
      "text/plain": [
       "[1, '2013-07-25', 100, 'COMPLETE']"
      ]
     },
     "execution_count": 3,
     "metadata": {},
     "output_type": "execute_result"
    }
   ],
   "source": [
    "d = {\n",
    "    'order_id': 1,\n",
    "    'order_date': '2013-07-25',\n",
    "    'order_customer_id': 100,\n",
    "    'order_status': 'COMPLETE'\n",
    "}\n",
    "def get_values(d):\n",
    "    l = []\n",
    "    for x in d:\n",
    "        l.append(d[x])\n",
    "    return l\n",
    "get_values(d)"
   ]
  },
  {
   "cell_type": "code",
   "execution_count": null,
   "id": "958e4c38-57bb-4e94-a3fc-e991d044a8f3",
   "metadata": {},
   "outputs": [
    {
     "data": {
      "text/plain": [
       "list"
      ]
     },
     "execution_count": 4,
     "metadata": {},
     "output_type": "execute_result"
    }
   ],
   "source": [
    "type(get_values(d)) "
   ]
  },
  {
   "cell_type": "markdown",
   "id": "ed96bdc3-986c-4348-a2e4-42102331acc0",
   "metadata": {},
   "source": [
    "# Exercise 2 - Get Data types of values\n",
    "Continue on previous exercise and print data type of each value returned by get_values."
   ]
  },
  {
   "cell_type": "code",
   "execution_count": 5,
   "id": "1aa30829-3612-41d1-9d90-28db067baada",
   "metadata": {},
   "outputs": [
    {
     "name": "stdout",
     "output_type": "stream",
     "text": [
      "<class 'int'>\n",
      "<class 'str'>\n",
      "<class 'int'>\n",
      "<class 'str'>\n"
     ]
    }
   ],
   "source": [
    "l = get_values(d)\n",
    "\n",
    "for i in l: print(type(i))"
   ]
  },
  {
   "cell_type": "code",
   "execution_count": 8,
   "id": "fbe17f0f-13cb-44ef-9b82-82c2350b5268",
   "metadata": {},
   "outputs": [
    {
     "data": {
      "text/plain": [
       "{'order_id': 1,\n",
       " 'order_date': datetime.datetime(2013, 7, 25, 0, 0),\n",
       " 'order_customer_id': 100,\n",
       " 'order_status': 'COMPLETE'}"
      ]
     },
     "execution_count": 8,
     "metadata": {},
     "output_type": "execute_result"
    }
   ],
   "source": [
    "d = {\n",
    "    'order_id': 1,\n",
    "    'order_date': '2013-07-25',\n",
    "    'order_customer_id': 100,\n",
    "    'order_status': 'COMPLETE'\n",
    "}\n",
    "\n",
    "from datetime import datetime\n",
    "def convert_date(d):\n",
    "    d['order_date'] = datetime.strptime(d['order_date'], '%Y-%m-%d')\n",
    "    return d\n",
    "d_converted = convert_date(d)\n",
    "d_converted"
   ]
  },
  {
   "cell_type": "code",
   "execution_count": 9,
   "id": "be83130a-ecb1-4eb5-9bf0-b6841db1fcb9",
   "metadata": {},
   "outputs": [
    {
     "data": {
      "text/plain": [
       "datetime.datetime"
      ]
     },
     "execution_count": 9,
     "metadata": {},
     "output_type": "execute_result"
    }
   ],
   "source": [
    "type(d_converted['order_date'])"
   ]
  },
  {
   "cell_type": "markdown",
   "id": "46678784-4c98-46e7-8979-072cc92524bd",
   "metadata": {},
   "source": [
    "# Exercise 4 - Create list of dicts\n",
    "Create list of dicts for the following data.\n",
    "* Each element in the list should be of type dict.\n",
    "* The dict should contain order_item_order_id and order_item_subtotal as keys."
   ]
  },
  {
   "cell_type": "code",
   "execution_count": 23,
   "id": "8d04326a-f147-4920-9c99-8b2860d5a3a7",
   "metadata": {},
   "outputs": [
    {
     "data": {
      "text/plain": [
       "[{1: [299.98]}, {2: [199.99, 250, 129.99, 150]}, {4: [49.98, 299.95, 199.92]}]"
      ]
     },
     "execution_count": 23,
     "metadata": {},
     "output_type": "execute_result"
    }
   ],
   "source": [
    "l = [(1,299.98), (2,199.99), (2, 250) , (2, 129.99), \n",
    "     (4, 49.98), (4, 299.95), (2, 150), (4, 199.92)]\n",
    "dic = {}\n",
    "\n",
    "for x,y in l:\n",
    "    if dic.get(x):\n",
    "        dic[x].append(y)\n",
    "    else:\n",
    "        dic[x] = [y]\n",
    "res = [{x:dic[x]} for x in dic]\n",
    "res"
   ]
  },
  {
   "cell_type": "markdown",
   "id": "db9ae06e-6309-4dd7-85da-72634f3b27a5",
   "metadata": {},
   "source": [
    "# Exercise 5: Dict with max value\n",
    "Create a dict with order id and max order item subtotal using the below dict. The below dict contains order id as key and order item subtotals list as corresponding value."
   ]
  },
  {
   "cell_type": "code",
   "execution_count": 28,
   "id": "7279b586-0ad8-4dec-b65b-65a60ddce8f5",
   "metadata": {},
   "outputs": [
    {
     "data": {
      "text/plain": [
       "{1: 299.98, 2: 250.0, 4: 199.92, 5: 299.98, 7: 299.98, 8: 299.95}"
      ]
     },
     "execution_count": 28,
     "metadata": {},
     "output_type": "execute_result"
    }
   ],
   "source": [
    "order_item_subtotals = {\n",
    "    1: [299.98],\n",
    "    2: [199.99, 250.0, 129.99],\n",
    "    4: [49.98, 150.0, 199.92],\n",
    "    5: [299.98, 299.95, 99.96, 299.98, 129.99],\n",
    "    7: [199.99, 299.98, 79.95],\n",
    "    8: [179.97, 299.95, 199.92, 50.0]\n",
    "}\n",
    "res = {x: max(order_item_subtotals[x]) for x in order_item_subtotals}\n",
    "res"
   ]
  },
  {
   "cell_type": "markdown",
   "id": "e9a9f821-38fb-4149-9465-a0d1938af1b4",
   "metadata": {},
   "source": [
    "# Exercise 6: Dict with order revenue\n",
    "Create a dict with order item id and order item subtotal. The input dict will contain order item id as key and quantity along with price as value. order item subtotal is product of quantity and price."
   ]
  },
  {
   "cell_type": "code",
   "execution_count": 26,
   "id": "18a30fc6-b913-45c4-9f48-166530599d6a",
   "metadata": {},
   "outputs": [
    {
     "data": {
      "text/plain": [
       "{1: 299.98,\n",
       " 2: 199.99,\n",
       " 3: 250.0,\n",
       " 4: 129.99,\n",
       " 5: 49.98,\n",
       " 6: 299.95,\n",
       " 7: 150.0,\n",
       " 8: 199.92,\n",
       " 9: 299.98,\n",
       " 10: 299.95}"
      ]
     },
     "execution_count": 26,
     "metadata": {},
     "output_type": "execute_result"
    }
   ],
   "source": [
    "order_items = {1: (1, 299.98),\n",
    " 2: (1, 199.99),\n",
    " 3: (5, 50.0),\n",
    " 4: (1, 129.99),\n",
    " 5: (2, 24.99),\n",
    " 6: (5, 59.99),\n",
    " 7: (3, 50.0),\n",
    " 8: (4, 49.98),\n",
    " 9: (1, 299.98),\n",
    " 10: (5, 59.99)}\n",
    "\n",
    "res = {i:order_items[i][0] * order_items[i][1] for i in order_items}\n",
    "res"
   ]
  },
  {
   "cell_type": "code",
   "execution_count": null,
   "id": "5bbfec06-4d55-462b-94dd-cc75cefb8b9c",
   "metadata": {},
   "outputs": [],
   "source": []
  }
 ],
 "metadata": {
  "kernelspec": {
   "display_name": "Python 3",
   "language": "python",
   "name": "python3"
  },
  "language_info": {
   "codemirror_mode": {
    "name": "ipython",
    "version": 3
   },
   "file_extension": ".py",
   "mimetype": "text/x-python",
   "name": "python",
   "nbconvert_exporter": "python",
   "pygments_lexer": "ipython3",
   "version": "3.6.9"
  }
 },
 "nbformat": 4,
 "nbformat_minor": 5
}
