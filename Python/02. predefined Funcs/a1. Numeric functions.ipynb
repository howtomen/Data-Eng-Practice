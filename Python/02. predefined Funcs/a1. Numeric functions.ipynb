{
 "cells": [
  {
   "cell_type": "markdown",
   "id": "36cde37a-1c76-43d9-8501-9b326b7789eb",
   "metadata": {},
   "source": [
    "# Numeric Functions:\n",
    "Let us understand some of the common numeric functions we use with Python as programming language.\n",
    "* We have functions even for standard operators such as +, -, *, / under a library called as operator. However, we use operators more often than functions.\n",
    "    * `add` for +\n",
    "    * `sub` for -\n",
    "    * `mul` for *\n",
    "    * `truediv` for /\n",
    "* We can use `pow` for getting power value.\n",
    "* We also have `math` library for some advanced mathematical operations.\n",
    "* Also, we have functions such as `min, max` to get minimum and maximum of the numbers passed.\n",
    "\n"
   ]
  },
  {
   "cell_type": "code",
   "execution_count": 1,
   "id": "c7a1e178-d774-4265-895f-2c966933ace7",
   "metadata": {},
   "outputs": [
    {
     "data": {
      "text/plain": [
       "9"
      ]
     },
     "execution_count": 1,
     "metadata": {},
     "output_type": "execute_result"
    }
   ],
   "source": [
    "4 + 5"
   ]
  },
  {
   "cell_type": "code",
   "execution_count": 2,
   "id": "58c41292-5f11-4e01-a348-391ef7b5300b",
   "metadata": {},
   "outputs": [
    {
     "data": {
      "text/plain": [
       "1"
      ]
     },
     "execution_count": 2,
     "metadata": {},
     "output_type": "execute_result"
    }
   ],
   "source": [
    "5 % 4"
   ]
  },
  {
   "cell_type": "code",
   "execution_count": 3,
   "id": "466b6180-6cf0-4991-811d-f6591978c024",
   "metadata": {},
   "outputs": [],
   "source": [
    "import operator\n",
    "from operator import add, sub, mul, truediv"
   ]
  },
  {
   "cell_type": "code",
   "execution_count": 4,
   "id": "ffaac4dc-ee15-45ae-bcc1-7b19a17505c6",
   "metadata": {},
   "outputs": [
    {
     "data": {
      "text/plain": [
       "\u001b[0;31mDocstring:\u001b[0m add(a, b) -- Same as a + b.\n",
       "\u001b[0;31mType:\u001b[0m      builtin_function_or_method\n"
      ]
     },
     "metadata": {},
     "output_type": "display_data"
    }
   ],
   "source": [
    "add?"
   ]
  },
  {
   "cell_type": "code",
   "execution_count": 5,
   "id": "c73fcc28-c7e0-47fb-91ad-2415d91a0c73",
   "metadata": {},
   "outputs": [
    {
     "data": {
      "text/plain": [
       "9"
      ]
     },
     "execution_count": 5,
     "metadata": {},
     "output_type": "execute_result"
    }
   ],
   "source": [
    "add (4,5)"
   ]
  },
  {
   "cell_type": "code",
   "execution_count": 7,
   "id": "35498a11-0760-4d17-8a2b-3edf866f9650",
   "metadata": {},
   "outputs": [
    {
     "data": {
      "text/plain": [
       "0.8"
      ]
     },
     "execution_count": 7,
     "metadata": {},
     "output_type": "execute_result"
    }
   ],
   "source": [
    "truediv(4,5)"
   ]
  },
  {
   "cell_type": "code",
   "execution_count": 8,
   "id": "66148c22-e48d-4092-a5aa-ebdd5739adc5",
   "metadata": {},
   "outputs": [
    {
     "data": {
      "text/plain": [
       "1"
      ]
     },
     "execution_count": 8,
     "metadata": {},
     "output_type": "execute_result"
    }
   ],
   "source": [
    "from operator import mod\n",
    "\n",
    "mod(5,4)"
   ]
  },
  {
   "cell_type": "code",
   "execution_count": 9,
   "id": "1acb98c3-cb77-49d0-9291-f52d8fe200ae",
   "metadata": {},
   "outputs": [
    {
     "data": {
      "text/plain": [
       "8"
      ]
     },
     "execution_count": 9,
     "metadata": {},
     "output_type": "execute_result"
    }
   ],
   "source": [
    "pow(2,3)"
   ]
  },
  {
   "cell_type": "code",
   "execution_count": 11,
   "id": "c7b52b3a-c97f-4ec4-8e0b-18c79dca0522",
   "metadata": {},
   "outputs": [],
   "source": [
    "import math"
   ]
  },
  {
   "cell_type": "code",
   "execution_count": 12,
   "id": "93f7000a-bf6b-4694-a9fd-4579c1c1c556",
   "metadata": {},
   "outputs": [
    {
     "data": {
      "text/plain": [
       "\u001b[0;31mDocstring:\u001b[0m\n",
       "pow(x, y)\n",
       "\n",
       "Return x**y (x to the power of y).\n",
       "\u001b[0;31mType:\u001b[0m      builtin_function_or_method\n"
      ]
     },
     "metadata": {},
     "output_type": "display_data"
    }
   ],
   "source": [
    "math.pow?"
   ]
  },
  {
   "cell_type": "code",
   "execution_count": 13,
   "id": "829d79c4-92cd-49cf-8007-c1bacbbd6163",
   "metadata": {},
   "outputs": [
    {
     "data": {
      "text/plain": [
       "5"
      ]
     },
     "execution_count": 13,
     "metadata": {},
     "output_type": "execute_result"
    }
   ],
   "source": [
    "math.ceil(4.4)"
   ]
  },
  {
   "cell_type": "code",
   "execution_count": 14,
   "id": "beaf7ee6-7649-40bd-bab2-f63741db6709",
   "metadata": {},
   "outputs": [
    {
     "data": {
      "text/plain": [
       "4"
      ]
     },
     "execution_count": 14,
     "metadata": {},
     "output_type": "execute_result"
    }
   ],
   "source": [
    "math.floor(4.7)"
   ]
  },
  {
   "cell_type": "code",
   "execution_count": 15,
   "id": "9a577b2c-92d1-4e65-9514-d5d778136982",
   "metadata": {},
   "outputs": [
    {
     "data": {
      "text/plain": [
       "4"
      ]
     },
     "execution_count": 15,
     "metadata": {},
     "output_type": "execute_result"
    }
   ],
   "source": [
    "round(4.4)"
   ]
  },
  {
   "cell_type": "code",
   "execution_count": 16,
   "id": "18464545-9634-46f2-b282-018e1f572569",
   "metadata": {},
   "outputs": [
    {
     "data": {
      "text/plain": [
       "5"
      ]
     },
     "execution_count": 16,
     "metadata": {},
     "output_type": "execute_result"
    }
   ],
   "source": [
    "round(4.7)"
   ]
  },
  {
   "cell_type": "code",
   "execution_count": 17,
   "id": "406f2a11-5850-4b64-8caa-04ee83541b56",
   "metadata": {},
   "outputs": [
    {
     "data": {
      "text/plain": [
       "4.66"
      ]
     },
     "execution_count": 17,
     "metadata": {},
     "output_type": "execute_result"
    }
   ],
   "source": [
    "round(4.662, 2)"
   ]
  },
  {
   "cell_type": "code",
   "execution_count": 18,
   "id": "22325eac-29ea-4b99-b698-8c0eef3f8889",
   "metadata": {},
   "outputs": [
    {
     "data": {
      "text/plain": [
       "1.4142135623730951"
      ]
     },
     "execution_count": 18,
     "metadata": {},
     "output_type": "execute_result"
    }
   ],
   "source": [
    "math.sqrt(2)"
   ]
  },
  {
   "cell_type": "code",
   "execution_count": 19,
   "id": "fe9513c9-e5c7-487f-88e2-37861d183344",
   "metadata": {},
   "outputs": [
    {
     "data": {
      "text/plain": [
       "\u001b[0;31mDocstring:\u001b[0m\n",
       "min(iterable, *[, default=obj, key=func]) -> value\n",
       "min(arg1, arg2, *args, *[, key=func]) -> value\n",
       "\n",
       "With a single iterable argument, return its smallest item. The\n",
       "default keyword-only argument specifies an object to return if\n",
       "the provided iterable is empty.\n",
       "With two or more arguments, return the smallest argument.\n",
       "\u001b[0;31mType:\u001b[0m      builtin_function_or_method\n"
      ]
     },
     "metadata": {},
     "output_type": "display_data"
    }
   ],
   "source": [
    "min?"
   ]
  },
  {
   "cell_type": "code",
   "execution_count": 20,
   "id": "e2f3a43c-e60d-4cad-a8c2-a4363e72c40c",
   "metadata": {},
   "outputs": [
    {
     "data": {
      "text/plain": [
       "2"
      ]
     },
     "execution_count": 20,
     "metadata": {},
     "output_type": "execute_result"
    }
   ],
   "source": [
    "min(2, 3)"
   ]
  },
  {
   "cell_type": "code",
   "execution_count": 21,
   "id": "aefbdadc-962a-4007-a6a6-503524d6924e",
   "metadata": {},
   "outputs": [
    {
     "data": {
      "text/plain": [
       "5"
      ]
     },
     "execution_count": 21,
     "metadata": {},
     "output_type": "execute_result"
    }
   ],
   "source": [
    "max(2,3,4,5,1)"
   ]
  },
  {
   "cell_type": "code",
   "execution_count": null,
   "id": "736a5304-9a2f-4c13-a1d1-e11cf1b0f77b",
   "metadata": {},
   "outputs": [],
   "source": []
  }
 ],
 "metadata": {
  "kernelspec": {
   "display_name": "Python 3",
   "language": "python",
   "name": "python3"
  },
  "language_info": {
   "codemirror_mode": {
    "name": "ipython",
    "version": 3
   },
   "file_extension": ".py",
   "mimetype": "text/x-python",
   "name": "python",
   "nbconvert_exporter": "python",
   "pygments_lexer": "ipython3",
   "version": "3.6.9"
  }
 },
 "nbformat": 4,
 "nbformat_minor": 5
}
