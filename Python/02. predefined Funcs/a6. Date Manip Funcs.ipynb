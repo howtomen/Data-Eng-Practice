{
 "cells": [
  {
   "cell_type": "markdown",
   "id": "b3a66843-8d4f-4be0-a4f8-d7ddff92562d",
   "metadata": {},
   "source": [
    "# Date Manipulation Functions:\n",
    "As part of our application, we often need to deal with dates. Let us get an overview about dealing with dates in Python.\n",
    "* `datetime` is the main library to deal with dates.\n",
    "* `datetime.datetime` and `datetime.date` are the classes as part of datetime library that can be used to deal with dates.\n",
    "* `datetime.datetime` is primarily used for date with timestamp and datetime.date can be used for date with out timestamp.\n",
    "* When we try to print the date it will print as below (for datetime). It is due to the implementation of string representation functions such as `__str__ or __repr__.`"
   ]
  },
  {
   "cell_type": "markdown",
   "id": "beb044a9-fdde-4259-9726-16d9c59562a2",
   "metadata": {},
   "source": [
    "datetime.datetime(2020, 10, 7, 21, 9, 1, 39414)\n",
    "* We need to format the date using format string to display the date the way we want. These are typically used along with functions such as `strptime` and `strftime`.\n",
    "    * `%Y` - 4 digit year\n",
    "    *` %m `- 2 digit month\n",
    "    * `%d `- 2 digit day with in month\n",
    "    * There are quite a few other format strings, but these are the most important ones to begin with.\n",
    "* Also, `datetime` library provides functions such as `strptime` to convert strings to date objects.\n",
    "* Other important modules to manipulate dates.\n",
    "    * `calendar` - to get the calendar related information for dates such as day name, month name etc.\n",
    "    * `datetime.timedelta` - to perform date arithmetic"
   ]
  },
  {
   "cell_type": "code",
   "execution_count": 2,
   "id": "53b0513a-aebc-490a-998a-df695a93b986",
   "metadata": {},
   "outputs": [],
   "source": [
    "# Importing datetime\n",
    "import datetime as dt"
   ]
  },
  {
   "cell_type": "code",
   "execution_count": 3,
   "id": "33f2c4ed-36c2-4914-9249-ca8eaacfaee0",
   "metadata": {},
   "outputs": [
    {
     "data": {
      "text/plain": [
       "datetime.datetime(2022, 1, 13, 2, 51, 5, 17421)"
      ]
     },
     "execution_count": 3,
     "metadata": {},
     "output_type": "execute_result"
    }
   ],
   "source": [
    "# Getting Current date with timestamp\n",
    "dt.datetime.now()"
   ]
  },
  {
   "cell_type": "code",
   "execution_count": 4,
   "id": "fe1c9ba4-86a8-428f-8481-e2dc6b26a689",
   "metadata": {},
   "outputs": [
    {
     "data": {
      "text/plain": [
       "datetime.date(2022, 1, 13)"
      ]
     },
     "execution_count": 4,
     "metadata": {},
     "output_type": "execute_result"
    }
   ],
   "source": [
    "# Getting Current date without timestamp\n",
    "from datetime import date\n",
    "date.today()"
   ]
  },
  {
   "cell_type": "code",
   "execution_count": 5,
   "id": "43fcf9bd-3aea-40ca-90d9-4de2673e887b",
   "metadata": {},
   "outputs": [
    {
     "data": {
      "text/plain": [
       "'2022-01-13'"
      ]
     },
     "execution_count": 5,
     "metadata": {},
     "output_type": "execute_result"
    }
   ],
   "source": [
    "# Converting date to a string in the form of yyyy-MM-dd (2020-10-07)\n",
    "date.today().strftime('%Y-%m-%d')"
   ]
  },
  {
   "cell_type": "code",
   "execution_count": 6,
   "id": "4cfa59b4-c894-4fd3-a298-cd58978b6998",
   "metadata": {},
   "outputs": [
    {
     "data": {
      "text/plain": [
       "'13-01-2022'"
      ]
     },
     "execution_count": 6,
     "metadata": {},
     "output_type": "execute_result"
    }
   ],
   "source": [
    "# Converting date to a string in the form of dd-MM-yyyy (07-10-2020)\n",
    "date.today().strftime('%d-%m-%Y')"
   ]
  },
  {
   "cell_type": "code",
   "execution_count": 7,
   "id": "7a2b2621-15a6-408b-bf7b-014d544a899f",
   "metadata": {},
   "outputs": [
    {
     "data": {
      "text/plain": [
       "'2022/01/13'"
      ]
     },
     "execution_count": 7,
     "metadata": {},
     "output_type": "execute_result"
    }
   ],
   "source": [
    "# Converting date to a string in the form of yyyy/MM/dd (2020/10/07)\n",
    "date.today().strftime('%Y/%m/%d')"
   ]
  },
  {
   "cell_type": "code",
   "execution_count": 8,
   "id": "c50d2aef-58f5-4c22-b768-2e81d61a3a7a",
   "metadata": {},
   "outputs": [
    {
     "data": {
      "text/plain": [
       "20220113"
      ]
     },
     "execution_count": 8,
     "metadata": {},
     "output_type": "execute_result"
    }
   ],
   "source": [
    "# Converting date to an integer in the form of yyyyMMdd (20201007)\n",
    "int(date.today().strftime('%Y%m%d'))"
   ]
  },
  {
   "cell_type": "code",
   "execution_count": 9,
   "id": "9317e7a6-8975-4481-a72d-33975f7d071e",
   "metadata": {},
   "outputs": [
    {
     "data": {
      "text/plain": [
       "'2022-01-13 02:52:29'"
      ]
     },
     "execution_count": 9,
     "metadata": {},
     "output_type": "execute_result"
    }
   ],
   "source": [
    "# Converting time to a string in the form of yyyy-MM-dd HH:mm:SS (2020-10-08 19:25:31)\n",
    "dt.datetime.now().strftime('%Y-%m-%d %H:%M:%S')"
   ]
  },
  {
   "cell_type": "code",
   "execution_count": 10,
   "id": "51718a0b-743c-4d0b-b324-ccc4e837241a",
   "metadata": {},
   "outputs": [
    {
     "data": {
      "text/plain": [
       "20220113"
      ]
     },
     "execution_count": 10,
     "metadata": {},
     "output_type": "execute_result"
    }
   ],
   "source": [
    "# Converting date to a string in the form yyyyMMdd (20201007)\n",
    "# We can represent this date as integer and hence we can convert the data type\n",
    "int(date.today().strftime('%Y%m%d'))"
   ]
  },
  {
   "cell_type": "code",
   "execution_count": 11,
   "id": "4bcb7ddc-cef9-4ca3-921f-8024cddbde2f",
   "metadata": {},
   "outputs": [
    {
     "data": {
      "text/plain": [
       "datetime.datetime(2020, 10, 7, 0, 0)"
      ]
     },
     "execution_count": 11,
     "metadata": {},
     "output_type": "execute_result"
    }
   ],
   "source": [
    "# Converting string which contains date using format yyyy-MM-dd as date\n",
    "dt.datetime.strptime('2020-10-07', '%Y-%m-%d')"
   ]
  },
  {
   "cell_type": "code",
   "execution_count": 12,
   "id": "fa8bc4a9-953b-43cd-b635-1a49bc44be80",
   "metadata": {},
   "outputs": [
    {
     "data": {
      "text/plain": [
       "datetime.date(2020, 10, 7)"
      ]
     },
     "execution_count": 12,
     "metadata": {},
     "output_type": "execute_result"
    }
   ],
   "source": [
    "dt.datetime.strptime('2020-10-07', '%Y-%m-%d').date()"
   ]
  },
  {
   "cell_type": "code",
   "execution_count": 13,
   "id": "f4ac4b44-ef57-4a5f-ad6a-87a66126be44",
   "metadata": {},
   "outputs": [
    {
     "ename": "TypeError",
     "evalue": "strptime() argument 1 must be str, not int",
     "output_type": "error",
     "traceback": [
      "\u001b[0;31m---------------------------------------------------------------------------\u001b[0m",
      "\u001b[0;31mTypeError\u001b[0m                                 Traceback (most recent call last)",
      "\u001b[0;32m<ipython-input-13-af2fd67730c2>\u001b[0m in \u001b[0;36m<module>\u001b[0;34m\u001b[0m\n\u001b[1;32m      2\u001b[0m \u001b[0;31m# strptime expects first argument to be string which contain date\u001b[0m\u001b[0;34m\u001b[0m\u001b[0;34m\u001b[0m\u001b[0;34m\u001b[0m\u001b[0m\n\u001b[1;32m      3\u001b[0m \u001b[0;31m# so we need to convert datatype of number to string\u001b[0m\u001b[0;34m\u001b[0m\u001b[0;34m\u001b[0m\u001b[0;34m\u001b[0m\u001b[0m\n\u001b[0;32m----> 4\u001b[0;31m \u001b[0mdt\u001b[0m\u001b[0;34m.\u001b[0m\u001b[0mdatetime\u001b[0m\u001b[0;34m.\u001b[0m\u001b[0mstrptime\u001b[0m\u001b[0;34m(\u001b[0m\u001b[0;36m20201007\u001b[0m\u001b[0;34m,\u001b[0m \u001b[0;34m'%Y%m%d'\u001b[0m\u001b[0;34m)\u001b[0m\u001b[0;34m\u001b[0m\u001b[0;34m\u001b[0m\u001b[0m\n\u001b[0m",
      "\u001b[0;31mTypeError\u001b[0m: strptime() argument 1 must be str, not int"
     ]
    }
   ],
   "source": [
    "# Converting number which contains date using format yyyyMMdd as date\n",
    "# strptime expects first argument to be string which contain date\n",
    "# so we need to convert datatype of number to string\n",
    "dt.datetime.strptime(20201007, '%Y%m%d')"
   ]
  },
  {
   "cell_type": "code",
   "execution_count": 14,
   "id": "589c810d-02ca-493e-800c-0c2510b598bb",
   "metadata": {},
   "outputs": [
    {
     "data": {
      "text/plain": [
       "datetime.datetime(2020, 10, 7, 0, 0)"
      ]
     },
     "execution_count": 14,
     "metadata": {},
     "output_type": "execute_result"
    }
   ],
   "source": [
    "# Converting number which contains date using format yyyyMMdd as date\n",
    "# strptime expects first argument to be string which contain date\n",
    "# so we need to convert datatype of number to string\n",
    "dt.datetime.strptime(str(20201007), '%Y%m%d')"
   ]
  },
  {
   "cell_type": "code",
   "execution_count": 15,
   "id": "cf4ea21d-6e15-4904-81e0-178b9783aae6",
   "metadata": {},
   "outputs": [
    {
     "data": {
      "text/plain": [
       "datetime.datetime(2020, 10, 7, 21, 9, 10)"
      ]
     },
     "execution_count": 15,
     "metadata": {},
     "output_type": "execute_result"
    }
   ],
   "source": [
    "# Converting string which contains timestamp using format yyyy-MM-dd HH:mm:ss as date\n",
    "dt.datetime.strptime('2020-10-07 21:09:10', '%Y-%m-%d %H:%M:%S')"
   ]
  },
  {
   "cell_type": "code",
   "execution_count": 16,
   "id": "785dcb9f-ca51-4eac-ac7f-38f2c8843e5c",
   "metadata": {},
   "outputs": [],
   "source": [
    "import calendar, datetime as dt"
   ]
  },
  {
   "cell_type": "code",
   "execution_count": 17,
   "id": "c87a7031-b81d-46e0-ae83-219c869364fe",
   "metadata": {},
   "outputs": [
    {
     "data": {
      "text/plain": [
       "datetime.date(2022, 1, 13)"
      ]
     },
     "execution_count": 17,
     "metadata": {},
     "output_type": "execute_result"
    }
   ],
   "source": [
    "d = dt.date.today()\n",
    "d"
   ]
  },
  {
   "cell_type": "code",
   "execution_count": 18,
   "id": "1ba76e52-64e5-47d6-be34-3421742ecd5e",
   "metadata": {},
   "outputs": [
    {
     "data": {
      "text/plain": [
       "['Monday', 'Tuesday', 'Wednesday', 'Thursday', 'Friday', 'Saturday', 'Sunday']"
      ]
     },
     "execution_count": 18,
     "metadata": {},
     "output_type": "execute_result"
    }
   ],
   "source": [
    "list(calendar.day_name)"
   ]
  },
  {
   "cell_type": "code",
   "execution_count": 19,
   "id": "359ae56b-5341-4426-9254-0a7b7ea4757b",
   "metadata": {},
   "outputs": [
    {
     "data": {
      "text/plain": [
       "\u001b[0;31mSignature:\u001b[0m \u001b[0mcalendar\u001b[0m\u001b[0;34m.\u001b[0m\u001b[0mweekday\u001b[0m\u001b[0;34m(\u001b[0m\u001b[0myear\u001b[0m\u001b[0;34m,\u001b[0m \u001b[0mmonth\u001b[0m\u001b[0;34m,\u001b[0m \u001b[0mday\u001b[0m\u001b[0;34m)\u001b[0m\u001b[0;34m\u001b[0m\u001b[0;34m\u001b[0m\u001b[0m\n",
       "\u001b[0;31mDocstring:\u001b[0m\n",
       "Return weekday (0-6 ~ Mon-Sun) for year (1970-...), month (1-12),\n",
       "day (1-31).\n",
       "\u001b[0;31mFile:\u001b[0m      /usr/lib/python3.6/calendar.py\n",
       "\u001b[0;31mType:\u001b[0m      function\n"
      ]
     },
     "metadata": {},
     "output_type": "display_data"
    }
   ],
   "source": [
    "calendar.weekday?"
   ]
  },
  {
   "cell_type": "code",
   "execution_count": 20,
   "id": "2628c315-acb8-47f7-b9ed-150e6a85a4ba",
   "metadata": {},
   "outputs": [
    {
     "data": {
      "text/plain": [
       "datetime.date"
      ]
     },
     "execution_count": 20,
     "metadata": {},
     "output_type": "execute_result"
    }
   ],
   "source": [
    "type(d)"
   ]
  },
  {
   "cell_type": "code",
   "execution_count": 21,
   "id": "cc6ff554-2a89-431a-84df-d07c9eb80e3f",
   "metadata": {},
   "outputs": [
    {
     "data": {
      "text/plain": [
       "2022"
      ]
     },
     "execution_count": 21,
     "metadata": {},
     "output_type": "execute_result"
    }
   ],
   "source": [
    "d.year"
   ]
  },
  {
   "cell_type": "code",
   "execution_count": 22,
   "id": "b273500c-96ac-49af-9f2e-c03c54d8ee8a",
   "metadata": {},
   "outputs": [
    {
     "data": {
      "text/plain": [
       "1"
      ]
     },
     "execution_count": 22,
     "metadata": {},
     "output_type": "execute_result"
    }
   ],
   "source": [
    "d.month"
   ]
  },
  {
   "cell_type": "code",
   "execution_count": 23,
   "id": "165e5070-376c-4982-b497-b778d044c278",
   "metadata": {},
   "outputs": [
    {
     "data": {
      "text/plain": [
       "13"
      ]
     },
     "execution_count": 23,
     "metadata": {},
     "output_type": "execute_result"
    }
   ],
   "source": [
    "d.day"
   ]
  },
  {
   "cell_type": "code",
   "execution_count": 24,
   "id": "451060ad-f884-4f5c-9690-012c339ed57c",
   "metadata": {},
   "outputs": [
    {
     "data": {
      "text/plain": [
       "3"
      ]
     },
     "execution_count": 24,
     "metadata": {},
     "output_type": "execute_result"
    }
   ],
   "source": [
    "calendar.weekday(d.year, d.month, d.day)"
   ]
  },
  {
   "cell_type": "code",
   "execution_count": 25,
   "id": "2c23dad3-58cb-4e4d-8753-748fe1b108de",
   "metadata": {},
   "outputs": [
    {
     "data": {
      "text/plain": [
       "'Thursday'"
      ]
     },
     "execution_count": 25,
     "metadata": {},
     "output_type": "execute_result"
    }
   ],
   "source": [
    "calendar.day_name[calendar.weekday(d.year, d.month, d.day)]"
   ]
  },
  {
   "cell_type": "code",
   "execution_count": null,
   "id": "90491a80-06b0-483b-bf6b-b6ef4ce120aa",
   "metadata": {},
   "outputs": [],
   "source": []
  }
 ],
 "metadata": {
  "kernelspec": {
   "display_name": "Python 3",
   "language": "python",
   "name": "python3"
  },
  "language_info": {
   "codemirror_mode": {
    "name": "ipython",
    "version": 3
   },
   "file_extension": ".py",
   "mimetype": "text/x-python",
   "name": "python",
   "nbconvert_exporter": "python",
   "pygments_lexer": "ipython3",
   "version": "3.6.9"
  }
 },
 "nbformat": 4,
 "nbformat_minor": 5
}
