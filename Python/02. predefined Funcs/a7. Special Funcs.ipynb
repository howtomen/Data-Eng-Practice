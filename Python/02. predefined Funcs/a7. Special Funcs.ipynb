{
 "cells": [
  {
   "cell_type": "markdown",
   "id": "8c3529b3-283b-4f88-865e-f6e5a3dc7a0f",
   "metadata": {},
   "source": [
    "# Special Functions:\n",
    "Python provides several special functions to get the metadata of the programs that are being executed.\n",
    "* `__name__ `- to get the name of the program\n",
    "* All operators are typically nothing but functions. We have already seen `operator` which contain the functions.\n",
    "* All the standard classes have special functions called as `__str__ `and `__repr__` to provide string representation.\n",
    "* As we explore collection is future, we will observe special functions for operators such as `in, not in, len` etc.\n",
    "* We can also use functions (constructors) such as `int, float, str` etc to convert the data types."
   ]
  },
  {
   "cell_type": "code",
   "execution_count": 1,
   "id": "d2828618-f8e0-4e65-8064-71783d0bfa1e",
   "metadata": {},
   "outputs": [
    {
     "name": "stdout",
     "output_type": "stream",
     "text": [
      "__main__\n"
     ]
    }
   ],
   "source": [
    "print(__name__)"
   ]
  },
  {
   "cell_type": "code",
   "execution_count": 2,
   "id": "8ffede17-70f8-4449-8f24-83de1bf85467",
   "metadata": {},
   "outputs": [],
   "source": [
    "import operator"
   ]
  },
  {
   "cell_type": "code",
   "execution_count": 3,
   "id": "8ef0d3c4-4757-4b48-9774-c07c9f6951bb",
   "metadata": {},
   "outputs": [
    {
     "data": {
      "text/plain": [
       "\u001b[0;31mDocstring:\u001b[0m add(a, b) -- Same as a + b.\n",
       "\u001b[0;31mType:\u001b[0m      builtin_function_or_method\n"
      ]
     },
     "metadata": {},
     "output_type": "display_data"
    }
   ],
   "source": [
    "operator.add?"
   ]
  },
  {
   "cell_type": "code",
   "execution_count": 4,
   "id": "5ec0e121-1e91-4a15-a4bf-4033b4f3a21a",
   "metadata": {},
   "outputs": [
    {
     "data": {
      "text/plain": [
       "\u001b[0;31mSignature:\u001b[0m      \u001b[0mint\u001b[0m\u001b[0;34m.\u001b[0m\u001b[0m__str__\u001b[0m\u001b[0;34m(\u001b[0m\u001b[0mself\u001b[0m\u001b[0;34m,\u001b[0m \u001b[0;34m/\u001b[0m\u001b[0;34m)\u001b[0m\u001b[0;34m\u001b[0m\u001b[0;34m\u001b[0m\u001b[0m\n",
       "\u001b[0;31mCall signature:\u001b[0m \u001b[0mint\u001b[0m\u001b[0;34m.\u001b[0m\u001b[0m__str__\u001b[0m\u001b[0;34m(\u001b[0m\u001b[0;34m*\u001b[0m\u001b[0margs\u001b[0m\u001b[0;34m,\u001b[0m \u001b[0;34m**\u001b[0m\u001b[0mkwargs\u001b[0m\u001b[0;34m)\u001b[0m\u001b[0;34m\u001b[0m\u001b[0;34m\u001b[0m\u001b[0m\n",
       "\u001b[0;31mType:\u001b[0m           wrapper_descriptor\n",
       "\u001b[0;31mString form:\u001b[0m    <slot wrapper '__str__' of 'int' objects>\n",
       "\u001b[0;31mNamespace:\u001b[0m      Python builtin\n",
       "\u001b[0;31mDocstring:\u001b[0m      Return str(self).\n"
      ]
     },
     "metadata": {},
     "output_type": "display_data"
    }
   ],
   "source": [
    "int.__str__?"
   ]
  },
  {
   "cell_type": "code",
   "execution_count": 5,
   "id": "f0eac9aa-bf73-47b6-9bfd-1285ba025529",
   "metadata": {},
   "outputs": [
    {
     "data": {
      "text/plain": [
       "\u001b[0;31mSignature:\u001b[0m      \u001b[0mint\u001b[0m\u001b[0;34m.\u001b[0m\u001b[0m__repr__\u001b[0m\u001b[0;34m(\u001b[0m\u001b[0mself\u001b[0m\u001b[0;34m,\u001b[0m \u001b[0;34m/\u001b[0m\u001b[0;34m)\u001b[0m\u001b[0;34m\u001b[0m\u001b[0;34m\u001b[0m\u001b[0m\n",
       "\u001b[0;31mCall signature:\u001b[0m \u001b[0mint\u001b[0m\u001b[0;34m.\u001b[0m\u001b[0m__repr__\u001b[0m\u001b[0;34m(\u001b[0m\u001b[0;34m*\u001b[0m\u001b[0margs\u001b[0m\u001b[0;34m,\u001b[0m \u001b[0;34m**\u001b[0m\u001b[0mkwargs\u001b[0m\u001b[0;34m)\u001b[0m\u001b[0;34m\u001b[0m\u001b[0;34m\u001b[0m\u001b[0m\n",
       "\u001b[0;31mType:\u001b[0m           wrapper_descriptor\n",
       "\u001b[0;31mString form:\u001b[0m    <slot wrapper '__repr__' of 'int' objects>\n",
       "\u001b[0;31mNamespace:\u001b[0m      Python builtin\n",
       "\u001b[0;31mDocstring:\u001b[0m      Return repr(self).\n"
      ]
     },
     "metadata": {},
     "output_type": "display_data"
    }
   ],
   "source": [
    "int.__repr__?"
   ]
  },
  {
   "cell_type": "code",
   "execution_count": 7,
   "id": "224f7661-3f86-462d-99d1-9d2fdbc7de58",
   "metadata": {},
   "outputs": [],
   "source": [
    "user =  '1,123 456 789,Scott,Tiger,1989-08-15,+1 415 891 9002,Forrest City,Texas,75063'"
   ]
  },
  {
   "cell_type": "code",
   "execution_count": 8,
   "id": "620965af-f48e-459b-8735-6c31a4ed828c",
   "metadata": {},
   "outputs": [
    {
     "data": {
      "text/plain": [
       "'1'"
      ]
     },
     "execution_count": 8,
     "metadata": {},
     "output_type": "execute_result"
    }
   ],
   "source": [
    "user.split(',')[0]\n",
    "# Even though user_id is integer, it will be treated as string\n",
    "# split converts a string to list of strings"
   ]
  },
  {
   "cell_type": "code",
   "execution_count": 9,
   "id": "ef416f52-eae1-4e7b-ae7d-0256e9441ee2",
   "metadata": {},
   "outputs": [
    {
     "data": {
      "text/plain": [
       "str"
      ]
     },
     "execution_count": 9,
     "metadata": {},
     "output_type": "execute_result"
    }
   ],
   "source": [
    "type(user.split(',')[0])"
   ]
  },
  {
   "cell_type": "code",
   "execution_count": 10,
   "id": "32e6a2f7-95c7-4902-bbe2-61272c760613",
   "metadata": {},
   "outputs": [
    {
     "data": {
      "text/plain": [
       "1"
      ]
     },
     "execution_count": 10,
     "metadata": {},
     "output_type": "execute_result"
    }
   ],
   "source": [
    "# We can use int to convert the data type of user_id\n",
    "user_id = int(user.split(',')[0])\n",
    "user_id"
   ]
  },
  {
   "cell_type": "code",
   "execution_count": 11,
   "id": "fdc083eb-82ee-4b12-99e1-4ec1eca7334b",
   "metadata": {},
   "outputs": [
    {
     "data": {
      "text/plain": [
       "int"
      ]
     },
     "execution_count": 11,
     "metadata": {},
     "output_type": "execute_result"
    }
   ],
   "source": [
    "type(user_id)"
   ]
  },
  {
   "cell_type": "code",
   "execution_count": 12,
   "id": "8231b986-3e5d-46db-99e7-a02c85e0288c",
   "metadata": {},
   "outputs": [
    {
     "data": {
      "text/plain": [
       "\u001b[0;31mSignature:\u001b[0m      \u001b[0mint\u001b[0m\u001b[0;34m.\u001b[0m\u001b[0m__repr__\u001b[0m\u001b[0;34m(\u001b[0m\u001b[0mself\u001b[0m\u001b[0;34m,\u001b[0m \u001b[0;34m/\u001b[0m\u001b[0;34m)\u001b[0m\u001b[0;34m\u001b[0m\u001b[0;34m\u001b[0m\u001b[0m\n",
       "\u001b[0;31mCall signature:\u001b[0m \u001b[0mint\u001b[0m\u001b[0;34m.\u001b[0m\u001b[0m__repr__\u001b[0m\u001b[0;34m(\u001b[0m\u001b[0;34m*\u001b[0m\u001b[0margs\u001b[0m\u001b[0;34m,\u001b[0m \u001b[0;34m**\u001b[0m\u001b[0mkwargs\u001b[0m\u001b[0;34m)\u001b[0m\u001b[0;34m\u001b[0m\u001b[0;34m\u001b[0m\u001b[0m\n",
       "\u001b[0;31mType:\u001b[0m           wrapper_descriptor\n",
       "\u001b[0;31mString form:\u001b[0m    <slot wrapper '__repr__' of 'int' objects>\n",
       "\u001b[0;31mNamespace:\u001b[0m      Python builtin\n",
       "\u001b[0;31mDocstring:\u001b[0m      Return repr(self).\n"
      ]
     },
     "metadata": {},
     "output_type": "display_data"
    }
   ],
   "source": [
    "int.__repr__?"
   ]
  },
  {
   "cell_type": "code",
   "execution_count": 13,
   "id": "52c1a1ad-3c41-4f79-bf43-6352fc146322",
   "metadata": {},
   "outputs": [],
   "source": [
    "user =  '1,123 456 789,Scott,Tiger,1989-08-15,+1 415 891 9002,Forrest City,Texas,75063'\n"
   ]
  },
  {
   "cell_type": "code",
   "execution_count": 14,
   "id": "98835d16-e559-45ad-b5d6-0c7f25121f74",
   "metadata": {},
   "outputs": [
    {
     "data": {
      "text/plain": [
       "'1'"
      ]
     },
     "execution_count": 14,
     "metadata": {},
     "output_type": "execute_result"
    }
   ],
   "source": [
    "user.split(',')[0]\n",
    "# Even though user_id is integer, it will be treated as string\n",
    "# split converts a string to list of strings"
   ]
  },
  {
   "cell_type": "code",
   "execution_count": 15,
   "id": "e9952388-68ed-4569-a565-c3247a8eaf1b",
   "metadata": {},
   "outputs": [
    {
     "data": {
      "text/plain": [
       "str"
      ]
     },
     "execution_count": 15,
     "metadata": {},
     "output_type": "execute_result"
    }
   ],
   "source": [
    "type(user.split(',')[0])"
   ]
  },
  {
   "cell_type": "code",
   "execution_count": 16,
   "id": "a5c4c6b2-4a75-49ba-a9fa-af36be70ea21",
   "metadata": {},
   "outputs": [
    {
     "data": {
      "text/plain": [
       "1"
      ]
     },
     "execution_count": 16,
     "metadata": {},
     "output_type": "execute_result"
    }
   ],
   "source": [
    "# We can use int to convert the data type of user_id\n",
    "user_id = int(user.split(',')[0])\n",
    "user_id"
   ]
  },
  {
   "cell_type": "code",
   "execution_count": 17,
   "id": "27f7d7c1-126f-42f6-a5c0-c4b224f70598",
   "metadata": {},
   "outputs": [
    {
     "data": {
      "text/plain": [
       "int"
      ]
     },
     "execution_count": 17,
     "metadata": {},
     "output_type": "execute_result"
    }
   ],
   "source": [
    "type(user_id)"
   ]
  },
  {
   "cell_type": "code",
   "execution_count": null,
   "id": "9d264f20-473d-4444-bfa1-8b9eaa93bf95",
   "metadata": {},
   "outputs": [],
   "source": []
  }
 ],
 "metadata": {
  "kernelspec": {
   "display_name": "Python 3",
   "language": "python",
   "name": "python3"
  },
  "language_info": {
   "codemirror_mode": {
    "name": "ipython",
    "version": 3
   },
   "file_extension": ".py",
   "mimetype": "text/x-python",
   "name": "python",
   "nbconvert_exporter": "python",
   "pygments_lexer": "ipython3",
   "version": "3.6.9"
  }
 },
 "nbformat": 4,
 "nbformat_minor": 5
}
