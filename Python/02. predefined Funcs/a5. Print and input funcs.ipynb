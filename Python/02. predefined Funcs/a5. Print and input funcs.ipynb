{
 "cells": [
  {
   "cell_type": "markdown",
   "id": "56c07450-628a-4db3-9bf2-4597c342fb0b",
   "metadata": {},
   "source": [
    "# Print and Input Functions:\n",
    "Let us understand details related to print and input functions. These functions will help us in enhancing our learning experience.\n",
    "* `print` is primarily used to print the strings on the console while `input` is used to accept the input from console.\n",
    "* `input` will typically prompts the user to enter the value and we can assign to a variable and use it further.\n",
    "* By default, the value passed for `input` is of type `str` and hence we need to convert the data type of the values entered before processing."
   ]
  },
  {
   "cell_type": "code",
   "execution_count": 1,
   "id": "6e85892e-39d4-4c50-b9ab-fc2b2a6fb6ee",
   "metadata": {},
   "outputs": [
    {
     "data": {
      "text/plain": [
       "\u001b[0;31mSignature:\u001b[0m \u001b[0minput\u001b[0m\u001b[0;34m(\u001b[0m\u001b[0mprompt\u001b[0m\u001b[0;34m=\u001b[0m\u001b[0;34m''\u001b[0m\u001b[0;34m)\u001b[0m\u001b[0;34m\u001b[0m\u001b[0;34m\u001b[0m\u001b[0m\n",
       "\u001b[0;31mDocstring:\u001b[0m\n",
       "Forward raw_input to frontends\n",
       "\n",
       "Raises\n",
       "------\n",
       "StdinNotImplementedError if active frontend doesn't support stdin.\n",
       "\u001b[0;31mFile:\u001b[0m      ~/demojl/lib/python3.6/site-packages/ipykernel/kernelbase.py\n",
       "\u001b[0;31mType:\u001b[0m      method\n"
      ]
     },
     "metadata": {},
     "output_type": "display_data"
    }
   ],
   "source": [
    "input?"
   ]
  },
  {
   "cell_type": "code",
   "execution_count": 2,
   "id": "dc2a4d12-41a4-4f0c-a95c-c6cfbcbd1798",
   "metadata": {},
   "outputs": [
    {
     "name": "stdin",
     "output_type": "stream",
     "text": [
      "Enter first value:  4\n",
      "Enter second value:  5\n"
     ]
    },
    {
     "name": "stdout",
     "output_type": "stream",
     "text": [
      "Sum of first value 4 and second value 5 is 9\n"
     ]
    }
   ],
   "source": [
    "a = int(input('Enter first value: '))\n",
    "b = int(input('Enter second value: '))\n",
    "print(f'Sum of first value {a} and second value {b} is {a + b}')\n"
   ]
  },
  {
   "cell_type": "markdown",
   "id": "fefd9568-921c-47d8-a973-7be9ba535d31",
   "metadata": {},
   "source": [
    "* When we use `print` with one string, by default it will have new line character at the end of the srring.\n",
    "* We can also pass multiple strings (varrying arguments) and space will be used as delimiter\n",
    "* We can change the end of the string character, by passing argument\n",
    "* `print` can accept 2 keyword arguments `sep` and `end` to support the above mentioned features.\n",
    "\n",
    "You will understand more about keyword arguments and varrying arguments in User Defined Functions."
   ]
  },
  {
   "cell_type": "code",
   "execution_count": 3,
   "id": "59ddf800-1764-4993-b7c9-bf6ef1271990",
   "metadata": {},
   "outputs": [
    {
     "data": {
      "text/plain": [
       "\u001b[0;31mDocstring:\u001b[0m\n",
       "print(value, ..., sep=' ', end='\\n', file=sys.stdout, flush=False)\n",
       "\n",
       "Prints the values to a stream, or to sys.stdout by default.\n",
       "Optional keyword arguments:\n",
       "file:  a file-like object (stream); defaults to the current sys.stdout.\n",
       "sep:   string inserted between values, default a space.\n",
       "end:   string appended after the last value, default a newline.\n",
       "flush: whether to forcibly flush the stream.\n",
       "\u001b[0;31mType:\u001b[0m      builtin_function_or_method\n"
      ]
     },
     "metadata": {},
     "output_type": "display_data"
    }
   ],
   "source": [
    "print?"
   ]
  },
  {
   "cell_type": "code",
   "execution_count": 4,
   "id": "9c3b1a74-ae96-4586-8fb5-1ccd92c2c02c",
   "metadata": {},
   "outputs": [
    {
     "name": "stdout",
     "output_type": "stream",
     "text": [
      "Hello\n",
      "World\n"
     ]
    }
   ],
   "source": [
    "# Default print by using one string as argument\n",
    "print('Hello')\n",
    "print('World')"
   ]
  },
  {
   "cell_type": "code",
   "execution_count": 5,
   "id": "7230ac61-3496-4488-a37c-d2ee0ba208de",
   "metadata": {},
   "outputs": [
    {
     "name": "stdout",
     "output_type": "stream",
     "text": [
      "Hello World\n"
     ]
    }
   ],
   "source": [
    "# Default print by using multiple arguments. Each argument is of type string\n",
    "print('Hello', 'World')"
   ]
  },
  {
   "cell_type": "code",
   "execution_count": 6,
   "id": "943b9dfc-bf1b-4ece-8b76-abaf1a1f5fd5",
   "metadata": {},
   "outputs": [
    {
     "name": "stdout",
     "output_type": "stream",
     "text": [
      "HelloWorld\n"
     ]
    }
   ],
   "source": [
    "print('Hello', end='')\n",
    "print('World')"
   ]
  },
  {
   "cell_type": "code",
   "execution_count": 7,
   "id": "9677a5fa-9d49-4989-9b83-af24e486fc09",
   "metadata": {},
   "outputs": [
    {
     "name": "stdout",
     "output_type": "stream",
     "text": [
      "Hello, World - How are you?\n"
     ]
    }
   ],
   "source": [
    "print('Hello', 'World', sep=', ', end=' - ')\n",
    "print('How', 'are', 'you?')"
   ]
  },
  {
   "cell_type": "code",
   "execution_count": null,
   "id": "fa63e053-abc4-42e5-bea3-ac46ff79fb40",
   "metadata": {},
   "outputs": [],
   "source": []
  }
 ],
 "metadata": {
  "kernelspec": {
   "display_name": "Python 3",
   "language": "python",
   "name": "python3"
  },
  "language_info": {
   "codemirror_mode": {
    "name": "ipython",
    "version": 3
   },
   "file_extension": ".py",
   "mimetype": "text/x-python",
   "name": "python",
   "nbconvert_exporter": "python",
   "pygments_lexer": "ipython3",
   "version": "3.6.9"
  }
 },
 "nbformat": 4,
 "nbformat_minor": 5
}
