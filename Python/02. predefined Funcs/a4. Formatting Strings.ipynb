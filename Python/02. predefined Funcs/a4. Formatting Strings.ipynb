{
 "cells": [
  {
   "cell_type": "markdown",
   "id": "6cdc095c-1fde-4dbf-a1a4-a9949a8c0edd",
   "metadata": {},
   "source": [
    "# Formatting Strings:\n",
    "Let us understand how we can replace placeholders in Python using different variations of formatting strings.\n",
    "* While we can concatenate strings, it will by default fail when we try to concatenate string with non string.\n",
    "* Conventionally we tend to use `str` to convert the data type of the non-string values that are being concatenated to string.\n",
    "* From Python 3, they have introduced placeholders using `{}` with in a string.\n",
    "* We can replace the placeholders either by name or by position.\n",
    "\n",
    "Using placeholders will improve the readability of the code and it is highly recommended."
   ]
  },
  {
   "cell_type": "code",
   "execution_count": 1,
   "id": "df980639-47ea-4bde-be0d-b7a834e93a00",
   "metadata": {},
   "outputs": [
    {
     "name": "stdout",
     "output_type": "stream",
     "text": [
      "Hello World\n"
     ]
    }
   ],
   "source": [
    "print('Hello World')"
   ]
  },
  {
   "cell_type": "code",
   "execution_count": 2,
   "id": "e0117995-e542-47d0-a2fa-25a1a2ffaa18",
   "metadata": {},
   "outputs": [
    {
     "name": "stdout",
     "output_type": "stream",
     "text": [
      "Hello World\n"
     ]
    }
   ],
   "source": [
    "print('Hello' + ' ' + 'World')"
   ]
  },
  {
   "cell_type": "code",
   "execution_count": 3,
   "id": "2767e8c5-e857-4cd8-ba04-b119d5e7a9ad",
   "metadata": {},
   "outputs": [
    {
     "ename": "TypeError",
     "evalue": "must be str, not int",
     "output_type": "error",
     "traceback": [
      "\u001b[0;31m---------------------------------------------------------------------------\u001b[0m",
      "\u001b[0;31mTypeError\u001b[0m                                 Traceback (most recent call last)",
      "\u001b[0;32m<ipython-input-3-bf74b0067f9c>\u001b[0m in \u001b[0;36m<module>\u001b[0;34m\u001b[0m\n\u001b[1;32m      1\u001b[0m \u001b[0;31m# This will fail as we are trying to concatenate 0 to a string\u001b[0m\u001b[0;34m\u001b[0m\u001b[0;34m\u001b[0m\u001b[0;34m\u001b[0m\u001b[0m\n\u001b[0;32m----> 2\u001b[0;31m \u001b[0mprint\u001b[0m\u001b[0;34m(\u001b[0m\u001b[0;34m'Hello'\u001b[0m \u001b[0;34m+\u001b[0m \u001b[0;36m0\u001b[0m \u001b[0;34m+\u001b[0m \u001b[0;34m'World'\u001b[0m\u001b[0;34m)\u001b[0m\u001b[0;34m\u001b[0m\u001b[0;34m\u001b[0m\u001b[0m\n\u001b[0m",
      "\u001b[0;31mTypeError\u001b[0m: must be str, not int"
     ]
    }
   ],
   "source": [
    "# This will fail as we are trying to concatenate 0 to a string\n",
    "print('Hello' + 0 + 'World')"
   ]
  },
  {
   "cell_type": "code",
   "execution_count": 4,
   "id": "0cae9592-d91a-4287-834b-c85065cee27d",
   "metadata": {},
   "outputs": [
    {
     "name": "stdout",
     "output_type": "stream",
     "text": [
      "Hello0World\n"
     ]
    }
   ],
   "source": [
    "print('Hello' + str(0) + 'World')"
   ]
  },
  {
   "cell_type": "code",
   "execution_count": 5,
   "id": "d8e7b1d5-0fd8-4675-b3fe-102c238c4cb8",
   "metadata": {},
   "outputs": [
    {
     "name": "stdout",
     "output_type": "stream",
     "text": [
      "Hello0World\n"
     ]
    }
   ],
   "source": [
    "i = 0\n",
    "print('Hello' + str(i) + 'World')"
   ]
  },
  {
   "cell_type": "code",
   "execution_count": 6,
   "id": "9c924b12-6e47-4213-b270-8df5d6b2d877",
   "metadata": {},
   "outputs": [
    {
     "name": "stdout",
     "output_type": "stream",
     "text": [
      "Hello0World\n"
     ]
    }
   ],
   "source": [
    "# Replacing placeholders by name\n",
    "print('Hello{i}World'.format(i=0))"
   ]
  },
  {
   "cell_type": "code",
   "execution_count": 7,
   "id": "fc6064a6-0082-496a-8d19-1ce8b728daec",
   "metadata": {},
   "outputs": [
    {
     "name": "stdout",
     "output_type": "stream",
     "text": [
      "Hello0World1\n"
     ]
    }
   ],
   "source": [
    "# Replacing placeholders by position\n",
    "print('Hello{}World{}'.format(0, 1))"
   ]
  },
  {
   "cell_type": "code",
   "execution_count": 8,
   "id": "26664c84-1fa6-4d66-8ef9-91e53e9fac38",
   "metadata": {},
   "outputs": [
    {
     "name": "stdout",
     "output_type": "stream",
     "text": [
      "str1: Hello0World\n",
      "str2: Hello0World\n"
     ]
    }
   ],
   "source": [
    "# These are the approaches which are commonly used\n",
    "i = 0\n",
    "s1 = f'str1: Hello{i}World'\n",
    "print(s1)\n",
    "s2 = 'str2: Hello{j}World'.format(j=i)\n",
    "print(s2)"
   ]
  },
  {
   "cell_type": "code",
   "execution_count": null,
   "id": "f37daa1e-cb59-4307-bae4-c2cc24b7f0ab",
   "metadata": {},
   "outputs": [],
   "source": []
  }
 ],
 "metadata": {
  "kernelspec": {
   "display_name": "Python 3",
   "language": "python",
   "name": "python3"
  },
  "language_info": {
   "codemirror_mode": {
    "name": "ipython",
    "version": 3
   },
   "file_extension": ".py",
   "mimetype": "text/x-python",
   "name": "python",
   "nbconvert_exporter": "python",
   "pygments_lexer": "ipython3",
   "version": "3.6.9"
  }
 },
 "nbformat": 4,
 "nbformat_minor": 5
}
