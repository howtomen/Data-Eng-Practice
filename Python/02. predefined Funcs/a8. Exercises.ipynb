{
 "cells": [
  {
   "cell_type": "markdown",
   "id": "e8a1c96b-d431-46d3-9fa2-0e517a11e0c3",
   "metadata": {},
   "source": [
    "# Exercises:\n",
    "Here are the exercises to evaluate about some of the pre-defined functions to manipulate strings and dates."
   ]
  },
  {
   "cell_type": "markdown",
   "id": "b9df0d33-1937-4115-a74a-d970710713ae",
   "metadata": {},
   "source": [
    "# Convert Case and Concatenate Strings:\n",
    "* create 2 variables of type string.\n",
    "    * first_name with value Donald.\n",
    "    * last_name with value Duck.\n",
    "* Concatentate both the variables with “, ” in between and assign to a new variable full_name.\n",
    "* full_name should be in upper case.\n",
    "* Print full_name and output should be DONALD, DUCK."
   ]
  },
  {
   "cell_type": "code",
   "execution_count": 1,
   "id": "a0b5fcb0-17d4-44ce-ae50-87d3151cb7f1",
   "metadata": {},
   "outputs": [
    {
     "name": "stdout",
     "output_type": "stream",
     "text": [
      "DONALD, DUCK\n"
     ]
    }
   ],
   "source": [
    "first_name, last_name = 'Donald', 'Duck'\n",
    "full_name = (first_name + ', ' + last_name).upper()\n",
    "print(full_name)"
   ]
  },
  {
   "cell_type": "markdown",
   "id": "8e80b470-d8e1-410c-bfc7-ae0578c1a63b",
   "metadata": {},
   "source": [
    "# Check if the string is palindrome:\n",
    "* Use these string literals and confirm if they are palindromes or not. You can get the definition of palindrome by googling it. You should ignore the case while checking if the string is a palindrome.\n",
    "* String 1: ITVersity\n",
    "* String 2: level\n",
    "* String 3: RaceCar"
   ]
  },
  {
   "cell_type": "code",
   "execution_count": 2,
   "id": "56fc7c49-667a-47c3-a309-dec629922767",
   "metadata": {},
   "outputs": [
    {
     "name": "stdout",
     "output_type": "stream",
     "text": [
      "False\n",
      "True\n",
      "True\n"
     ]
    }
   ],
   "source": [
    "s1, s2, s3 = 'Itversity','level','RaceCar'\n",
    "print(s1.lower() == s1[::-1].lower())\n",
    "print(s2.lower() == s2[::-1].lower())\n",
    "print(s3.lower() == s3[::-1].lower())"
   ]
  },
  {
   "cell_type": "markdown",
   "id": "84845847-bb48-462d-aa3a-f48bbafc57ca",
   "metadata": {},
   "source": [
    "# Getting Day for a given Date:\n",
    "Use existing Python libraries and get the day for the given date.\n",
    "* Create a variable by name some_date using format yyyy-MM-dd (2020-10-18).\n",
    "* Get the day in 3 character format Sun. Assign it to a variable day.\n",
    "* Print the value of day and it should be Sun."
   ]
  },
  {
   "cell_type": "code",
   "execution_count": 3,
   "id": "54f94682-993f-4948-9cad-1a173a2ccbec",
   "metadata": {},
   "outputs": [
    {
     "data": {
      "text/plain": [
       "'Sun'"
      ]
     },
     "execution_count": 3,
     "metadata": {},
     "output_type": "execute_result"
    }
   ],
   "source": [
    "import datetime, calendar\n",
    "from datetime import date\n",
    "some_date = date(2020,10,18)\n",
    "day = calendar.day_name[calendar.weekday(some_date.year, some_date.month, some_date.day)][:3]\n",
    "day"
   ]
  },
  {
   "cell_type": "markdown",
   "id": "e6eb559a-f985-47d9-ae90-33d3d846d371",
   "metadata": {},
   "source": [
    "# Get the Student Name:\n",
    "* Create a string variable by name student with this value `student_id=1;student_name=Some X;join_date=2020-10-02`.\n",
    "* Get student_name from student and assign it to a variable student_name.\n",
    "* Print the value of student_name and it should be Some X"
   ]
  },
  {
   "cell_type": "code",
   "execution_count": 4,
   "id": "ad3396a9-45a9-45a4-bc19-171554178d0c",
   "metadata": {},
   "outputs": [
    {
     "name": "stdout",
     "output_type": "stream",
     "text": [
      "Some X\n"
     ]
    }
   ],
   "source": [
    "student = \"student_id=1;student_name=Some X;join_date=2020-10-02\"\n",
    "student_name = student.split(';')[1][13:]\n",
    "print(student_name)"
   ]
  },
  {
   "cell_type": "markdown",
   "id": "f3feb154-519c-4dd6-8122-82df6f61564b",
   "metadata": {},
   "source": [
    "* Create a string variable by name student with this value `student_id=1;student_name=Some X;join_date=2020-10-02`.\n",
    "* Get join date and assign it to variable called as join_date. It should only contain 2020-10-02\n",
    "* Convert the string to date type. The date is in the format of yyyy-MM-dd.\n",
    "    * yyyy - 4 digit year\n",
    "    * MM - 2 digit month\n",
    "    * dd - 2 digit day.\n",
    "* Format and print the date using %Y-%b-%d. The output should be 2020-Oct-02"
   ]
  },
  {
   "cell_type": "code",
   "execution_count": 5,
   "id": "fe8e8384-904b-445e-b808-c8336bbea7f2",
   "metadata": {},
   "outputs": [
    {
     "data": {
      "text/plain": [
       "'2020-Oct-02'"
      ]
     },
     "execution_count": 5,
     "metadata": {},
     "output_type": "execute_result"
    }
   ],
   "source": [
    "student = \"student_id=1;student_name=Some X;join_date=2020-10-02\"\n",
    "join_str = (student.split(';')[2][10:]).split('-')\n",
    "join_date = date(int(join_str[0]),int(join_str[1]), int(join_str[2]))\n",
    "join_date.strftime('%Y-%b-%d')"
   ]
  },
  {
   "cell_type": "code",
   "execution_count": null,
   "id": "2061a813-2123-49ed-8dd5-61fb2701ddb2",
   "metadata": {},
   "outputs": [],
   "source": []
  }
 ],
 "metadata": {
  "kernelspec": {
   "display_name": "Python 3",
   "language": "python",
   "name": "python3"
  },
  "language_info": {
   "codemirror_mode": {
    "name": "ipython",
    "version": 3
   },
   "file_extension": ".py",
   "mimetype": "text/x-python",
   "name": "python",
   "nbconvert_exporter": "python",
   "pygments_lexer": "ipython3",
   "version": "3.6.9"
  }
 },
 "nbformat": 4,
 "nbformat_minor": 5
}
