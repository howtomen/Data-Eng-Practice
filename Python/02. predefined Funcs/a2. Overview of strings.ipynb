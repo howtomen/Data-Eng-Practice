{
 "cells": [
  {
   "cell_type": "markdown",
   "id": "5debaa80-23ca-4297-966c-2601b2dcd8e8",
   "metadata": {},
   "source": [
    "# Overview of Strings:\n",
    "Let us get an overview of how strings are used in Python.\n",
    "* `str` is the class or type to represent a string.\n",
    "* A string is nothing but list of characters.\n",
    "* Python provides robust set of functions as part of `str` to manipulate strings.\n",
    "* As `str` object is nothing but list of characters, we can also use standard functions available on top of Python collections such as `list, set` etc."
   ]
  },
  {
   "cell_type": "markdown",
   "id": "c4133f33-cae5-4f91-a08a-2527afbbe08f",
   "metadata": {},
   "source": [
    "## Note:\n",
    "We have covered lists quite extensively in subsequent sections. Once you go through the lists, perform some of the operations on top of strings. Here are few examples."
   ]
  },
  {
   "cell_type": "code",
   "execution_count": 1,
   "id": "ef0f1803-beea-488a-bd32-f50caac85a82",
   "metadata": {},
   "outputs": [],
   "source": [
    "s = 'Hello World'"
   ]
  },
  {
   "cell_type": "code",
   "execution_count": 2,
   "id": "53114d35-9f1e-47d1-a40d-d84315bea1cf",
   "metadata": {},
   "outputs": [
    {
     "data": {
      "text/plain": [
       "str"
      ]
     },
     "execution_count": 2,
     "metadata": {},
     "output_type": "execute_result"
    }
   ],
   "source": [
    "type(s)"
   ]
  },
  {
   "cell_type": "code",
   "execution_count": 3,
   "id": "dd99aeb1-8626-4d5c-a86f-2927d25bc66f",
   "metadata": {},
   "outputs": [
    {
     "name": "stdout",
     "output_type": "stream",
     "text": [
      "Hello World\n"
     ]
    }
   ],
   "source": [
    "print(s)"
   ]
  },
  {
   "cell_type": "code",
   "execution_count": 4,
   "id": "88607911-f170-497f-8e35-110941de0984",
   "metadata": {},
   "outputs": [
    {
     "data": {
      "text/plain": [
       "'Hello'"
      ]
     },
     "execution_count": 4,
     "metadata": {},
     "output_type": "execute_result"
    }
   ],
   "source": [
    "s[:5]"
   ]
  },
  {
   "cell_type": "code",
   "execution_count": 5,
   "id": "aebf5b53-bd15-4a52-8499-634c767bcfa1",
   "metadata": {},
   "outputs": [
    {
     "data": {
      "text/plain": [
       "'World'"
      ]
     },
     "execution_count": 5,
     "metadata": {},
     "output_type": "execute_result"
    }
   ],
   "source": [
    "s[-5:]"
   ]
  },
  {
   "cell_type": "code",
   "execution_count": 6,
   "id": "6318acc3-bb2c-4bfc-8e99-5a5a462994af",
   "metadata": {},
   "outputs": [
    {
     "data": {
      "text/plain": [
       "11"
      ]
     },
     "execution_count": 6,
     "metadata": {},
     "output_type": "execute_result"
    }
   ],
   "source": [
    "len(s)"
   ]
  },
  {
   "cell_type": "code",
   "execution_count": 7,
   "id": "6bbc08fb-5f6b-4b98-8bba-43f9c0b37042",
   "metadata": {},
   "outputs": [
    {
     "data": {
      "text/plain": [
       "[' ', 'H', 'W', 'd', 'e', 'l', 'l', 'l', 'o', 'o', 'r']"
      ]
     },
     "execution_count": 7,
     "metadata": {},
     "output_type": "execute_result"
    }
   ],
   "source": [
    "sorted(s)"
   ]
  },
  {
   "cell_type": "markdown",
   "id": "210d315b-61e5-430b-a1a1-86dd4a3a04eb",
   "metadata": {},
   "source": [
    "* String in Python can be represented in different ways\n",
    "    * Enclosed in single quotes -` 'ITVersity\"s World'`\n",
    "    * Enclosed in double quotes - `\"ITVersity's World\"`\n",
    "    * Enclosed in triple single quotes -` '''ITVersity\"s World'''`\n",
    "    * Enclosed in triple double quotes - `\"\"\"ITVersity's World\"\"\"`\n",
    "* If your string itself have single quote, enclose the whole string in double quote.\n",
    "* If your string itself have double quote, enclose the whole string in single quote.\n",
    "* Triple single quotes or triple double quotes can be used for multi line strings"
   ]
  },
  {
   "cell_type": "code",
   "execution_count": 8,
   "id": "0e60f080-7af6-4db9-9704-4233eb3b7e2e",
   "metadata": {},
   "outputs": [
    {
     "data": {
      "text/plain": [
       "'Hello World'"
      ]
     },
     "execution_count": 8,
     "metadata": {},
     "output_type": "execute_result"
    }
   ],
   "source": [
    "s = 'Hello World'\n",
    "s"
   ]
  },
  {
   "cell_type": "code",
   "execution_count": 9,
   "id": "794b5d41-8fd7-473a-af42-6b3b0df350c8",
   "metadata": {},
   "outputs": [
    {
     "data": {
      "text/plain": [
       "'Hello World'"
      ]
     },
     "execution_count": 9,
     "metadata": {},
     "output_type": "execute_result"
    }
   ],
   "source": [
    "s = \"Hello World\"\n",
    "s"
   ]
  },
  {
   "cell_type": "code",
   "execution_count": 10,
   "id": "7ca4ff0f-38ad-49fa-8168-f2a6e621d3a1",
   "metadata": {},
   "outputs": [
    {
     "data": {
      "text/plain": [
       "\"ITVersity's World\""
      ]
     },
     "execution_count": 10,
     "metadata": {},
     "output_type": "execute_result"
    }
   ],
   "source": [
    "s = \"ITVersity's World\"\n",
    "s"
   ]
  },
  {
   "cell_type": "code",
   "execution_count": 11,
   "id": "4d8c6f74-324c-4cd2-bed5-4643ea423a73",
   "metadata": {},
   "outputs": [
    {
     "data": {
      "text/plain": [
       "\"ITVersity's World\""
      ]
     },
     "execution_count": 11,
     "metadata": {},
     "output_type": "execute_result"
    }
   ],
   "source": [
    "s = '''ITVersity's World'''\n",
    "s"
   ]
  },
  {
   "cell_type": "code",
   "execution_count": 12,
   "id": "bea62949-5f29-4810-bff3-d2cae42b488e",
   "metadata": {},
   "outputs": [
    {
     "data": {
      "text/plain": [
       "\"ITVersity's \\nWorld\""
      ]
     },
     "execution_count": 12,
     "metadata": {},
     "output_type": "execute_result"
    }
   ],
   "source": [
    "s = '''ITVersity's \n",
    "World'''\n",
    "s"
   ]
  },
  {
   "cell_type": "code",
   "execution_count": null,
   "id": "1be97f97-1a88-4815-b7b4-77aa8f36dc3f",
   "metadata": {},
   "outputs": [],
   "source": []
  }
 ],
 "metadata": {
  "kernelspec": {
   "display_name": "Python 3",
   "language": "python",
   "name": "python3"
  },
  "language_info": {
   "codemirror_mode": {
    "name": "ipython",
    "version": 3
   },
   "file_extension": ".py",
   "mimetype": "text/x-python",
   "name": "python",
   "nbconvert_exporter": "python",
   "pygments_lexer": "ipython3",
   "version": "3.6.9"
  }
 },
 "nbformat": 4,
 "nbformat_minor": 5
}
