{
 "cells": [
  {
   "cell_type": "markdown",
   "id": "75608ced-6644-46dc-87ba-d42548a91c10",
   "metadata": {},
   "source": [
    "# Develop myFilter:\n",
    "Develop a function by name myFilter which takes a collection and a function as arguments. Function should do the following:\n",
    "* Iterate through elements\n",
    "* Apply the condition using the argument passed. We might pass named function or lambda function.\n",
    "* Return the collection with all the elements satisfying the condition."
   ]
  },
  {
   "cell_type": "markdown",
   "id": "3824ec21-bd7a-470a-bf0d-ed716f8d6b44",
   "metadata": {
    "jp-MarkdownHeadingCollapsed": true,
    "tags": []
   },
   "source": [
    "## Note:\n",
    "This is how the original function look like.\n",
    "\n",
    "```Python\n",
    "def get_customer_orders(orders, customer_id):\n",
    "    orders_filtered = []\n",
    "    for order in orders:\n",
    "        if int(order.split(',')[2]) == customer_id:\n",
    "            orders_filtered.append(order)\n",
    "    return orders_filtered   \n",
    "```"
   ]
  },
  {
   "cell_type": "markdown",
   "id": "aeced7bc-88b5-49bb-8ea9-7e21efe112f9",
   "metadata": {
    "tags": []
   },
   "source": [
    "## Note:\n",
    "\n",
    "This is the example of implementation of generic libraries such as `filter`, `map`, `reduce etc`.\n",
    "\n",
    "```Python\n",
    "def myFilter(c, f):\n",
    "    c_f = []\n",
    "    for e in c:\n",
    "        if f(e):\n",
    "            c_f.append(e)\n",
    "    return c_f\n",
    "```"
   ]
  },
  {
   "cell_type": "code",
   "execution_count": 3,
   "id": "5b1287b1-d47b-4082-a977-eeff847b0727",
   "metadata": {},
   "outputs": [],
   "source": [
    "def get_list_from_file(file_path):\n",
    "    data_list = open(file_path).read().splitlines()\n",
    "    return data_list\n",
    "orders = get_list_from_file('/home/ilovemyh2o/retail_db/orders/part-00000')"
   ]
  },
  {
   "cell_type": "code",
   "execution_count": 4,
   "id": "0ac6db68-a3b4-4a38-bd25-dd8b2dad33c6",
   "metadata": {},
   "outputs": [],
   "source": [
    "def myFilter(c, f):\n",
    "    c_f = []\n",
    "    for e in c:\n",
    "        if f(e):\n",
    "            c_f.append(e)\n",
    "    return c_f"
   ]
  },
  {
   "cell_type": "code",
   "execution_count": 11,
   "id": "bc4fad27-07f0-4ed1-9ee6-9e7f7097204d",
   "metadata": {},
   "outputs": [
    {
     "data": {
      "text/plain": [
       "['1,2013-07-25 00:00:00.0,11599,CLOSED',\n",
       " '11397,2013-10-03 00:00:00.0,11599,COMPLETE',\n",
       " '23908,2013-12-20 00:00:00.0,11599,COMPLETE',\n",
       " '53545,2014-06-27 00:00:00.0,11599,PENDING',\n",
       " '59911,2013-10-17 00:00:00.0,11599,PROCESSING']"
      ]
     },
     "execution_count": 11,
     "metadata": {},
     "output_type": "execute_result"
    }
   ],
   "source": [
    "myFilter(orders, lambda order: int(order.split(',')[2]) == 11599)"
   ]
  },
  {
   "cell_type": "code",
   "execution_count": 12,
   "id": "76a5477e-10eb-4c3d-8a39-74ff99316c6e",
   "metadata": {},
   "outputs": [
    {
     "data": {
      "text/plain": [
       "['1,2013-07-25 00:00:00.0,11599,CLOSED',\n",
       " '2,2013-07-25 00:00:00.0,256,PENDING_PAYMENT',\n",
       " '3,2013-07-25 00:00:00.0,12111,COMPLETE',\n",
       " '4,2013-07-25 00:00:00.0,8827,CLOSED',\n",
       " '5,2013-07-25 00:00:00.0,11318,COMPLETE',\n",
       " '6,2013-07-25 00:00:00.0,7130,COMPLETE',\n",
       " '7,2013-07-25 00:00:00.0,4530,COMPLETE',\n",
       " '8,2013-07-25 00:00:00.0,2911,PROCESSING',\n",
       " '9,2013-07-25 00:00:00.0,5657,PENDING_PAYMENT',\n",
       " '10,2013-07-25 00:00:00.0,5648,PENDING_PAYMENT']"
      ]
     },
     "execution_count": 12,
     "metadata": {},
     "output_type": "execute_result"
    }
   ],
   "source": [
    "orders[:10]"
   ]
  },
  {
   "cell_type": "code",
   "execution_count": 13,
   "id": "146ea00d-e3b0-4c5b-b8a0-8ac2d0185789",
   "metadata": {},
   "outputs": [
    {
     "data": {
      "text/plain": [
       "True"
      ]
     },
     "execution_count": 13,
     "metadata": {},
     "output_type": "execute_result"
    }
   ],
   "source": [
    "order = '1,2013-07-25 00:00:00.0,11599,CLOSED'\n",
    "int(order.split(',')[2]) == 11599"
   ]
  },
  {
   "cell_type": "code",
   "execution_count": 14,
   "id": "21ceb775-e8f1-4995-8094-f3886d69e3a7",
   "metadata": {},
   "outputs": [
    {
     "data": {
      "text/plain": [
       "['3774,2013-08-16 00:00:00.0,12431,CANCELED',\n",
       " '3870,2013-08-17 00:00:00.0,12431,PENDING_PAYMENT',\n",
       " '4032,2013-08-17 00:00:00.0,12431,ON_HOLD',\n",
       " '22812,2013-12-12 00:00:00.0,12431,PENDING',\n",
       " '22927,2013-12-13 00:00:00.0,12431,CLOSED',\n",
       " '25614,2013-12-30 00:00:00.0,12431,CLOSED',\n",
       " '27585,2014-01-12 00:00:00.0,12431,PROCESSING',\n",
       " '28244,2014-01-15 00:00:00.0,12431,PENDING_PAYMENT',\n",
       " '29109,2014-01-21 00:00:00.0,12431,ON_HOLD',\n",
       " '29232,2014-01-21 00:00:00.0,12431,ON_HOLD',\n",
       " '45894,2014-05-06 00:00:00.0,12431,CLOSED',\n",
       " '46217,2014-05-07 00:00:00.0,12431,CLOSED',\n",
       " '49678,2014-05-31 00:00:00.0,12431,PENDING',\n",
       " '51865,2014-06-15 00:00:00.0,12431,PROCESSING',\n",
       " '63146,2014-02-13 00:00:00.0,12431,PENDING_PAYMENT',\n",
       " '67110,2014-07-14 00:00:00.0,12431,PENDING']"
      ]
     },
     "execution_count": 14,
     "metadata": {},
     "output_type": "execute_result"
    }
   ],
   "source": [
    "customer_orders = myFilter(orders, \n",
    "                           lambda order: int(order.split(',')[2]) == 12431\n",
    "                          )\n",
    "customer_orders"
   ]
  },
  {
   "cell_type": "code",
   "execution_count": 15,
   "id": "4915ce28-9f70-4d4f-834f-b7a899efb632",
   "metadata": {},
   "outputs": [
    {
     "data": {
      "text/plain": [
       "['27585,2014-01-12 00:00:00.0,12431,PROCESSING',\n",
       " '28244,2014-01-15 00:00:00.0,12431,PENDING_PAYMENT',\n",
       " '29109,2014-01-21 00:00:00.0,12431,ON_HOLD',\n",
       " '29232,2014-01-21 00:00:00.0,12431,ON_HOLD']"
      ]
     },
     "execution_count": 15,
     "metadata": {},
     "output_type": "execute_result"
    }
   ],
   "source": [
    "customer_orders_for_month = myFilter(orders, \n",
    "                           lambda order: int(order.split(',')[2]) == 12431\n",
    "                                     and order.split(',')[1].startswith('2014-01')\n",
    "                          )\n",
    "customer_orders_for_month"
   ]
  },
  {
   "cell_type": "code",
   "execution_count": 16,
   "id": "3ee61658-5567-4bed-bae0-95880238036b",
   "metadata": {},
   "outputs": [
    {
     "data": {
      "text/plain": [
       "['27585,2014-01-12 00:00:00.0,12431,PROCESSING',\n",
       " '28244,2014-01-15 00:00:00.0,12431,PENDING_PAYMENT']"
      ]
     },
     "execution_count": 16,
     "metadata": {},
     "output_type": "execute_result"
    }
   ],
   "source": [
    "customer_orders_for_month = myFilter(orders, \n",
    "                           lambda order: int(order.split(',')[2]) == 12431\n",
    "                                     and order.split(',')[1].startswith('2014-01')\n",
    "                                     and order.split(',')[3] in ('PENDING_PAYMENT', 'PROCESSING')\n",
    "                          )\n",
    "customer_orders_for_month"
   ]
  },
  {
   "cell_type": "code",
   "execution_count": null,
   "id": "872e310f-bc5a-49fc-bef5-88f89c761888",
   "metadata": {},
   "outputs": [],
   "source": []
  }
 ],
 "metadata": {
  "kernelspec": {
   "display_name": "Python 3",
   "language": "python",
   "name": "python3"
  },
  "language_info": {
   "codemirror_mode": {
    "name": "ipython",
    "version": 3
   },
   "file_extension": ".py",
   "mimetype": "text/x-python",
   "name": "python",
   "nbconvert_exporter": "python",
   "pygments_lexer": "ipython3",
   "version": "3.6.9"
  }
 },
 "nbformat": 4,
 "nbformat_minor": 5
}
