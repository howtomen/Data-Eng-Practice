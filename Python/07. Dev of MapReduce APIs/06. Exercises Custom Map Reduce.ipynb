{
 "cells": [
  {
   "cell_type": "markdown",
   "id": "2dce8802-ae7b-49c1-bbdf-eb5052e9b3ba",
   "metadata": {},
   "source": [
    "Exercises - Custom Map Reduce Functions:\n",
    "Here are the same exercises which you have solved before. Try to solve these using mapReduce APIs.\n",
    "* We will provide you a python script which will have all the above map reduce APIs. Use it as package and solve the below mentioned problems.\n",
    "* Create a file with name mymapreduce.py\n",
    "* Import and use it from mymapreduce import *."
   ]
  },
  {
   "cell_type": "code",
   "execution_count": 1,
   "id": "ac8a9f2e-c65e-460d-b92f-5ee59d71113a",
   "metadata": {},
   "outputs": [],
   "source": [
    "def myFilter(c, f):\n",
    "    c_f = []\n",
    "    for e in c:\n",
    "        if(f(e)):\n",
    "            c_f.append(e)\n",
    "    return c_f\n",
    "\n",
    "def myMap(c, f):\n",
    "    c_f = []\n",
    "    for e in c:\n",
    "        c_f.append(f(e))\n",
    "    return c_f\n",
    "\n",
    "def myReduce(c, f):\n",
    "    t = c[0]\n",
    "    for e in c[1:]:\n",
    "        t = f(t, e)\n",
    "    return t\n",
    "\n",
    "def myReduceByKey(p, f):\n",
    "    p_f = {}\n",
    "    for e in p:\n",
    "        if(e[0] in p_f):\n",
    "            p_f[e[0]] = f(p_f[e[0]], e[1])\n",
    "        else:\n",
    "            p_f[e[0]] = e[1]\n",
    "    return list(p_f.items())\n",
    "\n",
    "def myJoin(c1, c2):\n",
    "    c1_dict = dict(c1) # dict with first element as key and second element as value\n",
    "    results = [] # Initializing empty list\n",
    "    for c2_item in c2: \n",
    "        if c2_item[0] in c1_dict:\n",
    "            results.append((c2_item[0], (c1_dict[c2_item[0]], c2_item[1])))\n",
    "    return results"
   ]
  },
  {
   "cell_type": "markdown",
   "id": "d2050c8f-ac73-4db0-b431-ecb4d42106a0",
   "metadata": {},
   "source": [
    "* Get number of COMPLETE orders placed by each customer\n",
    "* Get total number of PENDING or PENDING_PAYMENT orders for the month of 2014 January.\n",
    "* Get outstanding amount for each month considering orders with status PAYMENT_REVIEW, PENDING, PENDING_PAYMENT and PROCESSING."
   ]
  },
  {
   "cell_type": "code",
   "execution_count": 5,
   "id": "36a921f8-6e72-4c8b-bc36-e3b13ae40c21",
   "metadata": {},
   "outputs": [],
   "source": [
    "orders_path = \"/home/ilovemyh2o/retail_db/orders/part-00000\"\n",
    "orders = open(orders_path). \\\n",
    "    read(). \\\n",
    "    splitlines()\n",
    "order_items_path = \"/home/ilovemyh2o/retail_db/order_items/part-00000\"\n",
    "order_items = open(order_items_path). \\\n",
    "    read(). \\\n",
    "    splitlines()"
   ]
  },
  {
   "cell_type": "code",
   "execution_count": 6,
   "id": "e8332965-a323-47d1-aa26-b60ae50e4ce7",
   "metadata": {},
   "outputs": [
    {
     "data": {
      "text/plain": [
       "['1,2013-07-25 00:00:00.0,11599,CLOSED',\n",
       " '2,2013-07-25 00:00:00.0,256,PENDING_PAYMENT',\n",
       " '3,2013-07-25 00:00:00.0,12111,COMPLETE',\n",
       " '4,2013-07-25 00:00:00.0,8827,CLOSED',\n",
       " '5,2013-07-25 00:00:00.0,11318,COMPLETE',\n",
       " '6,2013-07-25 00:00:00.0,7130,COMPLETE',\n",
       " '7,2013-07-25 00:00:00.0,4530,COMPLETE',\n",
       " '8,2013-07-25 00:00:00.0,2911,PROCESSING',\n",
       " '9,2013-07-25 00:00:00.0,5657,PENDING_PAYMENT',\n",
       " '10,2013-07-25 00:00:00.0,5648,PENDING_PAYMENT']"
      ]
     },
     "execution_count": 6,
     "metadata": {},
     "output_type": "execute_result"
    }
   ],
   "source": [
    "orders[:10]"
   ]
  },
  {
   "cell_type": "code",
   "execution_count": 7,
   "id": "04d355e2-9581-4a3a-b153-d491df73fac1",
   "metadata": {},
   "outputs": [
    {
     "data": {
      "text/plain": [
       "['1,1,957,1,299.98,299.98',\n",
       " '2,2,1073,1,199.99,199.99',\n",
       " '3,2,502,5,250.0,50.0',\n",
       " '4,2,403,1,129.99,129.99',\n",
       " '5,4,897,2,49.98,24.99',\n",
       " '6,4,365,5,299.95,59.99',\n",
       " '7,4,502,3,150.0,50.0',\n",
       " '8,4,1014,4,199.92,49.98',\n",
       " '9,5,957,1,299.98,299.98',\n",
       " '10,5,365,5,299.95,59.99']"
      ]
     },
     "execution_count": 7,
     "metadata": {},
     "output_type": "execute_result"
    }
   ],
   "source": [
    "order_items[:10]"
   ]
  },
  {
   "cell_type": "code",
   "execution_count": 17,
   "id": "9667b099-cfbe-432c-b6e2-11d9bab3e715",
   "metadata": {},
   "outputs": [],
   "source": [
    "complete_orders = myFilter(orders, \n",
    "                           lambda order: order.split(',')[3] == 'COMPLETE')"
   ]
  },
  {
   "cell_type": "code",
   "execution_count": 18,
   "id": "ace9e534-496d-4ef5-99bb-a8f35ef3eae8",
   "metadata": {},
   "outputs": [
    {
     "data": {
      "text/plain": [
       "['3,2013-07-25 00:00:00.0,12111,COMPLETE',\n",
       " '5,2013-07-25 00:00:00.0,11318,COMPLETE',\n",
       " '6,2013-07-25 00:00:00.0,7130,COMPLETE',\n",
       " '7,2013-07-25 00:00:00.0,4530,COMPLETE',\n",
       " '15,2013-07-25 00:00:00.0,2568,COMPLETE',\n",
       " '17,2013-07-25 00:00:00.0,2667,COMPLETE',\n",
       " '22,2013-07-25 00:00:00.0,333,COMPLETE',\n",
       " '26,2013-07-25 00:00:00.0,7562,COMPLETE',\n",
       " '28,2013-07-25 00:00:00.0,656,COMPLETE',\n",
       " '32,2013-07-25 00:00:00.0,3960,COMPLETE']"
      ]
     },
     "execution_count": 18,
     "metadata": {},
     "output_type": "execute_result"
    }
   ],
   "source": [
    "complete_orders[:10]"
   ]
  },
  {
   "cell_type": "code",
   "execution_count": 36,
   "id": "669ba218-1ed5-46e4-ba26-252bb21547db",
   "metadata": {},
   "outputs": [],
   "source": [
    "complete_map = myMap(complete_orders, lambda order: (int(order.split(',')[2]),1))"
   ]
  },
  {
   "cell_type": "code",
   "execution_count": 37,
   "id": "89b2f794-24ea-4de1-adc7-579e731f07f5",
   "metadata": {},
   "outputs": [
    {
     "data": {
      "text/plain": [
       "[(12111, 1),\n",
       " (11318, 1),\n",
       " (7130, 1),\n",
       " (4530, 1),\n",
       " (2568, 1),\n",
       " (2667, 1),\n",
       " (333, 1),\n",
       " (7562, 1),\n",
       " (656, 1),\n",
       " (3960, 1)]"
      ]
     },
     "execution_count": 37,
     "metadata": {},
     "output_type": "execute_result"
    }
   ],
   "source": [
    "complete_map[:10]"
   ]
  },
  {
   "cell_type": "code",
   "execution_count": 38,
   "id": "adb47dfd-e9c3-4d67-b837-05ebc5553168",
   "metadata": {},
   "outputs": [],
   "source": [
    "complete_count = myReduceByKey(complete_map, lambda t,e: t+ e) "
   ]
  },
  {
   "cell_type": "code",
   "execution_count": 40,
   "id": "898b9523-01e4-49cd-b6af-e7aff45f3817",
   "metadata": {},
   "outputs": [
    {
     "data": {
      "text/plain": [
       "10538"
      ]
     },
     "execution_count": 40,
     "metadata": {},
     "output_type": "execute_result"
    }
   ],
   "source": [
    "len(complete_count)"
   ]
  },
  {
   "cell_type": "markdown",
   "id": "a6762acf-627c-4855-b8e0-cbeacae0022d",
   "metadata": {},
   "source": [
    "# Exercise 2:\n",
    "* Get total number of PENDING or PENDING_PAYMENT orders for the month of 2014 January."
   ]
  },
  {
   "cell_type": "code",
   "execution_count": 53,
   "id": "45c30697-6971-47b3-863d-98f84c77581f",
   "metadata": {},
   "outputs": [],
   "source": [
    "pending_orders = myFilter(orders, \n",
    "                           lambda order: order.split(',')[1].startswith('2014-01')\n",
    "                                     and order.split(',')[3] in ('PENDING_PAYMENT', 'PENDING'))"
   ]
  },
  {
   "cell_type": "code",
   "execution_count": 54,
   "id": "253043da-6980-4812-8f17-66a6ceec76d5",
   "metadata": {},
   "outputs": [
    {
     "data": {
      "text/plain": [
       "1969"
      ]
     },
     "execution_count": 54,
     "metadata": {},
     "output_type": "execute_result"
    }
   ],
   "source": [
    "count = len(pending_orders)\n",
    "count"
   ]
  }
 ],
 "metadata": {
  "kernelspec": {
   "display_name": "Python 3",
   "language": "python",
   "name": "python3"
  },
  "language_info": {
   "codemirror_mode": {
    "name": "ipython",
    "version": 3
   },
   "file_extension": ".py",
   "mimetype": "text/x-python",
   "name": "python",
   "nbconvert_exporter": "python",
   "pygments_lexer": "ipython3",
   "version": "3.6.9"
  }
 },
 "nbformat": 4,
 "nbformat_minor": 5
}
