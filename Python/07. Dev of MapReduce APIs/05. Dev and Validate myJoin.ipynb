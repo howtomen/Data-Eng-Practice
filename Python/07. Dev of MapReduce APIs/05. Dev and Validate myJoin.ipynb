{
 "cells": [
  {
   "cell_type": "markdown",
   "id": "fc49c8c0-b42f-4eef-a04d-6cc3123c3215",
   "metadata": {},
   "source": [
    "# Develop myJoin:\n",
    "Develop a function by name myJoin which takes two collections of tuples as arguments. Each element in each of the collection should have exactly 2 attributes. Function should do the following:\n",
    "* Build the dict for the first collction.\n",
    "* Iterate through the second collection and look up into the dict.\n",
    "* Return a collection of tuples, where first element is join key and second element is a nested tuple with values from the dict and the second collection."
   ]
  },
  {
   "cell_type": "code",
   "execution_count": 1,
   "id": "87233b08-f5b1-4c8e-aa3d-7b4146bded90",
   "metadata": {},
   "outputs": [],
   "source": [
    "def myJoin(c1, c2):\n",
    "    c1_dict = dict(c1) # dict with first element as key and second element as value\n",
    "    results = [] # Initializing empty list\n",
    "    for c2_item in c2: \n",
    "        if c2_item[0] in c1_dict:\n",
    "            results.append((c2_item[0], (c1_dict[c2_item[0]], c2_item[1])))\n",
    "    return results"
   ]
  },
  {
   "cell_type": "code",
   "execution_count": 2,
   "id": "1fb15832-db15-469c-9a77-bd62ef86ef27",
   "metadata": {},
   "outputs": [],
   "source": [
    "orders = [(1, 'COMPLETE'), (2, 'CLOSED')]\n",
    "order_items = [(1, 129.99), (1, 149.99), (2, 250.0), (3, 100.0)]"
   ]
  },
  {
   "cell_type": "code",
   "execution_count": 3,
   "id": "c2227454-3b83-4fb8-8bc4-9c7b4eb56332",
   "metadata": {},
   "outputs": [
    {
     "data": {
      "text/plain": [
       "[(1, ('COMPLETE', 129.99)), (1, ('COMPLETE', 149.99)), (2, ('CLOSED', 250.0))]"
      ]
     },
     "execution_count": 3,
     "metadata": {},
     "output_type": "execute_result"
    }
   ],
   "source": [
    "myJoin(orders,order_items)"
   ]
  },
  {
   "cell_type": "markdown",
   "id": "da2983d7-7c9a-46e7-95a2-8418aa8970cf",
   "metadata": {},
   "source": [
    "# Validate myJoin:\n",
    "Let us perform a task to valiate myJoin. Join order_id and order_date from orders as well as order_id and order_item_subtotal from order_items as part of the join results.\n",
    "* Read orders data set\n",
    "* Create list of tuples using order_id and order_date with order_id as first element.\n",
    "* Read order_items data set\n",
    "* Create list of tuples using order_item_order_id and order_item_subtotal with order_item_order_id as first element.\n",
    "* Invoke myJoin function with these collections."
   ]
  },
  {
   "cell_type": "code",
   "execution_count": 4,
   "id": "57554f83-527c-45d5-a483-74ddb302d7ff",
   "metadata": {},
   "outputs": [
    {
     "name": "stdout",
     "output_type": "stream",
     "text": [
      "68883\n",
      "68883\n"
     ]
    }
   ],
   "source": [
    "%run 02.\\ Dev\\ and\\ Validate\\ myMap.ipynb"
   ]
  },
  {
   "cell_type": "code",
   "execution_count": 5,
   "id": "a5523734-d9ca-468c-a0b1-ed5d1116a25e",
   "metadata": {},
   "outputs": [
    {
     "data": {
      "text/plain": [
       "['1,2013-07-25 00:00:00.0,11599,CLOSED',\n",
       " '2,2013-07-25 00:00:00.0,256,PENDING_PAYMENT',\n",
       " '3,2013-07-25 00:00:00.0,12111,COMPLETE',\n",
       " '4,2013-07-25 00:00:00.0,8827,CLOSED',\n",
       " '5,2013-07-25 00:00:00.0,11318,COMPLETE',\n",
       " '6,2013-07-25 00:00:00.0,7130,COMPLETE',\n",
       " '7,2013-07-25 00:00:00.0,4530,COMPLETE',\n",
       " '8,2013-07-25 00:00:00.0,2911,PROCESSING',\n",
       " '9,2013-07-25 00:00:00.0,5657,PENDING_PAYMENT',\n",
       " '10,2013-07-25 00:00:00.0,5648,PENDING_PAYMENT']"
      ]
     },
     "execution_count": 5,
     "metadata": {},
     "output_type": "execute_result"
    }
   ],
   "source": [
    "orders[:10]"
   ]
  },
  {
   "cell_type": "code",
   "execution_count": 6,
   "id": "78b5098f-be25-43a1-95a7-740c4a64a3fe",
   "metadata": {},
   "outputs": [
    {
     "data": {
      "text/plain": [
       "[(1, '2013-07-25 00:00:00.0'),\n",
       " (2, '2013-07-25 00:00:00.0'),\n",
       " (3, '2013-07-25 00:00:00.0'),\n",
       " (4, '2013-07-25 00:00:00.0'),\n",
       " (5, '2013-07-25 00:00:00.0'),\n",
       " (6, '2013-07-25 00:00:00.0'),\n",
       " (7, '2013-07-25 00:00:00.0'),\n",
       " (8, '2013-07-25 00:00:00.0'),\n",
       " (9, '2013-07-25 00:00:00.0'),\n",
       " (10, '2013-07-25 00:00:00.0')]"
      ]
     },
     "execution_count": 6,
     "metadata": {},
     "output_type": "execute_result"
    }
   ],
   "source": [
    "orders_map = myMap(orders, \n",
    "                   lambda order: (int(order.split(',')[0]), order.split(',')[1])\n",
    "                  )\n",
    "orders_map[:10]"
   ]
  },
  {
   "cell_type": "code",
   "execution_count": 7,
   "id": "e8d39c16-54ea-433a-9b4f-68bff01188fa",
   "metadata": {},
   "outputs": [],
   "source": [
    "order_items_path = \"/home/ilovemyh2o/retail_db/order_items/part-00000\"\n",
    "order_items = open(order_items_path). \\\n",
    "    read(). \\\n",
    "    splitlines()"
   ]
  },
  {
   "cell_type": "code",
   "execution_count": 8,
   "id": "1e3107da-0b30-4657-8bad-81e31b275c5f",
   "metadata": {},
   "outputs": [
    {
     "data": {
      "text/plain": [
       "['1,1,957,1,299.98,299.98',\n",
       " '2,2,1073,1,199.99,199.99',\n",
       " '3,2,502,5,250.0,50.0',\n",
       " '4,2,403,1,129.99,129.99',\n",
       " '5,4,897,2,49.98,24.99',\n",
       " '6,4,365,5,299.95,59.99',\n",
       " '7,4,502,3,150.0,50.0',\n",
       " '8,4,1014,4,199.92,49.98',\n",
       " '9,5,957,1,299.98,299.98',\n",
       " '10,5,365,5,299.95,59.99']"
      ]
     },
     "execution_count": 8,
     "metadata": {},
     "output_type": "execute_result"
    }
   ],
   "source": [
    "order_items[:10]"
   ]
  },
  {
   "cell_type": "code",
   "execution_count": 9,
   "id": "788f1a6e-5499-4fa4-8ad0-fbd74d7a8c52",
   "metadata": {},
   "outputs": [],
   "source": [
    "order_items_map = myMap(order_items,\n",
    "                        lambda order_item: (int(order_item.split(',')[1]),\n",
    "                                            float(order_item.split(',')[4])\n",
    "                                           )\n",
    "                       )"
   ]
  },
  {
   "cell_type": "code",
   "execution_count": 10,
   "id": "94996e71-0673-4cae-91e8-f0320360c19c",
   "metadata": {},
   "outputs": [],
   "source": [
    "orders_join = myJoin(orders_map, order_items_map)"
   ]
  },
  {
   "cell_type": "code",
   "execution_count": 11,
   "id": "b82578b1-90a2-4f2b-b619-5660f215fd6c",
   "metadata": {},
   "outputs": [
    {
     "data": {
      "text/plain": [
       "[(1, ('2013-07-25 00:00:00.0', 299.98)),\n",
       " (2, ('2013-07-25 00:00:00.0', 199.99)),\n",
       " (2, ('2013-07-25 00:00:00.0', 250.0)),\n",
       " (2, ('2013-07-25 00:00:00.0', 129.99)),\n",
       " (4, ('2013-07-25 00:00:00.0', 49.98)),\n",
       " (4, ('2013-07-25 00:00:00.0', 299.95)),\n",
       " (4, ('2013-07-25 00:00:00.0', 150.0)),\n",
       " (4, ('2013-07-25 00:00:00.0', 199.92)),\n",
       " (5, ('2013-07-25 00:00:00.0', 299.98)),\n",
       " (5, ('2013-07-25 00:00:00.0', 299.95))]"
      ]
     },
     "execution_count": 11,
     "metadata": {},
     "output_type": "execute_result"
    }
   ],
   "source": [
    "orders_join[:10]"
   ]
  },
  {
   "cell_type": "code",
   "execution_count": null,
   "id": "84c6a7b7-3d53-4cba-9af1-766748dca69c",
   "metadata": {},
   "outputs": [],
   "source": []
  }
 ],
 "metadata": {
  "kernelspec": {
   "display_name": "Python 3",
   "language": "python",
   "name": "python3"
  },
  "language_info": {
   "codemirror_mode": {
    "name": "ipython",
    "version": 3
   },
   "file_extension": ".py",
   "mimetype": "text/x-python",
   "name": "python",
   "nbconvert_exporter": "python",
   "pygments_lexer": "ipython3",
   "version": "3.6.9"
  }
 },
 "nbformat": 4,
 "nbformat_minor": 5
}
