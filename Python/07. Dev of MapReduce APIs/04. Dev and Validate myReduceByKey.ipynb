{
 "cells": [
  {
   "cell_type": "markdown",
   "id": "2b58367a-2caf-438d-8b7f-c08340a20f3b",
   "metadata": {},
   "source": [
    "# Develop myReduceByKey:\n",
    "Develop a function by name myReduceByKey which takes a collection of tuples and a function as arguments. Each element in the collection should have exactly 2 attributes. Function should do the following:\n",
    "* Iterate through the collection of tuples.\n",
    "* Group the data by first element in the collection of tuples and apply the function using the argument passed. Argument should have necessary arithmetic logic.\n",
    "* Return a collection of tuples, where first element is unique and second element is aggregated result."
   ]
  },
  {
   "cell_type": "code",
   "execution_count": 1,
   "id": "81aa2d8e-dfae-4f0f-8db3-05812830aec5",
   "metadata": {},
   "outputs": [],
   "source": [
    "d = {}\n",
    "d[2] = 199.99"
   ]
  },
  {
   "cell_type": "code",
   "execution_count": 2,
   "id": "fbf37360-1d06-4ab3-9896-5f5792fd1e94",
   "metadata": {},
   "outputs": [
    {
     "data": {
      "text/plain": [
       "dict_items([(2, 199.99)])"
      ]
     },
     "execution_count": 2,
     "metadata": {},
     "output_type": "execute_result"
    }
   ],
   "source": [
    "d.items()"
   ]
  },
  {
   "cell_type": "code",
   "execution_count": null,
   "id": "db58c111-f3ff-4837-bb9d-6f49ae548fcf",
   "metadata": {},
   "outputs": [],
   "source": [
    "def myReduceByKey(c_p, f):\n",
    "    d = {}\n",
    "    for e in c_p:\n",
    "        if e[0] in d:\n",
    "            d[e[0]] = f(d[e[0]], e[1])\n",
    "        else:\n",
    "            d[e[0]] = e[1]\n",
    "    return list(d.items())"
   ]
  },
  {
   "cell_type": "markdown",
   "id": "878204e2-6df8-4c61-a19f-776751b494db",
   "metadata": {},
   "source": [
    "# Validate: \n",
    "* Use the function to get the count by date from orders."
   ]
  },
  {
   "cell_type": "code",
   "execution_count": 4,
   "id": "3187831f-e421-4a41-ba6c-d79a0e200c4d",
   "metadata": {},
   "outputs": [
    {
     "name": "stdout",
     "output_type": "stream",
     "text": [
      "68883\n",
      "68883\n"
     ]
    }
   ],
   "source": [
    "%run 02.\\ Dev\\ and\\ Validate\\ myMap.ipynb"
   ]
  },
  {
   "cell_type": "code",
   "execution_count": 5,
   "id": "aa1e1a5c-a706-49da-82cc-3f942653fbab",
   "metadata": {},
   "outputs": [
    {
     "data": {
      "text/plain": [
       "['1,2013-07-25 00:00:00.0,11599,CLOSED',\n",
       " '2,2013-07-25 00:00:00.0,256,PENDING_PAYMENT',\n",
       " '3,2013-07-25 00:00:00.0,12111,COMPLETE',\n",
       " '4,2013-07-25 00:00:00.0,8827,CLOSED',\n",
       " '5,2013-07-25 00:00:00.0,11318,COMPLETE',\n",
       " '6,2013-07-25 00:00:00.0,7130,COMPLETE',\n",
       " '7,2013-07-25 00:00:00.0,4530,COMPLETE',\n",
       " '8,2013-07-25 00:00:00.0,2911,PROCESSING',\n",
       " '9,2013-07-25 00:00:00.0,5657,PENDING_PAYMENT',\n",
       " '10,2013-07-25 00:00:00.0,5648,PENDING_PAYMENT']"
      ]
     },
     "execution_count": 5,
     "metadata": {},
     "output_type": "execute_result"
    }
   ],
   "source": [
    "orders[:10]"
   ]
  },
  {
   "cell_type": "code",
   "execution_count": 7,
   "id": "6abd6793-3614-4cd6-850f-8e7aea2f5db3",
   "metadata": {},
   "outputs": [
    {
     "data": {
      "text/plain": [
       "[('2013-07-25 00:00:00.0', 1),\n",
       " ('2013-07-25 00:00:00.0', 1),\n",
       " ('2013-07-25 00:00:00.0', 1),\n",
       " ('2013-07-25 00:00:00.0', 1),\n",
       " ('2013-07-25 00:00:00.0', 1),\n",
       " ('2013-07-25 00:00:00.0', 1),\n",
       " ('2013-07-25 00:00:00.0', 1),\n",
       " ('2013-07-25 00:00:00.0', 1),\n",
       " ('2013-07-25 00:00:00.0', 1),\n",
       " ('2013-07-25 00:00:00.0', 1)]"
      ]
     },
     "execution_count": 7,
     "metadata": {},
     "output_type": "execute_result"
    }
   ],
   "source": [
    "orders_map = myMap(orders, \n",
    "                   lambda order: (order.split(',')[1], 1)\n",
    "                  )\n",
    "orders_map[:10]"
   ]
  },
  {
   "cell_type": "code",
   "execution_count": 9,
   "id": "73e576a1-621d-473b-9272-1fd527c5603a",
   "metadata": {},
   "outputs": [],
   "source": [
    "order_count_by_date = myReduceByKey(orders_map, lambda t,e : t + e)"
   ]
  },
  {
   "cell_type": "code",
   "execution_count": 10,
   "id": "5e7a0490-5155-43ec-a201-1d38d2b09656",
   "metadata": {},
   "outputs": [
    {
     "data": {
      "text/plain": [
       "[('2013-07-25 00:00:00.0', 143),\n",
       " ('2013-07-26 00:00:00.0', 269),\n",
       " ('2013-07-27 00:00:00.0', 202),\n",
       " ('2013-07-28 00:00:00.0', 187),\n",
       " ('2013-07-29 00:00:00.0', 253),\n",
       " ('2013-07-30 00:00:00.0', 227),\n",
       " ('2013-07-31 00:00:00.0', 252),\n",
       " ('2013-08-01 00:00:00.0', 246),\n",
       " ('2013-08-02 00:00:00.0', 224),\n",
       " ('2013-08-03 00:00:00.0', 183)]"
      ]
     },
     "execution_count": 10,
     "metadata": {},
     "output_type": "execute_result"
    }
   ],
   "source": [
    "order_count_by_date[:10]"
   ]
  },
  {
   "cell_type": "markdown",
   "id": "de01662c-a18b-4f13-afd7-e614e0450807",
   "metadata": {},
   "source": [
    "*  Use the function to get the revenue for each order id."
   ]
  },
  {
   "cell_type": "code",
   "execution_count": 11,
   "id": "8c982c1c-41bc-4334-a27d-75be18d9219e",
   "metadata": {},
   "outputs": [],
   "source": [
    "order_items_path = \"/home/ilovemyh2o/retail_db/order_items/part-00000\"\n",
    "order_items = open(order_items_path). \\\n",
    "    read(). \\\n",
    "    splitlines()"
   ]
  },
  {
   "cell_type": "code",
   "execution_count": 12,
   "id": "d9a55be2-e06e-45df-b062-704f1f5589f0",
   "metadata": {},
   "outputs": [
    {
     "data": {
      "text/plain": [
       "['1,1,957,1,299.98,299.98',\n",
       " '2,2,1073,1,199.99,199.99',\n",
       " '3,2,502,5,250.0,50.0',\n",
       " '4,2,403,1,129.99,129.99',\n",
       " '5,4,897,2,49.98,24.99',\n",
       " '6,4,365,5,299.95,59.99',\n",
       " '7,4,502,3,150.0,50.0',\n",
       " '8,4,1014,4,199.92,49.98',\n",
       " '9,5,957,1,299.98,299.98',\n",
       " '10,5,365,5,299.95,59.99']"
      ]
     },
     "execution_count": 12,
     "metadata": {},
     "output_type": "execute_result"
    }
   ],
   "source": [
    "order_items[:10]"
   ]
  },
  {
   "cell_type": "code",
   "execution_count": 13,
   "id": "d0696248-f99e-4184-a186-9e2b8254151b",
   "metadata": {},
   "outputs": [],
   "source": [
    "order_items_map = myMap(order_items, lambda order_item: (int(order_item.split(',')[1]), float(order_item.split(',')[4])))"
   ]
  },
  {
   "cell_type": "code",
   "execution_count": 14,
   "id": "2f79d9ac-1303-4d85-9918-3821fa0b77f9",
   "metadata": {},
   "outputs": [
    {
     "data": {
      "text/plain": [
       "[(1, 299.98),\n",
       " (2, 199.99),\n",
       " (2, 250.0),\n",
       " (2, 129.99),\n",
       " (4, 49.98),\n",
       " (4, 299.95),\n",
       " (4, 150.0),\n",
       " (4, 199.92),\n",
       " (5, 299.98),\n",
       " (5, 299.95)]"
      ]
     },
     "execution_count": 14,
     "metadata": {},
     "output_type": "execute_result"
    }
   ],
   "source": [
    "order_items_map[:10]"
   ]
  },
  {
   "cell_type": "code",
   "execution_count": 15,
   "id": "3aaee47f-9898-43c9-ac3c-70385078a33c",
   "metadata": {},
   "outputs": [],
   "source": [
    "revenue_per_order = myReduceByKey(order_items_map, lambda t,e: round(t+e,2))"
   ]
  },
  {
   "cell_type": "code",
   "execution_count": 16,
   "id": "d7cc4356-5bd2-466c-8942-35ae4c611ed6",
   "metadata": {},
   "outputs": [
    {
     "data": {
      "text/plain": [
       "[(1, 299.98),\n",
       " (2, 579.98),\n",
       " (4, 699.85),\n",
       " (5, 1129.86),\n",
       " (7, 579.92),\n",
       " (8, 729.84),\n",
       " (9, 599.96),\n",
       " (10, 651.92),\n",
       " (11, 919.79),\n",
       " (12, 1299.87)]"
      ]
     },
     "execution_count": 16,
     "metadata": {},
     "output_type": "execute_result"
    }
   ],
   "source": [
    "revenue_per_order[:10]"
   ]
  },
  {
   "cell_type": "code",
   "execution_count": 17,
   "id": "1cda29db-5a66-47a7-8025-5a1bde84fe6a",
   "metadata": {},
   "outputs": [
    {
     "data": {
      "text/plain": [
       "[(1, 299.98),\n",
       " (2, 129.99),\n",
       " (4, 49.98),\n",
       " (5, 99.96),\n",
       " (7, 79.95),\n",
       " (8, 50.0),\n",
       " (9, 199.98),\n",
       " (10, 21.99),\n",
       " (11, 49.98),\n",
       " (12, 100.0)]"
      ]
     },
     "execution_count": 17,
     "metadata": {},
     "output_type": "execute_result"
    }
   ],
   "source": [
    "myReduceByKey(order_items_map,\n",
    "              lambda t, e: min(t, e)\n",
    "             )[:10]"
   ]
  },
  {
   "cell_type": "markdown",
   "id": "f253fe11-b47f-4ef9-af88-93343b093d9c",
   "metadata": {},
   "source": [
    "* Use the function to get the revenue as well as the number of items for each order id."
   ]
  },
  {
   "cell_type": "code",
   "execution_count": 18,
   "id": "87815ea1-9dbd-46b5-95bb-444802c2b8a7",
   "metadata": {},
   "outputs": [],
   "source": [
    "order_items_map = myMap(order_items,\n",
    "                        lambda order_item: (int(order_item.split(',')[1]),\n",
    "                                            (float(order_item.split(',')[4]), 1)\n",
    "                                           )\n",
    "                       )"
   ]
  },
  {
   "cell_type": "code",
   "execution_count": 19,
   "id": "fe481e10-2c3f-4ff1-90aa-17493a609d08",
   "metadata": {},
   "outputs": [
    {
     "data": {
      "text/plain": [
       "[(1, (299.98, 1)),\n",
       " (2, (199.99, 1)),\n",
       " (2, (250.0, 1)),\n",
       " (2, (129.99, 1)),\n",
       " (4, (49.98, 1)),\n",
       " (4, (299.95, 1)),\n",
       " (4, (150.0, 1)),\n",
       " (4, (199.92, 1)),\n",
       " (5, (299.98, 1)),\n",
       " (5, (299.95, 1))]"
      ]
     },
     "execution_count": 19,
     "metadata": {},
     "output_type": "execute_result"
    }
   ],
   "source": [
    "order_items_map[:10]"
   ]
  },
  {
   "cell_type": "code",
   "execution_count": 20,
   "id": "9f8bcf45-8d81-4477-8dad-9dc90ee7e239",
   "metadata": {},
   "outputs": [
    {
     "data": {
      "text/plain": [
       "[(1, (299.98, 1)),\n",
       " (2, (579.98, 3)),\n",
       " (4, (699.85, 4)),\n",
       " (5, (1129.86, 5)),\n",
       " (7, (579.92, 3)),\n",
       " (8, (729.84, 4)),\n",
       " (9, (599.96, 3)),\n",
       " (10, (651.92, 5)),\n",
       " (11, (919.79, 5)),\n",
       " (12, (1299.87, 5))]"
      ]
     },
     "execution_count": 20,
     "metadata": {},
     "output_type": "execute_result"
    }
   ],
   "source": [
    "myReduceByKey(order_items_map,\n",
    "              lambda t, e: (round(t[0] + e[0],2), t[1]+ e[1])\n",
    "             )[:10]"
   ]
  },
  {
   "cell_type": "code",
   "execution_count": null,
   "id": "d45391b8-6d2f-4941-94e5-5cd81cf57246",
   "metadata": {},
   "outputs": [],
   "source": []
  }
 ],
 "metadata": {
  "kernelspec": {
   "display_name": "Python 3",
   "language": "python",
   "name": "python3"
  },
  "language_info": {
   "codemirror_mode": {
    "name": "ipython",
    "version": 3
   },
   "file_extension": ".py",
   "mimetype": "text/x-python",
   "name": "python",
   "nbconvert_exporter": "python",
   "pygments_lexer": "ipython3",
   "version": "3.6.9"
  }
 },
 "nbformat": 4,
 "nbformat_minor": 5
}
