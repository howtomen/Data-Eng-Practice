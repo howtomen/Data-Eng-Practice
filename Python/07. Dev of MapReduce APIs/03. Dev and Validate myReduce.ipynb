{
 "cells": [
  {
   "cell_type": "markdown",
   "id": "0f2512fe-e1e2-4674-82ca-f16f910da2cf",
   "metadata": {},
   "source": [
    "# Develop myReduce:\n",
    "Develop a function by name myReduce which takes a collection and a function as arguments. Function should do the following:\n",
    "* Iterate through elements\n",
    "* Perform aggregation operation using the argument passed. Argument should have necessary arithmetic logic.\n",
    "* Return the aggregated result.\n"
   ]
  },
  {
   "cell_type": "code",
   "execution_count": 1,
   "id": "ab92a74c-b2ba-4d68-b603-9b9602d61f96",
   "metadata": {},
   "outputs": [],
   "source": [
    "l = [1, 4, 6, 2, 5]"
   ]
  },
  {
   "cell_type": "code",
   "execution_count": 2,
   "id": "3c07363c-0bc2-4d7b-a46a-607da005241a",
   "metadata": {},
   "outputs": [
    {
     "data": {
      "text/plain": [
       "[4, 6, 2, 5]"
      ]
     },
     "execution_count": 2,
     "metadata": {},
     "output_type": "execute_result"
    }
   ],
   "source": [
    "l[1:]"
   ]
  },
  {
   "cell_type": "code",
   "execution_count": 3,
   "id": "8ddba5a9-886d-4af5-8860-f201fbc2ca3e",
   "metadata": {},
   "outputs": [],
   "source": [
    "def myReduce(c, f):\n",
    "    t = c[0]\n",
    "    for e in c[1:]:\n",
    "        t = f(t, e)\n",
    "    return t"
   ]
  },
  {
   "cell_type": "code",
   "execution_count": 4,
   "id": "f38d5764-2388-48cd-adad-92068392f611",
   "metadata": {},
   "outputs": [
    {
     "data": {
      "text/plain": [
       "18"
      ]
     },
     "execution_count": 4,
     "metadata": {},
     "output_type": "execute_result"
    }
   ],
   "source": [
    "myReduce(l, lambda t, e: t + e)"
   ]
  },
  {
   "cell_type": "code",
   "execution_count": 5,
   "id": "8019ffb8-ff10-4b5a-8691-1acaada4dafd",
   "metadata": {},
   "outputs": [
    {
     "data": {
      "text/plain": [
       "5"
      ]
     },
     "execution_count": 5,
     "metadata": {},
     "output_type": "execute_result"
    }
   ],
   "source": [
    "min(7, 5)"
   ]
  },
  {
   "cell_type": "code",
   "execution_count": 6,
   "id": "ea9bed14-d69a-401d-9e81-0f62cd4d1ae0",
   "metadata": {},
   "outputs": [
    {
     "data": {
      "text/plain": [
       "1"
      ]
     },
     "execution_count": 6,
     "metadata": {},
     "output_type": "execute_result"
    }
   ],
   "source": [
    "myReduce(l, lambda t, e: min(t, e))"
   ]
  },
  {
   "cell_type": "code",
   "execution_count": 7,
   "id": "aa9f9305-bc72-4b21-ba08-4d8c18975e75",
   "metadata": {},
   "outputs": [
    {
     "data": {
      "text/plain": [
       "6"
      ]
     },
     "execution_count": 7,
     "metadata": {},
     "output_type": "execute_result"
    }
   ],
   "source": [
    "myReduce(l, lambda t, e: max(t, e))"
   ]
  },
  {
   "cell_type": "markdown",
   "id": "d60a396b-02e4-4517-86ef-794c1365b2bf",
   "metadata": {},
   "source": [
    "# Validate myReduce:\n",
    "Let us validate myReduce Function.\n",
    "* Compute order revenue for a given order id using order_items.\n",
    "* We will use myFilter to filter for the order items for the given order id.\n",
    "* Use myMap to extract order_item_subtotal. We will also convert data type of order_item_subtotal.\n",
    "* We can now compute order_revenue using myReduce Function."
   ]
  },
  {
   "cell_type": "code",
   "execution_count": 8,
   "id": "47985440-d78a-4bbc-a38e-0e4024bf536f",
   "metadata": {},
   "outputs": [],
   "source": [
    "%run 01.\\ Develop\\ and\\ Validate\\ MyFilter.ipynb"
   ]
  },
  {
   "cell_type": "code",
   "execution_count": 9,
   "id": "45fa1a77-f0ae-470c-a700-6c3c9b2b44e6",
   "metadata": {},
   "outputs": [
    {
     "name": "stdout",
     "output_type": "stream",
     "text": [
      "68883\n",
      "68883\n"
     ]
    }
   ],
   "source": [
    "%run 02.\\ Dev\\ and\\ Validate\\ myMap.ipynb"
   ]
  },
  {
   "cell_type": "code",
   "execution_count": 10,
   "id": "47bd16e9-1010-423e-ad6c-0d8d953b8ce5",
   "metadata": {},
   "outputs": [
    {
     "data": {
      "text/plain": [
       "<function __main__.myMap(c, f)>"
      ]
     },
     "execution_count": 10,
     "metadata": {},
     "output_type": "execute_result"
    }
   ],
   "source": [
    "myMap"
   ]
  },
  {
   "cell_type": "code",
   "execution_count": 11,
   "id": "bc87216b-4e1c-4dbb-9d1d-5d800e3b9664",
   "metadata": {},
   "outputs": [
    {
     "data": {
      "text/plain": [
       "<function __main__.myFilter(c, f)>"
      ]
     },
     "execution_count": 11,
     "metadata": {},
     "output_type": "execute_result"
    }
   ],
   "source": [
    "myFilter"
   ]
  },
  {
   "cell_type": "code",
   "execution_count": 12,
   "id": "452658de-6e6b-44e4-964d-b70408f6bac2",
   "metadata": {},
   "outputs": [],
   "source": [
    "order_items_path = \"/home/ilovemyh2o/retail_db/order_items/part-00000\"\n",
    "order_items = open(order_items_path). \\\n",
    "    read(). \\\n",
    "    splitlines()\n"
   ]
  },
  {
   "cell_type": "code",
   "execution_count": 13,
   "id": "06186677-23b8-4418-9fc1-31395d9442c9",
   "metadata": {},
   "outputs": [
    {
     "data": {
      "text/plain": [
       "['1,1,957,1,299.98,299.98',\n",
       " '2,2,1073,1,199.99,199.99',\n",
       " '3,2,502,5,250.0,50.0',\n",
       " '4,2,403,1,129.99,129.99',\n",
       " '5,4,897,2,49.98,24.99',\n",
       " '6,4,365,5,299.95,59.99',\n",
       " '7,4,502,3,150.0,50.0',\n",
       " '8,4,1014,4,199.92,49.98',\n",
       " '9,5,957,1,299.98,299.98',\n",
       " '10,5,365,5,299.95,59.99']"
      ]
     },
     "execution_count": 13,
     "metadata": {},
     "output_type": "execute_result"
    }
   ],
   "source": [
    "order_items[:10]"
   ]
  },
  {
   "cell_type": "code",
   "execution_count": 14,
   "id": "48d3ca02-a6d4-4cd9-92a4-343e60cfba6f",
   "metadata": {},
   "outputs": [
    {
     "data": {
      "text/plain": [
       "True"
      ]
     },
     "execution_count": 14,
     "metadata": {},
     "output_type": "execute_result"
    }
   ],
   "source": [
    "order_item = '2,2,1073,1,199.99,199.99'\n",
    "int(order_item.split(',')[1]) == 2"
   ]
  },
  {
   "cell_type": "code",
   "execution_count": 16,
   "id": "7c581250-5b67-4ae2-a357-e8c278619d11",
   "metadata": {},
   "outputs": [],
   "source": [
    "order_items_filtered = myFilter(order_items, lambda order_item: int(order_item.split(',')[1]) == 2)"
   ]
  },
  {
   "cell_type": "code",
   "execution_count": 17,
   "id": "6f28de26-bb11-4374-a4fd-05646891d6b1",
   "metadata": {},
   "outputs": [
    {
     "data": {
      "text/plain": [
       "['2,2,1073,1,199.99,199.99', '3,2,502,5,250.0,50.0', '4,2,403,1,129.99,129.99']"
      ]
     },
     "execution_count": 17,
     "metadata": {},
     "output_type": "execute_result"
    }
   ],
   "source": [
    "order_items_filtered"
   ]
  },
  {
   "cell_type": "code",
   "execution_count": 18,
   "id": "903752bb-ce23-4cf8-9fcb-e17512b2e38d",
   "metadata": {},
   "outputs": [],
   "source": [
    "order_item_subtotals = myMap(order_items_filtered, lambda order_item: float(order_item.split(',')[4]))"
   ]
  },
  {
   "cell_type": "code",
   "execution_count": 19,
   "id": "497ced3d-3a49-439a-8c1b-e6849389db5e",
   "metadata": {},
   "outputs": [
    {
     "data": {
      "text/plain": [
       "[199.99, 250.0, 129.99]"
      ]
     },
     "execution_count": 19,
     "metadata": {},
     "output_type": "execute_result"
    }
   ],
   "source": [
    "order_item_subtotals"
   ]
  },
  {
   "cell_type": "code",
   "execution_count": 20,
   "id": "9c665785-8250-44db-9bb0-a20b9aeb9097",
   "metadata": {},
   "outputs": [
    {
     "data": {
      "text/plain": [
       "579.98"
      ]
     },
     "execution_count": 20,
     "metadata": {},
     "output_type": "execute_result"
    }
   ],
   "source": [
    "myReduce(order_item_subtotals, lambda t, e: t + e)"
   ]
  },
  {
   "cell_type": "code",
   "execution_count": 21,
   "id": "47a73efc-164f-41d4-b914-edc4a8f0bf3f",
   "metadata": {},
   "outputs": [
    {
     "data": {
      "text/plain": [
       "129.99"
      ]
     },
     "execution_count": 21,
     "metadata": {},
     "output_type": "execute_result"
    }
   ],
   "source": [
    "myReduce(order_item_subtotals, lambda t, e: min(t, e))"
   ]
  },
  {
   "cell_type": "code",
   "execution_count": null,
   "id": "2e9fee6d-081b-4766-a421-f130c2df3594",
   "metadata": {},
   "outputs": [],
   "source": []
  }
 ],
 "metadata": {
  "kernelspec": {
   "display_name": "Python 3",
   "language": "python",
   "name": "python3"
  },
  "language_info": {
   "codemirror_mode": {
    "name": "ipython",
    "version": 3
   },
   "file_extension": ".py",
   "mimetype": "text/x-python",
   "name": "python",
   "nbconvert_exporter": "python",
   "pygments_lexer": "ipython3",
   "version": "3.6.9"
  }
 },
 "nbformat": 4,
 "nbformat_minor": 5
}
