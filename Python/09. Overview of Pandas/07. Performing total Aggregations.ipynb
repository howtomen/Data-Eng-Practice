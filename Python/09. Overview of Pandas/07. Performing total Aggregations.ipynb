{
 "cells": [
  {
   "cell_type": "markdown",
   "id": "2850b50f-f1cd-4c68-9f00-cc27473bf9b1",
   "metadata": {},
   "source": [
    "# Performing Total Aggregations:\n",
    "Let us understand how to perform total or global aggregations using Pandas."
   ]
  },
  {
   "cell_type": "code",
   "execution_count": 1,
   "id": "1ade4419-1f05-4c0f-9eae-f9577bc2f077",
   "metadata": {},
   "outputs": [],
   "source": [
    "%run 05.\\ CSV\\ to\\ Pandas\\ Data\\ Frame.ipynb"
   ]
  },
  {
   "cell_type": "markdown",
   "id": "bcfd0d9d-7326-412b-93af-e2e79b487358",
   "metadata": {},
   "source": [
    "* Getting the number of records in the Data frame and the number of columns"
   ]
  },
  {
   "cell_type": "code",
   "execution_count": 3,
   "id": "8b466001-f842-4770-ba54-83de34cf775b",
   "metadata": {},
   "outputs": [
    {
     "data": {
      "text/plain": [
       "(68883, 4)"
      ]
     },
     "execution_count": 3,
     "metadata": {},
     "output_type": "execute_result"
    }
   ],
   "source": [
    "orders.shape"
   ]
  },
  {
   "cell_type": "code",
   "execution_count": 4,
   "id": "5b5a6417-9a21-4733-bbc6-f0dbf80bcb65",
   "metadata": {},
   "outputs": [
    {
     "data": {
      "text/plain": [
       "68883"
      ]
     },
     "execution_count": 4,
     "metadata": {},
     "output_type": "execute_result"
    }
   ],
   "source": [
    "orders.shape[0]"
   ]
  },
  {
   "cell_type": "code",
   "execution_count": 5,
   "id": "eff385cc-b07a-4633-a2e6-20abb6a41407",
   "metadata": {},
   "outputs": [
    {
     "data": {
      "text/plain": [
       "172198"
      ]
     },
     "execution_count": 5,
     "metadata": {},
     "output_type": "execute_result"
    }
   ],
   "source": [
    "order_items.shape[0]"
   ]
  },
  {
   "cell_type": "markdown",
   "id": "20cbfefe-b874-4de7-a84d-c0ddc268d1cc",
   "metadata": {},
   "source": [
    "* Getting the number of non np.NaN values in each attribute in a Data Frame"
   ]
  },
  {
   "cell_type": "code",
   "execution_count": 6,
   "id": "6bb5659d-b1ec-4b49-9ea3-04eb9bd5ed49",
   "metadata": {},
   "outputs": [
    {
     "data": {
      "text/plain": [
       "order_id             68883\n",
       "order_date           68883\n",
       "order_customer_id    68883\n",
       "order_status         68883\n",
       "dtype: int64"
      ]
     },
     "execution_count": 6,
     "metadata": {},
     "output_type": "execute_result"
    }
   ],
   "source": [
    "orders.count()"
   ]
  },
  {
   "cell_type": "code",
   "execution_count": 7,
   "id": "0ecf6b9a-27bd-4d8b-9804-adf2bc38dbbf",
   "metadata": {},
   "outputs": [
    {
     "data": {
      "text/plain": [
       "pandas.core.series.Series"
      ]
     },
     "execution_count": 7,
     "metadata": {},
     "output_type": "execute_result"
    }
   ],
   "source": [
    "type(orders.count())"
   ]
  },
  {
   "cell_type": "code",
   "execution_count": 8,
   "id": "f4682eaf-58d4-4911-9b76-34057b0d47c3",
   "metadata": {},
   "outputs": [
    {
     "data": {
      "text/plain": [
       "68883"
      ]
     },
     "execution_count": 8,
     "metadata": {},
     "output_type": "execute_result"
    }
   ],
   "source": [
    "orders.count()['order_id']"
   ]
  },
  {
   "cell_type": "code",
   "execution_count": 9,
   "id": "841d0806-e411-4735-80cf-c6600c661f80",
   "metadata": {},
   "outputs": [
    {
     "data": {
      "text/plain": [
       "68883"
      ]
     },
     "execution_count": 9,
     "metadata": {},
     "output_type": "execute_result"
    }
   ],
   "source": [
    "orders.order_id.count()"
   ]
  },
  {
   "cell_type": "code",
   "execution_count": 10,
   "id": "6ab7473c-782b-452a-8a08-2c1bc9fb3936",
   "metadata": {},
   "outputs": [
    {
     "data": {
      "text/plain": [
       "68883"
      ]
     },
     "execution_count": 10,
     "metadata": {},
     "output_type": "execute_result"
    }
   ],
   "source": [
    "orders['order_id'].count()"
   ]
  },
  {
   "cell_type": "markdown",
   "id": "a1a58a96-6a07-43ab-a379-e22bdecd094c",
   "metadata": {},
   "source": [
    "* Getting basic statistics of numeric fields of a Data Frame"
   ]
  },
  {
   "cell_type": "code",
   "execution_count": 11,
   "id": "9ffc68b5-3014-4876-8cd4-3b26d84c2c57",
   "metadata": {},
   "outputs": [
    {
     "data": {
      "text/html": [
       "<div>\n",
       "<style scoped>\n",
       "    .dataframe tbody tr th:only-of-type {\n",
       "        vertical-align: middle;\n",
       "    }\n",
       "\n",
       "    .dataframe tbody tr th {\n",
       "        vertical-align: top;\n",
       "    }\n",
       "\n",
       "    .dataframe thead th {\n",
       "        text-align: right;\n",
       "    }\n",
       "</style>\n",
       "<table border=\"1\" class=\"dataframe\">\n",
       "  <thead>\n",
       "    <tr style=\"text-align: right;\">\n",
       "      <th></th>\n",
       "      <th>order_id</th>\n",
       "      <th>order_customer_id</th>\n",
       "    </tr>\n",
       "  </thead>\n",
       "  <tbody>\n",
       "    <tr>\n",
       "      <th>count</th>\n",
       "      <td>68883.000000</td>\n",
       "      <td>68883.000000</td>\n",
       "    </tr>\n",
       "    <tr>\n",
       "      <th>mean</th>\n",
       "      <td>34442.000000</td>\n",
       "      <td>6216.571099</td>\n",
       "    </tr>\n",
       "    <tr>\n",
       "      <th>std</th>\n",
       "      <td>19884.953633</td>\n",
       "      <td>3586.205241</td>\n",
       "    </tr>\n",
       "    <tr>\n",
       "      <th>min</th>\n",
       "      <td>1.000000</td>\n",
       "      <td>1.000000</td>\n",
       "    </tr>\n",
       "    <tr>\n",
       "      <th>25%</th>\n",
       "      <td>17221.500000</td>\n",
       "      <td>3122.000000</td>\n",
       "    </tr>\n",
       "    <tr>\n",
       "      <th>50%</th>\n",
       "      <td>34442.000000</td>\n",
       "      <td>6199.000000</td>\n",
       "    </tr>\n",
       "    <tr>\n",
       "      <th>75%</th>\n",
       "      <td>51662.500000</td>\n",
       "      <td>9326.000000</td>\n",
       "    </tr>\n",
       "    <tr>\n",
       "      <th>max</th>\n",
       "      <td>68883.000000</td>\n",
       "      <td>12435.000000</td>\n",
       "    </tr>\n",
       "  </tbody>\n",
       "</table>\n",
       "</div>"
      ],
      "text/plain": [
       "           order_id  order_customer_id\n",
       "count  68883.000000       68883.000000\n",
       "mean   34442.000000        6216.571099\n",
       "std    19884.953633        3586.205241\n",
       "min        1.000000           1.000000\n",
       "25%    17221.500000        3122.000000\n",
       "50%    34442.000000        6199.000000\n",
       "75%    51662.500000        9326.000000\n",
       "max    68883.000000       12435.000000"
      ]
     },
     "execution_count": 11,
     "metadata": {},
     "output_type": "execute_result"
    }
   ],
   "source": [
    "orders.describe()"
   ]
  },
  {
   "cell_type": "code",
   "execution_count": 12,
   "id": "112f5c3b-6e49-4deb-9db6-9037c98c2908",
   "metadata": {},
   "outputs": [
    {
     "data": {
      "text/html": [
       "<div>\n",
       "<style scoped>\n",
       "    .dataframe tbody tr th:only-of-type {\n",
       "        vertical-align: middle;\n",
       "    }\n",
       "\n",
       "    .dataframe tbody tr th {\n",
       "        vertical-align: top;\n",
       "    }\n",
       "\n",
       "    .dataframe thead th {\n",
       "        text-align: right;\n",
       "    }\n",
       "</style>\n",
       "<table border=\"1\" class=\"dataframe\">\n",
       "  <thead>\n",
       "    <tr style=\"text-align: right;\">\n",
       "      <th></th>\n",
       "      <th>order_item_id</th>\n",
       "      <th>order_item_order_id</th>\n",
       "      <th>order_item_product_id</th>\n",
       "      <th>order_item_quantity</th>\n",
       "      <th>order_item_subtotal</th>\n",
       "      <th>order_item_product_price</th>\n",
       "    </tr>\n",
       "  </thead>\n",
       "  <tbody>\n",
       "    <tr>\n",
       "      <th>1</th>\n",
       "      <td>2</td>\n",
       "      <td>2</td>\n",
       "      <td>1073</td>\n",
       "      <td>1</td>\n",
       "      <td>199.99</td>\n",
       "      <td>199.99</td>\n",
       "    </tr>\n",
       "    <tr>\n",
       "      <th>2</th>\n",
       "      <td>3</td>\n",
       "      <td>2</td>\n",
       "      <td>502</td>\n",
       "      <td>5</td>\n",
       "      <td>250.00</td>\n",
       "      <td>50.00</td>\n",
       "    </tr>\n",
       "    <tr>\n",
       "      <th>3</th>\n",
       "      <td>4</td>\n",
       "      <td>2</td>\n",
       "      <td>403</td>\n",
       "      <td>1</td>\n",
       "      <td>129.99</td>\n",
       "      <td>129.99</td>\n",
       "    </tr>\n",
       "  </tbody>\n",
       "</table>\n",
       "</div>"
      ],
      "text/plain": [
       "   order_item_id  order_item_order_id  order_item_product_id  \\\n",
       "1              2                    2                   1073   \n",
       "2              3                    2                    502   \n",
       "3              4                    2                    403   \n",
       "\n",
       "   order_item_quantity  order_item_subtotal  order_item_product_price  \n",
       "1                    1               199.99                    199.99  \n",
       "2                    5               250.00                     50.00  \n",
       "3                    1               129.99                    129.99  "
      ]
     },
     "execution_count": 12,
     "metadata": {},
     "output_type": "execute_result"
    }
   ],
   "source": [
    "order_items[order_items.order_item_order_id == 2]"
   ]
  },
  {
   "cell_type": "code",
   "execution_count": 13,
   "id": "e040b8eb-a3a5-40cb-95b8-f3164bfc24d9",
   "metadata": {},
   "outputs": [
    {
     "data": {
      "text/plain": [
       "1    199.99\n",
       "2    250.00\n",
       "3    129.99\n",
       "Name: order_item_subtotal, dtype: float64"
      ]
     },
     "execution_count": 13,
     "metadata": {},
     "output_type": "execute_result"
    }
   ],
   "source": [
    "order_items[order_items.order_item_order_id == 2].order_item_subtotal"
   ]
  },
  {
   "cell_type": "code",
   "execution_count": 14,
   "id": "9a29dbdd-68c8-42be-ad47-c2e97149a56f",
   "metadata": {},
   "outputs": [
    {
     "data": {
      "text/plain": [
       "579.98"
      ]
     },
     "execution_count": 14,
     "metadata": {},
     "output_type": "execute_result"
    }
   ],
   "source": [
    "order_items[order_items.order_item_order_id == 2].order_item_subtotal.sum()"
   ]
  },
  {
   "cell_type": "code",
   "execution_count": 15,
   "id": "1466f842-b6d6-4a6d-a112-3f1342895279",
   "metadata": {},
   "outputs": [
    {
     "data": {
      "text/plain": [
       "579.98"
      ]
     },
     "execution_count": 15,
     "metadata": {},
     "output_type": "execute_result"
    }
   ],
   "source": [
    "order_items[order_items.order_item_order_id == 2]['order_item_subtotal'].sum()"
   ]
  },
  {
   "cell_type": "markdown",
   "id": "6bfb4d3e-3d80-4b88-99dd-b3c028ed7a9c",
   "metadata": {},
   "source": [
    "# Task 1:\n",
    "Use orders and get total number of records for a given month (201401)."
   ]
  },
  {
   "cell_type": "code",
   "execution_count": 20,
   "id": "aa2cd69a-5cd3-490a-b8e5-9d1491418423",
   "metadata": {},
   "outputs": [
    {
     "data": {
      "text/plain": [
       "5908"
      ]
     },
     "execution_count": 20,
     "metadata": {},
     "output_type": "execute_result"
    }
   ],
   "source": [
    "orders[orders['order_date'].str.slice(0,7) == '2014-01'].order_id.count() #Daniel initial method "
   ]
  },
  {
   "cell_type": "code",
   "execution_count": 21,
   "id": "aac9d312-d103-4466-a7d5-3ea89d4993c4",
   "metadata": {},
   "outputs": [
    {
     "data": {
      "text/plain": [
       "5908"
      ]
     },
     "execution_count": 21,
     "metadata": {},
     "output_type": "execute_result"
    }
   ],
   "source": [
    "orders.query('order_date.str.startswith(\"2014-01\")', engine='python').order_id.count() #Daniels method practive using query"
   ]
  },
  {
   "cell_type": "code",
   "execution_count": 22,
   "id": "b1025b6b-f4ae-4e38-99ce-ab90be8616e4",
   "metadata": {},
   "outputs": [
    {
     "data": {
      "text/plain": [
       "5908"
      ]
     },
     "execution_count": 22,
     "metadata": {},
     "output_type": "execute_result"
    }
   ],
   "source": [
    "orders[orders['order_date'].str.slice(0, 7).str.replace('-', '').astype('int64') == 201401]['order_id'].count() #guide method"
   ]
  },
  {
   "cell_type": "markdown",
   "id": "271f8a82-9110-43e5-9ee6-e90487931609",
   "metadata": {},
   "source": [
    "# Task 2:\n",
    "Use order_items data set and compute total revenue generated for a given product_id. use 502"
   ]
  },
  {
   "cell_type": "code",
   "execution_count": 23,
   "id": "9a69f036-6d21-455d-af74-078dafaf2446",
   "metadata": {},
   "outputs": [
    {
     "data": {
      "text/html": [
       "<div>\n",
       "<style scoped>\n",
       "    .dataframe tbody tr th:only-of-type {\n",
       "        vertical-align: middle;\n",
       "    }\n",
       "\n",
       "    .dataframe tbody tr th {\n",
       "        vertical-align: top;\n",
       "    }\n",
       "\n",
       "    .dataframe thead th {\n",
       "        text-align: right;\n",
       "    }\n",
       "</style>\n",
       "<table border=\"1\" class=\"dataframe\">\n",
       "  <thead>\n",
       "    <tr style=\"text-align: right;\">\n",
       "      <th></th>\n",
       "      <th>order_item_id</th>\n",
       "      <th>order_item_order_id</th>\n",
       "      <th>order_item_product_id</th>\n",
       "      <th>order_item_quantity</th>\n",
       "      <th>order_item_subtotal</th>\n",
       "      <th>order_item_product_price</th>\n",
       "    </tr>\n",
       "  </thead>\n",
       "  <tbody>\n",
       "    <tr>\n",
       "      <th>2</th>\n",
       "      <td>3</td>\n",
       "      <td>2</td>\n",
       "      <td>502</td>\n",
       "      <td>5</td>\n",
       "      <td>250.0</td>\n",
       "      <td>50.0</td>\n",
       "    </tr>\n",
       "    <tr>\n",
       "      <th>6</th>\n",
       "      <td>7</td>\n",
       "      <td>4</td>\n",
       "      <td>502</td>\n",
       "      <td>3</td>\n",
       "      <td>150.0</td>\n",
       "      <td>50.0</td>\n",
       "    </tr>\n",
       "    <tr>\n",
       "      <th>19</th>\n",
       "      <td>20</td>\n",
       "      <td>8</td>\n",
       "      <td>502</td>\n",
       "      <td>1</td>\n",
       "      <td>50.0</td>\n",
       "      <td>50.0</td>\n",
       "    </tr>\n",
       "    <tr>\n",
       "      <th>37</th>\n",
       "      <td>38</td>\n",
       "      <td>12</td>\n",
       "      <td>502</td>\n",
       "      <td>5</td>\n",
       "      <td>250.0</td>\n",
       "      <td>50.0</td>\n",
       "    </tr>\n",
       "    <tr>\n",
       "      <th>41</th>\n",
       "      <td>42</td>\n",
       "      <td>14</td>\n",
       "      <td>502</td>\n",
       "      <td>1</td>\n",
       "      <td>50.0</td>\n",
       "      <td>50.0</td>\n",
       "    </tr>\n",
       "    <tr>\n",
       "      <th>...</th>\n",
       "      <td>...</td>\n",
       "      <td>...</td>\n",
       "      <td>...</td>\n",
       "      <td>...</td>\n",
       "      <td>...</td>\n",
       "      <td>...</td>\n",
       "    </tr>\n",
       "    <tr>\n",
       "      <th>172151</th>\n",
       "      <td>172152</td>\n",
       "      <td>68861</td>\n",
       "      <td>502</td>\n",
       "      <td>4</td>\n",
       "      <td>200.0</td>\n",
       "      <td>50.0</td>\n",
       "    </tr>\n",
       "    <tr>\n",
       "      <th>172173</th>\n",
       "      <td>172174</td>\n",
       "      <td>68871</td>\n",
       "      <td>502</td>\n",
       "      <td>4</td>\n",
       "      <td>200.0</td>\n",
       "      <td>50.0</td>\n",
       "    </tr>\n",
       "    <tr>\n",
       "      <th>172189</th>\n",
       "      <td>172190</td>\n",
       "      <td>68880</td>\n",
       "      <td>502</td>\n",
       "      <td>5</td>\n",
       "      <td>250.0</td>\n",
       "      <td>50.0</td>\n",
       "    </tr>\n",
       "    <tr>\n",
       "      <th>172195</th>\n",
       "      <td>172196</td>\n",
       "      <td>68882</td>\n",
       "      <td>502</td>\n",
       "      <td>1</td>\n",
       "      <td>50.0</td>\n",
       "      <td>50.0</td>\n",
       "    </tr>\n",
       "    <tr>\n",
       "      <th>172197</th>\n",
       "      <td>172198</td>\n",
       "      <td>68883</td>\n",
       "      <td>502</td>\n",
       "      <td>3</td>\n",
       "      <td>150.0</td>\n",
       "      <td>50.0</td>\n",
       "    </tr>\n",
       "  </tbody>\n",
       "</table>\n",
       "<p>21035 rows × 6 columns</p>\n",
       "</div>"
      ],
      "text/plain": [
       "        order_item_id  order_item_order_id  order_item_product_id  \\\n",
       "2                   3                    2                    502   \n",
       "6                   7                    4                    502   \n",
       "19                 20                    8                    502   \n",
       "37                 38                   12                    502   \n",
       "41                 42                   14                    502   \n",
       "...               ...                  ...                    ...   \n",
       "172151         172152                68861                    502   \n",
       "172173         172174                68871                    502   \n",
       "172189         172190                68880                    502   \n",
       "172195         172196                68882                    502   \n",
       "172197         172198                68883                    502   \n",
       "\n",
       "        order_item_quantity  order_item_subtotal  order_item_product_price  \n",
       "2                         5                250.0                      50.0  \n",
       "6                         3                150.0                      50.0  \n",
       "19                        1                 50.0                      50.0  \n",
       "37                        5                250.0                      50.0  \n",
       "41                        1                 50.0                      50.0  \n",
       "...                     ...                  ...                       ...  \n",
       "172151                    4                200.0                      50.0  \n",
       "172173                    4                200.0                      50.0  \n",
       "172189                    5                250.0                      50.0  \n",
       "172195                    1                 50.0                      50.0  \n",
       "172197                    3                150.0                      50.0  \n",
       "\n",
       "[21035 rows x 6 columns]"
      ]
     },
     "execution_count": 23,
     "metadata": {},
     "output_type": "execute_result"
    }
   ],
   "source": [
    "order_items.query('order_item_product_id == 502')"
   ]
  },
  {
   "cell_type": "code",
   "execution_count": 25,
   "id": "7347cac0-8495-4cb6-8764-f7e4fbcaeb72",
   "metadata": {},
   "outputs": [
    {
     "data": {
      "text/plain": [
       "3147800.0"
      ]
     },
     "execution_count": 25,
     "metadata": {},
     "output_type": "execute_result"
    }
   ],
   "source": [
    "order_items.query('order_item_product_id == 502').order_item_subtotal.sum()#Daniels mthod"
   ]
  },
  {
   "cell_type": "code",
   "execution_count": 26,
   "id": "9302752d-cf0f-42d3-8518-2298202f3ff2",
   "metadata": {},
   "outputs": [
    {
     "data": {
      "text/plain": [
       "3147800.0"
      ]
     },
     "execution_count": 26,
     "metadata": {},
     "output_type": "execute_result"
    }
   ],
   "source": [
    "order_items.query('order_item_product_id == 502')['order_item_subtotal'].sum()"
   ]
  },
  {
   "cell_type": "markdown",
   "id": "eeefc8ea-a721-421c-b3e8-936473e3adc6",
   "metadata": {},
   "source": [
    "# Task 3:\n",
    "Use order_items data set and get total number of items sold as well as total revenue generated for a given product_id. use 502"
   ]
  },
  {
   "cell_type": "code",
   "execution_count": 27,
   "id": "841c917a-1fec-421c-83e2-314830113901",
   "metadata": {},
   "outputs": [
    {
     "data": {
      "text/html": [
       "<div>\n",
       "<style scoped>\n",
       "    .dataframe tbody tr th:only-of-type {\n",
       "        vertical-align: middle;\n",
       "    }\n",
       "\n",
       "    .dataframe tbody tr th {\n",
       "        vertical-align: top;\n",
       "    }\n",
       "\n",
       "    .dataframe thead th {\n",
       "        text-align: right;\n",
       "    }\n",
       "</style>\n",
       "<table border=\"1\" class=\"dataframe\">\n",
       "  <thead>\n",
       "    <tr style=\"text-align: right;\">\n",
       "      <th></th>\n",
       "      <th>order_item_id</th>\n",
       "      <th>order_item_order_id</th>\n",
       "      <th>order_item_product_id</th>\n",
       "      <th>order_item_quantity</th>\n",
       "      <th>order_item_subtotal</th>\n",
       "      <th>order_item_product_price</th>\n",
       "    </tr>\n",
       "  </thead>\n",
       "  <tbody>\n",
       "    <tr>\n",
       "      <th>2</th>\n",
       "      <td>3</td>\n",
       "      <td>2</td>\n",
       "      <td>502</td>\n",
       "      <td>5</td>\n",
       "      <td>250.0</td>\n",
       "      <td>50.0</td>\n",
       "    </tr>\n",
       "    <tr>\n",
       "      <th>6</th>\n",
       "      <td>7</td>\n",
       "      <td>4</td>\n",
       "      <td>502</td>\n",
       "      <td>3</td>\n",
       "      <td>150.0</td>\n",
       "      <td>50.0</td>\n",
       "    </tr>\n",
       "    <tr>\n",
       "      <th>19</th>\n",
       "      <td>20</td>\n",
       "      <td>8</td>\n",
       "      <td>502</td>\n",
       "      <td>1</td>\n",
       "      <td>50.0</td>\n",
       "      <td>50.0</td>\n",
       "    </tr>\n",
       "    <tr>\n",
       "      <th>37</th>\n",
       "      <td>38</td>\n",
       "      <td>12</td>\n",
       "      <td>502</td>\n",
       "      <td>5</td>\n",
       "      <td>250.0</td>\n",
       "      <td>50.0</td>\n",
       "    </tr>\n",
       "    <tr>\n",
       "      <th>41</th>\n",
       "      <td>42</td>\n",
       "      <td>14</td>\n",
       "      <td>502</td>\n",
       "      <td>1</td>\n",
       "      <td>50.0</td>\n",
       "      <td>50.0</td>\n",
       "    </tr>\n",
       "    <tr>\n",
       "      <th>...</th>\n",
       "      <td>...</td>\n",
       "      <td>...</td>\n",
       "      <td>...</td>\n",
       "      <td>...</td>\n",
       "      <td>...</td>\n",
       "      <td>...</td>\n",
       "    </tr>\n",
       "    <tr>\n",
       "      <th>172151</th>\n",
       "      <td>172152</td>\n",
       "      <td>68861</td>\n",
       "      <td>502</td>\n",
       "      <td>4</td>\n",
       "      <td>200.0</td>\n",
       "      <td>50.0</td>\n",
       "    </tr>\n",
       "    <tr>\n",
       "      <th>172173</th>\n",
       "      <td>172174</td>\n",
       "      <td>68871</td>\n",
       "      <td>502</td>\n",
       "      <td>4</td>\n",
       "      <td>200.0</td>\n",
       "      <td>50.0</td>\n",
       "    </tr>\n",
       "    <tr>\n",
       "      <th>172189</th>\n",
       "      <td>172190</td>\n",
       "      <td>68880</td>\n",
       "      <td>502</td>\n",
       "      <td>5</td>\n",
       "      <td>250.0</td>\n",
       "      <td>50.0</td>\n",
       "    </tr>\n",
       "    <tr>\n",
       "      <th>172195</th>\n",
       "      <td>172196</td>\n",
       "      <td>68882</td>\n",
       "      <td>502</td>\n",
       "      <td>1</td>\n",
       "      <td>50.0</td>\n",
       "      <td>50.0</td>\n",
       "    </tr>\n",
       "    <tr>\n",
       "      <th>172197</th>\n",
       "      <td>172198</td>\n",
       "      <td>68883</td>\n",
       "      <td>502</td>\n",
       "      <td>3</td>\n",
       "      <td>150.0</td>\n",
       "      <td>50.0</td>\n",
       "    </tr>\n",
       "  </tbody>\n",
       "</table>\n",
       "<p>21035 rows × 6 columns</p>\n",
       "</div>"
      ],
      "text/plain": [
       "        order_item_id  order_item_order_id  order_item_product_id  \\\n",
       "2                   3                    2                    502   \n",
       "6                   7                    4                    502   \n",
       "19                 20                    8                    502   \n",
       "37                 38                   12                    502   \n",
       "41                 42                   14                    502   \n",
       "...               ...                  ...                    ...   \n",
       "172151         172152                68861                    502   \n",
       "172173         172174                68871                    502   \n",
       "172189         172190                68880                    502   \n",
       "172195         172196                68882                    502   \n",
       "172197         172198                68883                    502   \n",
       "\n",
       "        order_item_quantity  order_item_subtotal  order_item_product_price  \n",
       "2                         5                250.0                      50.0  \n",
       "6                         3                150.0                      50.0  \n",
       "19                        1                 50.0                      50.0  \n",
       "37                        5                250.0                      50.0  \n",
       "41                        1                 50.0                      50.0  \n",
       "...                     ...                  ...                       ...  \n",
       "172151                    4                200.0                      50.0  \n",
       "172173                    4                200.0                      50.0  \n",
       "172189                    5                250.0                      50.0  \n",
       "172195                    1                 50.0                      50.0  \n",
       "172197                    3                150.0                      50.0  \n",
       "\n",
       "[21035 rows x 6 columns]"
      ]
     },
     "execution_count": 27,
     "metadata": {},
     "output_type": "execute_result"
    }
   ],
   "source": [
    "order_items_502 = order_items.query('order_item_product_id == 502')\n",
    "order_items_502"
   ]
  },
  {
   "cell_type": "code",
   "execution_count": 28,
   "id": "3903dd59-f5d4-4b04-bd9b-cc061e07fa78",
   "metadata": {},
   "outputs": [
    {
     "data": {
      "text/plain": [
       "order_item_quantity      62956.0\n",
       "order_item_subtotal    3147800.0\n",
       "dtype: float64"
      ]
     },
     "execution_count": 28,
     "metadata": {},
     "output_type": "execute_result"
    }
   ],
   "source": [
    "order_items_502[['order_item_quantity', 'order_item_subtotal']].sum()"
   ]
  },
  {
   "cell_type": "code",
   "execution_count": 29,
   "id": "2d96da2b-dd80-4752-a438-b8c8a24beab5",
   "metadata": {},
   "outputs": [
    {
     "data": {
      "text/plain": [
       "(62956.0, 3147800.0)"
      ]
     },
     "execution_count": 29,
     "metadata": {},
     "output_type": "execute_result"
    }
   ],
   "source": [
    "tuple(order_items_502[['order_item_quantity', 'order_item_subtotal']].sum())"
   ]
  },
  {
   "cell_type": "code",
   "execution_count": 30,
   "id": "8dffaa4c-ca3d-4df7-a9f7-85e2d07dbc83",
   "metadata": {},
   "outputs": [
    {
     "data": {
      "text/plain": [
       "{'order_item_quantity': 62956.0, 'order_item_subtotal': 3147800.0}"
      ]
     },
     "execution_count": 30,
     "metadata": {},
     "output_type": "execute_result"
    }
   ],
   "source": [
    "dict(order_items_502[['order_item_quantity', 'order_item_subtotal']].sum())"
   ]
  },
  {
   "cell_type": "markdown",
   "id": "bd421123-4902-439f-be42-3f6e95767711",
   "metadata": {},
   "source": [
    "Task 4:\n",
    "Create a collection with sales and commission percentage. Using that collection compute total commission amount. If the commission percent is None or not present, treat it as 0.\n",
    "* Each element in the collection should be a tuple.\n",
    "* First element is the sales amount and second element is commission percentage.\n",
    "* Commission for each sale can be computed by multiplying commission percentage with sales (make sure to divide commission percentage by 100).\n",
    "* Some of the records does not have commission percentage, in that case commission amount for that sale shall be 0"
   ]
  },
  {
   "cell_type": "code",
   "execution_count": 31,
   "id": "170d5e9a-dab7-4a1b-be3a-ee002f385ed0",
   "metadata": {},
   "outputs": [],
   "source": [
    "transactions = [(376.0, 8),\n",
    "(548.23, 14),\n",
    "(107.93, 8),\n",
    "(838.22, 14),\n",
    "(846.85, 21),\n",
    "(234.84,),\n",
    "(850.2, 21),\n",
    "(992.2, 21),\n",
    "(267.01,),\n",
    "(958.91, 21),\n",
    "(412.59,),\n",
    "(283.14,),\n",
    "(350.01, 14),\n",
    "(226.95,),\n",
    "(132.7, 14)]"
   ]
  },
  {
   "cell_type": "code",
   "execution_count": 32,
   "id": "12d1fd6e-4c17-4e4d-a816-a9b9f2f36067",
   "metadata": {},
   "outputs": [],
   "source": [
    "sales = pd.DataFrame(transactions, columns=['sale_amount','comission_pct'])"
   ]
  },
  {
   "cell_type": "code",
   "execution_count": 33,
   "id": "f0a7980e-7b85-4dd7-8b8a-90d33704b021",
   "metadata": {},
   "outputs": [
    {
     "data": {
      "text/html": [
       "<div>\n",
       "<style scoped>\n",
       "    .dataframe tbody tr th:only-of-type {\n",
       "        vertical-align: middle;\n",
       "    }\n",
       "\n",
       "    .dataframe tbody tr th {\n",
       "        vertical-align: top;\n",
       "    }\n",
       "\n",
       "    .dataframe thead th {\n",
       "        text-align: right;\n",
       "    }\n",
       "</style>\n",
       "<table border=\"1\" class=\"dataframe\">\n",
       "  <thead>\n",
       "    <tr style=\"text-align: right;\">\n",
       "      <th></th>\n",
       "      <th>sale_amount</th>\n",
       "      <th>comission_pct</th>\n",
       "    </tr>\n",
       "  </thead>\n",
       "  <tbody>\n",
       "    <tr>\n",
       "      <th>0</th>\n",
       "      <td>376.00</td>\n",
       "      <td>8.0</td>\n",
       "    </tr>\n",
       "    <tr>\n",
       "      <th>1</th>\n",
       "      <td>548.23</td>\n",
       "      <td>14.0</td>\n",
       "    </tr>\n",
       "    <tr>\n",
       "      <th>2</th>\n",
       "      <td>107.93</td>\n",
       "      <td>8.0</td>\n",
       "    </tr>\n",
       "    <tr>\n",
       "      <th>3</th>\n",
       "      <td>838.22</td>\n",
       "      <td>14.0</td>\n",
       "    </tr>\n",
       "    <tr>\n",
       "      <th>4</th>\n",
       "      <td>846.85</td>\n",
       "      <td>21.0</td>\n",
       "    </tr>\n",
       "    <tr>\n",
       "      <th>5</th>\n",
       "      <td>234.84</td>\n",
       "      <td>NaN</td>\n",
       "    </tr>\n",
       "    <tr>\n",
       "      <th>6</th>\n",
       "      <td>850.20</td>\n",
       "      <td>21.0</td>\n",
       "    </tr>\n",
       "    <tr>\n",
       "      <th>7</th>\n",
       "      <td>992.20</td>\n",
       "      <td>21.0</td>\n",
       "    </tr>\n",
       "    <tr>\n",
       "      <th>8</th>\n",
       "      <td>267.01</td>\n",
       "      <td>NaN</td>\n",
       "    </tr>\n",
       "    <tr>\n",
       "      <th>9</th>\n",
       "      <td>958.91</td>\n",
       "      <td>21.0</td>\n",
       "    </tr>\n",
       "    <tr>\n",
       "      <th>10</th>\n",
       "      <td>412.59</td>\n",
       "      <td>NaN</td>\n",
       "    </tr>\n",
       "    <tr>\n",
       "      <th>11</th>\n",
       "      <td>283.14</td>\n",
       "      <td>NaN</td>\n",
       "    </tr>\n",
       "    <tr>\n",
       "      <th>12</th>\n",
       "      <td>350.01</td>\n",
       "      <td>14.0</td>\n",
       "    </tr>\n",
       "    <tr>\n",
       "      <th>13</th>\n",
       "      <td>226.95</td>\n",
       "      <td>NaN</td>\n",
       "    </tr>\n",
       "    <tr>\n",
       "      <th>14</th>\n",
       "      <td>132.70</td>\n",
       "      <td>14.0</td>\n",
       "    </tr>\n",
       "  </tbody>\n",
       "</table>\n",
       "</div>"
      ],
      "text/plain": [
       "    sale_amount  comission_pct\n",
       "0        376.00            8.0\n",
       "1        548.23           14.0\n",
       "2        107.93            8.0\n",
       "3        838.22           14.0\n",
       "4        846.85           21.0\n",
       "5        234.84            NaN\n",
       "6        850.20           21.0\n",
       "7        992.20           21.0\n",
       "8        267.01            NaN\n",
       "9        958.91           21.0\n",
       "10       412.59            NaN\n",
       "11       283.14            NaN\n",
       "12       350.01           14.0\n",
       "13       226.95            NaN\n",
       "14       132.70           14.0"
      ]
     },
     "execution_count": 33,
     "metadata": {},
     "output_type": "execute_result"
    }
   ],
   "source": [
    "sales"
   ]
  },
  {
   "cell_type": "code",
   "execution_count": 34,
   "id": "dc5f282c-8366-496d-a803-f2b02df987ba",
   "metadata": {},
   "outputs": [],
   "source": [
    "sales = sales.fillna(0.0)"
   ]
  },
  {
   "cell_type": "code",
   "execution_count": 35,
   "id": "875df50c-24fe-4cc4-b064-2ff2b09b2f83",
   "metadata": {},
   "outputs": [
    {
     "data": {
      "text/html": [
       "<div>\n",
       "<style scoped>\n",
       "    .dataframe tbody tr th:only-of-type {\n",
       "        vertical-align: middle;\n",
       "    }\n",
       "\n",
       "    .dataframe tbody tr th {\n",
       "        vertical-align: top;\n",
       "    }\n",
       "\n",
       "    .dataframe thead th {\n",
       "        text-align: right;\n",
       "    }\n",
       "</style>\n",
       "<table border=\"1\" class=\"dataframe\">\n",
       "  <thead>\n",
       "    <tr style=\"text-align: right;\">\n",
       "      <th></th>\n",
       "      <th>sale_amount</th>\n",
       "      <th>comission_pct</th>\n",
       "    </tr>\n",
       "  </thead>\n",
       "  <tbody>\n",
       "    <tr>\n",
       "      <th>0</th>\n",
       "      <td>376.00</td>\n",
       "      <td>8.0</td>\n",
       "    </tr>\n",
       "    <tr>\n",
       "      <th>1</th>\n",
       "      <td>548.23</td>\n",
       "      <td>14.0</td>\n",
       "    </tr>\n",
       "    <tr>\n",
       "      <th>2</th>\n",
       "      <td>107.93</td>\n",
       "      <td>8.0</td>\n",
       "    </tr>\n",
       "    <tr>\n",
       "      <th>3</th>\n",
       "      <td>838.22</td>\n",
       "      <td>14.0</td>\n",
       "    </tr>\n",
       "    <tr>\n",
       "      <th>4</th>\n",
       "      <td>846.85</td>\n",
       "      <td>21.0</td>\n",
       "    </tr>\n",
       "    <tr>\n",
       "      <th>5</th>\n",
       "      <td>234.84</td>\n",
       "      <td>0.0</td>\n",
       "    </tr>\n",
       "    <tr>\n",
       "      <th>6</th>\n",
       "      <td>850.20</td>\n",
       "      <td>21.0</td>\n",
       "    </tr>\n",
       "    <tr>\n",
       "      <th>7</th>\n",
       "      <td>992.20</td>\n",
       "      <td>21.0</td>\n",
       "    </tr>\n",
       "    <tr>\n",
       "      <th>8</th>\n",
       "      <td>267.01</td>\n",
       "      <td>0.0</td>\n",
       "    </tr>\n",
       "    <tr>\n",
       "      <th>9</th>\n",
       "      <td>958.91</td>\n",
       "      <td>21.0</td>\n",
       "    </tr>\n",
       "    <tr>\n",
       "      <th>10</th>\n",
       "      <td>412.59</td>\n",
       "      <td>0.0</td>\n",
       "    </tr>\n",
       "    <tr>\n",
       "      <th>11</th>\n",
       "      <td>283.14</td>\n",
       "      <td>0.0</td>\n",
       "    </tr>\n",
       "    <tr>\n",
       "      <th>12</th>\n",
       "      <td>350.01</td>\n",
       "      <td>14.0</td>\n",
       "    </tr>\n",
       "    <tr>\n",
       "      <th>13</th>\n",
       "      <td>226.95</td>\n",
       "      <td>0.0</td>\n",
       "    </tr>\n",
       "    <tr>\n",
       "      <th>14</th>\n",
       "      <td>132.70</td>\n",
       "      <td>14.0</td>\n",
       "    </tr>\n",
       "  </tbody>\n",
       "</table>\n",
       "</div>"
      ],
      "text/plain": [
       "    sale_amount  comission_pct\n",
       "0        376.00            8.0\n",
       "1        548.23           14.0\n",
       "2        107.93            8.0\n",
       "3        838.22           14.0\n",
       "4        846.85           21.0\n",
       "5        234.84            0.0\n",
       "6        850.20           21.0\n",
       "7        992.20           21.0\n",
       "8        267.01            0.0\n",
       "9        958.91           21.0\n",
       "10       412.59            0.0\n",
       "11       283.14            0.0\n",
       "12       350.01           14.0\n",
       "13       226.95            0.0\n",
       "14       132.70           14.0"
      ]
     },
     "execution_count": 35,
     "metadata": {},
     "output_type": "execute_result"
    }
   ],
   "source": [
    "sales"
   ]
  },
  {
   "cell_type": "code",
   "execution_count": 36,
   "id": "291d50ae-95f4-4277-a62f-c9c8eb11b6d3",
   "metadata": {},
   "outputs": [
    {
     "data": {
      "text/plain": [
       "1066.5104000000001"
      ]
     },
     "execution_count": 36,
     "metadata": {},
     "output_type": "execute_result"
    }
   ],
   "source": [
    "(sales.sale_amount * (sales.comission_pct / 100)).sum()"
   ]
  },
  {
   "cell_type": "code",
   "execution_count": 37,
   "id": "4720ebb7-27f6-454d-8610-3192ef8a002e",
   "metadata": {},
   "outputs": [
    {
     "data": {
      "text/plain": [
       "1066.51"
      ]
     },
     "execution_count": 37,
     "metadata": {},
     "output_type": "execute_result"
    }
   ],
   "source": [
    "(sales.sale_amount * (sales.comission_pct / 100)).sum().round(2)"
   ]
  }
 ],
 "metadata": {
  "kernelspec": {
   "display_name": "Python 3",
   "language": "python",
   "name": "python3"
  },
  "language_info": {
   "codemirror_mode": {
    "name": "ipython",
    "version": 3
   },
   "file_extension": ".py",
   "mimetype": "text/x-python",
   "name": "python",
   "nbconvert_exporter": "python",
   "pygments_lexer": "ipython3",
   "version": "3.6.9"
  }
 },
 "nbformat": 4,
 "nbformat_minor": 5
}
