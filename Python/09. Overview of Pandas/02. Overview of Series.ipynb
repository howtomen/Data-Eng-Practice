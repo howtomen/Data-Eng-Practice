{
 "cells": [
  {
   "cell_type": "markdown",
   "id": "acc5a9ec-598d-415b-9398-236ed6bd5719",
   "metadata": {},
   "source": [
    "# Overview of Series:\n",
    "Let us quickly go through one of the Pandas Data Structure - Series.\n",
    "* Pandas Series is a one-dimensional labeled array capable of holding any data type.\n",
    "* It is similar to one column in an excel spreadsheet or a database table.\n",
    "* We can create Series by using dict."
   ]
  },
  {
   "cell_type": "code",
   "execution_count": 1,
   "id": "eeb1abdd-4728-4ee9-a11f-a255edf6db07",
   "metadata": {},
   "outputs": [],
   "source": [
    "d = {\"JAN\": 10, \"FEB\": 15, \"MAR\": 12, \"APR\": 16}"
   ]
  },
  {
   "cell_type": "code",
   "execution_count": 2,
   "id": "521c6e58-61cd-4769-b90f-339ed94f515b",
   "metadata": {},
   "outputs": [
    {
     "data": {
      "text/plain": [
       "dict"
      ]
     },
     "execution_count": 2,
     "metadata": {},
     "output_type": "execute_result"
    }
   ],
   "source": [
    "type(d)"
   ]
  },
  {
   "cell_type": "code",
   "execution_count": 3,
   "id": "92b1b0a0-2ce8-4e37-ac93-02d9aa829687",
   "metadata": {},
   "outputs": [],
   "source": [
    "import pandas as pd\n",
    "s = pd.Series(d)"
   ]
  },
  {
   "cell_type": "code",
   "execution_count": 4,
   "id": "88e5bda7-db3e-4e67-ab9e-57b9761c4b68",
   "metadata": {},
   "outputs": [
    {
     "data": {
      "text/plain": [
       "JAN    10\n",
       "FEB    15\n",
       "MAR    12\n",
       "APR    16\n",
       "dtype: int64"
      ]
     },
     "execution_count": 4,
     "metadata": {},
     "output_type": "execute_result"
    }
   ],
   "source": [
    "s"
   ]
  },
  {
   "cell_type": "code",
   "execution_count": 5,
   "id": "9cbaf351-f608-4b69-a3b5-1e2b0460eaeb",
   "metadata": {},
   "outputs": [
    {
     "data": {
      "text/plain": [
       "15"
      ]
     },
     "execution_count": 5,
     "metadata": {},
     "output_type": "execute_result"
    }
   ],
   "source": [
    "s['FEB']"
   ]
  },
  {
   "cell_type": "code",
   "execution_count": 6,
   "id": "8054ad01-82d5-443b-837c-7507584e9606",
   "metadata": {},
   "outputs": [
    {
     "data": {
      "text/plain": [
       "FEB    15\n",
       "MAR    12\n",
       "dtype: int64"
      ]
     },
     "execution_count": 6,
     "metadata": {},
     "output_type": "execute_result"
    }
   ],
   "source": [
    "s[1:3]"
   ]
  },
  {
   "cell_type": "code",
   "execution_count": 7,
   "id": "acf2b3fe-0af9-4c61-8267-7a93540bef8f",
   "metadata": {},
   "outputs": [
    {
     "data": {
      "text/plain": [
       "10"
      ]
     },
     "execution_count": 7,
     "metadata": {},
     "output_type": "execute_result"
    }
   ],
   "source": [
    "s[0]"
   ]
  },
  {
   "cell_type": "code",
   "execution_count": 8,
   "id": "71c10354-c6b3-40f4-9312-281c418be980",
   "metadata": {},
   "outputs": [
    {
     "data": {
      "text/plain": [
       "53"
      ]
     },
     "execution_count": 8,
     "metadata": {},
     "output_type": "execute_result"
    }
   ],
   "source": [
    "s.sum()"
   ]
  },
  {
   "cell_type": "code",
   "execution_count": 9,
   "id": "c715cc59-c39f-4f82-b79a-938a2e661f95",
   "metadata": {},
   "outputs": [
    {
     "data": {
      "text/plain": [
       "pandas.core.series.Series"
      ]
     },
     "execution_count": 9,
     "metadata": {},
     "output_type": "execute_result"
    }
   ],
   "source": [
    "type(s)"
   ]
  },
  {
   "cell_type": "code",
   "execution_count": 10,
   "id": "eb146048-e770-4728-b7af-a962daa1774c",
   "metadata": {},
   "outputs": [],
   "source": [
    "l = [10,15,12,16]"
   ]
  },
  {
   "cell_type": "code",
   "execution_count": 11,
   "id": "5f12f07d-40b7-45d4-b692-47bfebcb7fac",
   "metadata": {},
   "outputs": [],
   "source": [
    "l_s = pd.Series(l)"
   ]
  },
  {
   "cell_type": "code",
   "execution_count": 12,
   "id": "56c6477f-fcbf-499f-8e75-ff167a9bd020",
   "metadata": {},
   "outputs": [
    {
     "data": {
      "text/plain": [
       "0    10\n",
       "1    15\n",
       "2    12\n",
       "3    16\n",
       "dtype: int64"
      ]
     },
     "execution_count": 12,
     "metadata": {},
     "output_type": "execute_result"
    }
   ],
   "source": [
    "l_s"
   ]
  },
  {
   "cell_type": "code",
   "execution_count": 13,
   "id": "7251f0e5-089d-49da-ba0b-c645b426afbb",
   "metadata": {},
   "outputs": [
    {
     "data": {
      "text/plain": [
       "10"
      ]
     },
     "execution_count": 13,
     "metadata": {},
     "output_type": "execute_result"
    }
   ],
   "source": [
    "l_s[0]"
   ]
  },
  {
   "cell_type": "markdown",
   "id": "9dc1ef85-88e9-491b-8129-6fd50f5ec570",
   "metadata": {},
   "source": [
    "* When we fetch only one column from a Pandas Dataframe, it will be returned as Series.\n",
    "\n",
    "## Note:\n",
    "Don’t worry too much about creating Data Frames yet, we are trying to understand how Data Frame and Series are related."
   ]
  },
  {
   "cell_type": "code",
   "execution_count": 14,
   "id": "40eb5026-e791-40a9-afd6-ee90cf124467",
   "metadata": {},
   "outputs": [],
   "source": [
    "orders_path = \"/home/ilovemyh2o/retail_db/orders/part-00000\""
   ]
  },
  {
   "cell_type": "code",
   "execution_count": 15,
   "id": "2958b6a5-858c-4154-884b-e00c10d872f6",
   "metadata": {},
   "outputs": [],
   "source": [
    "orders_schema = [\n",
    "  \"order_id\",\n",
    "  \"order_date\",\n",
    "  \"order_customer_id\",\n",
    "  \"order_status\"\n",
    "]"
   ]
  },
  {
   "cell_type": "code",
   "execution_count": 17,
   "id": "9de3ecd4-e1bc-4078-beb9-f9a3d5a8f860",
   "metadata": {},
   "outputs": [],
   "source": [
    "orders = pd.read_csv(orders_path, header= None, names = orders_schema)"
   ]
  },
  {
   "cell_type": "code",
   "execution_count": 18,
   "id": "960e6e6f-be26-47ba-8c58-c758b94f28e1",
   "metadata": {},
   "outputs": [
    {
     "data": {
      "text/html": [
       "<div>\n",
       "<style scoped>\n",
       "    .dataframe tbody tr th:only-of-type {\n",
       "        vertical-align: middle;\n",
       "    }\n",
       "\n",
       "    .dataframe tbody tr th {\n",
       "        vertical-align: top;\n",
       "    }\n",
       "\n",
       "    .dataframe thead th {\n",
       "        text-align: right;\n",
       "    }\n",
       "</style>\n",
       "<table border=\"1\" class=\"dataframe\">\n",
       "  <thead>\n",
       "    <tr style=\"text-align: right;\">\n",
       "      <th></th>\n",
       "      <th>order_id</th>\n",
       "      <th>order_date</th>\n",
       "      <th>order_customer_id</th>\n",
       "      <th>order_status</th>\n",
       "    </tr>\n",
       "  </thead>\n",
       "  <tbody>\n",
       "    <tr>\n",
       "      <th>0</th>\n",
       "      <td>1</td>\n",
       "      <td>2013-07-25 00:00:00.0</td>\n",
       "      <td>11599</td>\n",
       "      <td>CLOSED</td>\n",
       "    </tr>\n",
       "    <tr>\n",
       "      <th>1</th>\n",
       "      <td>2</td>\n",
       "      <td>2013-07-25 00:00:00.0</td>\n",
       "      <td>256</td>\n",
       "      <td>PENDING_PAYMENT</td>\n",
       "    </tr>\n",
       "    <tr>\n",
       "      <th>2</th>\n",
       "      <td>3</td>\n",
       "      <td>2013-07-25 00:00:00.0</td>\n",
       "      <td>12111</td>\n",
       "      <td>COMPLETE</td>\n",
       "    </tr>\n",
       "    <tr>\n",
       "      <th>3</th>\n",
       "      <td>4</td>\n",
       "      <td>2013-07-25 00:00:00.0</td>\n",
       "      <td>8827</td>\n",
       "      <td>CLOSED</td>\n",
       "    </tr>\n",
       "    <tr>\n",
       "      <th>4</th>\n",
       "      <td>5</td>\n",
       "      <td>2013-07-25 00:00:00.0</td>\n",
       "      <td>11318</td>\n",
       "      <td>COMPLETE</td>\n",
       "    </tr>\n",
       "    <tr>\n",
       "      <th>...</th>\n",
       "      <td>...</td>\n",
       "      <td>...</td>\n",
       "      <td>...</td>\n",
       "      <td>...</td>\n",
       "    </tr>\n",
       "    <tr>\n",
       "      <th>68878</th>\n",
       "      <td>68879</td>\n",
       "      <td>2014-07-09 00:00:00.0</td>\n",
       "      <td>778</td>\n",
       "      <td>COMPLETE</td>\n",
       "    </tr>\n",
       "    <tr>\n",
       "      <th>68879</th>\n",
       "      <td>68880</td>\n",
       "      <td>2014-07-13 00:00:00.0</td>\n",
       "      <td>1117</td>\n",
       "      <td>COMPLETE</td>\n",
       "    </tr>\n",
       "    <tr>\n",
       "      <th>68880</th>\n",
       "      <td>68881</td>\n",
       "      <td>2014-07-19 00:00:00.0</td>\n",
       "      <td>2518</td>\n",
       "      <td>PENDING_PAYMENT</td>\n",
       "    </tr>\n",
       "    <tr>\n",
       "      <th>68881</th>\n",
       "      <td>68882</td>\n",
       "      <td>2014-07-22 00:00:00.0</td>\n",
       "      <td>10000</td>\n",
       "      <td>ON_HOLD</td>\n",
       "    </tr>\n",
       "    <tr>\n",
       "      <th>68882</th>\n",
       "      <td>68883</td>\n",
       "      <td>2014-07-23 00:00:00.0</td>\n",
       "      <td>5533</td>\n",
       "      <td>COMPLETE</td>\n",
       "    </tr>\n",
       "  </tbody>\n",
       "</table>\n",
       "<p>68883 rows × 4 columns</p>\n",
       "</div>"
      ],
      "text/plain": [
       "       order_id             order_date  order_customer_id     order_status\n",
       "0             1  2013-07-25 00:00:00.0              11599           CLOSED\n",
       "1             2  2013-07-25 00:00:00.0                256  PENDING_PAYMENT\n",
       "2             3  2013-07-25 00:00:00.0              12111         COMPLETE\n",
       "3             4  2013-07-25 00:00:00.0               8827           CLOSED\n",
       "4             5  2013-07-25 00:00:00.0              11318         COMPLETE\n",
       "...         ...                    ...                ...              ...\n",
       "68878     68879  2014-07-09 00:00:00.0                778         COMPLETE\n",
       "68879     68880  2014-07-13 00:00:00.0               1117         COMPLETE\n",
       "68880     68881  2014-07-19 00:00:00.0               2518  PENDING_PAYMENT\n",
       "68881     68882  2014-07-22 00:00:00.0              10000          ON_HOLD\n",
       "68882     68883  2014-07-23 00:00:00.0               5533         COMPLETE\n",
       "\n",
       "[68883 rows x 4 columns]"
      ]
     },
     "execution_count": 18,
     "metadata": {},
     "output_type": "execute_result"
    }
   ],
   "source": [
    "orders"
   ]
  },
  {
   "cell_type": "code",
   "execution_count": 19,
   "id": "4dd65cb5-eddb-47fc-9081-fb964adba343",
   "metadata": {},
   "outputs": [
    {
     "data": {
      "text/plain": [
       "pandas.core.frame.DataFrame"
      ]
     },
     "execution_count": 19,
     "metadata": {},
     "output_type": "execute_result"
    }
   ],
   "source": [
    "type(orders)"
   ]
  },
  {
   "cell_type": "code",
   "execution_count": 20,
   "id": "ca012f0d-3de4-4060-bad1-dc95718932d9",
   "metadata": {},
   "outputs": [
    {
     "data": {
      "text/plain": [
       "0        2013-07-25 00:00:00.0\n",
       "1        2013-07-25 00:00:00.0\n",
       "2        2013-07-25 00:00:00.0\n",
       "3        2013-07-25 00:00:00.0\n",
       "4        2013-07-25 00:00:00.0\n",
       "                 ...          \n",
       "68878    2014-07-09 00:00:00.0\n",
       "68879    2014-07-13 00:00:00.0\n",
       "68880    2014-07-19 00:00:00.0\n",
       "68881    2014-07-22 00:00:00.0\n",
       "68882    2014-07-23 00:00:00.0\n",
       "Name: order_date, Length: 68883, dtype: object"
      ]
     },
     "execution_count": 20,
     "metadata": {},
     "output_type": "execute_result"
    }
   ],
   "source": [
    "orders.order_date"
   ]
  },
  {
   "cell_type": "code",
   "execution_count": 21,
   "id": "10226cbb-da49-44a5-bd30-1b648b50d121",
   "metadata": {},
   "outputs": [
    {
     "data": {
      "text/plain": [
       "0        2013-07-25 00:00:00.0\n",
       "1        2013-07-25 00:00:00.0\n",
       "2        2013-07-25 00:00:00.0\n",
       "3        2013-07-25 00:00:00.0\n",
       "4        2013-07-25 00:00:00.0\n",
       "                 ...          \n",
       "68878    2014-07-09 00:00:00.0\n",
       "68879    2014-07-13 00:00:00.0\n",
       "68880    2014-07-19 00:00:00.0\n",
       "68881    2014-07-22 00:00:00.0\n",
       "68882    2014-07-23 00:00:00.0\n",
       "Name: order_date, Length: 68883, dtype: object"
      ]
     },
     "execution_count": 21,
     "metadata": {},
     "output_type": "execute_result"
    }
   ],
   "source": [
    "order_dates = orders.order_date\n",
    "order_dates"
   ]
  },
  {
   "cell_type": "code",
   "execution_count": 22,
   "id": "b9a27357-5d25-45db-b523-68e20757785f",
   "metadata": {},
   "outputs": [
    {
     "data": {
      "text/plain": [
       "pandas.core.series.Series"
      ]
     },
     "execution_count": 22,
     "metadata": {},
     "output_type": "execute_result"
    }
   ],
   "source": [
    "type(order_dates)"
   ]
  }
 ],
 "metadata": {
  "kernelspec": {
   "display_name": "Python 3",
   "language": "python",
   "name": "python3"
  },
  "language_info": {
   "codemirror_mode": {
    "name": "ipython",
    "version": 3
   },
   "file_extension": ".py",
   "mimetype": "text/x-python",
   "name": "python",
   "nbconvert_exporter": "python",
   "pygments_lexer": "ipython3",
   "version": "3.6.9"
  }
 },
 "nbformat": 4,
 "nbformat_minor": 5
}
