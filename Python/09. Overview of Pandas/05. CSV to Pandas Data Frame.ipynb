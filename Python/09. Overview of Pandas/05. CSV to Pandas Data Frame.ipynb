{
 "cells": [
  {
   "cell_type": "markdown",
   "id": "e69c90fe-8235-4dbc-b894-31dd43b4c31f",
   "metadata": {},
   "source": [
    "# CSV o Pandas Data Frame:\n",
    "Let us see how we can create Pandas Data Frames using data from files. `read_csv` is the most popular API to create a Data Frame by reading data from files.\n",
    "* Here are some of the important options.\n",
    "    * sep or delimiter\n",
    "    * header or names\n",
    "    * index_col\n",
    "    * dtype\n",
    "    * and many more\n",
    "* We have several other APIs which will facilitate us to create Data Frame\n",
    "    * read_fwf\n",
    "    * read_table\n",
    "    * pandas.io.json\n",
    "    * and more\n",
    "* Here is how we can create a Data Frame for orders dataset.\n",
    "    * Delimiter in our data is , which is default for Pandas `read_csv`.\n",
    "    * There is no Header and hence we have to set keyword argument `header` to None.\n",
    "    * We can pass the column names as a list using keyword argument `columns`.\n",
    "    * Data types of each column are typically inferred based on the data, however we can explicitly specify Data Types using `dtype`."
   ]
  },
  {
   "cell_type": "code",
   "execution_count": 8,
   "id": "f0079f55-d1f5-4c6f-854a-00d5cd7febe8",
   "metadata": {},
   "outputs": [],
   "source": [
    "# Note this file can be used to load up retail DB data into pandas Data Frame"
   ]
  },
  {
   "cell_type": "code",
   "execution_count": 1,
   "id": "17beb0d0-1128-4241-87d2-e7803c7b8d44",
   "metadata": {},
   "outputs": [],
   "source": [
    "import pandas as pd"
   ]
  },
  {
   "cell_type": "code",
   "execution_count": 2,
   "id": "9b393b44-677d-467d-816a-5c3f59542da9",
   "metadata": {},
   "outputs": [],
   "source": [
    "orders_path = \"/home/ilovemyh2o/retail_db/orders/part-00000\""
   ]
  },
  {
   "cell_type": "code",
   "execution_count": 3,
   "id": "f791c699-c7d3-40c6-9730-fdf79dcf6207",
   "metadata": {},
   "outputs": [],
   "source": [
    "orders_schema = [\n",
    "    \"order_id\",\n",
    "    \"order_date\",\n",
    "    \"order_customer_id\",\n",
    "    \"order_status\"\n",
    "]"
   ]
  },
  {
   "cell_type": "code",
   "execution_count": 4,
   "id": "475fbb37-9212-451b-8e7e-0223125f4f4b",
   "metadata": {},
   "outputs": [],
   "source": [
    "orders = pd.read_csv(orders_path,\n",
    "                     delimiter=',',\n",
    "                     header=None,\n",
    "                     names=orders_schema\n",
    "                    )"
   ]
  },
  {
   "cell_type": "code",
   "execution_count": 5,
   "id": "d3138ac6-823d-46d6-b078-eb69911c4daa",
   "metadata": {},
   "outputs": [],
   "source": [
    "order_items_path = \"/home/ilovemyh2o/retail_db/order_items/part-00000\""
   ]
  },
  {
   "cell_type": "code",
   "execution_count": 6,
   "id": "42114190-0057-4708-a095-1ba428ae5c86",
   "metadata": {},
   "outputs": [],
   "source": [
    "order_items_schema = [\n",
    "    \"order_item_id\",\n",
    "    \"order_item_order_id\",\n",
    "    \"order_item_product_id\",\n",
    "    \"order_item_quantity\",\n",
    "    \"order_item_subtotal\",\n",
    "    \"order_item_product_price\"\n",
    "]"
   ]
  },
  {
   "cell_type": "code",
   "execution_count": 7,
   "id": "e3787367-630c-4557-ac81-b400d332c3ea",
   "metadata": {},
   "outputs": [],
   "source": [
    "order_items = pd.read_csv(order_items_path,\n",
    "                     delimiter=',',\n",
    "                     header=None,\n",
    "                     names=order_items_schema\n",
    "                    )"
   ]
  }
 ],
 "metadata": {
  "kernelspec": {
   "display_name": "Python 3",
   "language": "python",
   "name": "python3"
  },
  "language_info": {
   "codemirror_mode": {
    "name": "ipython",
    "version": 3
   },
   "file_extension": ".py",
   "mimetype": "text/x-python",
   "name": "python",
   "nbconvert_exporter": "python",
   "pygments_lexer": "ipython3",
   "version": "3.6.9"
  }
 },
 "nbformat": 4,
 "nbformat_minor": 5
}
