{
 "cells": [
  {
   "cell_type": "code",
   "execution_count": 1,
   "id": "6838e658-cae7-4deb-a5f4-2bc3a6e76ffc",
   "metadata": {},
   "outputs": [],
   "source": [
    "import psycopg2"
   ]
  },
  {
   "cell_type": "code",
   "execution_count": 2,
   "id": "4851dcdb-5554-48d6-b40a-9403a8d17716",
   "metadata": {},
   "outputs": [
    {
     "data": {
      "text/plain": [
       "\u001b[0;31mSignature:\u001b[0m\n",
       "\u001b[0mpsycopg2\u001b[0m\u001b[0;34m.\u001b[0m\u001b[0mconnect\u001b[0m\u001b[0;34m(\u001b[0m\u001b[0;34m\u001b[0m\n",
       "\u001b[0;34m\u001b[0m    \u001b[0mdsn\u001b[0m\u001b[0;34m=\u001b[0m\u001b[0;32mNone\u001b[0m\u001b[0;34m,\u001b[0m\u001b[0;34m\u001b[0m\n",
       "\u001b[0;34m\u001b[0m    \u001b[0mconnection_factory\u001b[0m\u001b[0;34m=\u001b[0m\u001b[0;32mNone\u001b[0m\u001b[0;34m,\u001b[0m\u001b[0;34m\u001b[0m\n",
       "\u001b[0;34m\u001b[0m    \u001b[0mcursor_factory\u001b[0m\u001b[0;34m=\u001b[0m\u001b[0;32mNone\u001b[0m\u001b[0;34m,\u001b[0m\u001b[0;34m\u001b[0m\n",
       "\u001b[0;34m\u001b[0m    \u001b[0;34m**\u001b[0m\u001b[0mkwargs\u001b[0m\u001b[0;34m,\u001b[0m\u001b[0;34m\u001b[0m\n",
       "\u001b[0;34m\u001b[0m\u001b[0;34m)\u001b[0m\u001b[0;34m\u001b[0m\u001b[0;34m\u001b[0m\u001b[0m\n",
       "\u001b[0;31mDocstring:\u001b[0m\n",
       "Create a new database connection.\n",
       "\n",
       "The connection parameters can be specified as a string:\n",
       "\n",
       "    conn = psycopg2.connect(\"dbname=test user=postgres password=secret\")\n",
       "\n",
       "or using a set of keyword arguments:\n",
       "\n",
       "    conn = psycopg2.connect(database=\"test\", user=\"postgres\", password=\"secret\")\n",
       "\n",
       "Or as a mix of both. The basic connection parameters are:\n",
       "\n",
       "- *dbname*: the database name\n",
       "- *database*: the database name (only as keyword argument)\n",
       "- *user*: user name used to authenticate\n",
       "- *password*: password used to authenticate\n",
       "- *host*: database host address (defaults to UNIX socket if not provided)\n",
       "- *port*: connection port number (defaults to 5432 if not provided)\n",
       "\n",
       "Using the *connection_factory* parameter a different class or connections\n",
       "factory can be specified. It should be a callable object taking a dsn\n",
       "argument.\n",
       "\n",
       "Using the *cursor_factory* parameter, a new default cursor factory will be\n",
       "used by cursor().\n",
       "\n",
       "Using *async*=True an asynchronous connection will be created. *async_* is\n",
       "a valid alias (for Python versions where ``async`` is a keyword).\n",
       "\n",
       "Any other keyword parameter will be passed to the underlying client\n",
       "library: the list of supported parameters depends on the library version.\n",
       "\u001b[0;31mFile:\u001b[0m      ~/demojl/lib/python3.6/site-packages/psycopg2/__init__.py\n",
       "\u001b[0;31mType:\u001b[0m      function\n"
      ]
     },
     "metadata": {},
     "output_type": "display_data"
    }
   ],
   "source": [
    "psycopg2.connect?"
   ]
  },
  {
   "cell_type": "code",
   "execution_count": 11,
   "id": "6beed317-f339-4866-a304-0c8d1c709e9f",
   "metadata": {},
   "outputs": [],
   "source": [
    "connection = psycopg2.connect(\n",
    "    host = 'localhost',\n",
    "    port = '5432',\n",
    "    database = 'sms_db',\n",
    "    user = 'sms_user',\n",
    "    password = 'sms_password' \n",
    ")\n",
    "#connection.close()"
   ]
  },
  {
   "cell_type": "code",
   "execution_count": 12,
   "id": "7ed6a3dd-6db2-4429-971a-23f6e65700ab",
   "metadata": {},
   "outputs": [],
   "source": [
    "orders_cursor = connection.cursor()"
   ]
  },
  {
   "cell_type": "code",
   "execution_count": 13,
   "id": "26ccb09f-d575-46fb-bf39-89b9aa3030e9",
   "metadata": {},
   "outputs": [],
   "source": [
    "query = \"SELECT * FROM information_schema.tables LIMIT 10\"\n",
    "orders_cursor.execute(query)"
   ]
  },
  {
   "cell_type": "code",
   "execution_count": 14,
   "id": "53c68fd6-b216-4783-a7c9-7b1d5ecb4fa7",
   "metadata": {},
   "outputs": [
    {
     "name": "stdout",
     "output_type": "stream",
     "text": [
      "('sms_db', 'pg_catalog', 'pg_type', 'BASE TABLE', None, None, None, None, None, 'YES', 'NO', None)\n",
      "('sms_db', 'public', 'users', 'BASE TABLE', None, None, None, None, None, 'YES', 'NO', None)\n",
      "('sms_db', 'pg_catalog', 'pg_foreign_table', 'BASE TABLE', None, None, None, None, None, 'YES', 'NO', None)\n",
      "('sms_db', 'pg_catalog', 'pg_roles', 'VIEW', None, None, None, None, None, 'NO', 'NO', None)\n",
      "('sms_db', 'pg_catalog', 'pg_settings', 'VIEW', None, None, None, None, None, 'NO', 'NO', None)\n",
      "('sms_db', 'pg_catalog', 'pg_available_extension_versions', 'VIEW', None, None, None, None, None, 'NO', 'NO', None)\n",
      "('sms_db', 'pg_catalog', 'pg_stat_xact_user_functions', 'VIEW', None, None, None, None, None, 'NO', 'NO', None)\n",
      "('sms_db', 'pg_catalog', 'pg_subscription', 'BASE TABLE', None, None, None, None, None, 'YES', 'NO', None)\n",
      "('sms_db', 'pg_catalog', 'pg_attribute', 'BASE TABLE', None, None, None, None, None, 'YES', 'NO', None)\n",
      "('sms_db', 'pg_catalog', 'pg_proc', 'BASE TABLE', None, None, None, None, None, 'YES', 'NO', None)\n"
     ]
    }
   ],
   "source": [
    "for details in orders_cursor:\n",
    "    print(details)"
   ]
  },
  {
   "cell_type": "code",
   "execution_count": 15,
   "id": "20bd9770-dc22-456a-90f7-ac94f7b23c49",
   "metadata": {},
   "outputs": [],
   "source": [
    "connection.close()"
   ]
  },
  {
   "cell_type": "code",
   "execution_count": null,
   "id": "4e1379f3-abba-4b0d-916a-5cad7769e760",
   "metadata": {},
   "outputs": [],
   "source": []
  }
 ],
 "metadata": {
  "kernelspec": {
   "display_name": "Python 3",
   "language": "python",
   "name": "python3"
  },
  "language_info": {
   "codemirror_mode": {
    "name": "ipython",
    "version": 3
   },
   "file_extension": ".py",
   "mimetype": "text/x-python",
   "name": "python",
   "nbconvert_exporter": "python",
   "pygments_lexer": "ipython3",
   "version": "3.6.9"
  }
 },
 "nbformat": 4,
 "nbformat_minor": 5
}
