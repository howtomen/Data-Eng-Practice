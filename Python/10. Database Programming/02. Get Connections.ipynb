{
 "cells": [
  {
   "cell_type": "markdown",
   "id": "4f827e85-ffe3-4c35-9ea9-b718f180e2bf",
   "metadata": {},
   "source": [
    "# This File is to be used to get connections to databases for other files"
   ]
  },
  {
   "cell_type": "code",
   "execution_count": 1,
   "id": "22fa18bf-684a-4b96-bf35-63565c316b83",
   "metadata": {},
   "outputs": [],
   "source": [
    "import psycopg2\n",
    "\n",
    "def get_connection(host, port, database, user, password):\n",
    "    connection = None\n",
    "    try:\n",
    "        connection = psycopg2.connect(\n",
    "            host=host,\n",
    "            port=port,\n",
    "            database=database,\n",
    "            user=user,\n",
    "            password=password\n",
    "        )\n",
    "    except Exception as e:\n",
    "        raise(e)\n",
    "    \n",
    "    return connection"
   ]
  },
  {
   "cell_type": "code",
   "execution_count": 2,
   "id": "7c44e5a9-3ebe-4972-addd-6bbc6ee7ec39",
   "metadata": {},
   "outputs": [],
   "source": [
    "host = 'localhost'\n",
    "port = '5432'\n",
    "database = 'sms_db'\n",
    "user = 'sms_user'\n",
    "password = 'sms_password'\n",
    "\n",
    "sms_connection = get_connection(\n",
    "    host=host,\n",
    "    port=port,\n",
    "    database=database,\n",
    "    user=user,\n",
    "    password=password\n",
    ")"
   ]
  },
  {
   "cell_type": "code",
   "execution_count": 3,
   "id": "6489c248-179e-40aa-b4f6-409238e7c792",
   "metadata": {},
   "outputs": [],
   "source": [
    "host = 'localhost'\n",
    "port = '5432'\n",
    "database = 'retail_db'\n",
    "user = 'retail_user'\n",
    "password = 'retail_password'\n",
    "\n",
    "retail_connection = get_connection(\n",
    "    host=host,\n",
    "    port=port,\n",
    "    database=database,\n",
    "    user=user,\n",
    "    password=password\n",
    ")"
   ]
  },
  {
   "cell_type": "code",
   "execution_count": null,
   "id": "e671a1ca-eda6-4377-8a29-2e558664d08b",
   "metadata": {},
   "outputs": [],
   "source": []
  }
 ],
 "metadata": {
  "kernelspec": {
   "display_name": "Python 3",
   "language": "python",
   "name": "python3"
  },
  "language_info": {
   "codemirror_mode": {
    "name": "ipython",
    "version": 3
   },
   "file_extension": ".py",
   "mimetype": "text/x-python",
   "name": "python",
   "nbconvert_exporter": "python",
   "pygments_lexer": "ipython3",
   "version": "3.6.9"
  }
 },
 "nbformat": 4,
 "nbformat_minor": 5
}
