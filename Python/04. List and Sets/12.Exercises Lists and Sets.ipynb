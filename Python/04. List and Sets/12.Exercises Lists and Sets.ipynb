{
 "cells": [
  {
   "cell_type": "markdown",
   "id": "d9659af2-1ff0-40f8-abf9-eb79b9af8411",
   "metadata": {},
   "source": [
    "# Exercises - list and set:\n",
    "Let us go through some exercises related to list and set.\n",
    "# Get second largest integer:\n",
    "Develop a code snippet using list and set manipulation functions to get second largest element from the list.\n",
    "* List: [1, 5, 2, 1, 7, 5, 7, 3]\n",
    "* Answer: 5"
   ]
  },
  {
   "cell_type": "code",
   "execution_count": 1,
   "id": "9bb0ddd2-21e1-4430-90db-8e13854566a4",
   "metadata": {},
   "outputs": [
    {
     "data": {
      "text/plain": [
       "5"
      ]
     },
     "execution_count": 1,
     "metadata": {},
     "output_type": "execute_result"
    }
   ],
   "source": [
    "l = [1, 5, 2, 1, 7, 5, 7, 3]\n",
    "sorted(set(l))[-2]"
   ]
  },
  {
   "cell_type": "markdown",
   "id": "b9119016-0062-43d4-91b7-8abc557b6402",
   "metadata": {},
   "source": [
    "# Create a list for integers:\n",
    "Develop a function which take a list as argument and return a new list with only integers. You can develop this using loops.\n",
    "* The list might contain data with different data types.\n",
    "* The new list with only integers should be sorted in descending order.\n",
    "* The new list should only contain unique values"
   ]
  },
  {
   "cell_type": "code",
   "execution_count": 15,
   "id": "2cc5cd84-9f7e-4cf4-9b5b-5ea15452ed79",
   "metadata": {},
   "outputs": [
    {
     "data": {
      "text/plain": [
       "[5, 1]"
      ]
     },
     "execution_count": 15,
     "metadata": {},
     "output_type": "execute_result"
    }
   ],
   "source": [
    "def extract_ints(l):\n",
    "    res = set()\n",
    "    for x in l:\n",
    "        if type(x) == int:\n",
    "            res.add(x)\n",
    "    res = sorted(list(res))\n",
    "    return res[::-1]\n",
    "r = extract_ints([1, 'Hello', None, 5, 0.15, 1, 5]) \n",
    "r"
   ]
  },
  {
   "cell_type": "markdown",
   "id": "83279b6a-33d0-44d6-95ea-eda4a03fd0d7",
   "metadata": {
    "jp-MarkdownHeadingCollapsed": true,
    "tags": []
   },
   "source": [
    "# Get top n salaries:\n",
    "Develop a function which take a list of salaries and give us top n salaries. Solve the problem with out using loops.\n",
    "* The function should take 2 arguments - list of salaries and the top n.\n",
    "* Based up on the value passed as part of second argument, you should get those many top salaries.\n",
    "* We should get only unique top n salaries"
   ]
  },
  {
   "cell_type": "code",
   "execution_count": 22,
   "id": "78115576-872a-485c-9af3-537919e616b9",
   "metadata": {},
   "outputs": [
    {
     "name": "stdout",
     "output_type": "stream",
     "text": [
      "[25509.77, 25066.37, 18732.8]\n",
      "[25509.77, 25066.37, 18732.8, 16719.45, 14061.23]\n"
     ]
    }
   ],
   "source": [
    "def top_sals(sals,n):\n",
    "    sals = list(set(sals))\n",
    "    return (sorted(sals)[-n:])[::-1]\n",
    "salaries = [\n",
    "    18732.8, 12842.28, 13391.69, 14061.23,\n",
    "    25509.77, 13636.95, 11841.63, 11519.12,\n",
    "    16719.45, 25066.37, 12842.28, 25066.37\n",
    "]\n",
    "\n",
    "print(top_sals(salaries,3))\n",
    "print(top_sals(salaries,5))"
   ]
  },
  {
   "cell_type": "code",
   "execution_count": null,
   "id": "048d4dbc-0995-4b13-b992-2f87ab6b119c",
   "metadata": {},
   "outputs": [],
   "source": []
  }
 ],
 "metadata": {
  "kernelspec": {
   "display_name": "Python 3",
   "language": "python",
   "name": "python3"
  },
  "language_info": {
   "codemirror_mode": {
    "name": "ipython",
    "version": 3
   },
   "file_extension": ".py",
   "mimetype": "text/x-python",
   "name": "python",
   "nbconvert_exporter": "python",
   "pygments_lexer": "ipython3",
   "version": "3.6.9"
  }
 },
 "nbformat": 4,
 "nbformat_minor": 5
}
