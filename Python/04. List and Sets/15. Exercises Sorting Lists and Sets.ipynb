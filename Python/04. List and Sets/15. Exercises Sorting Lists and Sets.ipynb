{
 "cells": [
  {
   "cell_type": "markdown",
   "id": "7f42eaaf-fc31-4b49-b851-8e8611013f6e",
   "metadata": {},
   "source": [
    "# Exercises - Sorting lists and sets\n",
    "Let us perform few exercises to sort lists and sets.\n",
    "\n",
    "# Exercise 1 - Sort Players by name\n",
    "Sort famous players by their name. The list contains comma separated strings with player name followed by the sport they play.\n",
    "\n"
   ]
  },
  {
   "cell_type": "code",
   "execution_count": 2,
   "id": "713a7e30-989d-4b4a-9d4b-c93d23629e23",
   "metadata": {},
   "outputs": [
    {
     "data": {
      "text/plain": [
       "['Brian Lara,Cricket',\n",
       " 'David Beckham,Cricket',\n",
       " 'Diego Maradona,Soccer',\n",
       " 'Ian Thorpe,Swimming',\n",
       " 'Michael Phelps,Swimming',\n",
       " 'P. V. Sindhu,Badminton',\n",
       " 'Pete Sampras,Tennis',\n",
       " 'Roger Federer,Tennis',\n",
       " 'Ronaldo,Soccer',\n",
       " 'Sachin Tendulkar,Cricket',\n",
       " 'Shane Warne,Cricket',\n",
       " 'Usain Bolt,Running']"
      ]
     },
     "execution_count": 2,
     "metadata": {},
     "output_type": "execute_result"
    }
   ],
   "source": [
    "famous_players = ['Pete Sampras,Tennis',\n",
    " 'Sachin Tendulkar,Cricket',\n",
    " 'Brian Lara,Cricket',\n",
    " 'Diego Maradona,Soccer',\n",
    " 'Roger Federer,Tennis',\n",
    " 'Ian Thorpe,Swimming',\n",
    " 'Ronaldo,Soccer',\n",
    " 'Usain Bolt,Running',\n",
    " 'P. V. Sindhu,Badminton',\n",
    " 'Shane Warne,Cricket',\n",
    " 'David Beckham,Cricket',\n",
    " 'Michael Phelps,Swimming']\n",
    "\n",
    "sorted(famous_players)"
   ]
  },
  {
   "cell_type": "markdown",
   "id": "16586798-7c5c-4618-8ce5-a4a8b7d3df05",
   "metadata": {},
   "source": [
    "# Exercise 2 - Sort Players by sport\n",
    "Sort famous players by the sport name. The list contains comma separated strings with player name followed by the sport they play."
   ]
  },
  {
   "cell_type": "code",
   "execution_count": 3,
   "id": "301d7ed4-45b8-464b-affb-8a90eb1e1a6c",
   "metadata": {},
   "outputs": [
    {
     "data": {
      "text/plain": [
       "['P. V. Sindhu,Badminton',\n",
       " 'Sachin Tendulkar,Cricket',\n",
       " 'Brian Lara,Cricket',\n",
       " 'Shane Warne,Cricket',\n",
       " 'David Beckham,Cricket',\n",
       " 'Usain Bolt,Running',\n",
       " 'Diego Maradona,Soccer',\n",
       " 'Ronaldo,Soccer',\n",
       " 'Ian Thorpe,Swimming',\n",
       " 'Michael Phelps,Swimming',\n",
       " 'Pete Sampras,Tennis',\n",
       " 'Roger Federer,Tennis']"
      ]
     },
     "execution_count": 3,
     "metadata": {},
     "output_type": "execute_result"
    }
   ],
   "source": [
    "famous_players = ['Pete Sampras,Tennis',\n",
    " 'Sachin Tendulkar,Cricket',\n",
    " 'Brian Lara,Cricket',\n",
    " 'Diego Maradona,Soccer',\n",
    " 'Roger Federer,Tennis',\n",
    " 'Ian Thorpe,Swimming',\n",
    " 'Ronaldo,Soccer',\n",
    " 'Usain Bolt,Running',\n",
    " 'P. V. Sindhu,Badminton',\n",
    " 'Shane Warne,Cricket',\n",
    " 'David Beckham,Cricket',\n",
    " 'Michael Phelps,Swimming']\n",
    "\n",
    "sorted(famous_players, key = lambda sp: sp.split(',')[-1])"
   ]
  },
  {
   "cell_type": "markdown",
   "id": "a1ccec0c-20a0-4793-b035-466c58e2039d",
   "metadata": {},
   "source": [
    "# Exercise 3 - Sort inventory by quantity\n",
    "Sort the set of inventory by quantity. Each element of the set is of type string where we have inventory item and corresponding quantity separated by :.\n",
    "* Please note that, quantity is missing for couple of items.\n",
    "* Data should be sorted in ascending order by quantity numerically.\n",
    "* The items with missing quantity should come on top."
   ]
  },
  {
   "cell_type": "code",
   "execution_count": 2,
   "id": "197cf331-bc38-49d3-94aa-de7799ff4dee",
   "metadata": {},
   "outputs": [
    {
     "data": {
      "text/plain": [
       "['wheat:300',\n",
       " 'cake mix:50',\n",
       " 'rice:50',\n",
       " 'sugar:10',\n",
       " 'almond milk:5',\n",
       " 'pistachios:3',\n",
       " 'cardamom:2',\n",
       " 'vegetable oil:0',\n",
       " 'cashews:0']"
      ]
     },
     "execution_count": 2,
     "metadata": {},
     "output_type": "execute_result"
    }
   ],
   "source": [
    "inventory = {'almond milk:5',\n",
    " 'cake mix:50',\n",
    " 'cardamom:2',\n",
    " 'cashews:0',\n",
    " 'pistachios:3',\n",
    " 'rice:50',\n",
    " 'sugar:10',\n",
    " 'vegetable oil:0',\n",
    " 'wheat:300'}\n",
    "sorted(inventory, key = lambda item: (int(item.split(':')[1])), reverse = True)"
   ]
  },
  {
   "cell_type": "markdown",
   "id": "b41594f7-2f86-46de-b1b1-7b22c11f0e0e",
   "metadata": {},
   "source": [
    "# Exercise 4 - Sorting by Number of Enrollments\n",
    "Let us sort the data by number of enrollments in descending order.\n",
    "* We have list of courses. Each course have several attribute values which are comma separated or delimited.\n",
    "* Here is an example for one course. Each course record is of type string.\n",
    "'1,2020 Complete Python Bootcamp: From Zero to Hero in Python,Beginner,1100093,4.6,318066'\n",
    "* We have course id, course title, suitable for or level (3rd attribute), number of enrollments (4th attribute), cumulative rating and then number of ratings for each course.\n",
    "* We need to sort the data based on number of enrollments in descending order."
   ]
  },
  {
   "cell_type": "code",
   "execution_count": 15,
   "id": "b253b476-5804-4307-8ecf-a1ce7e2b0380",
   "metadata": {},
   "outputs": [
    {
     "data": {
      "text/plain": [
       "['1,2020 Complete Python Bootcamp: From Zero to Hero in Python,Beginner,1100093,4.6,318066',\n",
       " '3,Machine Learning A-Z™: Hands-On Python & R In Data Science,Intermediate,692812,4.5,132228',\n",
       " '12,Automate the Boring Stuff with Python Programming,Advanced,692617,4.6,70508',\n",
       " '2,The Web Developer Bootcamp,Beginner,596726,4.6,182997',\n",
       " '5,Java Programming Masterclass for Software Developers,Advanced,502572,4.6,123798',\n",
       " '4,Angular - The Complete Guide (2020 Edition),Intermediate,422557,4.6,129984',\n",
       " '8,Python for Data Science and Machine Learning Bootcamp,Intermediate,387789,4.6,87403',\n",
       " '10,Complete C# Unity Game Developer 2D,Advanced,364934,4.6,78989',\n",
       " '9,The Complete JavaScript Course 2020: Build Real Projects!,Intermediate,347979,4.6,83521',\n",
       " '11,The Data Science Course 2020: Complete Data Science Bootcamp,Beginner,325047,4.5,76907',\n",
       " '13,The Complete Web Developer Course 2.0,Intermediate,273598,4.5,63175',\n",
       " '7,The Complete 2020 Web Development Bootcamp,Beginner,270656,4.7,88098',\n",
       " '15,Learn Python Programming Masterclass,Advanced,240790,4.5,58677',\n",
       " '19,Unreal Engine C++ Developer: Learn C++ and Make Video Games,Advanced,229005,4.5,45860',\n",
       " '20,The Ultimate MySQL Bootcamp: Go from SQL Beginner to Expert,Beginner,203366,4.6,45382',\n",
       " '14,Modern React with Redux [2020 Update],Intermediate,203214,4.7,60835',\n",
       " '16,The Complete Node.js Developer Course (3rd Edition),Advanced,202922,4.7,50885',\n",
       " '17,iOS 13 & Swift 5 - The Complete iOS App Development Bootcamp,Advanced,179598,4.8,49972',\n",
       " '21,Spring & Hibernate for Beginners (includes Spring Boot),Advanced,177053,4.6,45329',\n",
       " '18,Selenium WebDriver with Java -Basics to Advanced+Frameworks,Advanced,148562,4.6,49947']"
      ]
     },
     "execution_count": 15,
     "metadata": {},
     "output_type": "execute_result"
    }
   ],
   "source": [
    "courses = ['1,2020 Complete Python Bootcamp: From Zero to Hero in Python,Beginner,1100093,4.6,318066',\n",
    " '4,Angular - The Complete Guide (2020 Edition),Intermediate,422557,4.6,129984',\n",
    " '12,Automate the Boring Stuff with Python Programming,Advanced,692617,4.6,70508',\n",
    " '10,Complete C# Unity Game Developer 2D,Advanced,364934,4.6,78989',\n",
    " '5,Java Programming Masterclass for Software Developers,Advanced,502572,4.6,123798',\n",
    " '15,Learn Python Programming Masterclass,Advanced,240790,4.5,58677',\n",
    " '3,Machine Learning A-Z™: Hands-On Python & R In Data Science,Intermediate,692812,4.5,132228',\n",
    " '14,Modern React with Redux [2020 Update],Intermediate,203214,4.7,60835',\n",
    " '8,Python for Data Science and Machine Learning Bootcamp,Intermediate,387789,4.6,87403',\n",
    " '18,Selenium WebDriver with Java -Basics to Advanced+Frameworks,Advanced,148562,4.6,49947',\n",
    " '21,Spring & Hibernate for Beginners (includes Spring Boot),Advanced,177053,4.6,45329',\n",
    " '7,The Complete 2020 Web Development Bootcamp,Beginner,270656,4.7,88098',\n",
    " '9,The Complete JavaScript Course 2020: Build Real Projects!,Intermediate,347979,4.6,83521',\n",
    " '16,The Complete Node.js Developer Course (3rd Edition),Advanced,202922,4.7,50885',\n",
    " '13,The Complete Web Developer Course 2.0,Intermediate,273598,4.5,63175',\n",
    " '11,The Data Science Course 2020: Complete Data Science Bootcamp,Beginner,325047,4.5,76907',\n",
    " '20,The Ultimate MySQL Bootcamp: Go from SQL Beginner to Expert,Beginner,203366,4.6,45382',\n",
    " '2,The Web Developer Bootcamp,Beginner,596726,4.6,182997',\n",
    " '19,Unreal Engine C++ Developer: Learn C++ and Make Video Games,Advanced,229005,4.5,45860',\n",
    " '17,iOS 13 & Swift 5 - The Complete iOS App Development Bootcamp,Advanced,179598,4.8,49972']\n",
    "\n",
    "sorted(courses, key = lambda cs: int(cs.split(',')[3]), reverse = True)"
   ]
  },
  {
   "cell_type": "markdown",
   "id": "971c5aec-aa0c-42f6-b09b-11b31722d847",
   "metadata": {},
   "source": [
    "# Exercise 5 - Sorting by Level and Enrollments\n",
    "Let us sort the data by level and then by enrollments in descending order.\n",
    "* We have list of courses. Each course have several attribute values which are comma separated or delimited.\n",
    "* Here is an example for one course. Each course record is of type string.\n",
    "\n",
    "'1,2020 Complete Python Bootcamp: From Zero to Hero in Python,Beginner,1100093,4.6,318066'\n",
    "\n",
    "* We have course id, course title, suitable for or level (3rd attribute), number of enrollments (4th attribute), cumulative rating and then number of ratings for each course.\n",
    "* We need to sort the data based on level in ascending order and then by number of enrollments in descending order."
   ]
  },
  {
   "cell_type": "code",
   "execution_count": 5,
   "id": "2ffccba1-70b0-4266-815f-531e8ac5248d",
   "metadata": {},
   "outputs": [
    {
     "data": {
      "text/plain": [
       "['12,Automate the Boring Stuff with Python Programming,Advanced,692617,4.6,70508',\n",
       " '5,Java Programming Masterclass for Software Developers,Advanced,502572,4.6,123798',\n",
       " '10,Complete C# Unity Game Developer 2D,Advanced,364934,4.6,78989',\n",
       " '15,Learn Python Programming Masterclass,Advanced,240790,4.5,58677',\n",
       " '19,Unreal Engine C++ Developer: Learn C++ and Make Video Games,Advanced,229005,4.5,45860',\n",
       " '16,The Complete Node.js Developer Course (3rd Edition),Advanced,202922,4.7,50885',\n",
       " '17,iOS 13 & Swift 5 - The Complete iOS App Development Bootcamp,Advanced,179598,4.8,49972',\n",
       " '21,Spring & Hibernate for Beginners (includes Spring Boot),Advanced,177053,4.6,45329',\n",
       " '18,Selenium WebDriver with Java -Basics to Advanced+Frameworks,Advanced,148562,4.6,49947',\n",
       " '1,2020 Complete Python Bootcamp: From Zero to Hero in Python,Beginner,1100093,4.6,318066',\n",
       " '2,The Web Developer Bootcamp,Beginner,596726,4.6,182997',\n",
       " '11,The Data Science Course 2020: Complete Data Science Bootcamp,Beginner,325047,4.5,76907',\n",
       " '7,The Complete 2020 Web Development Bootcamp,Beginner,270656,4.7,88098',\n",
       " '20,The Ultimate MySQL Bootcamp: Go from SQL Beginner to Expert,Beginner,203366,4.6,45382',\n",
       " '3,Machine Learning A-Z™: Hands-On Python & R In Data Science,Intermediate,692812,4.5,132228',\n",
       " '4,Angular - The Complete Guide (2020 Edition),Intermediate,422557,4.6,129984',\n",
       " '8,Python for Data Science and Machine Learning Bootcamp,Intermediate,387789,4.6,87403',\n",
       " '9,The Complete JavaScript Course 2020: Build Real Projects!,Intermediate,347979,4.6,83521',\n",
       " '13,The Complete Web Developer Course 2.0,Intermediate,273598,4.5,63175',\n",
       " '14,Modern React with Redux [2020 Update],Intermediate,203214,4.7,60835']"
      ]
     },
     "execution_count": 5,
     "metadata": {},
     "output_type": "execute_result"
    }
   ],
   "source": [
    "courses = ['1,2020 Complete Python Bootcamp: From Zero to Hero in Python,Beginner,1100093,4.6,318066',\n",
    " '4,Angular - The Complete Guide (2020 Edition),Intermediate,422557,4.6,129984',\n",
    " '12,Automate the Boring Stuff with Python Programming,Advanced,692617,4.6,70508',\n",
    " '10,Complete C# Unity Game Developer 2D,Advanced,364934,4.6,78989',\n",
    " '5,Java Programming Masterclass for Software Developers,Advanced,502572,4.6,123798',\n",
    " '15,Learn Python Programming Masterclass,Advanced,240790,4.5,58677',\n",
    " '3,Machine Learning A-Z™: Hands-On Python & R In Data Science,Intermediate,692812,4.5,132228',\n",
    " '14,Modern React with Redux [2020 Update],Intermediate,203214,4.7,60835',\n",
    " '8,Python for Data Science and Machine Learning Bootcamp,Intermediate,387789,4.6,87403',\n",
    " '18,Selenium WebDriver with Java -Basics to Advanced+Frameworks,Advanced,148562,4.6,49947',\n",
    " '21,Spring & Hibernate for Beginners (includes Spring Boot),Advanced,177053,4.6,45329',\n",
    " '7,The Complete 2020 Web Development Bootcamp,Beginner,270656,4.7,88098',\n",
    " '9,The Complete JavaScript Course 2020: Build Real Projects!,Intermediate,347979,4.6,83521',\n",
    " '16,The Complete Node.js Developer Course (3rd Edition),Advanced,202922,4.7,50885',\n",
    " '13,The Complete Web Developer Course 2.0,Intermediate,273598,4.5,63175',\n",
    " '11,The Data Science Course 2020: Complete Data Science Bootcamp,Beginner,325047,4.5,76907',\n",
    " '20,The Ultimate MySQL Bootcamp: Go from SQL Beginner to Expert,Beginner,203366,4.6,45382',\n",
    " '2,The Web Developer Bootcamp,Beginner,596726,4.6,182997',\n",
    " '19,Unreal Engine C++ Developer: Learn C++ and Make Video Games,Advanced,229005,4.5,45860',\n",
    " '17,iOS 13 & Swift 5 - The Complete iOS App Development Bootcamp,Advanced,179598,4.8,49972']\n",
    "\n",
    "sorted(courses, key = lambda cs: (cs.split(',')[2], -int(cs.split(',')[3])))"
   ]
  }
 ],
 "metadata": {
  "kernelspec": {
   "display_name": "Python 3",
   "language": "python",
   "name": "python3"
  },
  "language_info": {
   "codemirror_mode": {
    "name": "ipython",
    "version": 3
   },
   "file_extension": ".py",
   "mimetype": "text/x-python",
   "name": "python",
   "nbconvert_exporter": "python",
   "pygments_lexer": "ipython3",
   "version": "3.6.9"
  }
 },
 "nbformat": 4,
 "nbformat_minor": 5
}
