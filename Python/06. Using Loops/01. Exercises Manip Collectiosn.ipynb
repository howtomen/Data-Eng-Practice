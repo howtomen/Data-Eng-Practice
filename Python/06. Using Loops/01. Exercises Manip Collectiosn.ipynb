{
 "cells": [
  {
   "cell_type": "markdown",
   "id": "fb32c11b-17dc-4e84-9624-2ce0297a3e65",
   "metadata": {},
   "source": [
    "# Exercise 1 - Read data from file:\n",
    "Before getting into problem statement, develop the code to read the file into list of elements.\n",
    "* We should be able to use this function to read any file with text data using line as record delimiter."
   ]
  },
  {
   "cell_type": "code",
   "execution_count": 8,
   "id": "f9b6e681-6d65-4c04-96ea-f8425fb4752b",
   "metadata": {},
   "outputs": [],
   "source": [
    "def get_list_from_file(file_path):\n",
    "    data_list = open(file_path).read().splitlines()\n",
    "    return data_list\n",
    "orders = get_list_from_file('/home/ilovemyh2o/retail_db/orders/part-00000')"
   ]
  },
  {
   "cell_type": "code",
   "execution_count": 9,
   "id": "d6c38340-92d9-4161-a5f8-727531d27ea3",
   "metadata": {},
   "outputs": [
    {
     "data": {
      "text/plain": [
       "68883"
      ]
     },
     "execution_count": 9,
     "metadata": {},
     "output_type": "execute_result"
    }
   ],
   "source": [
    "len(orders)"
   ]
  },
  {
   "cell_type": "code",
   "execution_count": 10,
   "id": "a7792122-3d9f-4965-8a02-e04a5da7ba02",
   "metadata": {},
   "outputs": [
    {
     "data": {
      "text/plain": [
       "['1,2013-07-25 00:00:00.0,11599,CLOSED',\n",
       " '2,2013-07-25 00:00:00.0,256,PENDING_PAYMENT',\n",
       " '3,2013-07-25 00:00:00.0,12111,COMPLETE',\n",
       " '4,2013-07-25 00:00:00.0,8827,CLOSED',\n",
       " '5,2013-07-25 00:00:00.0,11318,COMPLETE']"
      ]
     },
     "execution_count": 10,
     "metadata": {},
     "output_type": "execute_result"
    }
   ],
   "source": [
    "orders[:5]"
   ]
  },
  {
   "cell_type": "code",
   "execution_count": 14,
   "id": "6582c9b4-76db-4f27-a628-3e25ad187536",
   "metadata": {},
   "outputs": [],
   "source": [
    "order_items = get_list_from_file('/home/ilovemyh2o/retail_db/order_items/part-00000')"
   ]
  },
  {
   "cell_type": "markdown",
   "id": "072ad3cc-7937-458b-8e58-5231c3992bb9",
   "metadata": {},
   "source": [
    "# Exercise 2 - Complete Order Count:\n",
    "Get number of COMPLETE orders placed by each customer. Develop a function which read the orders data and get us complete order count.\n",
    "* The function should take the complete order list as argument and return count of Complete orders.\n",
    "* The order is said to be complete if the status is `COMPLETE`.\n",
    "* The last element in each comma separated record gives us the order status."
   ]
  },
  {
   "cell_type": "code",
   "execution_count": 15,
   "id": "8ad78ebc-6828-4c13-be8e-6fd0885385d2",
   "metadata": {},
   "outputs": [
    {
     "data": {
      "text/plain": [
       "22899"
      ]
     },
     "execution_count": 15,
     "metadata": {},
     "output_type": "execute_result"
    }
   ],
   "source": [
    "order_count = 0\n",
    "for x in orders:\n",
    "    if x.split(',')[-1] == 'COMPLETE':\n",
    "        order_count +=1\n",
    "order_count"
   ]
  }
 ],
 "metadata": {
  "kernelspec": {
   "display_name": "Python 3",
   "language": "python",
   "name": "python3"
  },
  "language_info": {
   "codemirror_mode": {
    "name": "ipython",
    "version": 3
   },
   "file_extension": ".py",
   "mimetype": "text/x-python",
   "name": "python",
   "nbconvert_exporter": "python",
   "pygments_lexer": "ipython3",
   "version": "3.6.9"
  }
 },
 "nbformat": 4,
 "nbformat_minor": 5
}
