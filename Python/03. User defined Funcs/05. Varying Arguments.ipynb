{
 "cells": [
  {
   "cell_type": "markdown",
   "id": "4f136774-fd6c-4321-9629-66c10315b62d",
   "metadata": {},
   "source": [
    "# Varying Arguments:\n",
    "In Python we can pass different number of arguments of same type while invoking functions. Let’s talk about Varying arguments.\n",
    "* At times we might want to pass values of same type as arguments and we might not know how many of them.\n",
    "* In that scenario we can leverage the concept of Varying arguments.\n",
    "* The parameter which accepts Varying arguments should have `*` at the beginning - example: `*phone_numbers`.\n",
    "* As part of the function body the type of the parameter will be `tuple`. In our case, as we will be passing phone numbers as strings, it will be of type `tuple` where each element will be of type string."
   ]
  },
  {
   "cell_type": "code",
   "execution_count": 1,
   "id": "0306c4da-7464-458c-93f6-935e82804bce",
   "metadata": {},
   "outputs": [],
   "source": [
    "def get_invalid_phone_count(*phone_numbers, employee_id):\n",
    "    invalid_count = 0\n",
    "    for phone_number in phone_numbers:\n",
    "        if len(phone_number) < 10:\n",
    "            invalid_count += 1\n",
    "    return employee_id, invalid_count"
   ]
  },
  {
   "cell_type": "code",
   "execution_count": 2,
   "id": "4bd2070f-285b-4d4e-842c-4e92b7d4d59a",
   "metadata": {},
   "outputs": [
    {
     "ename": "TypeError",
     "evalue": "get_invalid_phone_count() missing 1 required keyword-only argument: 'employee_id'",
     "output_type": "error",
     "traceback": [
      "\u001b[0;31m---------------------------------------------------------------------------\u001b[0m",
      "\u001b[0;31mTypeError\u001b[0m                                 Traceback (most recent call last)",
      "\u001b[0;32m<ipython-input-2-0fa187d3d10e>\u001b[0m in \u001b[0;36m<module>\u001b[0;34m\u001b[0m\n\u001b[1;32m      1\u001b[0m \u001b[0ms\u001b[0m \u001b[0;34m=\u001b[0m \u001b[0;34m'Employee {employee_id} have {invalid_count} invalid phones'\u001b[0m\u001b[0;34m\u001b[0m\u001b[0;34m\u001b[0m\u001b[0m\n\u001b[0;32m----> 2\u001b[0;31m \u001b[0memployee_id\u001b[0m\u001b[0;34m,\u001b[0m \u001b[0minvalid_count\u001b[0m \u001b[0;34m=\u001b[0m \u001b[0mget_invalid_phone_count\u001b[0m\u001b[0;34m(\u001b[0m\u001b[0;34m'1234'\u001b[0m\u001b[0;34m,\u001b[0m \u001b[0;34m'1234567890'\u001b[0m\u001b[0;34m,\u001b[0m \u001b[0;36m1\u001b[0m\u001b[0;34m)\u001b[0m\u001b[0;34m\u001b[0m\u001b[0;34m\u001b[0m\u001b[0m\n\u001b[0m\u001b[1;32m      3\u001b[0m \u001b[0;31m# argument by position will fail\u001b[0m\u001b[0;34m\u001b[0m\u001b[0;34m\u001b[0m\u001b[0;34m\u001b[0m\u001b[0m\n\u001b[1;32m      4\u001b[0m \u001b[0;31m# Python interpreter cannot determine whether 1 is related to phone_numbers or employee_id\u001b[0m\u001b[0;34m\u001b[0m\u001b[0;34m\u001b[0m\u001b[0;34m\u001b[0m\u001b[0m\n",
      "\u001b[0;31mTypeError\u001b[0m: get_invalid_phone_count() missing 1 required keyword-only argument: 'employee_id'"
     ]
    }
   ],
   "source": [
    "s = 'Employee {employee_id} have {invalid_count} invalid phones'\n",
    "employee_id, invalid_count = get_invalid_phone_count('1234', '1234567890', 1) \n",
    "# argument by position will fail\n",
    "# Python interpreter cannot determine whether 1 is related to phone_numbers or employee_id"
   ]
  },
  {
   "cell_type": "code",
   "execution_count": 3,
   "id": "59dc2d37-3621-447b-9888-81da39fd538a",
   "metadata": {},
   "outputs": [
    {
     "ename": "TypeError",
     "evalue": "get_invalid_phone_count() got an unexpected keyword argument 'phone_numbers'",
     "output_type": "error",
     "traceback": [
      "\u001b[0;31m---------------------------------------------------------------------------\u001b[0m",
      "\u001b[0;31mTypeError\u001b[0m                                 Traceback (most recent call last)",
      "\u001b[0;32m<ipython-input-3-05a120172b4e>\u001b[0m in \u001b[0;36m<module>\u001b[0;34m\u001b[0m\n\u001b[1;32m      1\u001b[0m \u001b[0ms\u001b[0m \u001b[0;34m=\u001b[0m \u001b[0;34m'Employee {employee_id} have {invalid_count} invalid phones'\u001b[0m\u001b[0;34m\u001b[0m\u001b[0;34m\u001b[0m\u001b[0m\n\u001b[1;32m      2\u001b[0m \u001b[0mphone_numbers\u001b[0m \u001b[0;34m=\u001b[0m \u001b[0;34m(\u001b[0m\u001b[0;34m'1234'\u001b[0m\u001b[0;34m,\u001b[0m \u001b[0;34m'1234567890'\u001b[0m\u001b[0;34m,\u001b[0m\u001b[0;34m)\u001b[0m\u001b[0;34m\u001b[0m\u001b[0;34m\u001b[0m\u001b[0m\n\u001b[0;32m----> 3\u001b[0;31m \u001b[0memployee_id\u001b[0m\u001b[0;34m,\u001b[0m \u001b[0minvalid_count\u001b[0m \u001b[0;34m=\u001b[0m \u001b[0mget_invalid_phone_count\u001b[0m\u001b[0;34m(\u001b[0m\u001b[0memployee_id\u001b[0m\u001b[0;34m=\u001b[0m\u001b[0;36m1\u001b[0m\u001b[0;34m,\u001b[0m \u001b[0mphone_numbers\u001b[0m\u001b[0;34m=\u001b[0m\u001b[0mphone_numbers\u001b[0m\u001b[0;34m)\u001b[0m\u001b[0;34m\u001b[0m\u001b[0;34m\u001b[0m\u001b[0m\n\u001b[0m\u001b[1;32m      4\u001b[0m \u001b[0;31m# argument by name will fail\u001b[0m\u001b[0;34m\u001b[0m\u001b[0;34m\u001b[0m\u001b[0;34m\u001b[0m\u001b[0m\n\u001b[1;32m      5\u001b[0m \u001b[0;31m# This will fail as we cannot pass varrying argument using keyword\u001b[0m\u001b[0;34m\u001b[0m\u001b[0;34m\u001b[0m\u001b[0;34m\u001b[0m\u001b[0m\n",
      "\u001b[0;31mTypeError\u001b[0m: get_invalid_phone_count() got an unexpected keyword argument 'phone_numbers'"
     ]
    }
   ],
   "source": [
    "s = 'Employee {employee_id} have {invalid_count} invalid phones'\n",
    "phone_numbers = ('1234', '1234567890',)\n",
    "employee_id, invalid_count = get_invalid_phone_count(employee_id=1, phone_numbers=phone_numbers) \n",
    "# argument by name will fail\n",
    "# This will fail as we cannot pass varrying argument using keyword"
   ]
  },
  {
   "cell_type": "code",
   "execution_count": 4,
   "id": "6fa929b1-f186-482d-9ba3-26abfcd47aeb",
   "metadata": {},
   "outputs": [],
   "source": [
    "s = 'Employee {employee_id} have {invalid_count} invalid phones'\n",
    "employee_id, invalid_count = get_invalid_phone_count('1234', '1234567890', employee_id=1) \n",
    "# argument by position will fail\n",
    "# Python interpreter cannot determine whether 1 is related to phone_numbers or employee_id"
   ]
  },
  {
   "cell_type": "code",
   "execution_count": 5,
   "id": "9b8c6b72-bd1a-4ecd-8342-f5fb7487f977",
   "metadata": {},
   "outputs": [
    {
     "name": "stdout",
     "output_type": "stream",
     "text": [
      "Employee 1 have 1 invalid phones\n"
     ]
    }
   ],
   "source": [
    "print(s.format(employee_id=employee_id, invalid_count=invalid_count))"
   ]
  },
  {
   "cell_type": "code",
   "execution_count": 6,
   "id": "2603acf1-5645-496f-98d2-4aaffed5ddfc",
   "metadata": {},
   "outputs": [],
   "source": [
    "def get_invalid_phone_count(employee_id, *phone_numbers):\n",
    "    print(f'Length of phone_numbers is: {len(phone_numbers)}')\n",
    "    print(f'Type of phone_numbers is: {type(phone_numbers)}')\n",
    "    print(f'Type of each phone number is: {type(phone_numbers[0])}')\n",
    "    print(phone_numbers)\n",
    "    invalid_count = 0\n",
    "    for phone_number in phone_numbers:\n",
    "        if len(phone_number) < 10:\n",
    "            invalid_count += 1\n",
    "    return employee_id, invalid_count"
   ]
  },
  {
   "cell_type": "code",
   "execution_count": 7,
   "id": "6069515b-170c-4998-a681-a3c7324ff755",
   "metadata": {},
   "outputs": [
    {
     "name": "stdout",
     "output_type": "stream",
     "text": [
      "Length of phone_numbers is: 2\n",
      "Type of phone_numbers is: <class 'tuple'>\n",
      "Type of each phone number is: <class 'str'>\n",
      "('1234', '1234567890')\n"
     ]
    }
   ],
   "source": [
    "s = 'Employee {employee_id} have {invalid_count} invalid phones'\n",
    "employee_id, invalid_count = get_invalid_phone_count(1, '1234', '1234567890') # argument by position works here"
   ]
  },
  {
   "cell_type": "code",
   "execution_count": 8,
   "id": "b3ff89e6-5e21-4b1a-bce1-e07c27a39f3e",
   "metadata": {},
   "outputs": [
    {
     "name": "stdout",
     "output_type": "stream",
     "text": [
      "Employee 1 have 1 invalid phones\n"
     ]
    }
   ],
   "source": [
    "print(s.format(employee_id=employee_id, invalid_count=invalid_count))"
   ]
  },
  {
   "cell_type": "code",
   "execution_count": 9,
   "id": "b58f91a2-02e7-44e7-b976-2909ce26777a",
   "metadata": {},
   "outputs": [],
   "source": [
    "s = 'Employee {employee_id} have {invalid_count} invalid phones'\n",
    "phone_numbers = ['1234', '1234567890']"
   ]
  },
  {
   "cell_type": "code",
   "execution_count": 10,
   "id": "4bbe347d-69d3-407c-a27e-89d424068200",
   "metadata": {},
   "outputs": [
    {
     "name": "stdout",
     "output_type": "stream",
     "text": [
      "Length of phone_numbers is: 2\n",
      "Type of phone_numbers is: <class 'tuple'>\n",
      "Type of each phone number is: <class 'str'>\n",
      "('1234', '1234567890')\n"
     ]
    }
   ],
   "source": [
    "employee_id, invalid_count = get_invalid_phone_count(1, *phone_numbers) # argument by position works here"
   ]
  },
  {
   "cell_type": "code",
   "execution_count": 12,
   "id": "57eaa156-e910-42d2-b5d6-4efd5a354c5f",
   "metadata": {},
   "outputs": [
    {
     "name": "stdout",
     "output_type": "stream",
     "text": [
      "Employee 1 have 1 invalid phones\n"
     ]
    }
   ],
   "source": [
    "print(s.format(employee_id=employee_id, invalid_count=invalid_count))"
   ]
  }
 ],
 "metadata": {
  "kernelspec": {
   "display_name": "Python 3",
   "language": "python",
   "name": "python3"
  },
  "language_info": {
   "codemirror_mode": {
    "name": "ipython",
    "version": 3
   },
   "file_extension": ".py",
   "mimetype": "text/x-python",
   "name": "python",
   "nbconvert_exporter": "python",
   "pygments_lexer": "ipython3",
   "version": "3.6.9"
  }
 },
 "nbformat": 4,
 "nbformat_minor": 5
}
