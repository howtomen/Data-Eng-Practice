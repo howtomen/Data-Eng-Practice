{
 "cells": [
  {
   "cell_type": "markdown",
   "id": "ea5f3c67-cbb3-4e03-9076-0da5bfda9360",
   "metadata": {},
   "source": [
    "# Exercise - User Defined Functions:\n",
    "Let us take care of exercises to check whether we understand how to define the functions.\n",
    "\n",
    "# Simple Calculator:\n",
    "Let us develop a function called as calc.\n",
    "* It should take 3 arguments\n",
    "* First argument - a of type int\n",
    "* Second argument - b of type int\n",
    "* Third argument - op of type int\n",
    "* If op is 1, the function should return sum of a and b\n",
    "* If op is 2, the function should subtract b from a and return the result\n",
    "* If op is 3, the function should multiply a with b and return the result\n",
    "* If op is 4, the function should divide a by b and return the result\n",
    "* If op is any other number, the function should print saying that invalid op and return nothing"
   ]
  },
  {
   "cell_type": "code",
   "execution_count": 3,
   "id": "b7b4570d-77ff-4180-b148-53fc8a2efca2",
   "metadata": {},
   "outputs": [],
   "source": [
    "def calc(a,b,c):\n",
    "    if c == 1:\n",
    "        return a + b\n",
    "    elif c == 2:\n",
    "        return a - b\n",
    "    elif c == 3:\n",
    "        return a * b\n",
    "    elif c == 4:\n",
    "        return a / b\n",
    "    else:\n",
    "        print('Invalid Operator was input')"
   ]
  },
  {
   "cell_type": "code",
   "execution_count": null,
   "id": "18303126-8c65-4f1e-9ee3-4a849b292a56",
   "metadata": {},
   "outputs": [
    {
     "name": "stdin",
     "output_type": "stream",
     "text": [
      "Enter first value of type integer:  5\n",
      "Enter second value of type integer:  4\n",
      "Enter 1 for add, 2 for sub, 3 for mul and 4 for div:  3\n"
     ]
    },
    {
     "data": {
      "text/plain": [
       "20"
      ]
     },
     "execution_count": 5,
     "metadata": {},
     "output_type": "execute_result"
    }
   ],
   "source": [
    "a = int(input(\"Enter first value of type integer: \"))\n",
    "b = int(input(\"Enter second value of type integer: \"))\n",
    "op = int(input(\"Enter 1 for add, 2 for sub, 3 for mul and 4 for div: \"))\n",
    "res = calc(a, b, op)\n",
    "res"
   ]
  },
  {
   "cell_type": "markdown",
   "id": "40f3a9c4-0b82-45e0-ade9-320a5df41f05",
   "metadata": {},
   "source": [
    "# Sum of Integers from 1 to n:\n",
    "Develop functions to get sum of integers within a range of 1 to n.\n",
    "* Function Name: sum_n\n",
    "* Argument: n\n",
    "* Perform below validations. If not, raise an exception.\n",
    "    * Check if n is integer or not.\n",
    "    * Check if n is positive integer or not.\n",
    "* Exception should say {n} is not a valid integer.\n",
    "* You should display the value passed in place of {n} as part of the exception.\n",
    "* The function should return the sum of integers from 1 to n. The logic should be implemented using formula."
   ]
  },
  {
   "cell_type": "code",
   "execution_count": 11,
   "id": "22479a33-e0eb-49ae-a03c-c2624c63c80a",
   "metadata": {},
   "outputs": [],
   "source": [
    "def sum_n(n):\n",
    "    try:\n",
    "        if type(n) != int or n < 0:\n",
    "            raise ValueError\n",
    "        return (n * (n + 1) // 2)\n",
    "    except ValueError as ve:\n",
    "        print('{} is not a valid integer'.format(n))"
   ]
  },
  {
   "cell_type": "code",
   "execution_count": 7,
   "id": "98504b28-62b6-4482-8fb0-f0caddb531dc",
   "metadata": {},
   "outputs": [
    {
     "data": {
      "text/plain": [
       "10"
      ]
     },
     "execution_count": 7,
     "metadata": {},
     "output_type": "execute_result"
    }
   ],
   "source": [
    "sum_n(4)"
   ]
  },
  {
   "cell_type": "code",
   "execution_count": 12,
   "id": "36f2cba0-fbaa-423c-a07b-9cffb4a36c03",
   "metadata": {},
   "outputs": [
    {
     "name": "stdout",
     "output_type": "stream",
     "text": [
      "-4 is not a valid integer\n"
     ]
    }
   ],
   "source": [
    "sum_n(-4)"
   ]
  },
  {
   "cell_type": "code",
   "execution_count": 13,
   "id": "51b8cd6a-2e1a-4f01-96a6-cd277ea21c40",
   "metadata": {},
   "outputs": [
    {
     "data": {
      "text/plain": [
       "55"
      ]
     },
     "execution_count": 13,
     "metadata": {},
     "output_type": "execute_result"
    }
   ],
   "source": [
    "sum_n(10)"
   ]
  },
  {
   "cell_type": "markdown",
   "id": "aa8437c8-30ba-4498-a6ad-5641553cf7aa",
   "metadata": {},
   "source": [
    "# Sum of Integers within a range:\n",
    "Develop functions to get sum of integers within a range of lower bound and upper bound.\n",
    "* Function Name: sum_of_integers\n",
    "* Argument Names: lb and ub\n",
    "* Check if lb and ub are integers or not. If not, raise an exception. Exception should be Either {lb} or {ub} are not integers.\n",
    "* Check if lb is less than ub or not. If not, raise an exception. Exception should say {lb} is not lower than {ub}.\n",
    "* You should display the values passed to the function in place of {lb} and {ub} as part of the exception.\n",
    "* The function should return the sum of integers from lb and ub. The function should use sum_n to get sum of integers between 1 and upper bound as well as 1 and lower bound."
   ]
  },
  {
   "cell_type": "code",
   "execution_count": 18,
   "id": "e19e8f03-4d5d-4186-a723-a59d07ba5c67",
   "metadata": {},
   "outputs": [],
   "source": [
    "def sum_n(n):\n",
    "    try:\n",
    "        if type(n) != int or n < 0:\n",
    "            raise ValueError\n",
    "        return (n * (n + 1) // 2)\n",
    "    except ValueError as ve:\n",
    "        print('{} is not a valid integer'.format(n))\n",
    "def sum_of_ints(lb,ub):\n",
    "    try:\n",
    "        if lb > ub:\n",
    "            raise ValueError\n",
    "        return sum_n(ub)-sum_n(lb)\n",
    "    except ValueError as ve:\n",
    "        print('{} is not lower than {}'.format(lb,ub))"
   ]
  },
  {
   "cell_type": "code",
   "execution_count": 19,
   "id": "2f2de10f-a412-4807-b685-bab5abb3dbce",
   "metadata": {},
   "outputs": [
    {
     "data": {
      "text/plain": [
       "45"
      ]
     },
     "execution_count": 19,
     "metadata": {},
     "output_type": "execute_result"
    }
   ],
   "source": [
    "sum_of_ints(4,10)"
   ]
  },
  {
   "cell_type": "code",
   "execution_count": 22,
   "id": "b2feaa0c-71cb-47f2-8856-4d9703e2202f",
   "metadata": {},
   "outputs": [
    {
     "name": "stdout",
     "output_type": "stream",
     "text": [
      "100 is not lower than 10\n"
     ]
    }
   ],
   "source": [
    "sum_of_ints(100,10)"
   ]
  },
  {
   "cell_type": "code",
   "execution_count": null,
   "id": "aac724db-a3db-49a6-9449-4115214b6809",
   "metadata": {},
   "outputs": [],
   "source": []
  }
 ],
 "metadata": {
  "kernelspec": {
   "display_name": "Python 3",
   "language": "python",
   "name": "python3"
  },
  "language_info": {
   "codemirror_mode": {
    "name": "ipython",
    "version": 3
   },
   "file_extension": ".py",
   "mimetype": "text/x-python",
   "name": "python",
   "nbconvert_exporter": "python",
   "pygments_lexer": "ipython3",
   "version": "3.6.9"
  }
 },
 "nbformat": 4,
 "nbformat_minor": 5
}
