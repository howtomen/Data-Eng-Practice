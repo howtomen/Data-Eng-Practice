{
 "cells": [
  {
   "cell_type": "markdown",
   "id": "f86632ed-c245-40a9-bac8-50da3f2f01a8",
   "metadata": {},
   "source": [
    "Keyword Arguments:\n",
    "Let us go through the details related to Keyword Arguments using Python as Programming Language.\n",
    "* Keyword Argument is same as passing argument by name.\n",
    "* You can also specify parameter for varying keyword arguments with `**` at the beginning - example: `**degrees`\n",
    "* While passing arguments to satisfy the parameter with `**`, you have to pass key as well as value.\n",
    "* Varying Keyword Arguments can be processed as `dict` in the Function body."
   ]
  },
  {
   "cell_type": "code",
   "execution_count": 1,
   "id": "b4eaef2b-e2b1-4dc5-a84e-a9e5edd4ff9f",
   "metadata": {},
   "outputs": [],
   "source": [
    "def add_employee(employee_id, **degrees):\n",
    "    print(f'Length of degrees is: {len(degrees)}')\n",
    "    print(f'Type of degrees is: {type(degrees)}')\n",
    "    print(degrees)"
   ]
  },
  {
   "cell_type": "code",
   "execution_count": 2,
   "id": "a37a07fc-96b2-4851-9765-926a6f531be9",
   "metadata": {},
   "outputs": [
    {
     "name": "stdout",
     "output_type": "stream",
     "text": [
      "Length of degrees is: 2\n",
      "Type of degrees is: <class 'dict'>\n",
      "{'bachelors': 'B. Sc', 'masters': 'M. C. A'}\n"
     ]
    }
   ],
   "source": [
    "add_employee(1, bachelors='B. Sc', masters='M. C. A')"
   ]
  },
  {
   "cell_type": "code",
   "execution_count": 3,
   "id": "d603b70b-db1e-4e22-b57c-03d7998d9bba",
   "metadata": {},
   "outputs": [
    {
     "name": "stdout",
     "output_type": "stream",
     "text": [
      "Length of degrees is: 2\n",
      "Type of degrees is: <class 'dict'>\n",
      "{'bachelors': 'B. Sc', 'masters': 'M. C. A'}\n"
     ]
    }
   ],
   "source": [
    "degrees = {'bachelors': 'B. Sc', 'masters': 'M. C. A'}\n",
    "add_employee(1, **degrees)"
   ]
  },
  {
   "cell_type": "code",
   "execution_count": 4,
   "id": "308067c1-eb07-4c76-9189-ed501307e73e",
   "metadata": {},
   "outputs": [],
   "source": [
    "def add_employee(employee_id, *phone_numbers, **degrees):\n",
    "    print(f'Length of phone_numbers is: {len(phone_numbers)}')\n",
    "    print(f'Type of phone_numbers is: {type(phone_numbers)}')\n",
    "    print(phone_numbers)    \n",
    "    print(f'Length of degrees is: {len(degrees)}')\n",
    "    print(f'Type of degrees is: {type(degrees)}')\n",
    "    print(degrees)"
   ]
  },
  {
   "cell_type": "code",
   "execution_count": 5,
   "id": "d48f7b4c-6eb4-4dba-a326-c215f050d453",
   "metadata": {},
   "outputs": [
    {
     "name": "stdout",
     "output_type": "stream",
     "text": [
      "Length of phone_numbers is: 2\n",
      "Type of phone_numbers is: <class 'tuple'>\n",
      "('1234567890', '1234567890')\n",
      "Length of degrees is: 2\n",
      "Type of degrees is: <class 'dict'>\n",
      "{'bachelors': 'B. Sc', 'masters': 'M. C. A'}\n"
     ]
    }
   ],
   "source": [
    "add_employee(1, '1234567890', '1234567890', bachelors='B. Sc', masters='M. C. A')"
   ]
  },
  {
   "cell_type": "code",
   "execution_count": null,
   "id": "9eb57b7d-b4c7-4668-b1e1-6181ba6906f5",
   "metadata": {},
   "outputs": [],
   "source": []
  }
 ],
 "metadata": {
  "kernelspec": {
   "display_name": "Python 3",
   "language": "python",
   "name": "python3"
  },
  "language_info": {
   "codemirror_mode": {
    "name": "ipython",
    "version": 3
   },
   "file_extension": ".py",
   "mimetype": "text/x-python",
   "name": "python",
   "nbconvert_exporter": "python",
   "pygments_lexer": "ipython3",
   "version": "3.6.9"
  }
 },
 "nbformat": 4,
 "nbformat_minor": 5
}
