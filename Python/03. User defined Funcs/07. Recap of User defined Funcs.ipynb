{
 "cells": [
  {
   "cell_type": "markdown",
   "id": "49748250-daba-4e9d-b701-87f77ce9431d",
   "metadata": {},
   "source": [
    "# Recap of User Defined Functions:\n",
    "As we have gone through all the key concepts related to User Defined Functions, let us recap them.\n",
    "* Defining the function with parameters\n",
    "* Relevance of Doc Strings\n",
    "* Returning one or more values\n",
    "* Defining default values to the parameters\n",
    "* Passing argument by position\n",
    "* Keyword arguments or passing argument by name\n",
    "* Different types of special arguments and how they are passed.\n",
    "    * Varying arguments are passed as tuple\n",
    "    * Varying keyword arguments are passed as dict\n",
    "Come back to this once you are done with collections where processing tuples, lists, dicts etc are extensively covered. When you are comfortable, create a function called as add_employee which will put all the concepts related to User Defined Functions in action.\n",
    "* Function should take `employee_id`, `employee_name`, `salary, phone_numbers (variable number)`, `degrees (variable keyword arguments)` as parameters.\n",
    "* We should be able to pass multiple phone numbers as argument for `phone_numbers`\n",
    "* Degrees should be with specialization. There can be one or more degrees with specializations with keys `bachelors, masters, executive, doctorate`.\n",
    "* Make sure salary is defaulted to `3000`. If salary is passed and if it is less than **3000** print a message `Invalid salary: {salary}, salary should be at least 3000`\n",
    "* To get invalid phone count, create a function `get_invalid_phone_count` which takes employee_id and varrying phone numbers as argument. The function should return employee_id and invalid_phone_count.\n",
    "* A phone number which have 10 digits or characters is valid otherwise it is invalid.\n",
    "* Call `get_invalid_phone_count` and check if `invalid_phone_count` is greater than 0. If invalid phone count is greater than 0, print a message `{l_invalid_count} phone numbers out of {len(phone_numbers)} are not valid`\n",
    "* Get count of degrees by processing variable keyword argument. If there are any invalid degrees print `One or more degrees are not valid`\n",
    "* If all the values passed as arguments are valid print `Employee {employee_id} with {number} of degrees is successfully added and his salary is {}`"
   ]
  },
  {
   "cell_type": "code",
   "execution_count": 1,
   "id": "450ce21a-76f0-42e9-8200-f358544c29ce",
   "metadata": {},
   "outputs": [],
   "source": [
    "def get_invalid_phone_count(employee_id, *phone_numbers):\n",
    "    invalid_count = 0\n",
    "    for phone in phone_numbers:\n",
    "        if len(phone) != 10:\n",
    "            invalid_count += 1\n",
    "    return employee_id, invalid_count"
   ]
  },
  {
   "cell_type": "code",
   "execution_count": 2,
   "id": "49b61ed4-fe97-4969-95f6-7147cedc2b57",
   "metadata": {},
   "outputs": [],
   "source": [
    "def add_employee(employee_id, employee_name, *phone_numbers, salary = 3000, **degrees):\n",
    "    \"\"\"Example using pre defined exception ValueError\"\"\"\n",
    "    degree_types = ('bachelors', 'masters', 'executive', 'doctorate')\n",
    "    try:\n",
    "        l_employee_id, l_invalid_count = get_invalid_phone_count(employee_id, *phone_numbers)\n",
    "        if l_invalid_count != 0 or salary < 3000:\n",
    "            raise ValueError\n",
    "              \n",
    "        for degree_key in degrees:\n",
    "            if degree_key not in degree_types:\n",
    "                raise ValueError\n",
    "\n",
    "        print('Employee {} with {} degrees is successfully added and his salary is {}'.format(employee_id, len(degrees), salary))\n",
    "\n",
    "    except ValueError as ve:\n",
    "        print('Either one or more phone numbers are not valid or invalid salary, salary should be at least 3000 or one or more degrees are not correct')"
   ]
  },
  {
   "cell_type": "code",
   "execution_count": 3,
   "id": "117e18fd-b36c-49fc-9893-dcf0f324e950",
   "metadata": {},
   "outputs": [
    {
     "name": "stdout",
     "output_type": "stream",
     "text": [
      "Either one or more phone numbers are not valid or invalid salary, salary should be at least 3000 or one or more degrees are not correct\n"
     ]
    }
   ],
   "source": [
    "add_employee(1, 'IT', '1234567890', '1234567890', salary=5000, b='B. Sc', masters='M. C. A')"
   ]
  },
  {
   "cell_type": "code",
   "execution_count": 4,
   "id": "631e95e3-c346-4cab-968d-83f0d5a18e0e",
   "metadata": {},
   "outputs": [
    {
     "name": "stdout",
     "output_type": "stream",
     "text": [
      "Employee 1 with 2 degrees is successfully added and his salary is 5000\n"
     ]
    }
   ],
   "source": [
    "add_employee(1, 'IT', '1234567890', '1234567890', salary=5000, bachelors='B. Sc', masters='M. C. A')"
   ]
  }
 ],
 "metadata": {
  "kernelspec": {
   "display_name": "Python 3",
   "language": "python",
   "name": "python3"
  },
  "language_info": {
   "codemirror_mode": {
    "name": "ipython",
    "version": 3
   },
   "file_extension": ".py",
   "mimetype": "text/x-python",
   "name": "python",
   "nbconvert_exporter": "python",
   "pygments_lexer": "ipython3",
   "version": "3.6.9"
  }
 },
 "nbformat": 4,
 "nbformat_minor": 5
}
