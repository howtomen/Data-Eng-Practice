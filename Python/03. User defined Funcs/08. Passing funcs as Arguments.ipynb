{
 "cells": [
  {
   "cell_type": "markdown",
   "id": "f05af7c8-abde-4839-9889-4f09915866e5",
   "metadata": {},
   "source": [
    "# Passing Functions as Arguments:\n",
    "Let us understand how to pass functions as arguments using Python as programming language.\n",
    "* The function which takes other functions as arguments is typically called as higher order function and the function which is passed as argument is called as lower order function.\n",
    "* You need to define all the functions you want to pass as argument for the higher order functions.\n",
    "* For simple functionality, we can also pass unnamed functions or lambda functions on the fly. We will see as part of the next topic.\n",
    "* Let us take the example of getting sum of integers, squares, cubes and evens related to passing functions as arguments."
   ]
  },
  {
   "cell_type": "markdown",
   "id": "b1a53756-7bec-4987-8af8-47c2ade8fc17",
   "metadata": {},
   "source": [
    "### Regular Functions Example"
   ]
  },
  {
   "cell_type": "code",
   "execution_count": 1,
   "id": "147f3e38-aa4a-47a7-bc1d-2540a80bb8f2",
   "metadata": {},
   "outputs": [
    {
     "data": {
      "text/plain": [
       "[1, 2, 3, 4, 5, 6, 7, 8, 9]"
      ]
     },
     "execution_count": 1,
     "metadata": {},
     "output_type": "execute_result"
    }
   ],
   "source": [
    "list(range(1,10))"
   ]
  },
  {
   "cell_type": "code",
   "execution_count": 2,
   "id": "a99275ea-eca8-46c5-853b-8514551a8a98",
   "metadata": {},
   "outputs": [
    {
     "data": {
      "text/plain": [
       "[1, 3, 5, 7, 9]"
      ]
     },
     "execution_count": 2,
     "metadata": {},
     "output_type": "execute_result"
    }
   ],
   "source": [
    "list(range(1, 10, 2))"
   ]
  },
  {
   "cell_type": "code",
   "execution_count": 3,
   "id": "f4ccd95f-ab1a-4228-8137-83d61d7a5875",
   "metadata": {},
   "outputs": [
    {
     "data": {
      "text/plain": [
       "[1, 4, 7]"
      ]
     },
     "execution_count": 3,
     "metadata": {},
     "output_type": "execute_result"
    }
   ],
   "source": [
    "list(range(1, 10, 3))"
   ]
  },
  {
   "cell_type": "code",
   "execution_count": 4,
   "id": "714fa30a-5b46-4bbe-8773-4eb999a322d9",
   "metadata": {},
   "outputs": [],
   "source": [
    "def sum_of_integers(lb, ub):\n",
    "    total = 0\n",
    "    for i in range(lb, ub + 1):\n",
    "        total += i\n",
    "    return total"
   ]
  },
  {
   "cell_type": "code",
   "execution_count": 5,
   "id": "27c539ee-7a81-4a1a-a8cc-9557279ad1fd",
   "metadata": {},
   "outputs": [
    {
     "data": {
      "text/plain": [
       "45"
      ]
     },
     "execution_count": 5,
     "metadata": {},
     "output_type": "execute_result"
    }
   ],
   "source": [
    "sum_of_integers(5, 10)"
   ]
  },
  {
   "cell_type": "code",
   "execution_count": 6,
   "id": "da80b927-659e-4ad7-9098-b0444fc49796",
   "metadata": {},
   "outputs": [],
   "source": [
    "def sum_of_squares(lb, ub):\n",
    "    total = 0\n",
    "    for i in range(lb, ub + 1):\n",
    "        total += i * i\n",
    "    return total"
   ]
  },
  {
   "cell_type": "code",
   "execution_count": 7,
   "id": "f2e7e94c-b9eb-42eb-a00e-5e0c65d7f597",
   "metadata": {},
   "outputs": [
    {
     "data": {
      "text/plain": [
       "355"
      ]
     },
     "execution_count": 7,
     "metadata": {},
     "output_type": "execute_result"
    }
   ],
   "source": [
    "sum_of_squares(5, 10)"
   ]
  },
  {
   "cell_type": "code",
   "execution_count": 8,
   "id": "1df0f739-1fdd-4f99-86a1-31e0f2f30d76",
   "metadata": {},
   "outputs": [],
   "source": [
    "def sum_of_cubes(lb, ub):\n",
    "    total = 0\n",
    "    for i in range(lb, ub + 1):\n",
    "        total += i * i * i\n",
    "    return total"
   ]
  },
  {
   "cell_type": "code",
   "execution_count": 9,
   "id": "8fc2129a-a7b7-4d5e-8116-8c7a28562bbe",
   "metadata": {},
   "outputs": [
    {
     "data": {
      "text/plain": [
       "2925"
      ]
     },
     "execution_count": 9,
     "metadata": {},
     "output_type": "execute_result"
    }
   ],
   "source": [
    "sum_of_cubes(5, 10)"
   ]
  },
  {
   "cell_type": "code",
   "execution_count": 10,
   "id": "4b8aabaf-3f4a-46b0-81a5-6e9e92f22740",
   "metadata": {},
   "outputs": [],
   "source": [
    "def sum_of_evens(lb, ub):\n",
    "    total = 0\n",
    "    for i in range(lb, ub + 1):\n",
    "        total += i if i % 2 == 0 else 0\n",
    "    return total"
   ]
  },
  {
   "cell_type": "code",
   "execution_count": 11,
   "id": "16af48db-2ed1-472f-a61b-3703fbf23bb5",
   "metadata": {},
   "outputs": [
    {
     "data": {
      "text/plain": [
       "24"
      ]
     },
     "execution_count": 11,
     "metadata": {},
     "output_type": "execute_result"
    }
   ],
   "source": [
    "sum_of_evens(5, 10)"
   ]
  },
  {
   "cell_type": "markdown",
   "id": "f2614ef7-bfcd-4bb4-80e7-73a9a31a2bf6",
   "metadata": {},
   "source": [
    "#### Using Functions as arguments:"
   ]
  },
  {
   "cell_type": "code",
   "execution_count": 12,
   "id": "6c1ce944-24f7-4f01-9e01-97f017e48fc9",
   "metadata": {},
   "outputs": [],
   "source": [
    "def my_sum(lb, ub, f):\n",
    "    total = 0\n",
    "    for e in range(lb, ub + 1):\n",
    "        total += f(e)\n",
    "    return total"
   ]
  },
  {
   "cell_type": "code",
   "execution_count": 13,
   "id": "0de11e9b-8056-488c-8294-03251377567b",
   "metadata": {},
   "outputs": [],
   "source": [
    "def i(n): return n"
   ]
  },
  {
   "cell_type": "code",
   "execution_count": 14,
   "id": "6f7362e2-d53e-4dfc-b064-d4aa2cd700ce",
   "metadata": {},
   "outputs": [],
   "source": [
    "def sqr(n): return n * n"
   ]
  },
  {
   "cell_type": "code",
   "execution_count": 15,
   "id": "f0db0d7b-b5f2-4e7e-9fc8-678b76426dbb",
   "metadata": {},
   "outputs": [],
   "source": [
    "def cube(n): return n * n * n"
   ]
  },
  {
   "cell_type": "code",
   "execution_count": 16,
   "id": "fd23c012-cb21-4624-8ab7-eb0b35668819",
   "metadata": {},
   "outputs": [],
   "source": [
    "def even(n): return n if n % 2 == 0 else 0"
   ]
  },
  {
   "cell_type": "code",
   "execution_count": 17,
   "id": "3e1b2de5-063a-485d-bfa3-c9a24bc25ab8",
   "metadata": {},
   "outputs": [
    {
     "data": {
      "text/plain": [
       "45"
      ]
     },
     "execution_count": 17,
     "metadata": {},
     "output_type": "execute_result"
    }
   ],
   "source": [
    "my_sum(5, 10, i)"
   ]
  },
  {
   "cell_type": "code",
   "execution_count": 18,
   "id": "fb5eb779-896a-41ea-a9f6-a12786a8f417",
   "metadata": {},
   "outputs": [
    {
     "data": {
      "text/plain": [
       "355"
      ]
     },
     "execution_count": 18,
     "metadata": {},
     "output_type": "execute_result"
    }
   ],
   "source": [
    "my_sum(5, 10, sqr)"
   ]
  },
  {
   "cell_type": "code",
   "execution_count": 19,
   "id": "1a4fee2a-19fc-4c1b-8820-2f953f607086",
   "metadata": {},
   "outputs": [
    {
     "data": {
      "text/plain": [
       "2925"
      ]
     },
     "execution_count": 19,
     "metadata": {},
     "output_type": "execute_result"
    }
   ],
   "source": [
    "my_sum(5, 10, cube)"
   ]
  },
  {
   "cell_type": "code",
   "execution_count": 20,
   "id": "b719a9cf-2267-460a-9765-17b8f61913d7",
   "metadata": {},
   "outputs": [
    {
     "data": {
      "text/plain": [
       "24"
      ]
     },
     "execution_count": 20,
     "metadata": {},
     "output_type": "execute_result"
    }
   ],
   "source": [
    "my_sum(5, 10, even)"
   ]
  }
 ],
 "metadata": {
  "kernelspec": {
   "display_name": "Python 3",
   "language": "python",
   "name": "python3"
  },
  "language_info": {
   "codemirror_mode": {
    "name": "ipython",
    "version": 3
   },
   "file_extension": ".py",
   "mimetype": "text/x-python",
   "name": "python",
   "nbconvert_exporter": "python",
   "pygments_lexer": "ipython3",
   "version": "3.6.9"
  }
 },
 "nbformat": 4,
 "nbformat_minor": 5
}
