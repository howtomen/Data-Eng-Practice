{
 "cells": [
  {
   "cell_type": "markdown",
   "id": "3d0c0388-f456-4772-bc5f-3ef050a3a5d2",
   "metadata": {},
   "source": [
    "# Defining Functions:\n",
    "Let us understand how to define functions in Python. Here are simple rules to define a function in Python.\n",
    "* function blocks begin with the keyword `def` followed by the function name and parentheses ().\n",
    "* While defining functions we need to specify parameters in these parentheses (if applicable)\n",
    "* The function specification ends with `:` - (example: `def add(a, b):`)\n",
    "* We typically have return statement with expression in function body which results in exit from the function and goes back to the caller.\n",
    "* We can have document string in the function."
   ]
  },
  {
   "cell_type": "code",
   "execution_count": 1,
   "id": "7ffc779b-8392-45e7-a35b-cf71eb4282f4",
   "metadata": {},
   "outputs": [],
   "source": [
    "def get_commission_amount(sales_amount, commission_pct):\n",
    "    commission_amount = (sales_amount * commission_pct / 100) if commission_pct else 0\n",
    "    return commission_amount"
   ]
  },
  {
   "cell_type": "code",
   "execution_count": 2,
   "id": "57596923-31d9-4e1a-91eb-0ce914b56622",
   "metadata": {},
   "outputs": [
    {
     "data": {
      "text/plain": [
       "<function __main__.get_commission_amount(sales_amount, commission_pct)>"
      ]
     },
     "execution_count": 2,
     "metadata": {},
     "output_type": "execute_result"
    }
   ],
   "source": [
    "get_commission_amount"
   ]
  },
  {
   "cell_type": "code",
   "execution_count": 3,
   "id": "92f85c80-0445-43da-adaa-5ba9b47f887a",
   "metadata": {},
   "outputs": [
    {
     "data": {
      "text/plain": [
       "200.0"
      ]
     },
     "execution_count": 3,
     "metadata": {},
     "output_type": "execute_result"
    }
   ],
   "source": [
    "get_commission_amount(1000,20)"
   ]
  },
  {
   "cell_type": "code",
   "execution_count": 4,
   "id": "0bf617a9-1951-445b-8a0d-7880e1de4cbd",
   "metadata": {},
   "outputs": [],
   "source": [
    "def get_commission_amount(sales_amount, commission_pct):\n",
    "    if commission_pct:\n",
    "        commission_amount = (sales_amount * commission_pct / 100) \n",
    "    else:\n",
    "        commission_pct = 0\n",
    "    return commission_amount"
   ]
  },
  {
   "cell_type": "code",
   "execution_count": 5,
   "id": "eb9558c0-f6c1-438e-8ca5-7cafdd284352",
   "metadata": {},
   "outputs": [
    {
     "data": {
      "text/plain": [
       "200.0"
      ]
     },
     "execution_count": 5,
     "metadata": {},
     "output_type": "execute_result"
    }
   ],
   "source": [
    "get_commission_amount(1000,20)"
   ]
  },
  {
   "cell_type": "code",
   "execution_count": 6,
   "id": "92532c1c-fa8a-451d-ad73-c37ec83a5756",
   "metadata": {},
   "outputs": [],
   "source": [
    "def get_commission_amount(sales_amount, commission_pct):\n",
    "    return (sales_amount * commission_pct / 100) if commission_pct else 0"
   ]
  },
  {
   "cell_type": "code",
   "execution_count": 7,
   "id": "96b7a838-31be-40b1-8bc0-0ac8dd7025f2",
   "metadata": {},
   "outputs": [
    {
     "data": {
      "text/plain": [
       "200.0"
      ]
     },
     "execution_count": 7,
     "metadata": {},
     "output_type": "execute_result"
    }
   ],
   "source": [
    "get_commission_amount(1000,20)"
   ]
  }
 ],
 "metadata": {
  "kernelspec": {
   "display_name": "Python 3",
   "language": "python",
   "name": "python3"
  },
  "language_info": {
   "codemirror_mode": {
    "name": "ipython",
    "version": 3
   },
   "file_extension": ".py",
   "mimetype": "text/x-python",
   "name": "python",
   "nbconvert_exporter": "python",
   "pygments_lexer": "ipython3",
   "version": "3.6.9"
  }
 },
 "nbformat": 4,
 "nbformat_minor": 5
}
