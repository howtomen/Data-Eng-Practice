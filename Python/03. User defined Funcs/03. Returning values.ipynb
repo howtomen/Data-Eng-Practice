{
 "cells": [
  {
   "cell_type": "markdown",
   "id": "90bdefad-9470-4162-9c66-b0287512bb79",
   "metadata": {},
   "source": [
    "# Returning Values:\n",
    "Let us understand more about returning values to the caller.\n",
    "* We typically have one or more return statements inside the function body.\n",
    "* The statement `return` exits a function, we can return back an expression or variable or object to the caller. A return statement with no expression is the same as **return None**.\n",
    "* If there is no return statement in the function body then the function returns None object.\n",
    "* We can return multiple expressions in Python."
   ]
  },
  {
   "cell_type": "code",
   "execution_count": 1,
   "id": "20a6e42e-8724-4689-bd3f-1a39ce8632bd",
   "metadata": {},
   "outputs": [],
   "source": [
    "def get_commission_amount(sales_amount, commission_pct):\n",
    "    \"\"\"Function to compute commission amount. commission_pct should be passed as percent notation (eg: 20%)\n",
    "       20% using percent notation is equal to 0.20 in decimal notation.\n",
    "    \"\"\"\n",
    "    commission_amount = (sales_amount * commission_pct / 100) if commission_pct else 0\n",
    "    return commission_amount"
   ]
  },
  {
   "cell_type": "code",
   "execution_count": 2,
   "id": "c92b3da3-15ae-42ec-afd6-56b614ec925d",
   "metadata": {},
   "outputs": [
    {
     "data": {
      "text/plain": [
       "200.0"
      ]
     },
     "execution_count": 2,
     "metadata": {},
     "output_type": "execute_result"
    }
   ],
   "source": [
    "get_commission_amount(1000,20)"
   ]
  },
  {
   "cell_type": "code",
   "execution_count": 3,
   "id": "a75a6351-de00-4e5f-9365-7aef39fa22ae",
   "metadata": {},
   "outputs": [],
   "source": [
    "def get_phone_count(employee_id: int, phone_numbers: list):\n",
    "    valid_count = 0\n",
    "    invalid_count = 0\n",
    "    for phone_number in phone_numbers:\n",
    "        if len(phone_number) != 10:\n",
    "            invalid_count += 1\n",
    "        else:\n",
    "            valid_count += 1\n",
    "    return valid_count, invalid_count"
   ]
  },
  {
   "cell_type": "code",
   "execution_count": 4,
   "id": "8cef0a2d-9381-4496-a95b-0f767be55a03",
   "metadata": {},
   "outputs": [
    {
     "data": {
      "text/plain": [
       "(1, 2)"
      ]
     },
     "execution_count": 4,
     "metadata": {},
     "output_type": "execute_result"
    }
   ],
   "source": [
    "get_phone_count(1, ['1234567890', '245 789 1234', '+1 156 290 1489'])"
   ]
  },
  {
   "cell_type": "code",
   "execution_count": null,
   "id": "1d5192d2-4dca-437a-b4a1-078a3cb5aca3",
   "metadata": {},
   "outputs": [],
   "source": []
  }
 ],
 "metadata": {
  "kernelspec": {
   "display_name": "Python 3",
   "language": "python",
   "name": "python3"
  },
  "language_info": {
   "codemirror_mode": {
    "name": "ipython",
    "version": 3
   },
   "file_extension": ".py",
   "mimetype": "text/x-python",
   "name": "python",
   "nbconvert_exporter": "python",
   "pygments_lexer": "ipython3",
   "version": "3.6.9"
  }
 },
 "nbformat": 4,
 "nbformat_minor": 5
}
