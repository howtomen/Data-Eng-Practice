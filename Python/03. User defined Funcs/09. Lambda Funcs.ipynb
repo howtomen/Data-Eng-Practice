{
 "cells": [
  {
   "cell_type": "markdown",
   "id": "c8ef4257-ed3b-4091-b425-8c75b879c507",
   "metadata": {},
   "source": [
    "# Lambda Functions:\n",
    "Let us get an overview of Lambda Functions in Python. They are also known as anonymous functions in other programming languages.\n",
    "* A lambda function is a function which does not have name associated with it.\n",
    "* It starts with the keyword `lambda.`\n",
    "* Typically we have simple one liners as part of lambda functions.\n",
    "* There are restrictions while passing or creating lambda functions.\n",
    "    * You cannot have return statement\n",
    "    * Assignment operation is not allowed\n",
    "* Use lambda functions only when the functionality is simple and not used very often."
   ]
  },
  {
   "cell_type": "code",
   "execution_count": 1,
   "id": "bd812b08-ced6-4c4a-bf04-e4ccee9a412c",
   "metadata": {},
   "outputs": [],
   "source": [
    "def my_sum(lb, ub, f):\n",
    "    total = 0\n",
    "    for i in range(lb, ub + 1):\n",
    "        total += f(i)\n",
    "    return total"
   ]
  },
  {
   "cell_type": "code",
   "execution_count": 2,
   "id": "4d02ba60-53aa-4583-9ca8-801ebe09c06b",
   "metadata": {},
   "outputs": [],
   "source": [
    "def i(n): return n # typical function, for lambda def and function are replaced by keyword lambda"
   ]
  },
  {
   "cell_type": "code",
   "execution_count": 3,
   "id": "6915428f-dba0-4427-9103-82942b568f87",
   "metadata": {},
   "outputs": [
    {
     "data": {
      "text/plain": [
       "45"
      ]
     },
     "execution_count": 3,
     "metadata": {},
     "output_type": "execute_result"
    }
   ],
   "source": [
    "my_sum(5, 10, i)"
   ]
  },
  {
   "cell_type": "code",
   "execution_count": 4,
   "id": "709bdb7e-f718-4962-b99d-50cd4aa83b82",
   "metadata": {},
   "outputs": [
    {
     "data": {
      "text/plain": [
       "45"
      ]
     },
     "execution_count": 4,
     "metadata": {},
     "output_type": "execute_result"
    }
   ],
   "source": [
    "my_sum(5, 10, lambda n: n)"
   ]
  },
  {
   "cell_type": "code",
   "execution_count": 5,
   "id": "e1524365-099a-43be-b49e-0c2033e02e2b",
   "metadata": {},
   "outputs": [
    {
     "data": {
      "text/plain": [
       "355"
      ]
     },
     "execution_count": 5,
     "metadata": {},
     "output_type": "execute_result"
    }
   ],
   "source": [
    "my_sum(5, 10, lambda n: n * n)"
   ]
  },
  {
   "cell_type": "code",
   "execution_count": 6,
   "id": "d5a83c77-d1d2-45ee-8836-dbf213bb6220",
   "metadata": {},
   "outputs": [
    {
     "data": {
      "text/plain": [
       "2925"
      ]
     },
     "execution_count": 6,
     "metadata": {},
     "output_type": "execute_result"
    }
   ],
   "source": [
    "my_sum(5, 10, lambda n: n * n * n)"
   ]
  },
  {
   "cell_type": "code",
   "execution_count": 7,
   "id": "4919fdec-d3ac-4d66-903a-e8e07f67f58a",
   "metadata": {},
   "outputs": [],
   "source": [
    "def even(n): return n if n % 2 == 0 else 0 # Another example for typical function"
   ]
  },
  {
   "cell_type": "code",
   "execution_count": 8,
   "id": "9052bca2-82ae-49a3-a214-cffeb2d748de",
   "metadata": {},
   "outputs": [
    {
     "data": {
      "text/plain": [
       "24"
      ]
     },
     "execution_count": 8,
     "metadata": {},
     "output_type": "execute_result"
    }
   ],
   "source": [
    "my_sum(5, 10, even)"
   ]
  },
  {
   "cell_type": "code",
   "execution_count": 9,
   "id": "8c73e853-0260-4db8-ac85-ec0596647b89",
   "metadata": {},
   "outputs": [
    {
     "data": {
      "text/plain": [
       "24"
      ]
     },
     "execution_count": 9,
     "metadata": {},
     "output_type": "execute_result"
    }
   ],
   "source": [
    "my_sum(5, 10, lambda n: n if n % 2 == 0 else 0)"
   ]
  },
  {
   "cell_type": "code",
   "execution_count": 10,
   "id": "39d41dcb-1b24-404b-a1ee-98d9acbec9c9",
   "metadata": {},
   "outputs": [
    {
     "data": {
      "text/plain": [
       "15"
      ]
     },
     "execution_count": 10,
     "metadata": {},
     "output_type": "execute_result"
    }
   ],
   "source": [
    "my_sum(5, 10, lambda n: n if n % 3 == 0 else 0)"
   ]
  },
  {
   "cell_type": "code",
   "execution_count": null,
   "id": "1f0086a4-0af7-43d1-abf4-1949a894de1a",
   "metadata": {},
   "outputs": [],
   "source": []
  }
 ],
 "metadata": {
  "kernelspec": {
   "display_name": "Python 3",
   "language": "python",
   "name": "python3"
  },
  "language_info": {
   "codemirror_mode": {
    "name": "ipython",
    "version": 3
   },
   "file_extension": ".py",
   "mimetype": "text/x-python",
   "name": "python",
   "nbconvert_exporter": "python",
   "pygments_lexer": "ipython3",
   "version": "3.6.9"
  }
 },
 "nbformat": 4,
 "nbformat_minor": 5
}
