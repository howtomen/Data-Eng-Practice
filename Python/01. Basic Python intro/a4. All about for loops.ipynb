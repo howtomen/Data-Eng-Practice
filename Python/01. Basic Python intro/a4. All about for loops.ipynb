{
 "cells": [
  {
   "cell_type": "markdown",
   "id": "87121145-8b5d-4bdd-bc7a-a10250ec3059",
   "metadata": {},
   "source": [
    "# All about for Loops:\n",
    "Let us understand how we can loop through using for in Python.\n",
    "* Go through range between 2 integers (5 and 10) and print them. We can use range function to get range between two integers."
   ]
  },
  {
   "cell_type": "code",
   "execution_count": 1,
   "id": "10fbc4a9-dbf1-4086-9aab-d3126ddd1948",
   "metadata": {},
   "outputs": [
    {
     "data": {
      "text/plain": [
       "range(5, 11)"
      ]
     },
     "execution_count": 1,
     "metadata": {},
     "output_type": "execute_result"
    }
   ],
   "source": [
    "range(5, 11)"
   ]
  },
  {
   "cell_type": "code",
   "execution_count": 2,
   "id": "72796c4f-47ec-4200-9367-ee708d76f922",
   "metadata": {},
   "outputs": [
    {
     "data": {
      "text/plain": [
       "[5, 6, 7, 8, 9, 10]"
      ]
     },
     "execution_count": 2,
     "metadata": {},
     "output_type": "execute_result"
    }
   ],
   "source": [
    "list(range(5,11))"
   ]
  },
  {
   "cell_type": "code",
   "execution_count": 3,
   "id": "c7267840-0ad6-4751-8787-50a61fdbca45",
   "metadata": {},
   "outputs": [
    {
     "data": {
      "text/plain": [
       "[5, 7, 9]"
      ]
     },
     "execution_count": 3,
     "metadata": {},
     "output_type": "execute_result"
    }
   ],
   "source": [
    "list(range(5,11,2))"
   ]
  },
  {
   "cell_type": "code",
   "execution_count": 4,
   "id": "1f1bd666-ed68-46a2-842c-51884cc34ff3",
   "metadata": {},
   "outputs": [
    {
     "name": "stdout",
     "output_type": "stream",
     "text": [
      "5\n",
      "6\n",
      "7\n",
      "8\n",
      "9\n",
      "10\n"
     ]
    }
   ],
   "source": [
    "for i in range(5,11): print(i)"
   ]
  },
  {
   "cell_type": "markdown",
   "id": "76f23158-5d48-4890-b46d-e4f1cc1e2bc1",
   "metadata": {},
   "source": [
    "* Create a list of 7 elements and print alternate numbers starting from 1. [1, 6, 8, 3, 7, 2, 9]\n",
    "* In this example we are using list. It will be covered extensively at a later point in time. `list` is one of the core Python Data Structures."
   ]
  },
  {
   "cell_type": "code",
   "execution_count": 5,
   "id": "809f2f3b-f9e5-4cc8-b5de-c457e715d4d6",
   "metadata": {},
   "outputs": [],
   "source": [
    "l = [1,6,8,3,7,2,9]"
   ]
  },
  {
   "cell_type": "code",
   "execution_count": 6,
   "id": "a7c36f5a-184a-4dbc-a9f1-e73d3fc54295",
   "metadata": {},
   "outputs": [
    {
     "data": {
      "text/plain": [
       "list"
      ]
     },
     "execution_count": 6,
     "metadata": {},
     "output_type": "execute_result"
    }
   ],
   "source": [
    "type(l)"
   ]
  },
  {
   "cell_type": "code",
   "execution_count": 7,
   "id": "e128dcdc-6c81-48ff-bd3b-d367bc12da41",
   "metadata": {},
   "outputs": [
    {
     "name": "stdout",
     "output_type": "stream",
     "text": [
      "1\n",
      "8\n",
      "7\n",
      "9\n"
     ]
    }
   ],
   "source": [
    "for i in range(len(l)):\n",
    "    if i % 2 == 0:\n",
    "        print(l[i])"
   ]
  },
  {
   "cell_type": "code",
   "execution_count": 8,
   "id": "d27dc18f-cac3-4e2f-acc2-168d30439bb7",
   "metadata": {},
   "outputs": [
    {
     "name": "stdout",
     "output_type": "stream",
     "text": [
      "1\n",
      "8\n",
      "7\n",
      "9\n"
     ]
    }
   ],
   "source": [
    "## alternate class solution that is lame: \n",
    "cnt = 0\n",
    "for i in l:\n",
    "    if cnt % 2 == 0: # checking if cnt is even or not\n",
    "        print(i)\n",
    "    cnt += 1 # incrementing cnt by 1"
   ]
  },
  {
   "cell_type": "markdown",
   "id": "956036f8-b048-44e6-ac36-3e386ca6987d",
   "metadata": {},
   "source": [
    "* Go through range between 2 integers (5 and 15) and print even numbers."
   ]
  },
  {
   "cell_type": "code",
   "execution_count": 9,
   "id": "285b1fa8-f849-4a03-a8a5-ce8134d9e3db",
   "metadata": {},
   "outputs": [
    {
     "name": "stdout",
     "output_type": "stream",
     "text": [
      "6\n",
      "8\n",
      "10\n",
      "12\n",
      "14\n"
     ]
    }
   ],
   "source": [
    "for i in range(5, 16): \n",
    "    if i % 2 == 0:\n",
    "        print(i)"
   ]
  },
  {
   "cell_type": "markdown",
   "id": "1979436f-39b9-4107-b5c3-1dafde1eade1",
   "metadata": {},
   "source": [
    "* Iterate through a list of months and print them."
   ]
  },
  {
   "cell_type": "code",
   "execution_count": 10,
   "id": "7f051764-56f5-4b86-9d93-fd605105c2d2",
   "metadata": {},
   "outputs": [
    {
     "name": "stdout",
     "output_type": "stream",
     "text": [
      "January\n",
      "February\n",
      "March\n"
     ]
    }
   ],
   "source": [
    "months = ['January', 'February', 'March']\n",
    "for month in months:\n",
    "    print(month)"
   ]
  },
  {
   "cell_type": "code",
   "execution_count": 11,
   "id": "81a44dd6-a9a0-485d-bbf9-3070e14f5728",
   "metadata": {},
   "outputs": [
    {
     "data": {
      "text/plain": [
       "['',\n",
       " 'January',\n",
       " 'February',\n",
       " 'March',\n",
       " 'April',\n",
       " 'May',\n",
       " 'June',\n",
       " 'July',\n",
       " 'August',\n",
       " 'September',\n",
       " 'October',\n",
       " 'November',\n",
       " 'December']"
      ]
     },
     "execution_count": 11,
     "metadata": {},
     "output_type": "execute_result"
    }
   ],
   "source": [
    "import calendar\n",
    "list(calendar.month_name)"
   ]
  },
  {
   "cell_type": "code",
   "execution_count": 12,
   "id": "40532f91-98a2-4ef3-828e-1df821a6cd40",
   "metadata": {},
   "outputs": [
    {
     "name": "stdout",
     "output_type": "stream",
     "text": [
      "January\n",
      "February\n",
      "March\n",
      "April\n",
      "May\n",
      "June\n",
      "July\n",
      "August\n",
      "September\n",
      "October\n",
      "November\n",
      "December\n"
     ]
    }
   ],
   "source": [
    "for month in list(calendar.month_name)[1:]:\n",
    "    print(month)"
   ]
  },
  {
   "cell_type": "markdown",
   "id": "4513d347-e8dd-43cf-9c76-d2d37e8c6bcb",
   "metadata": {},
   "source": [
    "# Task 1:\n",
    "Take the list of ages and determine the category of the baby.\n",
    "* Print **New Born or Infant** till 6 months.\n",
    "* Print **Toddler** from 7 months to 18 months.\n",
    "* Print **Grown up** from 19 months to 144 months.\n",
    "* Print **Youth** from 145 months to 216 months"
   ]
  },
  {
   "cell_type": "code",
   "execution_count": 1,
   "id": "d0fcbbe0-d21b-431f-a8f6-99e8b4328f94",
   "metadata": {},
   "outputs": [],
   "source": [
    "ages = [7, 3, 15, 145, 217, 18]"
   ]
  },
  {
   "cell_type": "code",
   "execution_count": 3,
   "id": "b8f0d920-14ac-403a-865f-f2469e8f16d5",
   "metadata": {},
   "outputs": [
    {
     "name": "stdout",
     "output_type": "stream",
     "text": [
      "Kid with 7 months age is \"Toddler\"\n",
      "Kid with 3 months age is \"New Born or Infant\"\n",
      "Kid with 15 months age is \"Toddler\"\n",
      "Kid with 145 months age is \"Youth\"\n",
      "Kid with 217 months age is \"Adult\"\n",
      "Kid with 18 months age is \"Toddler\"\n"
     ]
    }
   ],
   "source": [
    "for age in ages:\n",
    "    if age <= 6:\n",
    "        print(f'Kid with {age} months age is \"New Born or Infant\"')\n",
    "    elif 6 < age <= 18:\n",
    "        print(f'Kid with {age} months age is \"Toddler\"')\n",
    "    elif 18 < age <= 144:\n",
    "        print(f'Kid with {age} months age is \"Grown up\"')\n",
    "    elif 144 < age < 216:\n",
    "        print(f'Kid with {age} months age is \"Youth\"')\n",
    "    else:\n",
    "        print(f'Kid with {age} months age is \"Adult\"')"
   ]
  },
  {
   "cell_type": "markdown",
   "id": "65bfcffa-1901-4c03-8942-d584c18903e7",
   "metadata": {},
   "source": [
    "# Task 2:\n",
    "Check if each number in list of integers is even or divisible by 3."
   ]
  },
  {
   "cell_type": "code",
   "execution_count": 4,
   "id": "ef4a795d-6bf4-4a6d-9130-c2915243bf1d",
   "metadata": {},
   "outputs": [],
   "source": [
    "ns = [1, 6, 2, 7, 9, 11, 3, 4]"
   ]
  },
  {
   "cell_type": "code",
   "execution_count": 5,
   "id": "2fea1621-02c6-43ee-aef8-a451a6365206",
   "metadata": {},
   "outputs": [
    {
     "name": "stdout",
     "output_type": "stream",
     "text": [
      "Number 6 is even or divisible by 3\n",
      "Number 2 is even or divisible by 3\n",
      "Number 9 is even or divisible by 3\n",
      "Number 3 is even or divisible by 3\n",
      "Number 4 is even or divisible by 3\n"
     ]
    }
   ],
   "source": [
    "for n in ns:\n",
    "    if n % 2 == 0 or n % 3 == 0:\n",
    "        print(f'Number {n} is even or divisible by 3')"
   ]
  },
  {
   "cell_type": "markdown",
   "id": "8148bdb9-6817-4fc1-9d36-99518d16d7b3",
   "metadata": {},
   "source": [
    "# Task 3:\n",
    "Check if the number in list of integers is even and divisible by 3"
   ]
  },
  {
   "cell_type": "code",
   "execution_count": 6,
   "id": "2d5f65f2-88c2-4a38-8285-34dcb2f6dcd0",
   "metadata": {},
   "outputs": [],
   "source": [
    "ns = [1, 6, 2, 7, 9, 11, 3, 4]"
   ]
  },
  {
   "cell_type": "code",
   "execution_count": 7,
   "id": "d126c33a-7f1a-422f-9599-0b4eb45c2a2b",
   "metadata": {},
   "outputs": [
    {
     "name": "stdout",
     "output_type": "stream",
     "text": [
      "Number 6 is even or divisible by 3\n",
      "Number 2 is even but not divisible by 3\n",
      "Number 9 is divisible by 3 but not even\n",
      "Number 3 is divisible by 3 but not even\n",
      "Number 4 is even but not divisible by 3\n"
     ]
    }
   ],
   "source": [
    "for n in ns:\n",
    "    if n % 2 == 0 and n % 3 == 0:\n",
    "        print(f'Number {n} is even or divisible by 3')\n",
    "    elif n % 3 == 0:\n",
    "        print(f'Number {n} is divisible by 3 but not even')\n",
    "    elif n % 2 == 0:\n",
    "        print(f'Number {n} is even but not divisible by 3')"
   ]
  },
  {
   "cell_type": "markdown",
   "id": "48429a23-48fc-4d6d-b1bc-8260a052b572",
   "metadata": {},
   "source": [
    "# Task 4:\n",
    "Check if each salary in list of salaries is valid. If the salary is negative or 0, then print Salary {salary_amount} is invalid. If the salary is None then print Salary is Not Available."
   ]
  },
  {
   "cell_type": "code",
   "execution_count": 8,
   "id": "e0f77974-904c-4892-ac8d-47b9152af6b1",
   "metadata": {},
   "outputs": [],
   "source": [
    "sals = [100.0, 1000.0, 0.0, -100, 1200.0, None, -500]"
   ]
  },
  {
   "cell_type": "code",
   "execution_count": 9,
   "id": "780398ad-6d73-496c-a5be-f7a744525a8a",
   "metadata": {},
   "outputs": [
    {
     "name": "stdout",
     "output_type": "stream",
     "text": [
      "Salary is not available\n",
      "Salary -100 is invalid\n",
      "Salary is not available\n",
      "Salary -500 is invalid\n"
     ]
    }
   ],
   "source": [
    "for sal in sals:\n",
    "    if not sal:\n",
    "        print('Salary is not available')\n",
    "    elif sal < 1:\n",
    "        print(f'Salary {sal} is invalid')          "
   ]
  },
  {
   "cell_type": "markdown",
   "id": "b2fd0e02-ad76-4f5e-94a5-371e5f03b21b",
   "metadata": {},
   "source": [
    "## Note:\n",
    "We can also use list of tuples with employee id and salary. You will see examples like this as part of manipulating collections later."
   ]
  },
  {
   "cell_type": "code",
   "execution_count": 10,
   "id": "a0a0b9a5-30de-4d22-a771-a2ccc826b5de",
   "metadata": {},
   "outputs": [],
   "source": [
    "emp_sals = [\n",
    "    (1, 100.0), \n",
    "    (2, 1000.0), \n",
    "    (3, 0), \n",
    "    (4, -100), \n",
    "    (5, 1200.0), \n",
    "    (6, None), \n",
    "    (7, -500)\n",
    "]"
   ]
  },
  {
   "cell_type": "code",
   "execution_count": 11,
   "id": "654b1b19-d7cf-440f-9816-a0fbba2c8d5b",
   "metadata": {},
   "outputs": [
    {
     "name": "stdout",
     "output_type": "stream",
     "text": [
      "Salary 0 for employee with id 3 is invalid\n",
      "Salary -100 for employee with id 4 is invalid\n",
      "Salary for employee with id 6 is Not Available\n",
      "Salary -500 for employee with id 7 is invalid\n"
     ]
    }
   ],
   "source": [
    "for emp_sal in emp_sals:\n",
    "    if emp_sal[1] == None:\n",
    "        print(f'Salary for employee with id {emp_sal[0]} is Not Available')\n",
    "    elif emp_sal[1] <= 0:\n",
    "        print(f'Salary {emp_sal[1]} for employee with id {emp_sal[0]} is invalid')"
   ]
  },
  {
   "cell_type": "code",
   "execution_count": null,
   "id": "cbb8908a-3220-4e5a-986a-17c8429f12d9",
   "metadata": {},
   "outputs": [],
   "source": []
  }
 ],
 "metadata": {
  "kernelspec": {
   "display_name": "Python 3",
   "language": "python",
   "name": "python3"
  },
  "language_info": {
   "codemirror_mode": {
    "name": "ipython",
    "version": 3
   },
   "file_extension": ".py",
   "mimetype": "text/x-python",
   "name": "python",
   "nbconvert_exporter": "python",
   "pygments_lexer": "ipython3",
   "version": "3.6.9"
  }
 },
 "nbformat": 4,
 "nbformat_minor": 5
}
