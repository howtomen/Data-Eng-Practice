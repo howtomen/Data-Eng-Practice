{
 "cells": [
  {
   "cell_type": "markdown",
   "id": "4ae84f4a-8cce-4958-9b82-4979e29d6b3d",
   "metadata": {},
   "source": [
    "# Operators in Python:\n",
    "As any programming language Python supports all types of Operations. There are several categories of operators. For now we will cover Arithmetic and Comparison Operators.\n",
    "* Arithmetic Operators\n",
    "    * Addition (+)\n",
    "    * Subtraction (-)\n",
    "    * Multiplication (*)\n",
    "    * Division (/)\n",
    "    * Mod (%) returns reminder\n",
    "    * + is also used for concatenation of strings.\n",
    "* Comparison Operators - typically return boolean value (True or False)\n",
    "    * Equals (==)\n",
    "    * Not Equals (!=)\n",
    "    * Negation (! before expression)\n",
    "    * Greater Than (>)\n",
    "    * Less Than (<)\n",
    "    * Greater Than or Equals To (>=)\n",
    "    * Less Than or Equals To (<=)\n",
    "\n"
   ]
  },
  {
   "cell_type": "markdown",
   "id": "8b5c548f-a3ec-4da6-8c7b-ddfa22630f1f",
   "metadata": {},
   "source": [
    "# Tasks or Exercises:\n",
    "Let us perform some tasks to understand more about Python Data Types.\n",
    "* Create variables or objects of int, float.\n",
    "* Create 2 variables i1 and i2 with values 10 and 20 respectively. Add the variables and assign the result to res_i. Check the type of res_i."
   ]
  },
  {
   "cell_type": "code",
   "execution_count": 1,
   "id": "823c1b09-530d-4dce-a0df-897674878bff",
   "metadata": {},
   "outputs": [],
   "source": [
    "i1 = 10\n",
    "i2 = 20"
   ]
  },
  {
   "cell_type": "code",
   "execution_count": 2,
   "id": "ad397623-7aa9-476d-8680-55de06926b5d",
   "metadata": {},
   "outputs": [],
   "source": [
    "res_i = i1 + i2"
   ]
  },
  {
   "cell_type": "code",
   "execution_count": 3,
   "id": "2e830b23-d07a-40f4-906c-00b5e7774aef",
   "metadata": {},
   "outputs": [
    {
     "name": "stdout",
     "output_type": "stream",
     "text": [
      "30\n"
     ]
    }
   ],
   "source": [
    "print(res_i)"
   ]
  },
  {
   "cell_type": "code",
   "execution_count": 4,
   "id": "7c7292da-3658-4ac3-a72d-0ef741364e6e",
   "metadata": {},
   "outputs": [
    {
     "data": {
      "text/plain": [
       "int"
      ]
     },
     "execution_count": 4,
     "metadata": {},
     "output_type": "execute_result"
    }
   ],
   "source": [
    "type(res_i)"
   ]
  },
  {
   "cell_type": "markdown",
   "id": "702dd168-8ebd-4d39-9b1d-43e40f5478b4",
   "metadata": {},
   "source": [
    "#### Create 2 variables f1 and f2 with values 10.5 and 15.6 respectively. Add the variables and assign the result to res_f. Check the type of f1, f2 and res_f."
   ]
  },
  {
   "cell_type": "code",
   "execution_count": 6,
   "id": "50c7c498-5d11-4e75-873c-5858a75e6910",
   "metadata": {},
   "outputs": [],
   "source": [
    "f1 = 10.5\n",
    "f2 = 15.6\n",
    "res = f1 + f2"
   ]
  },
  {
   "cell_type": "code",
   "execution_count": 7,
   "id": "2d36df6b-cbc1-42c4-91b9-f4c8fbed5f90",
   "metadata": {},
   "outputs": [
    {
     "name": "stdout",
     "output_type": "stream",
     "text": [
      "26.1\n"
     ]
    }
   ],
   "source": [
    "print(res)"
   ]
  },
  {
   "cell_type": "code",
   "execution_count": 8,
   "id": "88b2bce5-f4c5-4cd5-93cd-ae2eeeac21e6",
   "metadata": {},
   "outputs": [
    {
     "data": {
      "text/plain": [
       "float"
      ]
     },
     "execution_count": 8,
     "metadata": {},
     "output_type": "execute_result"
    }
   ],
   "source": [
    "type(f1)"
   ]
  },
  {
   "cell_type": "code",
   "execution_count": 9,
   "id": "f53b0b62-ed15-43d6-b137-37c8024900ed",
   "metadata": {},
   "outputs": [
    {
     "data": {
      "text/plain": [
       "float"
      ]
     },
     "execution_count": 9,
     "metadata": {},
     "output_type": "execute_result"
    }
   ],
   "source": [
    "type(res)"
   ]
  },
  {
   "cell_type": "markdown",
   "id": "b04236b1-9426-4b4f-83f9-d04e76e8c073",
   "metadata": {},
   "source": [
    "#### Create 2 variables v1 and v2 with values 4 and 10.0 respectively. Add the variables and assign the result to res_v. Check the type of v1, v2 and res_v."
   ]
  },
  {
   "cell_type": "code",
   "execution_count": 10,
   "id": "27ed42b0-aea9-4e7f-afc4-94f07386748e",
   "metadata": {},
   "outputs": [],
   "source": [
    "v1 = 4\n",
    "v2 = 10.0\n",
    "res_v = v1 + v2"
   ]
  },
  {
   "cell_type": "code",
   "execution_count": 11,
   "id": "8148c7e4-fa84-404e-bbb0-43e45b6b7959",
   "metadata": {},
   "outputs": [
    {
     "name": "stdout",
     "output_type": "stream",
     "text": [
      "14.0\n"
     ]
    }
   ],
   "source": [
    "print(res_v)"
   ]
  },
  {
   "cell_type": "code",
   "execution_count": 12,
   "id": "aa95eb46-c4ad-4e99-b3c4-e3f403849962",
   "metadata": {},
   "outputs": [
    {
     "data": {
      "text/plain": [
       "float"
      ]
     },
     "execution_count": 12,
     "metadata": {},
     "output_type": "execute_result"
    }
   ],
   "source": [
    "type(res_v)"
   ]
  },
  {
   "cell_type": "code",
   "execution_count": 13,
   "id": "5c19ff06-4343-4163-b019-c698eb508748",
   "metadata": {},
   "outputs": [
    {
     "name": "stdout",
     "output_type": "stream",
     "text": [
      "30.299999999999997\n"
     ]
    }
   ],
   "source": [
    "# question from the class\n",
    "f1 = 10.1\n",
    "f2 = '20.2'\n",
    "res_f = f1 + float(f2) \n",
    "# throws operand related to error as there is no overloaded function + \n",
    "# between float and string\n",
    "print(res_f)"
   ]
  },
  {
   "cell_type": "markdown",
   "id": "7cf1840d-d79d-43c8-a9fb-dec7e90d701e",
   "metadata": {},
   "source": [
    "* Create object or variable s of type string for value Hello World and print on the screen. Check the type of s."
   ]
  },
  {
   "cell_type": "code",
   "execution_count": 14,
   "id": "2c9b463e-4387-4e79-acea-35fff5eb2439",
   "metadata": {},
   "outputs": [
    {
     "name": "stdout",
     "output_type": "stream",
     "text": [
      "Hello 'World'\n"
     ]
    }
   ],
   "source": [
    "s = \"Hello 'World'\"\n",
    "print(s)"
   ]
  },
  {
   "cell_type": "markdown",
   "id": "67a3c3bb-7820-4110-bb02-54e0097b1893",
   "metadata": {},
   "source": [
    "* Create 2 string objects s1 and s2 with values Hello and World respectively and concatenate with space between them."
   ]
  },
  {
   "cell_type": "code",
   "execution_count": 15,
   "id": "78ff409c-30f6-4ae1-8d05-64d99af0c528",
   "metadata": {},
   "outputs": [
    {
     "name": "stdout",
     "output_type": "stream",
     "text": [
      "Hello World\n"
     ]
    }
   ],
   "source": [
    "s1 = 'Hello'\n",
    "s2 = 'World'\n",
    "print(s1 + ' ' + s2)"
   ]
  },
  {
   "cell_type": "code",
   "execution_count": 16,
   "id": "0c07f07c-f8e7-4676-a9a2-a633a8f735e0",
   "metadata": {},
   "outputs": [
    {
     "name": "stdout",
     "output_type": "stream",
     "text": [
      "Hello 1\n"
     ]
    }
   ],
   "source": [
    "s = '{s3} {s4}'\n",
    "s3 = 'Hello'\n",
    "s4 = 1\n",
    "print(s.format(s3=s3, s4=s4))"
   ]
  },
  {
   "cell_type": "code",
   "execution_count": 18,
   "id": "4176a9f4-4269-4304-b2fd-511bc94d9c55",
   "metadata": {},
   "outputs": [
    {
     "name": "stdout",
     "output_type": "stream",
     "text": [
      "The result is Hello 1\n"
     ]
    }
   ],
   "source": [
    "print('The result is {} {}'.format(s3,s4))"
   ]
  },
  {
   "cell_type": "markdown",
   "id": "52bac4c8-b327-491b-b5c8-be60afb62bde",
   "metadata": {},
   "source": [
    "* Compare whether i1 and i2 are equal and assign it to a variable res_e, then check the type of it."
   ]
  },
  {
   "cell_type": "code",
   "execution_count": 19,
   "id": "f6b52c3d-faa4-463d-b816-8f1d4f40a261",
   "metadata": {},
   "outputs": [],
   "source": [
    "i1 = 10\n",
    "i2 = 20"
   ]
  },
  {
   "cell_type": "code",
   "execution_count": 20,
   "id": "8bba912a-b86b-462f-85c3-a344a43a1692",
   "metadata": {},
   "outputs": [],
   "source": [
    "res_e = i1 < i2"
   ]
  },
  {
   "cell_type": "code",
   "execution_count": 21,
   "id": "ea935df3-eae3-4a2b-82dd-59489a562be8",
   "metadata": {},
   "outputs": [
    {
     "name": "stdout",
     "output_type": "stream",
     "text": [
      "True\n"
     ]
    }
   ],
   "source": [
    "print(res_e)"
   ]
  },
  {
   "cell_type": "code",
   "execution_count": 22,
   "id": "f5b9d69d-0067-4a3c-ba93-e40879f5c9c9",
   "metadata": {},
   "outputs": [
    {
     "data": {
      "text/plain": [
       "bool"
      ]
     },
     "execution_count": 22,
     "metadata": {},
     "output_type": "execute_result"
    }
   ],
   "source": [
    "type(res_e)"
   ]
  },
  {
   "cell_type": "code",
   "execution_count": null,
   "id": "14088f30-499b-4475-8835-51db0dd285bc",
   "metadata": {},
   "outputs": [],
   "source": []
  }
 ],
 "metadata": {
  "kernelspec": {
   "display_name": "Python 3",
   "language": "python",
   "name": "python3"
  },
  "language_info": {
   "codemirror_mode": {
    "name": "ipython",
    "version": 3
   },
   "file_extension": ".py",
   "mimetype": "text/x-python",
   "name": "python",
   "nbconvert_exporter": "python",
   "pygments_lexer": "ipython3",
   "version": "3.6.9"
  }
 },
 "nbformat": 4,
 "nbformat_minor": 5
}
