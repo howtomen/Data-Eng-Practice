{
 "cells": [
  {
   "cell_type": "markdown",
   "id": "62b2e80e-2795-4de1-99b2-77880e296d9e",
   "metadata": {},
   "source": [
    "# Variables and Objects:\n",
    "Let us get an overview about variables and objects in Python. In Python we need not define data types for variables or objects.\n",
    "* Data types are inherited based up on the values assigned to the variables.\n",
    "* We can check the type of the variable or object using `type` function.\n",
    "* Python is interpreter based programming language which means it does not go through compilation and hence data types are not validated until run time.\n",
    "* Python variables or objects are dynamically typed. In case of compiler based programming languages such as Java, Scala etc variables or objects are statically typed.\n",
    "* We can specify data types for variables or objects starting from Python 3. However it is only informational and does not enforce."
   ]
  },
  {
   "cell_type": "code",
   "execution_count": 1,
   "id": "e3179d25-ec96-4a93-a5f0-7fa213975d58",
   "metadata": {},
   "outputs": [],
   "source": [
    "i = 10"
   ]
  },
  {
   "cell_type": "code",
   "execution_count": 2,
   "id": "4d7c9733-840d-4187-90df-5efeab9eb4dd",
   "metadata": {},
   "outputs": [
    {
     "data": {
      "text/plain": [
       "True"
      ]
     },
     "execution_count": 2,
     "metadata": {},
     "output_type": "execute_result"
    }
   ],
   "source": [
    "type(i) == int"
   ]
  },
  {
   "cell_type": "code",
   "execution_count": 3,
   "id": "979a48c4-656e-4cc8-9056-5253f1f87924",
   "metadata": {},
   "outputs": [],
   "source": [
    "j: int = 10 # You can specify data type starting from Python 3\n",
    "j = 'Hello'"
   ]
  },
  {
   "cell_type": "code",
   "execution_count": 4,
   "id": "950b175a-5a2f-4fe3-93b3-008e6ed79d67",
   "metadata": {},
   "outputs": [
    {
     "name": "stdout",
     "output_type": "stream",
     "text": [
      "Hello\n"
     ]
    }
   ],
   "source": [
    "print(j)"
   ]
  },
  {
   "cell_type": "code",
   "execution_count": 5,
   "id": "b4ec0f4b-3a3c-423c-b25f-ef13157f5923",
   "metadata": {},
   "outputs": [
    {
     "data": {
      "text/plain": [
       "str"
      ]
     },
     "execution_count": 5,
     "metadata": {},
     "output_type": "execute_result"
    }
   ],
   "source": [
    "type(j)"
   ]
  },
  {
   "cell_type": "markdown",
   "id": "443fdbae-e7b5-4381-ae68-99ba9cf5cf14",
   "metadata": {},
   "source": [
    "# Data Types - Commonly used:\n",
    "Python has several data types which are commonly used. There are advanced data types such as Data Frames as part of modules such as pandas.\n",
    "* Numeric - int, float, complex\n",
    "* Alpha Numeric - str\n",
    "* Collections\n",
    "    * list\n",
    "    * set\n",
    "    * dict\n",
    "    * tuple\n",
    "* type(VARIABLE_NAME) returns the data type of the variable.\n",
    "* All the data types are nothing but classes.\n",
    "* We can type cast data types by invoking constructor."
   ]
  },
  {
   "cell_type": "code",
   "execution_count": null,
   "id": "abe9305d-f87e-4f52-a2f9-0e2ef7f296db",
   "metadata": {},
   "outputs": [],
   "source": []
  }
 ],
 "metadata": {
  "kernelspec": {
   "display_name": "Python 3",
   "language": "python",
   "name": "python3"
  },
  "language_info": {
   "codemirror_mode": {
    "name": "ipython",
    "version": 3
   },
   "file_extension": ".py",
   "mimetype": "text/x-python",
   "name": "python",
   "nbconvert_exporter": "python",
   "pygments_lexer": "ipython3",
   "version": "3.6.9"
  }
 },
 "nbformat": 4,
 "nbformat_minor": 5
}
