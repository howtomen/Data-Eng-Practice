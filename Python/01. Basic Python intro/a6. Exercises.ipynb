{
 "cells": [
  {
   "cell_type": "markdown",
   "id": "9a11d50a-ff2a-46d8-b31c-335bf842ff3a",
   "metadata": {},
   "source": [
    "# Exercises - Basic Programming Constructs:\n",
    "Please take care of following exercises.\n",
    "* Get sum of integers for a given range."
   ]
  },
  {
   "cell_type": "code",
   "execution_count": 1,
   "id": "227e7ba8-eb84-4201-9185-9c8b27dc5a29",
   "metadata": {},
   "outputs": [
    {
     "name": "stdout",
     "output_type": "stream",
     "text": [
      "10\n"
     ]
    }
   ],
   "source": [
    "lower, upper, total = 5, 10, 0\n",
    "\n",
    "for i in range(lower, upper+1):\n",
    "    total += i\n",
    "print(i)"
   ]
  },
  {
   "cell_type": "code",
   "execution_count": 3,
   "id": "b882039f-a10f-4917-9be1-f127557148c2",
   "metadata": {},
   "outputs": [
    {
     "name": "stdout",
     "output_type": "stream",
     "text": [
      "10\n"
     ]
    }
   ],
   "source": [
    "lb1 = lower - 1\n",
    "res1 = lb1 * (lb1 + 1) / 2\n",
    "print(int(res1))"
   ]
  },
  {
   "cell_type": "code",
   "execution_count": 4,
   "id": "194a7791-0377-4a74-92d3-2d3f649e26ef",
   "metadata": {},
   "outputs": [
    {
     "name": "stdout",
     "output_type": "stream",
     "text": [
      "55\n"
     ]
    }
   ],
   "source": [
    "res2 = upper * (upper + 1) / 2\n",
    "print(int(res2))"
   ]
  },
  {
   "cell_type": "code",
   "execution_count": 6,
   "id": "44358676-3fb9-4e6d-bbf3-28bf0b96f1e4",
   "metadata": {},
   "outputs": [
    {
     "name": "stdout",
     "output_type": "stream",
     "text": [
      "45\n"
     ]
    }
   ],
   "source": [
    "print(int(res2 - res1))"
   ]
  },
  {
   "cell_type": "markdown",
   "id": "605f25cc-2593-4a5b-abea-970c8f8dd6cf",
   "metadata": {},
   "source": [
    "## Exercise 2 - Get sum of squares of integers\n",
    "Get sum of squares of integers for a given range using formula - for 2 to 4, it should be 29. You can google around to get the formula for sum of squares of integers for 1 to n"
   ]
  },
  {
   "cell_type": "code",
   "execution_count": 12,
   "id": "947bd7f9-ad02-41e2-86c2-dcb2ac67c128",
   "metadata": {},
   "outputs": [
    {
     "name": "stdout",
     "output_type": "stream",
     "text": [
      "29\n"
     ]
    }
   ],
   "source": [
    "res = 0\n",
    "for i in range(2,5):\n",
    "    res += i*i\n",
    "print(res)"
   ]
  },
  {
   "cell_type": "markdown",
   "id": "09b6a1e7-97dc-4e32-97e4-e6e40da52246",
   "metadata": {},
   "source": [
    "## Exercise 3 - Get sum of even numbers\n",
    "Get sum of even numbers for a given range - for 5 to 10, it should 24."
   ]
  },
  {
   "cell_type": "code",
   "execution_count": 17,
   "id": "d0d392b4-e255-4427-96e5-a093b9387fb7",
   "metadata": {},
   "outputs": [
    {
     "name": "stdout",
     "output_type": "stream",
     "text": [
      "24\n"
     ]
    }
   ],
   "source": [
    "res = 0\n",
    "for i in range(5,11):\n",
    "    if i % 2 == 0:\n",
    "        res += i\n",
    "print (res)"
   ]
  },
  {
   "cell_type": "markdown",
   "id": "ccae4259-181a-4b18-8904-5421b0f85bac",
   "metadata": {},
   "source": [
    "## Exercise 4 - Get sum of numbers in a list\n",
    "Create a collection using [1, 6, 8, 3, 7, 2, 9] and get sum of even numbers. Answer should be 16."
   ]
  },
  {
   "cell_type": "code",
   "execution_count": 18,
   "id": "febbb0d9-11b8-475a-a1b8-773772613673",
   "metadata": {},
   "outputs": [
    {
     "name": "stdout",
     "output_type": "stream",
     "text": [
      "16\n"
     ]
    }
   ],
   "source": [
    "lis = [1,6,8,3,7,2,9]\n",
    "res = 0\n",
    "for x in lis:\n",
    "    if x % 2 == 0:\n",
    "       res += x\n",
    "print(res)"
   ]
  },
  {
   "cell_type": "code",
   "execution_count": 20,
   "id": "c238f23b-261d-4c29-871b-f43cc2245d90",
   "metadata": {},
   "outputs": [
    {
     "name": "stdout",
     "output_type": "stream",
     "text": [
      "18\n"
     ]
    }
   ],
   "source": [
    "res = 0\n",
    "lis = [1,6,8,3,7,2,9]\n",
    "for x in lis:\n",
    "    if x % 3 == 0:\n",
    "        res += x\n",
    "print(res)"
   ]
  },
  {
   "cell_type": "code",
   "execution_count": null,
   "id": "4687969e-142c-4d83-b9e9-9de0a8ddac52",
   "metadata": {},
   "outputs": [],
   "source": []
  }
 ],
 "metadata": {
  "kernelspec": {
   "display_name": "Python 3",
   "language": "python",
   "name": "python3"
  },
  "language_info": {
   "codemirror_mode": {
    "name": "ipython",
    "version": 3
   },
   "file_extension": ".py",
   "mimetype": "text/x-python",
   "name": "python",
   "nbconvert_exporter": "python",
   "pygments_lexer": "ipython3",
   "version": "3.6.9"
  }
 },
 "nbformat": 4,
 "nbformat_minor": 5
}
