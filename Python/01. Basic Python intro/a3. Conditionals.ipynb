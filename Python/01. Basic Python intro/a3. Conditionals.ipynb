{
 "cells": [
  {
   "cell_type": "markdown",
   "id": "c1c11df8-576e-466f-be8c-5b07721baf47",
   "metadata": {},
   "source": [
    "# Conditionals:\n",
    "Let us go through conditionals in Python. We typically use “if else” for conditionals. Let us perform a few tasks to understand how conditionals are developed.\n",
    "* Create a variable i with 5. Write a conditional to print whether i is even or odd."
   ]
  },
  {
   "cell_type": "code",
   "execution_count": 1,
   "id": "9365bc2d-25a3-46e3-9de0-833616db3c6d",
   "metadata": {},
   "outputs": [],
   "source": [
    "i = 5"
   ]
  },
  {
   "cell_type": "code",
   "execution_count": 2,
   "id": "85a0e725-168c-4024-83a3-af39459d23dc",
   "metadata": {},
   "outputs": [
    {
     "name": "stdout",
     "output_type": "stream",
     "text": [
      "odd\n"
     ]
    }
   ],
   "source": [
    "# Regular if else\n",
    "if i % 2 == 0:\n",
    "    print(\"even\")\n",
    "else:\n",
    "    print(\"odd\")"
   ]
  },
  {
   "cell_type": "code",
   "execution_count": 3,
   "id": "ebde74b2-8e3d-499f-8dff-c11b1b70a99c",
   "metadata": {},
   "outputs": [],
   "source": [
    "# (cond) ? on_true : on_false"
   ]
  },
  {
   "cell_type": "code",
   "execution_count": 4,
   "id": "15050935-ca06-4256-9610-a8312f04dce2",
   "metadata": {},
   "outputs": [],
   "source": [
    "# on_true (cond) else on_false"
   ]
  },
  {
   "cell_type": "code",
   "execution_count": 5,
   "id": "c0f1022d-2d5e-4128-a1a4-820d4ee33ede",
   "metadata": {},
   "outputs": [
    {
     "name": "stdout",
     "output_type": "stream",
     "text": [
      "odd\n"
     ]
    }
   ],
   "source": [
    "# Ternary Operator (one liner)\n",
    "print(\"even\") if i % 2 == 0 else print(\"odd\")"
   ]
  },
  {
   "cell_type": "markdown",
   "id": "b5c05af4-4278-491a-99bb-28c55c543771",
   "metadata": {},
   "source": [
    "* Improvise it to check if i is 0 and print zero"
   ]
  },
  {
   "cell_type": "code",
   "execution_count": 7,
   "id": "071b3b7c-14db-4946-bf13-919508af1abe",
   "metadata": {},
   "outputs": [
    {
     "name": "stdin",
     "output_type": "stream",
     "text": [
      "Enter an Integer:  10\n"
     ]
    }
   ],
   "source": [
    "i = int(input(\"Enter an Integer: \"))"
   ]
  },
  {
   "cell_type": "code",
   "execution_count": 8,
   "id": "3455093b-aba7-4340-ac84-56e0b47aa409",
   "metadata": {},
   "outputs": [
    {
     "name": "stdout",
     "output_type": "stream",
     "text": [
      "10 is even\n"
     ]
    }
   ],
   "source": [
    "if i == 0:\n",
    "    print(f\"i is 0\")\n",
    "elif i % 2 == 0:\n",
    "    print(f\"{i} is even\")\n",
    "else:\n",
    "    print(f\"{i} is odd\")"
   ]
  },
  {
   "cell_type": "markdown",
   "id": "5541b2b5-29ce-48b8-bb15-bc85d06eda08",
   "metadata": {},
   "source": [
    "* Object of type `None` is special object which represent nothing. At times we need to check against `None`."
   ]
  },
  {
   "cell_type": "code",
   "execution_count": 9,
   "id": "b854cd74-e66b-48cc-badd-593f1a440c5a",
   "metadata": {},
   "outputs": [
    {
     "name": "stdout",
     "output_type": "stream",
     "text": [
      "None\n"
     ]
    }
   ],
   "source": [
    "n = None\n",
    "print('Not None') if n else print(n)"
   ]
  },
  {
   "cell_type": "code",
   "execution_count": 10,
   "id": "6b382948-1556-4bd7-bb08-c52befe69215",
   "metadata": {},
   "outputs": [
    {
     "name": "stdin",
     "output_type": "stream",
     "text": [
      "Enter an integer:  10\n"
     ]
    }
   ],
   "source": [
    "i = int(input(\"Enter an integer: \"))"
   ]
  },
  {
   "cell_type": "code",
   "execution_count": 11,
   "id": "6ece6cba-17bb-48ad-88d3-457910e75de4",
   "metadata": {},
   "outputs": [
    {
     "name": "stdout",
     "output_type": "stream",
     "text": [
      "Not None\n"
     ]
    }
   ],
   "source": [
    "if i:\n",
    "    print('Not None') \n",
    "else: print(n)"
   ]
  },
  {
   "cell_type": "code",
   "execution_count": 12,
   "id": "e9ee18ca-a610-4d3f-bad8-17cc456f3996",
   "metadata": {},
   "outputs": [
    {
     "name": "stdin",
     "output_type": "stream",
     "text": [
      "Enter an integer:  9\n"
     ]
    }
   ],
   "source": [
    "i = int(input(\"Enter an integer: \"))"
   ]
  },
  {
   "cell_type": "code",
   "execution_count": 13,
   "id": "0431b68e-051b-4198-af9b-338ee38c87d5",
   "metadata": {},
   "outputs": [
    {
     "name": "stdout",
     "output_type": "stream",
     "text": [
      "9 is odd\n"
     ]
    }
   ],
   "source": [
    "if not i % 2 == 0: print(f'{i} is odd')"
   ]
  },
  {
   "cell_type": "markdown",
   "id": "b8dff74e-36b0-40a9-b18b-c9798c9f2d8b",
   "metadata": {},
   "source": [
    "* We can also perform boolean operations such as boolean or and boolean and.\n",
    "\n",
    "# Task 1:\n",
    "Determine the category of the baby.\n",
    "* Print New Born or Infant till 6 months.\n",
    "* Print Toddler from 7 months to 18 months.\n",
    "* Print Grown up from 19 months to 144 months.\n",
    "* Print Youth from 145 months to 216 months"
   ]
  },
  {
   "cell_type": "code",
   "execution_count": 14,
   "id": "aae618e3-41f7-4322-8d7a-7109966546c9",
   "metadata": {},
   "outputs": [
    {
     "name": "stdin",
     "output_type": "stream",
     "text": [
      "Enter age in months:  5\n"
     ]
    }
   ],
   "source": [
    "age = int(input('Enter age in months: '))"
   ]
  },
  {
   "cell_type": "code",
   "execution_count": 15,
   "id": "8e175ffb-f264-4e0c-965a-02a9194e9192",
   "metadata": {},
   "outputs": [
    {
     "name": "stdout",
     "output_type": "stream",
     "text": [
      "New Born or Infant\n"
     ]
    }
   ],
   "source": [
    "if age <= 6:\n",
    "    print('New Born or Infant')\n",
    "elif age > 6 and age <= 18:\n",
    "    print('Toddler')\n",
    "elif age > 18 and age <= 144:\n",
    "    print('Grown up')\n",
    "elif age > 144 and age <= 216:\n",
    "    print('Youth')\n",
    "else:\n",
    "    print('Adult')"
   ]
  },
  {
   "cell_type": "markdown",
   "id": "8a85162c-f5ad-4d09-8802-55a256802833",
   "metadata": {},
   "source": [
    "# Task 2:\n",
    "Check if the number is even or divisible by 3."
   ]
  },
  {
   "cell_type": "code",
   "execution_count": 16,
   "id": "099d1773-ee31-4261-8615-f4a73cc5e4ee",
   "metadata": {},
   "outputs": [
    {
     "name": "stdin",
     "output_type": "stream",
     "text": [
      "Enter Integer:  6\n"
     ]
    }
   ],
   "source": [
    "n = int(input(\"Enter Integer: \"))"
   ]
  },
  {
   "cell_type": "code",
   "execution_count": 17,
   "id": "27a505f2-fd8f-4209-bc85-797b66704187",
   "metadata": {},
   "outputs": [
    {
     "name": "stdout",
     "output_type": "stream",
     "text": [
      "Number 6 is even or divisible by 3\n"
     ]
    }
   ],
   "source": [
    "if n% 2 == 0 or n% 3 == 0:\n",
    "    print(f'Number {n} is even or divisible by 3')"
   ]
  },
  {
   "cell_type": "markdown",
   "id": "15930ebb-7533-4802-a752-fc08f92a1d44",
   "metadata": {},
   "source": [
    "# Task 3:\n",
    "Check if the number is even and divisible by 3"
   ]
  },
  {
   "cell_type": "code",
   "execution_count": 18,
   "id": "b0c60f98-1e1c-4ebf-a4fc-334d5add621a",
   "metadata": {},
   "outputs": [
    {
     "name": "stdin",
     "output_type": "stream",
     "text": [
      "Enter integer:  6\n"
     ]
    }
   ],
   "source": [
    "n = int(input('Enter integer: '))"
   ]
  },
  {
   "cell_type": "code",
   "execution_count": 19,
   "id": "6b23b130-227a-4a46-ae32-38549f6ba366",
   "metadata": {},
   "outputs": [
    {
     "name": "stdout",
     "output_type": "stream",
     "text": [
      "Number 6 is even and divisible by 3\n"
     ]
    }
   ],
   "source": [
    "if n % 2 == 0 and n % 3 == 0:\n",
    "    print(f'Number {n} is even and divisible by 3')\n",
    "elif n % 3 == 0:\n",
    "    print(f'Number {n} is divisible by 3 but not even')\n",
    "elif n % 2 == 0:\n",
    "    print(f'Number {n} is even but not divisible by 3')"
   ]
  },
  {
   "cell_type": "code",
   "execution_count": null,
   "id": "1167f290-fc70-419d-bf1d-82c15369e31d",
   "metadata": {},
   "outputs": [],
   "source": []
  }
 ],
 "metadata": {
  "kernelspec": {
   "display_name": "Python 3",
   "language": "python",
   "name": "python3"
  },
  "language_info": {
   "codemirror_mode": {
    "name": "ipython",
    "version": 3
   },
   "file_extension": ".py",
   "mimetype": "text/x-python",
   "name": "python",
   "nbconvert_exporter": "python",
   "pygments_lexer": "ipython3",
   "version": "3.6.9"
  }
 },
 "nbformat": 4,
 "nbformat_minor": 5
}
