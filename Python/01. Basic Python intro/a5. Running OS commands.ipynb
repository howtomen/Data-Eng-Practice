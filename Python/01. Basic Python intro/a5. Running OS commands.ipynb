{
 "cells": [
  {
   "cell_type": "markdown",
   "id": "69c0bea2-d7bd-4ec9-a9be-83c800fa7a84",
   "metadata": {},
   "source": [
    "# Running OS Commands:\n",
    "Let us understand how to run OS commands using Python using libraries such as `os` and `subprocess`.\n",
    "* Python provides several libraries which can be used to run OS commands. `os` and `subproces`s are most popular ones.\n",
    "* We can import the libraries such as `os` and `subprocess` to start using them.\n",
    "* There are bunch of commands to create directories, change ownership, change permission, run general system commands etc.\n",
    "* `os` library is extensively used to read environment variables at run time of the application. It is used to pass keys and credentials to work with databases, external applications etc.\n",
    "* Typically keys and credentials should not be part of the source code.\n",
    "* `subprocess` can be used to run the commands and also to process the output."
   ]
  },
  {
   "cell_type": "code",
   "execution_count": 1,
   "id": "88f47844-86b5-4b87-b710-631e3adf7278",
   "metadata": {},
   "outputs": [],
   "source": [
    "import os"
   ]
  },
  {
   "cell_type": "markdown",
   "id": "47c80a38-55bc-4c1f-bb48-e6fa07b27e6c",
   "metadata": {},
   "source": [
    "* Get current working directory."
   ]
  },
  {
   "cell_type": "code",
   "execution_count": 2,
   "id": "1e87fbf8-f5bf-471a-b77d-13e5d9b10a6a",
   "metadata": {},
   "outputs": [
    {
     "data": {
      "text/plain": [
       "'/home/ilovemyh2o/Python Practice/1. Basic Python intro'"
      ]
     },
     "execution_count": 2,
     "metadata": {},
     "output_type": "execute_result"
    }
   ],
   "source": [
    "os.getcwd()"
   ]
  },
  {
   "cell_type": "markdown",
   "id": "d664f453-9248-4312-a8d2-25b4efbc261b",
   "metadata": {},
   "source": [
    "* Read environment variables"
   ]
  },
  {
   "cell_type": "code",
   "execution_count": 3,
   "id": "1aaaad96-a977-415e-a935-ad32fbdfa332",
   "metadata": {},
   "outputs": [
    {
     "data": {
      "text/plain": [
       "'/home/ilovemyh2o/demojl/bin:/usr/local/sbin:/usr/local/bin:/usr/sbin:/usr/bin:/sbin:/bin:/usr/games:/usr/local/games:/snap/bin'"
      ]
     },
     "execution_count": 3,
     "metadata": {},
     "output_type": "execute_result"
    }
   ],
   "source": [
    "os.environ.get('PATH')"
   ]
  },
  {
   "cell_type": "code",
   "execution_count": 4,
   "id": "bed72bc6-f3ea-4bd6-97cf-dd400bc9437b",
   "metadata": {},
   "outputs": [
    {
     "data": {
      "text/plain": [
       "'ilovemyh2o'"
      ]
     },
     "execution_count": 4,
     "metadata": {},
     "output_type": "execute_result"
    }
   ],
   "source": [
    "os.environ.get('USER')"
   ]
  },
  {
   "cell_type": "code",
   "execution_count": 5,
   "id": "64558dcc-a775-4e21-b870-e716a21d6f24",
   "metadata": {},
   "outputs": [
    {
     "name": "stdout",
     "output_type": "stream",
     "text": [
      "LESSOPEN=| /usr/bin/lesspipe %s\n",
      "MAIL=/var/mail/ilovemyh2o\n",
      "USER=ilovemyh2o\n",
      "SSH_CLIENT=35.235.241.66 47155 22\n",
      "MPLBACKEND=module://ipykernel.pylab.backend_inline\n",
      "SHLVL=1\n",
      "HOME=/home/ilovemyh2o\n",
      "SSH_TTY=/dev/pts/1\n",
      "PAGER=cat\n",
      "PS1=(demojl) \\[\\e]0;\\u@\\h: \\w\\a\\]${debian_chroot:+($debian_chroot)}\\[\\033[01;32m\\]\\u@\\h\\[\\033[00m\\]:\\[\\033[01;34m\\]\\w\\[\\033[00m\\]\\$ \n",
      "DBUS_SESSION_BUS_ADDRESS=unix:path=/run/user/1001/bus\n",
      "LOGNAME=ilovemyh2o\n",
      "_=/home/ilovemyh2o/demojl/bin/jupyter\n",
      "XDG_SESSION_ID=1\n",
      "TERM=xterm-color\n",
      "PATH=/home/ilovemyh2o/demojl/bin:/usr/local/sbin:/usr/local/bin:/usr/sbin:/usr/bin:/sbin:/bin:/usr/games:/usr/local/games:/snap/bin\n",
      "S_COLORS=auto\n",
      "XDG_RUNTIME_DIR=/run/user/1001\n",
      "LANG=C.UTF-8\n",
      "LS_COLORS=rs=0:di=01;34:ln=01;36:mh=00:pi=40;33:so=01;35:do=01;35:bd=40;33;01:cd=40;33;01:or=40;31;01:mi=00:su=37;41:sg=30;43:ca=30;41:tw=30;42:ow=34;42:st=37;44:ex=01;32:*.tar=01;31:*.tgz=01;31:*.arc=01;31:*.arj=01;31:*.taz=01;31:*.lha=01;31:*.lz4=01;31:*.lzh=01;31:*.lzma=01;31:*.tlz=01;31:*.txz=01;31:*.tzo=01;31:*.t7z=01;31:*.zip=01;31:*.z=01;31:*.Z=01;31:*.dz=01;31:*.gz=01;31:*.lrz=01;31:*.lz=01;31:*.lzo=01;31:*.xz=01;31:*.zst=01;31:*.tzst=01;31:*.bz2=01;31:*.bz=01;31:*.tbz=01;31:*.tbz2=01;31:*.tz=01;31:*.deb=01;31:*.rpm=01;31:*.jar=01;31:*.war=01;31:*.ear=01;31:*.sar=01;31:*.rar=01;31:*.alz=01;31:*.ace=01;31:*.zoo=01;31:*.cpio=01;31:*.7z=01;31:*.rz=01;31:*.cab=01;31:*.wim=01;31:*.swm=01;31:*.dwm=01;31:*.esd=01;31:*.jpg=01;35:*.jpeg=01;35:*.mjpg=01;35:*.mjpeg=01;35:*.gif=01;35:*.bmp=01;35:*.pbm=01;35:*.pgm=01;35:*.ppm=01;35:*.tga=01;35:*.xbm=01;35:*.xpm=01;35:*.tif=01;35:*.tiff=01;35:*.png=01;35:*.svg=01;35:*.svgz=01;35:*.mng=01;35:*.pcx=01;35:*.mov=01;35:*.mpg=01;35:*.mpeg=01;35:*.m2v=01;35:*.mkv=01;35:*.webm=01;35:*.ogm=01;35:*.mp4=01;35:*.m4v=01;35:*.mp4v=01;35:*.vob=01;35:*.qt=01;35:*.nuv=01;35:*.wmv=01;35:*.asf=01;35:*.rm=01;35:*.rmvb=01;35:*.flc=01;35:*.avi=01;35:*.fli=01;35:*.flv=01;35:*.gl=01;35:*.dl=01;35:*.xcf=01;35:*.xwd=01;35:*.yuv=01;35:*.cgm=01;35:*.emf=01;35:*.ogv=01;35:*.ogx=01;35:*.aac=00;36:*.au=00;36:*.flac=00;36:*.m4a=00;36:*.mid=00;36:*.midi=00;36:*.mka=00;36:*.mp3=00;36:*.mpc=00;36:*.ogg=00;36:*.ra=00;36:*.wav=00;36:*.oga=00;36:*.opus=00;36:*.spx=00;36:*.xspf=00;36:\n",
      "SSH_AUTH_SOCK=/tmp/ssh-YBH6NvitPT/agent.3034\n",
      "SHELL=/bin/bash\n",
      "LESSCLOSE=/usr/bin/lesspipe %s %s\n",
      "VIRTUAL_ENV=/home/ilovemyh2o/demojl\n",
      "GIT_PAGER=cat\n",
      "PWD=/home/ilovemyh2o/Python Practice/1. Basic Python intro\n",
      "CLICOLOR=1\n",
      "SSH_CONNECTION=35.235.241.66 47155 10.138.0.2 22\n",
      "XDG_DATA_DIRS=/usr/local/share:/usr/share:/var/lib/snapd/desktop\n",
      "JPY_PARENT_PID=3297\n"
     ]
    }
   ],
   "source": [
    "%%sh\n",
    "\n",
    "env"
   ]
  },
  {
   "cell_type": "code",
   "execution_count": 6,
   "id": "4f60d7d7-b987-4b7f-b186-069d0f4bdc58",
   "metadata": {},
   "outputs": [
    {
     "data": {
      "text/plain": [
       "\u001b[0;31mSignature:\u001b[0m \u001b[0mos\u001b[0m\u001b[0;34m.\u001b[0m\u001b[0menviron\u001b[0m\u001b[0;34m.\u001b[0m\u001b[0mget\u001b[0m\u001b[0;34m(\u001b[0m\u001b[0mkey\u001b[0m\u001b[0;34m,\u001b[0m \u001b[0mdefault\u001b[0m\u001b[0;34m=\u001b[0m\u001b[0;32mNone\u001b[0m\u001b[0;34m)\u001b[0m\u001b[0;34m\u001b[0m\u001b[0;34m\u001b[0m\u001b[0m\n",
       "\u001b[0;31mDocstring:\u001b[0m D.get(k[,d]) -> D[k] if k in D, else d.  d defaults to None.\n",
       "\u001b[0;31mFile:\u001b[0m      /usr/lib/python3.6/_collections_abc.py\n",
       "\u001b[0;31mType:\u001b[0m      method\n"
      ]
     },
     "metadata": {},
     "output_type": "display_data"
    }
   ],
   "source": [
    "os.environ.get?"
   ]
  },
  {
   "cell_type": "code",
   "execution_count": 7,
   "id": "0f52490f-18b2-476d-a564-4d150439d502",
   "metadata": {},
   "outputs": [
    {
     "data": {
      "text/plain": [
       "'Passwords should be confidential'"
      ]
     },
     "execution_count": 7,
     "metadata": {},
     "output_type": "execute_result"
    }
   ],
   "source": [
    "os.environ.get('PASSWORD', 'Passwords should be confidential')"
   ]
  },
  {
   "cell_type": "markdown",
   "id": "d50ab44a-5cf3-4f95-893f-7934955730fe",
   "metadata": {},
   "source": [
    "* Run `ls -ltr` command to get list of files in the current directory."
   ]
  },
  {
   "cell_type": "code",
   "execution_count": 8,
   "id": "01dc1c26-1a6c-4f01-ac91-aa0d24077bf7",
   "metadata": {},
   "outputs": [],
   "source": [
    "import subprocess"
   ]
  },
  {
   "cell_type": "code",
   "execution_count": 9,
   "id": "cd932860-55ce-4668-b0be-184afc2d0075",
   "metadata": {},
   "outputs": [
    {
     "name": "stdout",
     "output_type": "stream",
     "text": [
      "total 52\n",
      "-rw-rw-r-- 1 ilovemyh2o ilovemyh2o  3634 Jan 10 19:34 a1. Variables & objects & Data Types.ipynb\n",
      "-rw-rw-r-- 1 ilovemyh2o ilovemyh2o  9305 Jan 10 19:46 a2. Operators.ipynb\n",
      "-rw-rw-r-- 1 ilovemyh2o ilovemyh2o  8639 Jan 10 20:01 a3. Conditionals.ipynb\n",
      "-rw-rw-r-- 1 ilovemyh2o ilovemyh2o 13235 Jan 11 19:58 a4. All about for loops.ipynb\n",
      "-rw-rw-r-- 1 ilovemyh2o ilovemyh2o  7524 Jan 12 19:52 a5. Running OS commands.ipynb\n"
     ]
    }
   ],
   "source": [
    "%%sh\n",
    "\n",
    "ls -ltr"
   ]
  },
  {
   "cell_type": "code",
   "execution_count": 10,
   "id": "f50ce6cd-45cc-4251-8e79-93b48b897d98",
   "metadata": {},
   "outputs": [],
   "source": [
    "output = subprocess.check_call(['ls', '-ltr'])"
   ]
  },
  {
   "cell_type": "code",
   "execution_count": 11,
   "id": "268d74a6-aa68-46f8-b835-665afa2e8831",
   "metadata": {},
   "outputs": [
    {
     "data": {
      "text/plain": [
       "0"
      ]
     },
     "execution_count": 11,
     "metadata": {},
     "output_type": "execute_result"
    }
   ],
   "source": [
    "output"
   ]
  },
  {
   "cell_type": "code",
   "execution_count": 12,
   "id": "7ffcb27b-b2f0-46bc-8fd8-b385a21b2f77",
   "metadata": {},
   "outputs": [],
   "source": [
    "output = subprocess.check_output(['ls', '-ltr'])"
   ]
  },
  {
   "cell_type": "code",
   "execution_count": 13,
   "id": "75060eb5-5531-430a-9a4c-1f993d2cd334",
   "metadata": {},
   "outputs": [
    {
     "data": {
      "text/plain": [
       "b'total 52\\n-rw-rw-r-- 1 ilovemyh2o ilovemyh2o  3634 Jan 10 19:34 a1. Variables & objects & Data Types.ipynb\\n-rw-rw-r-- 1 ilovemyh2o ilovemyh2o  9305 Jan 10 19:46 a2. Operators.ipynb\\n-rw-rw-r-- 1 ilovemyh2o ilovemyh2o  8639 Jan 10 20:01 a3. Conditionals.ipynb\\n-rw-rw-r-- 1 ilovemyh2o ilovemyh2o 13235 Jan 11 19:58 a4. All about for loops.ipynb\\n-rw-rw-r-- 1 ilovemyh2o ilovemyh2o  7524 Jan 12 19:52 a5. Running OS commands.ipynb\\n'"
      ]
     },
     "execution_count": 13,
     "metadata": {},
     "output_type": "execute_result"
    }
   ],
   "source": [
    "output #output is of type binary "
   ]
  },
  {
   "cell_type": "code",
   "execution_count": 14,
   "id": "c03b4f76-9497-4c91-9297-9f6559200367",
   "metadata": {},
   "outputs": [
    {
     "data": {
      "text/plain": [
       "bytes"
      ]
     },
     "execution_count": 14,
     "metadata": {},
     "output_type": "execute_result"
    }
   ],
   "source": [
    "type(output)"
   ]
  },
  {
   "cell_type": "code",
   "execution_count": 15,
   "id": "83287dbf-3275-44a2-b19e-8c94e180b8ab",
   "metadata": {},
   "outputs": [
    {
     "data": {
      "text/plain": [
       "'total 52\\n-rw-rw-r-- 1 ilovemyh2o ilovemyh2o  3634 Jan 10 19:34 a1. Variables & objects & Data Types.ipynb\\n-rw-rw-r-- 1 ilovemyh2o ilovemyh2o  9305 Jan 10 19:46 a2. Operators.ipynb\\n-rw-rw-r-- 1 ilovemyh2o ilovemyh2o  8639 Jan 10 20:01 a3. Conditionals.ipynb\\n-rw-rw-r-- 1 ilovemyh2o ilovemyh2o 13235 Jan 11 19:58 a4. All about for loops.ipynb\\n-rw-rw-r-- 1 ilovemyh2o ilovemyh2o  7524 Jan 12 19:52 a5. Running OS commands.ipynb\\n'"
      ]
     },
     "execution_count": 15,
     "metadata": {},
     "output_type": "execute_result"
    }
   ],
   "source": [
    "output.decode('utf-8') # converts to string of type utf-8\n"
   ]
  },
  {
   "cell_type": "code",
   "execution_count": 16,
   "id": "cc1d7af4-63ab-4bac-ae55-1323fef2c3dc",
   "metadata": {},
   "outputs": [
    {
     "data": {
      "text/plain": [
       "str"
      ]
     },
     "execution_count": 16,
     "metadata": {},
     "output_type": "execute_result"
    }
   ],
   "source": [
    "type(output.decode('utf-8'))"
   ]
  },
  {
   "cell_type": "markdown",
   "id": "c8234edb-3390-455f-8fde-56c096db04e6",
   "metadata": {},
   "source": [
    "## Note:\n",
    "Let us convert string into list of strings. Once it is broken into list of strings we can process the data as per our requirements either by using Map Reduce libraries or Pandas based libraries."
   ]
  },
  {
   "cell_type": "code",
   "execution_count": 17,
   "id": "43f7f6ec-342e-468e-8838-afb09fcdaccd",
   "metadata": {},
   "outputs": [
    {
     "data": {
      "text/plain": [
       "['total 52',\n",
       " '-rw-rw-r-- 1 ilovemyh2o ilovemyh2o  3634 Jan 10 19:34 a1. Variables & objects & Data Types.ipynb',\n",
       " '-rw-rw-r-- 1 ilovemyh2o ilovemyh2o  9305 Jan 10 19:46 a2. Operators.ipynb',\n",
       " '-rw-rw-r-- 1 ilovemyh2o ilovemyh2o  8639 Jan 10 20:01 a3. Conditionals.ipynb',\n",
       " '-rw-rw-r-- 1 ilovemyh2o ilovemyh2o 13235 Jan 11 19:58 a4. All about for loops.ipynb',\n",
       " '-rw-rw-r-- 1 ilovemyh2o ilovemyh2o  7524 Jan 12 19:52 a5. Running OS commands.ipynb']"
      ]
     },
     "execution_count": 17,
     "metadata": {},
     "output_type": "execute_result"
    }
   ],
   "source": [
    "output.decode('utf-8').splitlines()"
   ]
  },
  {
   "cell_type": "code",
   "execution_count": 18,
   "id": "7ac7b12e-0593-455e-ae08-c28ae09a5fe5",
   "metadata": {},
   "outputs": [
    {
     "data": {
      "text/plain": [
       "list"
      ]
     },
     "execution_count": 18,
     "metadata": {},
     "output_type": "execute_result"
    }
   ],
   "source": [
    "type(output.decode('utf-8').splitlines())"
   ]
  },
  {
   "cell_type": "code",
   "execution_count": 19,
   "id": "fadd428b-c6fe-425e-badd-c071c7d9fd51",
   "metadata": {},
   "outputs": [
    {
     "name": "stdout",
     "output_type": "stream",
     "text": [
      "total 52\n",
      "-rw-rw-r-- 1 ilovemyh2o ilovemyh2o  3634 Jan 10 19:34 a1. Variables & objects & Data Types.ipynb\n",
      "-rw-rw-r-- 1 ilovemyh2o ilovemyh2o  9305 Jan 10 19:46 a2. Operators.ipynb\n",
      "-rw-rw-r-- 1 ilovemyh2o ilovemyh2o  8639 Jan 10 20:01 a3. Conditionals.ipynb\n",
      "-rw-rw-r-- 1 ilovemyh2o ilovemyh2o 13235 Jan 11 19:58 a4. All about for loops.ipynb\n",
      "-rw-rw-r-- 1 ilovemyh2o ilovemyh2o  7524 Jan 12 19:52 a5. Running OS commands.ipynb\n"
     ]
    }
   ],
   "source": [
    "for rec in output.decode('utf-8').splitlines():\n",
    "    print(rec)"
   ]
  },
  {
   "cell_type": "code",
   "execution_count": null,
   "id": "d088567e-ac80-411a-9151-0ccb988702b4",
   "metadata": {},
   "outputs": [],
   "source": []
  }
 ],
 "metadata": {
  "kernelspec": {
   "display_name": "Python 3",
   "language": "python",
   "name": "python3"
  },
  "language_info": {
   "codemirror_mode": {
    "name": "ipython",
    "version": 3
   },
   "file_extension": ".py",
   "mimetype": "text/x-python",
   "name": "python",
   "nbconvert_exporter": "python",
   "pygments_lexer": "ipython3",
   "version": "3.6.9"
  }
 },
 "nbformat": 4,
 "nbformat_minor": 5
}
