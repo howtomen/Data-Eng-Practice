{
 "cells": [
  {
   "cell_type": "markdown",
   "id": "96c35905-37c7-4432-aeeb-40bcb0283102",
   "metadata": {},
   "source": [
    "# eval and exec\n",
    "Let us understand how we can use eval and exec in Python.\n",
    "* Typically we perform arithmetic operations like this a = b + c.\n",
    "* We can also use eval and exec for the same.\n",
    "* eval typically evaluates the expression. We need to assign the value to some variable when we use eval.\n",
    "* exec executes the statement."
   ]
  },
  {
   "cell_type": "code",
   "execution_count": 1,
   "id": "b6d1497c-d62b-4213-bf8b-24739f569dd9",
   "metadata": {},
   "outputs": [],
   "source": [
    "b = 10"
   ]
  },
  {
   "cell_type": "code",
   "execution_count": 2,
   "id": "2080e50a-066c-43a3-9ad4-6ab813aa3337",
   "metadata": {},
   "outputs": [],
   "source": [
    "c = 20"
   ]
  },
  {
   "cell_type": "code",
   "execution_count": 3,
   "id": "042fe2b9-7591-4d76-80fa-c20b8ab44834",
   "metadata": {},
   "outputs": [],
   "source": [
    "a = b + c "
   ]
  },
  {
   "cell_type": "code",
   "execution_count": 4,
   "id": "e8b462d4-8b92-4554-9a97-871804ed252b",
   "metadata": {},
   "outputs": [
    {
     "data": {
      "text/plain": [
       "30"
      ]
     },
     "execution_count": 4,
     "metadata": {},
     "output_type": "execute_result"
    }
   ],
   "source": [
    "a"
   ]
  },
  {
   "cell_type": "code",
   "execution_count": 5,
   "id": "a8a378f0-543d-43be-9e8a-9b86334b557d",
   "metadata": {},
   "outputs": [
    {
     "data": {
      "text/plain": [
       "30"
      ]
     },
     "execution_count": 5,
     "metadata": {},
     "output_type": "execute_result"
    }
   ],
   "source": [
    "eval('b + c')"
   ]
  },
  {
   "cell_type": "code",
   "execution_count": 7,
   "id": "b9e60ec2-6dfb-4a16-bb09-9677198b20bc",
   "metadata": {},
   "outputs": [],
   "source": [
    "exec('d = b + c')"
   ]
  },
  {
   "cell_type": "code",
   "execution_count": 8,
   "id": "50b88b9c-afa8-46dc-9bf3-668d00983ceb",
   "metadata": {},
   "outputs": [
    {
     "data": {
      "text/plain": [
       "30"
      ]
     },
     "execution_count": 8,
     "metadata": {},
     "output_type": "execute_result"
    }
   ],
   "source": [
    "d"
   ]
  },
  {
   "cell_type": "code",
   "execution_count": null,
   "id": "fed7651d-6be3-4160-8c4d-8d0e5bfa0118",
   "metadata": {},
   "outputs": [],
   "source": []
  }
 ],
 "metadata": {
  "kernelspec": {
   "display_name": "Python 3",
   "language": "python",
   "name": "python3"
  },
  "language_info": {
   "codemirror_mode": {
    "name": "ipython",
    "version": 3
   },
   "file_extension": ".py",
   "mimetype": "text/x-python",
   "name": "python",
   "nbconvert_exporter": "python",
   "pygments_lexer": "ipython3",
   "version": "3.6.9"
  }
 },
 "nbformat": 4,
 "nbformat_minor": 5
}
